{
  "cells": [
    {
      "cell_type": "markdown",
      "metadata": {
        "id": "8uWHy3u6JMRa"
      },
      "source": [
        "# IMPORTS"
      ]
    },
    {
      "cell_type": "code",
      "execution_count": 1,
      "metadata": {
        "id": "AsvjvusqIe23"
      },
      "outputs": [
        {
          "name": "stderr",
          "output_type": "stream",
          "text": [
            "/opt/homebrew/Caskroom/miniforge/base/envs/ComputerVision/lib/python3.11/site-packages/tqdm/auto.py:21: TqdmWarning: IProgress not found. Please update jupyter and ipywidgets. See https://ipywidgets.readthedocs.io/en/stable/user_install.html\n",
            "  from .autonotebook import tqdm as notebook_tqdm\n"
          ]
        }
      ],
      "source": [
        "import torch\n",
        "from torch.utils.data import DataLoader, Dataset, random_split\n",
        "import torchvision.transforms as transforms\n",
        "import torchvision.datasets as datasets\n",
        "from PIL import Image\n",
        "import tensorflow as tf\n",
        "from transformers import ViTImageProcessor, ViTModel, ViTForImageClassification\n",
        "from sklearn.model_selection import train_test_split\n",
        "import torch.optim as optim\n",
        "import torch.nn as nn\n",
        "from torch.optim.lr_scheduler import ReduceLROnPlateau\n",
        "from sklearn.metrics import classification_report, precision_recall_curve, confusion_matrix\n",
        "import numpy as np\n",
        "import matplotlib.pyplot as plt\n",
        "import os\n",
        "from sklearn.preprocessing import label_binarize\n",
        "import seaborn as sns\n",
        "from sklearn.metrics import f1_score"
      ]
    },
    {
      "cell_type": "markdown",
      "metadata": {
        "id": "4m-jmKv5JX9j"
      },
      "source": [
        "# LOADING DATA"
      ]
    },
    {
      "cell_type": "code",
      "execution_count": 2,
      "metadata": {
        "id": "V5fa17YZIquA"
      },
      "outputs": [],
      "source": [
        "batch_size = 32\n",
        "img_size = (224, 224)\n",
        "channels = 3\n",
        "img_shape = (img_size[0], img_size[1], channels)\n",
        "categories = [\"Normal\",\"Osteopenia\", \"Osteoporosis\"]"
      ]
    },
    {
      "cell_type": "code",
      "execution_count": 3,
      "metadata": {
        "id": "QGPIBT-yIrOl"
      },
      "outputs": [],
      "source": [
        "root_dir = 'Dataset/train'"
      ]
    },
    {
      "cell_type": "code",
      "execution_count": 4,
      "metadata": {
        "colab": {
          "base_uri": "https://localhost:8080/",
          "height": 240,
          "referenced_widgets": [
            "9d3fdfefa3794d21ad4166e6404e652d",
            "acaad47e5f6540c1adf2ed88ea7f72fd",
            "3d76a03f0e394e9b8b466f1c3f958cf1",
            "0d2b0ab0c8364f2e81b20ee0521c8a68",
            "eec70dad2b18440ca2943faec28ba22a",
            "50307f20c1f749a0b486cfb35b727bec",
            "62e2b69f08c144af867b61b785b3e559",
            "e6e618dfd391415dbceff3c6e61b6b8c",
            "d498d5fcad34423eba2d38c889ab55dc",
            "f9b98115ca994955b95bb06628c2949c",
            "c83730736fae41eab91ee63f056e445e",
            "a2258bbba9814fb0b5dfe885979feb1e",
            "d36d2d3973bc45d795d91e6e16ebabaa",
            "ed30ae3c94fc4ccfb0d0cdb238b2d72a",
            "bd97dd177b0a4912a72dc52847b534f5",
            "af0d82a5d58f4bb1a66f6f0c58614d90",
            "dcb18b45d067431e82dce9bb8f58eaf2",
            "0a51672617a2433390d2d05137f120c7",
            "97d47d0e534343be83fc68c6dc6fd744",
            "d95f0177fa5144b79d95ef8646e0d054",
            "3c0e28ac3a3d4fcfbf62c0b942059293",
            "cadad9655fe24e9ca1551e3adfb0a118",
            "1a650391fa684ab78bceed22d6f5c576",
            "334e316399764188a76dc71dfc2862a2",
            "f81ab9951bea4f4cbf284fe4cc921ae6",
            "b9f1889104674c489b7486ebee0ae268",
            "059d5b0f2bda4319a8bae9dcdf6a6869",
            "8bc63d99a50d41d58ececbd27a77fd2b",
            "ac5206d2044747d39563aec3fd2b2cf4",
            "c2316453905d498e974bad117e860704",
            "f3e9bd07128242f08398745799546b13",
            "ae71f0c07f4240d19e83e98433c82e14",
            "d856cb1ba98343bc9da5f4515f7f1817"
          ]
        },
        "id": "JABCLdhi33Pp",
        "outputId": "8bd31043-e190-40d3-e2e1-42511f84be68"
      },
      "outputs": [],
      "source": [
        "processor = ViTImageProcessor.from_pretrained('google/vit-base-patch16-224-in21k')\n",
        "vit_model = ViTModel.from_pretrained('google/vit-base-patch16-224-in21k')"
      ]
    },
    {
      "cell_type": "code",
      "execution_count": 5,
      "metadata": {
        "id": "1xANozcAC2kH"
      },
      "outputs": [],
      "source": [
        "class ViTWithHead(nn.Module):\n",
        "    def __init__(self, pretrained_model, num_classes, dropout_rate=0.4):\n",
        "        super(ViTWithHead, self).__init__()\n",
        "        self.vit = pretrained_model  # Base ViT model\n",
        "        self.classifier = nn.Sequential(\n",
        "            nn.BatchNorm1d(self.vit.config.hidden_size),\n",
        "            nn.Dropout(dropout_rate), \n",
        "            nn.Linear(self.vit.config.hidden_size, 256), \n",
        "            nn.ReLU(), \n",
        "            nn.Dropout(0.3), \n",
        "            nn.Linear(256, num_classes)  \n",
        "        )\n",
        "\n",
        "    def forward(self, x):\n",
        "        outputs = self.vit(x) \n",
        "        cls_token = outputs.last_hidden_state[:, 0]  # CLS token (first token)\n",
        "        logits = self.classifier(cls_token) \n",
        "        return logits"
      ]
    },
    {
      "cell_type": "code",
      "execution_count": 6,
      "metadata": {
        "colab": {
          "base_uri": "https://localhost:8080/"
        },
        "id": "fe3W94iKCv0Y",
        "outputId": "aa026781-eead-4490-cdef-378a4c2ca8f9"
      },
      "outputs": [
        {
          "data": {
            "text/plain": [
              "ViTWithHead(\n",
              "  (vit): ViTModel(\n",
              "    (embeddings): ViTEmbeddings(\n",
              "      (patch_embeddings): ViTPatchEmbeddings(\n",
              "        (projection): Conv2d(3, 768, kernel_size=(16, 16), stride=(16, 16))\n",
              "      )\n",
              "      (dropout): Dropout(p=0.0, inplace=False)\n",
              "    )\n",
              "    (encoder): ViTEncoder(\n",
              "      (layer): ModuleList(\n",
              "        (0-11): 12 x ViTLayer(\n",
              "          (attention): ViTSdpaAttention(\n",
              "            (attention): ViTSdpaSelfAttention(\n",
              "              (query): Linear(in_features=768, out_features=768, bias=True)\n",
              "              (key): Linear(in_features=768, out_features=768, bias=True)\n",
              "              (value): Linear(in_features=768, out_features=768, bias=True)\n",
              "              (dropout): Dropout(p=0.0, inplace=False)\n",
              "            )\n",
              "            (output): ViTSelfOutput(\n",
              "              (dense): Linear(in_features=768, out_features=768, bias=True)\n",
              "              (dropout): Dropout(p=0.0, inplace=False)\n",
              "            )\n",
              "          )\n",
              "          (intermediate): ViTIntermediate(\n",
              "            (dense): Linear(in_features=768, out_features=3072, bias=True)\n",
              "            (intermediate_act_fn): GELUActivation()\n",
              "          )\n",
              "          (output): ViTOutput(\n",
              "            (dense): Linear(in_features=3072, out_features=768, bias=True)\n",
              "            (dropout): Dropout(p=0.0, inplace=False)\n",
              "          )\n",
              "          (layernorm_before): LayerNorm((768,), eps=1e-12, elementwise_affine=True)\n",
              "          (layernorm_after): LayerNorm((768,), eps=1e-12, elementwise_affine=True)\n",
              "        )\n",
              "      )\n",
              "    )\n",
              "    (layernorm): LayerNorm((768,), eps=1e-12, elementwise_affine=True)\n",
              "    (pooler): ViTPooler(\n",
              "      (dense): Linear(in_features=768, out_features=768, bias=True)\n",
              "      (activation): Tanh()\n",
              "    )\n",
              "  )\n",
              "  (classifier): Sequential(\n",
              "    (0): BatchNorm1d(768, eps=1e-05, momentum=0.1, affine=True, track_running_stats=True)\n",
              "    (1): Dropout(p=0.4, inplace=False)\n",
              "    (2): Linear(in_features=768, out_features=256, bias=True)\n",
              "    (3): ReLU()\n",
              "    (4): Dropout(p=0.3, inplace=False)\n",
              "    (5): Linear(in_features=256, out_features=3, bias=True)\n",
              "  )\n",
              ")"
            ]
          },
          "execution_count": 6,
          "metadata": {},
          "output_type": "execute_result"
        }
      ],
      "source": [
        "device = torch.device(\"mps\" if torch.mps.is_available() else \"cpu\")\n",
        "model = ViTWithHead(vit_model, num_classes=3)\n",
        "model.to(device)"
      ]
    },
    {
      "cell_type": "code",
      "execution_count": 7,
      "metadata": {
        "id": "h9Mihu3rIuuu"
      },
      "outputs": [],
      "source": [
        "class CustomDataset(torch.utils.data.Dataset):\n",
        "    def __init__(self, image_paths, labels, processor, model, device):\n",
        "        self.image_paths = image_paths\n",
        "        self.labels = labels\n",
        "        self.processor = processor\n",
        "        self.model = model\n",
        "        self.device = device \n",
        "\n",
        "    def __len__(self):\n",
        "        return len(self.image_paths)\n",
        "\n",
        "    def __getitem__(self, idx):\n",
        "        image = Image.open(self.image_paths[idx]).convert(\"RGB\")\n",
        "        label = self.labels[idx]\n",
        "\n",
        "        inputs = self.processor(images=image, return_tensors=\"np\").to(self.device)  # Move inputs to device\n",
        "        inputs = inputs.pixel_values \n",
        "\n",
        "        return inputs, label"
      ]
    },
    {
      "cell_type": "code",
      "execution_count": 8,
      "metadata": {
        "id": "4rCLgoPxIyts"
      },
      "outputs": [],
      "source": [
        "image_paths = []\n",
        "labels = []\n",
        "class_to_idx = {class_name: idx for idx, class_name in enumerate(os.listdir(root_dir))}"
      ]
    },
    {
      "cell_type": "code",
      "execution_count": 9,
      "metadata": {
        "id": "B7ylhYV-Ik8r"
      },
      "outputs": [],
      "source": [
        "for class_name in os.listdir(root_dir):\n",
        "    class_folder = os.path.join(root_dir, class_name)\n",
        "    if os.path.isdir(class_folder):\n",
        "        for img_name in os.listdir(class_folder):\n",
        "            if img_name.endswith(('.jpg', '.jpeg', '.png')):\n",
        "                image_paths.append(os.path.join(class_folder, img_name))\n",
        "                labels.append(class_to_idx[class_name])"
      ]
    },
    {
      "cell_type": "code",
      "execution_count": 10,
      "metadata": {
        "id": "ggnE1V_VIopn"
      },
      "outputs": [],
      "source": [
        "train_size = int(0.8 * len(image_paths)) \n",
        "test_size = int(0.1 * len(image_paths))  \n",
        "val_size = len(image_paths) - train_size - test_size  \n",
        "\n",
        "train_paths, temp_paths, train_labels, temp_labels = train_test_split(image_paths, labels, train_size=train_size, stratify=labels, random_state=50)\n",
        "val_paths, test_paths, val_labels, test_labels = train_test_split(temp_paths, temp_labels, train_size=val_size, stratify=temp_labels, random_state=50)"
      ]
    },
    {
      "cell_type": "code",
      "execution_count": 11,
      "metadata": {
        "id": "znFQe2ksJBhU"
      },
      "outputs": [],
      "source": [
        "train_dataset = CustomDataset(train_paths, train_labels, processor, model, device)\n",
        "val_dataset = CustomDataset(val_paths, val_labels, processor, model, device)\n",
        "test_dataset = CustomDataset(test_paths, test_labels, processor, model, device)"
      ]
    },
    {
      "cell_type": "code",
      "execution_count": 12,
      "metadata": {
        "id": "JHXMPocZJE8a"
      },
      "outputs": [],
      "source": [
        "trainLoader = DataLoader(train_dataset, batch_size=batch_size, shuffle=True)\n",
        "validLoader = DataLoader(val_dataset, batch_size=batch_size, shuffle=False)\n",
        "testLoader = DataLoader(test_dataset, batch_size=batch_size, shuffle=False)\n"
      ]
    },
    {
      "cell_type": "code",
      "execution_count": 13,
      "metadata": {
        "colab": {
          "base_uri": "https://localhost:8080/"
        },
        "id": "OYaNkiav4gGo",
        "outputId": "a756e68d-74a1-45e7-dccd-03fc3b4b2b76"
      },
      "outputs": [
        {
          "name": "stdout",
          "output_type": "stream",
          "text": [
            "torch.Size([32, 1, 3, 224, 224])\n",
            "torch.Size([32])\n"
          ]
        }
      ],
      "source": [
        "for features, labels in trainLoader:\n",
        "    features, labels = features.to(device), labels.to(device)\n",
        "    print(features.shape)\n",
        "    print(labels.shape)\n",
        "    break"
      ]
    },
    {
      "cell_type": "markdown",
      "metadata": {
        "id": "pvmrfefQJyB5"
      },
      "source": [
        "# TRAINING"
      ]
    },
    {
      "cell_type": "code",
      "execution_count": 14,
      "metadata": {
        "colab": {
          "base_uri": "https://localhost:8080/"
        },
        "id": "gTKg1uqM4wED",
        "outputId": "64a2ec59-937a-4de7-8c34-affd43a62b76"
      },
      "outputs": [
        {
          "name": "stdout",
          "output_type": "stream",
          "text": [
            "Model is running on MPS (GPU).\n"
          ]
        }
      ],
      "source": [
        "if next(model.parameters()).is_mps:\n",
        "    print(\"Model is running on MPS (GPU).\")\n",
        "else:\n",
        "    print(\"Model is running on CPU.\")"
      ]
    },
    {
      "cell_type": "code",
      "execution_count": 15,
      "metadata": {
        "id": "TMLLAF5FJksg"
      },
      "outputs": [],
      "source": [
        "def train_model(model, train_loader, val_loader, criterion, optimizer, scheduler, num_epochs=250, early_stopping_patience=5):\n",
        "\n",
        "    best_val_loss = float('inf')\n",
        "    epochs_no_improve = 0\n",
        "\n",
        "    train_losses, val_losses = [], []\n",
        "    train_accuracies, val_accuracies = [], []\n",
        "\n",
        "    for epoch in range(num_epochs):\n",
        "        model.train()\n",
        "        train_loss, correct_train, total_train = 0.0, 0, 0\n",
        "\n",
        "        for features, labels in train_loader:  \n",
        "            features, labels = features.to(device), labels.to(device)  \n",
        "            optimizer.zero_grad()\n",
        "\n",
        "            # Reshape from [batch_size, 1, 3, 224, 224] to [batch_size, 3, 224, 224]\n",
        "            features = features.squeeze(1)\n",
        "\n",
        "            # Forward pass (directly pass the features into the classifier)\n",
        "            outputs = model(features)\n",
        "            logits = outputs \n",
        "\n",
        "            if len(labels.shape) > 1:  # If labels are one-hot encoded\n",
        "                labels = labels.argmax(dim=1)  # Convert to class indices\n",
        "\n",
        "            # Compute the loss\n",
        "            loss = criterion(logits, labels)\n",
        "            loss.backward()\n",
        "            optimizer.step()\n",
        "\n",
        "            train_loss += loss.item()\n",
        "            _, predicted = logits.max(1)  # Get predicted class indices\n",
        "            correct_train += (predicted == labels).sum().item()\n",
        "            total_train += labels.size(0)\n",
        "\n",
        "        # Validation Loop\n",
        "        model.eval()\n",
        "        val_loss, correct_val, total_val = 0.0, 0, 0\n",
        "\n",
        "        with torch.no_grad():\n",
        "            for features, labels in val_loader: \n",
        "                features, labels = features.to(device), labels.to(device)\n",
        "\n",
        "                # Reshape features from [batch_size, 1, 3, 224, 224] to [batch_size, 3, 224, 224]\n",
        "                features = features.squeeze(1)\n",
        "\n",
        "                outputs = model(features)  # Pass features to the model\n",
        "                logits = outputs  \n",
        "                \n",
        "                if len(labels.shape) > 1:\n",
        "                    labels = labels.argmax(dim=1)\n",
        "\n",
        "                # Compute the validation loss\n",
        "                loss = criterion(logits, labels)\n",
        "                val_loss += loss.item()\n",
        "\n",
        "                _, predicted = logits.max(1)  # Get predicted class indices\n",
        "                correct_val += (predicted == labels).sum().item()\n",
        "                total_val += labels.size(0)\n",
        "\n",
        "        # Compute epoch-wise losses and accuracies\n",
        "        avg_train_loss = train_loss / len(train_loader)\n",
        "        avg_val_loss = val_loss / len(val_loader)\n",
        "        train_acc = correct_train / total_train\n",
        "        val_acc = correct_val / total_val\n",
        "\n",
        "        train_losses.append(avg_train_loss)\n",
        "        val_losses.append(avg_val_loss)\n",
        "        train_accuracies.append(train_acc)\n",
        "        val_accuracies.append(val_acc)\n",
        "\n",
        "        print(f\"Epoch [{epoch+1}/{num_epochs}] - Train Loss: {avg_train_loss:.4f}, Train Acc: {train_acc:.4f} - Val Loss: {avg_val_loss:.4f}, Val Acc: {val_acc:.4f}\")\n",
        "\n",
        "        # Update LR Scheduler\n",
        "        scheduler.step(avg_val_loss)\n",
        "\n",
        "        for param_group in optimizer.param_groups:\n",
        "            print(f\"Epoch [{epoch+1}/{num_epochs}] - LR: {param_group['lr']:.6f}\")\n",
        "\n",
        "        # Early Stopping Check\n",
        "        if avg_val_loss < best_val_loss:\n",
        "            best_val_loss = avg_val_loss\n",
        "            epochs_no_improve = 0\n",
        "            torch.save(model.state_dict(), \"Models/ViT/best_vit_model.pth\")  # Save best model\n",
        "        else:\n",
        "            epochs_no_improve += 1\n",
        "\n",
        "        if epochs_no_improve >= early_stopping_patience:\n",
        "            print(\"Early stopping triggered. Training stopped.\")\n",
        "            break\n",
        "\n",
        "    return train_losses, val_losses, train_accuracies, val_accuracies"
      ]
    },
    {
      "cell_type": "code",
      "execution_count": 16,
      "metadata": {
        "id": "UiCeC6XhJ1Kg"
      },
      "outputs": [
        {
          "name": "stdout",
          "output_type": "stream",
          "text": [
            "Epoch [1/250] - Train Loss: 0.9524, Train Acc: 0.5437 - Val Loss: 0.8114, Val Acc: 0.6518\n",
            "Epoch [1/250] - LR: 0.000100\n",
            "Epoch [2/250] - Train Loss: 0.8050, Train Acc: 0.6413 - Val Loss: 0.7481, Val Acc: 0.6602\n",
            "Epoch [2/250] - LR: 0.000100\n",
            "Epoch [3/250] - Train Loss: 0.7517, Train Acc: 0.6598 - Val Loss: 0.7076, Val Acc: 0.6825\n",
            "Epoch [3/250] - LR: 0.000100\n",
            "Epoch [4/250] - Train Loss: 0.7260, Train Acc: 0.6857 - Val Loss: 0.6864, Val Acc: 0.7075\n",
            "Epoch [4/250] - LR: 0.000100\n",
            "Epoch [5/250] - Train Loss: 0.7127, Train Acc: 0.6815 - Val Loss: 0.6628, Val Acc: 0.7270\n",
            "Epoch [5/250] - LR: 0.000100\n",
            "Epoch [6/250] - Train Loss: 0.6895, Train Acc: 0.6825 - Val Loss: 0.6647, Val Acc: 0.7298\n",
            "Epoch [6/250] - LR: 0.000100\n",
            "Epoch [7/250] - Train Loss: 0.6599, Train Acc: 0.7150 - Val Loss: 0.6435, Val Acc: 0.7326\n",
            "Epoch [7/250] - LR: 0.000100\n",
            "Epoch [8/250] - Train Loss: 0.6567, Train Acc: 0.7108 - Val Loss: 0.6376, Val Acc: 0.7354\n",
            "Epoch [8/250] - LR: 0.000100\n",
            "Epoch [9/250] - Train Loss: 0.6473, Train Acc: 0.7105 - Val Loss: 0.6356, Val Acc: 0.7354\n",
            "Epoch [9/250] - LR: 0.000100\n",
            "Epoch [10/250] - Train Loss: 0.6362, Train Acc: 0.7206 - Val Loss: 0.6145, Val Acc: 0.7354\n",
            "Epoch [10/250] - LR: 0.000100\n",
            "Epoch [11/250] - Train Loss: 0.6355, Train Acc: 0.7147 - Val Loss: 0.6094, Val Acc: 0.7437\n",
            "Epoch [11/250] - LR: 0.000100\n",
            "Epoch [12/250] - Train Loss: 0.6166, Train Acc: 0.7269 - Val Loss: 0.6044, Val Acc: 0.7437\n",
            "Epoch [12/250] - LR: 0.000100\n",
            "Epoch [13/250] - Train Loss: 0.6164, Train Acc: 0.7262 - Val Loss: 0.5983, Val Acc: 0.7382\n",
            "Epoch [13/250] - LR: 0.000100\n",
            "Epoch [14/250] - Train Loss: 0.6005, Train Acc: 0.7402 - Val Loss: 0.5975, Val Acc: 0.7521\n",
            "Epoch [14/250] - LR: 0.000100\n",
            "Epoch [15/250] - Train Loss: 0.5915, Train Acc: 0.7458 - Val Loss: 0.5848, Val Acc: 0.7660\n",
            "Epoch [15/250] - LR: 0.000100\n",
            "Epoch [16/250] - Train Loss: 0.5834, Train Acc: 0.7371 - Val Loss: 0.5852, Val Acc: 0.7660\n",
            "Epoch [16/250] - LR: 0.000100\n",
            "Epoch [17/250] - Train Loss: 0.5761, Train Acc: 0.7434 - Val Loss: 0.5792, Val Acc: 0.7632\n",
            "Epoch [17/250] - LR: 0.000100\n",
            "Epoch [18/250] - Train Loss: 0.5815, Train Acc: 0.7392 - Val Loss: 0.5741, Val Acc: 0.7549\n",
            "Epoch [18/250] - LR: 0.000100\n",
            "Epoch [19/250] - Train Loss: 0.5755, Train Acc: 0.7465 - Val Loss: 0.5654, Val Acc: 0.7604\n",
            "Epoch [19/250] - LR: 0.000100\n",
            "Epoch [20/250] - Train Loss: 0.5692, Train Acc: 0.7486 - Val Loss: 0.5592, Val Acc: 0.7660\n",
            "Epoch [20/250] - LR: 0.000100\n",
            "Epoch [21/250] - Train Loss: 0.5643, Train Acc: 0.7493 - Val Loss: 0.5567, Val Acc: 0.7716\n",
            "Epoch [21/250] - LR: 0.000100\n",
            "Epoch [22/250] - Train Loss: 0.5576, Train Acc: 0.7577 - Val Loss: 0.5624, Val Acc: 0.7688\n",
            "Epoch [22/250] - LR: 0.000100\n",
            "Epoch [23/250] - Train Loss: 0.5500, Train Acc: 0.7650 - Val Loss: 0.5533, Val Acc: 0.7799\n",
            "Epoch [23/250] - LR: 0.000100\n",
            "Epoch [24/250] - Train Loss: 0.5399, Train Acc: 0.7636 - Val Loss: 0.5545, Val Acc: 0.7799\n",
            "Epoch [24/250] - LR: 0.000100\n",
            "Epoch [25/250] - Train Loss: 0.5446, Train Acc: 0.7584 - Val Loss: 0.5379, Val Acc: 0.7660\n",
            "Epoch [25/250] - LR: 0.000100\n",
            "Epoch [26/250] - Train Loss: 0.5240, Train Acc: 0.7752 - Val Loss: 0.5365, Val Acc: 0.7883\n",
            "Epoch [26/250] - LR: 0.000100\n",
            "Epoch [27/250] - Train Loss: 0.5251, Train Acc: 0.7794 - Val Loss: 0.5343, Val Acc: 0.7855\n",
            "Epoch [27/250] - LR: 0.000100\n",
            "Epoch [28/250] - Train Loss: 0.5314, Train Acc: 0.7713 - Val Loss: 0.5404, Val Acc: 0.7716\n",
            "Epoch [28/250] - LR: 0.000100\n",
            "Epoch [29/250] - Train Loss: 0.5191, Train Acc: 0.7776 - Val Loss: 0.5435, Val Acc: 0.7688\n",
            "Epoch [29/250] - LR: 0.000100\n",
            "Epoch [30/250] - Train Loss: 0.5138, Train Acc: 0.7762 - Val Loss: 0.5354, Val Acc: 0.7855\n",
            "Epoch [30/250] - LR: 0.000100\n",
            "Epoch [31/250] - Train Loss: 0.5150, Train Acc: 0.7773 - Val Loss: 0.5263, Val Acc: 0.7577\n",
            "Epoch [31/250] - LR: 0.000100\n",
            "Epoch [32/250] - Train Loss: 0.5010, Train Acc: 0.7801 - Val Loss: 0.5358, Val Acc: 0.7855\n",
            "Epoch [32/250] - LR: 0.000100\n",
            "Epoch [33/250] - Train Loss: 0.5044, Train Acc: 0.7927 - Val Loss: 0.5195, Val Acc: 0.7883\n",
            "Epoch [33/250] - LR: 0.000100\n",
            "Epoch [34/250] - Train Loss: 0.5059, Train Acc: 0.7745 - Val Loss: 0.5317, Val Acc: 0.7883\n",
            "Epoch [34/250] - LR: 0.000100\n",
            "Epoch [35/250] - Train Loss: 0.4948, Train Acc: 0.7864 - Val Loss: 0.5208, Val Acc: 0.7660\n",
            "Epoch [35/250] - LR: 0.000100\n",
            "Epoch [36/250] - Train Loss: 0.5037, Train Acc: 0.7836 - Val Loss: 0.5294, Val Acc: 0.7688\n",
            "Epoch [36/250] - LR: 0.000100\n",
            "Epoch [37/250] - Train Loss: 0.4940, Train Acc: 0.7864 - Val Loss: 0.5190, Val Acc: 0.7827\n",
            "Epoch [37/250] - LR: 0.000100\n",
            "Epoch [38/250] - Train Loss: 0.4890, Train Acc: 0.7934 - Val Loss: 0.5211, Val Acc: 0.7688\n",
            "Epoch [38/250] - LR: 0.000100\n",
            "Epoch [39/250] - Train Loss: 0.4915, Train Acc: 0.7864 - Val Loss: 0.5139, Val Acc: 0.7716\n",
            "Epoch [39/250] - LR: 0.000100\n",
            "Epoch [40/250] - Train Loss: 0.4761, Train Acc: 0.8052 - Val Loss: 0.5187, Val Acc: 0.7744\n",
            "Epoch [40/250] - LR: 0.000100\n",
            "Epoch [41/250] - Train Loss: 0.4814, Train Acc: 0.7916 - Val Loss: 0.5165, Val Acc: 0.7883\n",
            "Epoch [41/250] - LR: 0.000100\n",
            "Epoch [42/250] - Train Loss: 0.4787, Train Acc: 0.8000 - Val Loss: 0.5095, Val Acc: 0.7799\n",
            "Epoch [42/250] - LR: 0.000100\n",
            "Epoch [43/250] - Train Loss: 0.4620, Train Acc: 0.8098 - Val Loss: 0.5104, Val Acc: 0.7911\n",
            "Epoch [43/250] - LR: 0.000100\n",
            "Epoch [44/250] - Train Loss: 0.4707, Train Acc: 0.7979 - Val Loss: 0.5114, Val Acc: 0.7939\n",
            "Epoch [44/250] - LR: 0.000100\n",
            "Epoch [45/250] - Train Loss: 0.4698, Train Acc: 0.7976 - Val Loss: 0.5077, Val Acc: 0.7855\n",
            "Epoch [45/250] - LR: 0.000100\n",
            "Epoch [46/250] - Train Loss: 0.4543, Train Acc: 0.8084 - Val Loss: 0.5102, Val Acc: 0.7883\n",
            "Epoch [46/250] - LR: 0.000100\n",
            "Epoch [47/250] - Train Loss: 0.4583, Train Acc: 0.8052 - Val Loss: 0.5145, Val Acc: 0.7883\n",
            "Epoch [47/250] - LR: 0.000100\n",
            "Epoch [48/250] - Train Loss: 0.4575, Train Acc: 0.8105 - Val Loss: 0.5057, Val Acc: 0.7772\n",
            "Epoch [48/250] - LR: 0.000100\n",
            "Epoch [49/250] - Train Loss: 0.4530, Train Acc: 0.8101 - Val Loss: 0.5099, Val Acc: 0.7827\n",
            "Epoch [49/250] - LR: 0.000100\n",
            "Epoch [50/250] - Train Loss: 0.4510, Train Acc: 0.8182 - Val Loss: 0.5097, Val Acc: 0.7911\n",
            "Epoch [50/250] - LR: 0.000100\n",
            "Epoch [51/250] - Train Loss: 0.4434, Train Acc: 0.8119 - Val Loss: 0.5098, Val Acc: 0.7716\n",
            "Epoch [51/250] - LR: 0.000100\n",
            "Epoch [52/250] - Train Loss: 0.4347, Train Acc: 0.8136 - Val Loss: 0.5003, Val Acc: 0.7855\n",
            "Epoch [52/250] - LR: 0.000100\n",
            "Epoch [53/250] - Train Loss: 0.4424, Train Acc: 0.8084 - Val Loss: 0.5023, Val Acc: 0.7967\n",
            "Epoch [53/250] - LR: 0.000100\n",
            "Epoch [54/250] - Train Loss: 0.4289, Train Acc: 0.8168 - Val Loss: 0.5118, Val Acc: 0.7827\n",
            "Epoch [54/250] - LR: 0.000100\n",
            "Epoch [55/250] - Train Loss: 0.4425, Train Acc: 0.8084 - Val Loss: 0.5002, Val Acc: 0.7827\n",
            "Epoch [55/250] - LR: 0.000100\n",
            "Epoch [56/250] - Train Loss: 0.4339, Train Acc: 0.8220 - Val Loss: 0.5101, Val Acc: 0.7827\n",
            "Epoch [56/250] - LR: 0.000100\n",
            "Epoch [57/250] - Train Loss: 0.4317, Train Acc: 0.8182 - Val Loss: 0.5080, Val Acc: 0.7799\n",
            "Epoch [57/250] - LR: 0.000100\n",
            "Epoch [58/250] - Train Loss: 0.4275, Train Acc: 0.8227 - Val Loss: 0.5023, Val Acc: 0.7799\n",
            "Epoch [58/250] - LR: 0.000100\n",
            "Epoch [59/250] - Train Loss: 0.4167, Train Acc: 0.8234 - Val Loss: 0.4976, Val Acc: 0.7939\n",
            "Epoch [59/250] - LR: 0.000100\n",
            "Epoch [60/250] - Train Loss: 0.4361, Train Acc: 0.8175 - Val Loss: 0.4948, Val Acc: 0.7911\n",
            "Epoch [60/250] - LR: 0.000100\n",
            "Epoch [61/250] - Train Loss: 0.4226, Train Acc: 0.8238 - Val Loss: 0.5014, Val Acc: 0.7883\n",
            "Epoch [61/250] - LR: 0.000100\n",
            "Epoch [62/250] - Train Loss: 0.4107, Train Acc: 0.8273 - Val Loss: 0.4950, Val Acc: 0.7939\n",
            "Epoch [62/250] - LR: 0.000100\n",
            "Epoch [63/250] - Train Loss: 0.4115, Train Acc: 0.8283 - Val Loss: 0.4981, Val Acc: 0.7967\n",
            "Epoch [63/250] - LR: 0.000100\n",
            "Epoch [64/250] - Train Loss: 0.4047, Train Acc: 0.8339 - Val Loss: 0.4914, Val Acc: 0.7967\n",
            "Epoch [64/250] - LR: 0.000100\n",
            "Epoch [65/250] - Train Loss: 0.4095, Train Acc: 0.8304 - Val Loss: 0.4968, Val Acc: 0.7855\n",
            "Epoch [65/250] - LR: 0.000100\n",
            "Epoch [66/250] - Train Loss: 0.4076, Train Acc: 0.8280 - Val Loss: 0.4893, Val Acc: 0.7967\n",
            "Epoch [66/250] - LR: 0.000100\n",
            "Epoch [67/250] - Train Loss: 0.4122, Train Acc: 0.8259 - Val Loss: 0.4920, Val Acc: 0.7939\n",
            "Epoch [67/250] - LR: 0.000100\n",
            "Epoch [68/250] - Train Loss: 0.3937, Train Acc: 0.8280 - Val Loss: 0.4959, Val Acc: 0.7883\n",
            "Epoch [68/250] - LR: 0.000100\n",
            "Epoch [69/250] - Train Loss: 0.3894, Train Acc: 0.8423 - Val Loss: 0.4968, Val Acc: 0.7994\n",
            "Epoch [69/250] - LR: 0.000100\n",
            "Epoch [70/250] - Train Loss: 0.4075, Train Acc: 0.8308 - Val Loss: 0.4891, Val Acc: 0.7827\n",
            "Epoch [70/250] - LR: 0.000100\n",
            "Epoch [71/250] - Train Loss: 0.4030, Train Acc: 0.8374 - Val Loss: 0.4926, Val Acc: 0.7967\n",
            "Epoch [71/250] - LR: 0.000100\n",
            "Epoch [72/250] - Train Loss: 0.3912, Train Acc: 0.8346 - Val Loss: 0.5025, Val Acc: 0.7772\n",
            "Epoch [72/250] - LR: 0.000100\n",
            "Epoch [73/250] - Train Loss: 0.3840, Train Acc: 0.8434 - Val Loss: 0.4980, Val Acc: 0.7939\n",
            "Epoch [73/250] - LR: 0.000100\n",
            "Epoch [74/250] - Train Loss: 0.3915, Train Acc: 0.8402 - Val Loss: 0.4930, Val Acc: 0.7967\n",
            "Epoch [74/250] - LR: 0.000050\n",
            "Epoch [75/250] - Train Loss: 0.3909, Train Acc: 0.8346 - Val Loss: 0.4833, Val Acc: 0.7967\n",
            "Epoch [75/250] - LR: 0.000050\n",
            "Epoch [76/250] - Train Loss: 0.3857, Train Acc: 0.8462 - Val Loss: 0.4846, Val Acc: 0.7994\n",
            "Epoch [76/250] - LR: 0.000050\n",
            "Epoch [77/250] - Train Loss: 0.3876, Train Acc: 0.8388 - Val Loss: 0.4871, Val Acc: 0.7994\n",
            "Epoch [77/250] - LR: 0.000050\n",
            "Epoch [78/250] - Train Loss: 0.3784, Train Acc: 0.8381 - Val Loss: 0.4826, Val Acc: 0.7994\n",
            "Epoch [78/250] - LR: 0.000050\n",
            "Epoch [79/250] - Train Loss: 0.3719, Train Acc: 0.8420 - Val Loss: 0.4792, Val Acc: 0.7911\n",
            "Epoch [79/250] - LR: 0.000050\n",
            "Epoch [80/250] - Train Loss: 0.3746, Train Acc: 0.8448 - Val Loss: 0.4869, Val Acc: 0.7883\n",
            "Epoch [80/250] - LR: 0.000050\n",
            "Epoch [81/250] - Train Loss: 0.3844, Train Acc: 0.8462 - Val Loss: 0.4876, Val Acc: 0.7994\n",
            "Epoch [81/250] - LR: 0.000050\n",
            "Epoch [82/250] - Train Loss: 0.3860, Train Acc: 0.8409 - Val Loss: 0.4792, Val Acc: 0.7967\n",
            "Epoch [82/250] - LR: 0.000050\n",
            "Epoch [83/250] - Train Loss: 0.3742, Train Acc: 0.8524 - Val Loss: 0.4866, Val Acc: 0.7911\n",
            "Epoch [83/250] - LR: 0.000025\n",
            "Epoch [84/250] - Train Loss: 0.3665, Train Acc: 0.8521 - Val Loss: 0.4868, Val Acc: 0.7911\n",
            "Epoch [84/250] - LR: 0.000025\n",
            "Epoch [85/250] - Train Loss: 0.3604, Train Acc: 0.8556 - Val Loss: 0.4825, Val Acc: 0.8022\n",
            "Epoch [85/250] - LR: 0.000025\n",
            "Epoch [86/250] - Train Loss: 0.3840, Train Acc: 0.8458 - Val Loss: 0.4815, Val Acc: 0.7911\n",
            "Epoch [86/250] - LR: 0.000025\n",
            "Epoch [87/250] - Train Loss: 0.3739, Train Acc: 0.8399 - Val Loss: 0.4810, Val Acc: 0.8078\n",
            "Epoch [87/250] - LR: 0.000013\n",
            "Early stopping triggered. Training stopped.\n"
          ]
        }
      ],
      "source": [
        "for param in model.vit.parameters():\n",
        "    param.requires_grad = False\n",
        "\n",
        "criterion = nn.CrossEntropyLoss()\n",
        "optimizer = optim.AdamW(model.parameters(), lr=1e-4, weight_decay=1e-5)\n",
        "scheduler = ReduceLROnPlateau(optimizer, mode='min', factor=0.5, patience=3, verbose=True)\n",
        "\n",
        "train_losses, val_losses, train_accuracies, val_accuracies = train_model(model, trainLoader, validLoader, criterion, optimizer, scheduler, num_epochs=250, early_stopping_patience=8)"
      ]
    },
    {
      "cell_type": "markdown",
      "metadata": {
        "id": "j6qVloptKHLc"
      },
      "source": [
        "# FINE-TUNING"
      ]
    },
    {
      "cell_type": "code",
      "execution_count": 18,
      "metadata": {
        "id": "8G3BR1lbJ4vB"
      },
      "outputs": [
        {
          "name": "stdout",
          "output_type": "stream",
          "text": [
            "Epoch [1/250] - Train Loss: 0.1989, Train Acc: 0.9315 - Val Loss: 0.4339, Val Acc: 0.8384\n",
            "Epoch [1/250] - LR: 0.000001\n",
            "Epoch [2/250] - Train Loss: 0.1961, Train Acc: 0.9290 - Val Loss: 0.4313, Val Acc: 0.8440\n",
            "Epoch [2/250] - LR: 0.000001\n",
            "Epoch [3/250] - Train Loss: 0.1907, Train Acc: 0.9273 - Val Loss: 0.4472, Val Acc: 0.8273\n",
            "Epoch [3/250] - LR: 0.000001\n",
            "Epoch [4/250] - Train Loss: 0.1875, Train Acc: 0.9329 - Val Loss: 0.4275, Val Acc: 0.8357\n",
            "Epoch [4/250] - LR: 0.000001\n",
            "Epoch [5/250] - Train Loss: 0.1855, Train Acc: 0.9304 - Val Loss: 0.4352, Val Acc: 0.8357\n",
            "Epoch [5/250] - LR: 0.000001\n",
            "Epoch [6/250] - Train Loss: 0.1807, Train Acc: 0.9444 - Val Loss: 0.4317, Val Acc: 0.8245\n",
            "Epoch [6/250] - LR: 0.000001\n",
            "Epoch [7/250] - Train Loss: 0.1761, Train Acc: 0.9395 - Val Loss: 0.4350, Val Acc: 0.8273\n",
            "Epoch [7/250] - LR: 0.000001\n",
            "Epoch [8/250] - Train Loss: 0.1750, Train Acc: 0.9409 - Val Loss: 0.4370, Val Acc: 0.8217\n",
            "Epoch [8/250] - LR: 0.000000\n",
            "Epoch [9/250] - Train Loss: 0.1687, Train Acc: 0.9437 - Val Loss: 0.4358, Val Acc: 0.8412\n",
            "Epoch [9/250] - LR: 0.000000\n",
            "Epoch [10/250] - Train Loss: 0.1685, Train Acc: 0.9434 - Val Loss: 0.4448, Val Acc: 0.8384\n",
            "Epoch [10/250] - LR: 0.000000\n",
            "Epoch [11/250] - Train Loss: 0.1681, Train Acc: 0.9392 - Val Loss: 0.4332, Val Acc: 0.8329\n",
            "Epoch [11/250] - LR: 0.000000\n",
            "Epoch [12/250] - Train Loss: 0.1686, Train Acc: 0.9420 - Val Loss: 0.4335, Val Acc: 0.8357\n",
            "Epoch [12/250] - LR: 0.000000\n",
            "Early stopping triggered. Training stopped.\n"
          ]
        }
      ],
      "source": [
        "model.load_state_dict(torch.load(\"Models/ViT/best_vit_model.pth\", map_location=device))\n",
        "\n",
        "for param in model.vit.parameters():\n",
        "    param.requires_grad = True\n",
        "\n",
        "optimizer = optim.AdamW(model.parameters(), lr=1e-6, weight_decay=1e-6)\n",
        "scheduler = ReduceLROnPlateau(optimizer, mode='min', factor=0.5, patience=3, verbose=True)\n",
        "\n",
        "train_losses_finetune, val_losses_finetune, train_accuracies_finetune, val_accuracies_finetune = train_model(\n",
        "    model, trainLoader, validLoader, criterion, optimizer, scheduler, num_epochs=250, early_stopping_patience=8\n",
        ")"
      ]
    },
    {
      "cell_type": "markdown",
      "metadata": {
        "id": "pEWO7cD2LugQ"
      },
      "source": [
        "# PLOTS"
      ]
    },
    {
      "cell_type": "code",
      "execution_count": 19,
      "metadata": {
        "id": "GCfnnuufLvjP"
      },
      "outputs": [],
      "source": [
        "def plot_metrics(train_losses, val_losses, train_accuracies, val_accuracies):\n",
        "    epochs = range(1, len(train_losses) + 1)\n",
        "\n",
        "    plt.figure(figsize=(12, 5))\n",
        "\n",
        "    # Loss Plot\n",
        "    plt.subplot(1, 2, 1)\n",
        "    plt.plot(epochs, train_losses, label='Train Loss', marker='o')\n",
        "    plt.plot(epochs, val_losses, label='Val Loss', marker='o')\n",
        "    plt.xlabel('Epochs')\n",
        "    plt.ylabel('Loss')\n",
        "    plt.title('Loss Curve')\n",
        "    plt.legend()\n",
        "\n",
        "    # Accuracy Plot\n",
        "    plt.subplot(1, 2, 2)\n",
        "    plt.plot(epochs, train_accuracies, label='Train Accuracy', marker='o')\n",
        "    plt.plot(epochs, val_accuracies, label='Val Accuracy', marker='o')\n",
        "    plt.xlabel('Epochs')\n",
        "    plt.ylabel('Accuracy')\n",
        "    plt.title('Accuracy Curve')\n",
        "    plt.legend()\n",
        "\n",
        "    plt.show()"
      ]
    },
    {
      "cell_type": "markdown",
      "metadata": {
        "id": "ALMG6PP7L133"
      },
      "source": [
        "## Pre-Trained"
      ]
    },
    {
      "cell_type": "code",
      "execution_count": 20,
      "metadata": {
        "id": "-dFSWMpqLypz"
      },
      "outputs": [
        {
          "data": {
            "image/png": "[encoded data removed]",
            "text/plain": [
              "<Figure size 1200x500 with 2 Axes>"
            ]
          },
          "metadata": {},
          "output_type": "display_data"
        }
      ],
      "source": [
        "plot_metrics(train_losses, val_losses, train_accuracies, val_accuracies)"
      ]
    },
    {
      "cell_type": "markdown",
      "metadata": {
        "id": "Qz6RoLyIL5Mr"
      },
      "source": [
        "## Fine-Tuned"
      ]
    },
    {
      "cell_type": "code",
      "execution_count": 21,
      "metadata": {
        "id": "5sKOgMAtL0WZ"
      },
      "outputs": [
        {
          "data": {
            "image/png": "[encoded data removed]",
            "text/plain": [
              "<Figure size 1200x500 with 2 Axes>"
            ]
          },
          "metadata": {},
          "output_type": "display_data"
        }
      ],
      "source": [
        "plot_metrics(train_losses_finetune, val_losses_finetune, train_accuracies_finetune, val_accuracies_finetune)"
      ]
    },
    {
      "cell_type": "markdown",
      "metadata": {
        "id": "2d3d5keRMGWz"
      },
      "source": [
        "# TESTING"
      ]
    },
    {
      "cell_type": "code",
      "execution_count": 22,
      "metadata": {
        "id": "QT_-lWHE5Wuc"
      },
      "outputs": [
        {
          "data": {
            "text/plain": [
              "<All keys matched successfully>"
            ]
          },
          "execution_count": 22,
          "metadata": {},
          "output_type": "execute_result"
        }
      ],
      "source": [
        "model.load_state_dict(torch.load(\"Models/ViT/best_vit_model.pth\", map_location=device))"
      ]
    },
    {
      "cell_type": "code",
      "execution_count": 23,
      "metadata": {
        "id": "S1FP1zyTMHKc"
      },
      "outputs": [],
      "source": [
        "def evaluate_model(model, test_loader, categories):\n",
        "    device = torch.device(\"mps\" if torch.mps.is_available() else \"cpu\")\n",
        "    model.to(device)\n",
        "    model.eval()\n",
        "\n",
        "    all_preds = []\n",
        "    all_labels = []\n",
        "\n",
        "    with torch.no_grad():\n",
        "        for images, labels in test_loader:\n",
        "            images, labels = images.to(device), labels.to(device)\n",
        "\n",
        "            images = images.squeeze(1)  # Shape becomes [32, 3, 224, 224]\n",
        "\n",
        "            outputs = model(images) \n",
        "            _, predicted = outputs.max(1)\n",
        "\n",
        "            # If labels are one-hot encoded, convert them to class indices\n",
        "            if len(labels.shape) > 1:\n",
        "                labels = labels.argmax(dim=1)\n",
        "\n",
        "            all_preds.extend(predicted.cpu().numpy())\n",
        "            all_labels.extend(labels.cpu().numpy())\n",
        "\n",
        "    # Print Classification Report\n",
        "    print(\"Classification Report:\\n\", classification_report(all_labels, all_preds, target_names=categories))\n",
        "    return all_labels, all_preds"
      ]
    },
    {
      "cell_type": "code",
      "execution_count": 24,
      "metadata": {
        "id": "nI3HY56zMKf5"
      },
      "outputs": [
        {
          "name": "stdout",
          "output_type": "stream",
          "text": [
            "Classification Report:\n",
            "               precision    recall  f1-score   support\n",
            "\n",
            "      Normal       0.78      0.74      0.76       116\n",
            "  Osteopenia       0.82      0.84      0.83       119\n",
            "Osteoporosis       0.80      0.82      0.81       122\n",
            "\n",
            "    accuracy                           0.80       357\n",
            "   macro avg       0.80      0.80      0.80       357\n",
            "weighted avg       0.80      0.80      0.80       357\n",
            "\n"
          ]
        }
      ],
      "source": [
        "labels, preds = evaluate_model(model, testLoader, categories)"
      ]
    },
    {
      "cell_type": "markdown",
      "metadata": {
        "id": "5FI3hYsPMaQe"
      },
      "source": [
        "# PR CURVE"
      ]
    },
    {
      "cell_type": "code",
      "execution_count": 25,
      "metadata": {
        "id": "2vHpbsOrMY7y"
      },
      "outputs": [
        {
          "name": "stdout",
          "output_type": "stream",
          "text": [
            "Best threshold for class 0: 0.3868\n",
            "Best threshold for class 1: 0.5764\n",
            "Best threshold for class 2: 0.2384\n"
          ]
        },
        {
          "data": {
            "text/plain": [
              "[0.38683787, 0.57636315, 0.23844849]"
            ]
          },
          "execution_count": 25,
          "metadata": {},
          "output_type": "execute_result"
        }
      ],
      "source": [
        "def find_best_thresholds(model, test_loader, num_classes):\n",
        "    model.eval()\n",
        "\n",
        "    all_probs = []\n",
        "    all_labels = []\n",
        "\n",
        "    with torch.no_grad():\n",
        "        for images, labels in test_loader:\n",
        "            images = images.to(device)\n",
        "\n",
        "            labels = labels.cpu().numpy()\n",
        "            if labels.ndim == 1:\n",
        "                labels = labels.reshape(-1, 1)  # Shape [batch_size, 1]\n",
        "\n",
        "            images = images.squeeze(1)  # Shape becomes [batch, 3, 224, 224]\n",
        "\n",
        "            # Get model output logits\n",
        "            outputs = model(images) \n",
        "\n",
        "            # Convert logits to probabilities\n",
        "            probs = torch.softmax(outputs, dim=1).cpu().numpy()  # Softmax for multi-class classification\n",
        "\n",
        "            all_probs.append(probs)\n",
        "            all_labels.append(labels)\n",
        "\n",
        "    all_probs = np.concatenate(all_probs, axis=0)  # Shape: [n_samples, n_classes]\n",
        "    all_labels = np.concatenate(all_labels, axis=0)  # Shape: [n_samples, 1] \n",
        "\n",
        "    # One-hot encode labels (needed for multi-class precision-recall curve)\n",
        "    all_labels = label_binarize(all_labels, classes=np.arange(num_classes))  # Shape: [n_samples, n_classes]\n",
        "\n",
        "    best_thresholds = []\n",
        "\n",
        "    for class_idx in range(num_classes):\n",
        "        binary_labels = all_labels[:, class_idx]  # Get class labels (binary format)\n",
        "\n",
        "        # Compute precision-recall curve\n",
        "        precision, recall, thresholds = precision_recall_curve(binary_labels, all_probs[:, class_idx])\n",
        "\n",
        "        # Compute F1 scores for each threshold\n",
        "        f1_scores = (2 * precision * recall) / (precision + recall + np.finfo(float).eps)  # Avoid division by zero\n",
        "\n",
        "        # Get threshold with max F1 score\n",
        "        best_threshold = thresholds[np.argmax(f1_scores)] if thresholds.size > 0 else 0.5\n",
        "        best_thresholds.append(best_threshold)\n",
        "\n",
        "        print(f\"Best threshold for class {class_idx}: {best_threshold:.4f}\")\n",
        "\n",
        "    return best_thresholds\n",
        "\n",
        "\n",
        "best_thresholds = find_best_thresholds(model, testLoader, 3)\n",
        "best_thresholds"
      ]
    },
    {
      "cell_type": "code",
      "execution_count": 26,
      "metadata": {
        "id": "skH22TkMMsQd"
      },
      "outputs": [],
      "source": [
        "def evaluate_with_best_thresholds(model, test_loader, best_thresholds, categories):\n",
        "    model.eval()\n",
        "\n",
        "    all_preds = []\n",
        "    all_labels = []\n",
        "\n",
        "    with torch.no_grad():\n",
        "        for images, labels in test_loader:\n",
        "            images = images.to(device)\n",
        "            labels = labels.cpu().numpy()\n",
        "\n",
        "            if len(images.shape) == 5:\n",
        "                images = images.squeeze(1)  # Remove the extra dimension, if necessary\n",
        "\n",
        "            # Ensure labels are in a multi-label format (one-hot encoded)\n",
        "            if labels.ndim == 1: \n",
        "                labels = np.eye(len(categories))[labels]\n",
        "\n",
        "            outputs = model(images)\n",
        "            if isinstance(outputs, tuple):  \n",
        "                outputs = outputs[0]\n",
        "\n",
        "            # Apply sigmoid activation\n",
        "            probs = torch.sigmoid(outputs).cpu().numpy()\n",
        "\n",
        "            # Apply best thresholds for each class\n",
        "            preds = (probs > np.array(best_thresholds)).astype(int)\n",
        "            preds = np.argmax(preds*probs, axis=1)\n",
        "            preds = label_binarize(preds, classes=np.arange(len(categories)))\n",
        "\n",
        "            all_preds.extend(preds)\n",
        "            all_labels.extend(labels)\n",
        "\n",
        "    all_preds = np.array(all_preds)\n",
        "    all_labels = np.array(all_labels)\n",
        "\n",
        "    # Ensure both are in the same shape and format\n",
        "    if all_labels.shape != all_preds.shape:\n",
        "        raise ValueError(f\"Shape mismatch: labels {all_labels.shape}, preds {all_preds.shape}\")\n",
        "    \n",
        "    all_labels = np.argmax(all_labels, axis=1)\n",
        "    all_preds = np.argmax(all_preds, axis=1)\n",
        "\n",
        "    # Print Classification Report\n",
        "    print(\"Classification Report with Optimized Thresholds:\\n\",\n",
        "          classification_report(all_labels, all_preds, target_names=categories))\n",
        "    \n",
        "    return all_labels, all_preds"
      ]
    },
    {
      "cell_type": "code",
      "execution_count": 27,
      "metadata": {
        "id": "PEvsI_bRMwNv"
      },
      "outputs": [
        {
          "name": "stdout",
          "output_type": "stream",
          "text": [
            "Classification Report with Optimized Thresholds:\n",
            "               precision    recall  f1-score   support\n",
            "\n",
            "      Normal       0.78      0.74      0.76       116\n",
            "  Osteopenia       0.82      0.84      0.83       119\n",
            "Osteoporosis       0.80      0.82      0.81       122\n",
            "\n",
            "    accuracy                           0.80       357\n",
            "   macro avg       0.80      0.80      0.80       357\n",
            "weighted avg       0.80      0.80      0.80       357\n",
            "\n"
          ]
        }
      ],
      "source": [
        "labels, preds = evaluate_with_best_thresholds(model, testLoader, best_thresholds, categories)"
      ]
    },
    {
      "cell_type": "code",
      "execution_count": 28,
      "metadata": {},
      "outputs": [
        {
          "data": {
            "text/plain": [
              "Text(95.72222222222221, 0.5, 'True Label')"
            ]
          },
          "execution_count": 28,
          "metadata": {},
          "output_type": "execute_result"
        },
        {
          "data": {
            "image/png": "[encoded data removed]",
            "text/plain": [
              "<Figure size 1000x800 with 2 Axes>"
            ]
          },
          "metadata": {},
          "output_type": "display_data"
        }
      ],
      "source": [
        "conf_matrix = confusion_matrix(labels, preds)\n",
        "plt.figure(figsize=(10, 8))\n",
        "sns.heatmap(conf_matrix, annot=True, fmt='d', cmap='Blues',\n",
        "            xticklabels=categories,\n",
        "            yticklabels=categories)\n",
        "plt.title('Confusion Matrix')\n",
        "plt.xlabel('Predicted Label')\n",
        "plt.ylabel('True Label')"
      ]
    },
    {
      "cell_type": "code",
      "execution_count": 29,
      "metadata": {
        "id": "oTwsNvZO5xXZ"
      },
      "outputs": [],
      "source": [
        "os.makedirs(os.path.dirname(\"Models/ViT/\"), exist_ok=True)"
      ]
    },
    {
      "cell_type": "code",
      "execution_count": 30,
      "metadata": {
        "id": "1VXbYJUv5eJy"
      },
      "outputs": [],
      "source": [
        "torch.save(model.state_dict(), \"Models/ViT/ViT-Base16-in21k.pth\")"
      ]
    }
  ],
  "metadata": {
    "accelerator": "GPU",
    "colab": {
      "gpuType": "A100",
      "machine_shape": "hm",
      "provenance": []
    },
    "kernelspec": {
      "display_name": "ComputerVision",
      "language": "python",
      "name": "python3"
    },
    "language_info": {
      "codemirror_mode": {
        "name": "ipython",
        "version": 3
      },
      "file_extension": ".py",
      "mimetype": "text/x-python",
      "name": "python",
      "nbconvert_exporter": "python",
      "pygments_lexer": "ipython3",
      "version": "3.11.11"
    },
    "widgets": {
      "application/vnd.jupyter.widget-state+json": {
        "059d5b0f2bda4319a8bae9dcdf6a6869": {
          "model_module": "@jupyter-widgets/base",
          "model_module_version": "1.2.0",
          "model_name": "LayoutModel",
          "state": {
            "_model_module": "@jupyter-widgets/base",
            "_model_module_version": "1.2.0",
            "_model_name": "LayoutModel",
            "_view_count": null,
            "_view_module": "@jupyter-widgets/base",
            "_view_module_version": "1.2.0",
            "_view_name": "LayoutView",
            "align_content": null,
            "align_items": null,
            "align_self": null,
            "border": null,
            "bottom": null,
            "display": null,
            "flex": null,
            "flex_flow": null,
            "grid_area": null,
            "grid_auto_columns": null,
            "grid_auto_flow": null,
            "grid_auto_rows": null,
            "grid_column": null,
            "grid_gap": null,
            "grid_row": null,
            "grid_template_areas": null,
            "grid_template_columns": null,
            "grid_template_rows": null,
            "height": null,
            "justify_content": null,
            "justify_items": null,
            "left": null,
            "margin": null,
            "max_height": null,
            "max_width": null,
            "min_height": null,
            "min_width": null,
            "object_fit": null,
            "object_position": null,
            "order": null,
            "overflow": null,
            "overflow_x": null,
            "overflow_y": null,
            "padding": null,
            "right": null,
            "top": null,
            "visibility": null,
            "width": null
          }
        },
        "0a51672617a2433390d2d05137f120c7": {
          "model_module": "@jupyter-widgets/controls",
          "model_module_version": "1.5.0",
          "model_name": "DescriptionStyleModel",
          "state": {
            "_model_module": "@jupyter-widgets/controls",
            "_model_module_version": "1.5.0",
            "_model_name": "DescriptionStyleModel",
            "_view_count": null,
            "_view_module": "@jupyter-widgets/base",
            "_view_module_version": "1.2.0",
            "_view_name": "StyleView",
            "description_width": ""
          }
        },
        "0d2b0ab0c8364f2e81b20ee0521c8a68": {
          "model_module": "@jupyter-widgets/controls",
          "model_module_version": "1.5.0",
          "model_name": "HTMLModel",
          "state": {
            "_dom_classes": [],
            "_model_module": "@jupyter-widgets/controls",
            "_model_module_version": "1.5.0",
            "_model_name": "HTMLModel",
            "_view_count": null,
            "_view_module": "@jupyter-widgets/controls",
            "_view_module_version": "1.5.0",
            "_view_name": "HTMLView",
            "description": "",
            "description_tooltip": null,
            "layout": "IPY_MODEL_f9b98115ca994955b95bb06628c2949c",
            "placeholder": "​",
            "style": "IPY_MODEL_c83730736fae41eab91ee63f056e445e",
            "value": " 160/160 [00:00&lt;00:00, 16.7kB/s]"
          }
        },
        "1a650391fa684ab78bceed22d6f5c576": {
          "model_module": "@jupyter-widgets/controls",
          "model_module_version": "1.5.0",
          "model_name": "HBoxModel",
          "state": {
            "_dom_classes": [],
            "_model_module": "@jupyter-widgets/controls",
            "_model_module_version": "1.5.0",
            "_model_name": "HBoxModel",
            "_view_count": null,
            "_view_module": "@jupyter-widgets/controls",
            "_view_module_version": "1.5.0",
            "_view_name": "HBoxView",
            "box_style": "",
            "children": [
              "IPY_MODEL_334e316399764188a76dc71dfc2862a2",
              "IPY_MODEL_f81ab9951bea4f4cbf284fe4cc921ae6",
              "IPY_MODEL_b9f1889104674c489b7486ebee0ae268"
            ],
            "layout": "IPY_MODEL_059d5b0f2bda4319a8bae9dcdf6a6869"
          }
        },
        "334e316399764188a76dc71dfc2862a2": {
          "model_module": "@jupyter-widgets/controls",
          "model_module_version": "1.5.0",
          "model_name": "HTMLModel",
          "state": {
            "_dom_classes": [],
            "_model_module": "@jupyter-widgets/controls",
            "_model_module_version": "1.5.0",
            "_model_name": "HTMLModel",
            "_view_count": null,
            "_view_module": "@jupyter-widgets/controls",
            "_view_module_version": "1.5.0",
            "_view_name": "HTMLView",
            "description": "",
            "description_tooltip": null,
            "layout": "IPY_MODEL_8bc63d99a50d41d58ececbd27a77fd2b",
            "placeholder": "​",
            "style": "IPY_MODEL_ac5206d2044747d39563aec3fd2b2cf4",
            "value": "model.safetensors: 100%"
          }
        },
        "3c0e28ac3a3d4fcfbf62c0b942059293": {
          "model_module": "@jupyter-widgets/base",
          "model_module_version": "1.2.0",
          "model_name": "LayoutModel",
          "state": {
            "_model_module": "@jupyter-widgets/base",
            "_model_module_version": "1.2.0",
            "_model_name": "LayoutModel",
            "_view_count": null,
            "_view_module": "@jupyter-widgets/base",
            "_view_module_version": "1.2.0",
            "_view_name": "LayoutView",
            "align_content": null,
            "align_items": null,
            "align_self": null,
            "border": null,
            "bottom": null,
            "display": null,
            "flex": null,
            "flex_flow": null,
            "grid_area": null,
            "grid_auto_columns": null,
            "grid_auto_flow": null,
            "grid_auto_rows": null,
            "grid_column": null,
            "grid_gap": null,
            "grid_row": null,
            "grid_template_areas": null,
            "grid_template_columns": null,
            "grid_template_rows": null,
            "height": null,
            "justify_content": null,
            "justify_items": null,
            "left": null,
            "margin": null,
            "max_height": null,
            "max_width": null,
            "min_height": null,
            "min_width": null,
            "object_fit": null,
            "object_position": null,
            "order": null,
            "overflow": null,
            "overflow_x": null,
            "overflow_y": null,
            "padding": null,
            "right": null,
            "top": null,
            "visibility": null,
            "width": null
          }
        },
        "3d76a03f0e394e9b8b466f1c3f958cf1": {
          "model_module": "@jupyter-widgets/controls",
          "model_module_version": "1.5.0",
          "model_name": "FloatProgressModel",
          "state": {
            "_dom_classes": [],
            "_model_module": "@jupyter-widgets/controls",
            "_model_module_version": "1.5.0",
            "_model_name": "FloatProgressModel",
            "_view_count": null,
            "_view_module": "@jupyter-widgets/controls",
            "_view_module_version": "1.5.0",
            "_view_name": "ProgressView",
            "bar_style": "success",
            "description": "",
            "description_tooltip": null,
            "layout": "IPY_MODEL_e6e618dfd391415dbceff3c6e61b6b8c",
            "max": 160,
            "min": 0,
            "orientation": "horizontal",
            "style": "IPY_MODEL_d498d5fcad34423eba2d38c889ab55dc",
            "value": 160
          }
        },
        "50307f20c1f749a0b486cfb35b727bec": {
          "model_module": "@jupyter-widgets/base",
          "model_module_version": "1.2.0",
          "model_name": "LayoutModel",
          "state": {
            "_model_module": "@jupyter-widgets/base",
            "_model_module_version": "1.2.0",
            "_model_name": "LayoutModel",
            "_view_count": null,
            "_view_module": "@jupyter-widgets/base",
            "_view_module_version": "1.2.0",
            "_view_name": "LayoutView",
            "align_content": null,
            "align_items": null,
            "align_self": null,
            "border": null,
            "bottom": null,
            "display": null,
            "flex": null,
            "flex_flow": null,
            "grid_area": null,
            "grid_auto_columns": null,
            "grid_auto_flow": null,
            "grid_auto_rows": null,
            "grid_column": null,
            "grid_gap": null,
            "grid_row": null,
            "grid_template_areas": null,
            "grid_template_columns": null,
            "grid_template_rows": null,
            "height": null,
            "justify_content": null,
            "justify_items": null,
            "left": null,
            "margin": null,
            "max_height": null,
            "max_width": null,
            "min_height": null,
            "min_width": null,
            "object_fit": null,
            "object_position": null,
            "order": null,
            "overflow": null,
            "overflow_x": null,
            "overflow_y": null,
            "padding": null,
            "right": null,
            "top": null,
            "visibility": null,
            "width": null
          }
        },
        "62e2b69f08c144af867b61b785b3e559": {
          "model_module": "@jupyter-widgets/controls",
          "model_module_version": "1.5.0",
          "model_name": "DescriptionStyleModel",
          "state": {
            "_model_module": "@jupyter-widgets/controls",
            "_model_module_version": "1.5.0",
            "_model_name": "DescriptionStyleModel",
            "_view_count": null,
            "_view_module": "@jupyter-widgets/base",
            "_view_module_version": "1.2.0",
            "_view_name": "StyleView",
            "description_width": ""
          }
        },
        "8bc63d99a50d41d58ececbd27a77fd2b": {
          "model_module": "@jupyter-widgets/base",
          "model_module_version": "1.2.0",
          "model_name": "LayoutModel",
          "state": {
            "_model_module": "@jupyter-widgets/base",
            "_model_module_version": "1.2.0",
            "_model_name": "LayoutModel",
            "_view_count": null,
            "_view_module": "@jupyter-widgets/base",
            "_view_module_version": "1.2.0",
            "_view_name": "LayoutView",
            "align_content": null,
            "align_items": null,
            "align_self": null,
            "border": null,
            "bottom": null,
            "display": null,
            "flex": null,
            "flex_flow": null,
            "grid_area": null,
            "grid_auto_columns": null,
            "grid_auto_flow": null,
            "grid_auto_rows": null,
            "grid_column": null,
            "grid_gap": null,
            "grid_row": null,
            "grid_template_areas": null,
            "grid_template_columns": null,
            "grid_template_rows": null,
            "height": null,
            "justify_content": null,
            "justify_items": null,
            "left": null,
            "margin": null,
            "max_height": null,
            "max_width": null,
            "min_height": null,
            "min_width": null,
            "object_fit": null,
            "object_position": null,
            "order": null,
            "overflow": null,
            "overflow_x": null,
            "overflow_y": null,
            "padding": null,
            "right": null,
            "top": null,
            "visibility": null,
            "width": null
          }
        },
        "97d47d0e534343be83fc68c6dc6fd744": {
          "model_module": "@jupyter-widgets/base",
          "model_module_version": "1.2.0",
          "model_name": "LayoutModel",
          "state": {
            "_model_module": "@jupyter-widgets/base",
            "_model_module_version": "1.2.0",
            "_model_name": "LayoutModel",
            "_view_count": null,
            "_view_module": "@jupyter-widgets/base",
            "_view_module_version": "1.2.0",
            "_view_name": "LayoutView",
            "align_content": null,
            "align_items": null,
            "align_self": null,
            "border": null,
            "bottom": null,
            "display": null,
            "flex": null,
            "flex_flow": null,
            "grid_area": null,
            "grid_auto_columns": null,
            "grid_auto_flow": null,
            "grid_auto_rows": null,
            "grid_column": null,
            "grid_gap": null,
            "grid_row": null,
            "grid_template_areas": null,
            "grid_template_columns": null,
            "grid_template_rows": null,
            "height": null,
            "justify_content": null,
            "justify_items": null,
            "left": null,
            "margin": null,
            "max_height": null,
            "max_width": null,
            "min_height": null,
            "min_width": null,
            "object_fit": null,
            "object_position": null,
            "order": null,
            "overflow": null,
            "overflow_x": null,
            "overflow_y": null,
            "padding": null,
            "right": null,
            "top": null,
            "visibility": null,
            "width": null
          }
        },
        "9d3fdfefa3794d21ad4166e6404e652d": {
          "model_module": "@jupyter-widgets/controls",
          "model_module_version": "1.5.0",
          "model_name": "HBoxModel",
          "state": {
            "_dom_classes": [],
            "_model_module": "@jupyter-widgets/controls",
            "_model_module_version": "1.5.0",
            "_model_name": "HBoxModel",
            "_view_count": null,
            "_view_module": "@jupyter-widgets/controls",
            "_view_module_version": "1.5.0",
            "_view_name": "HBoxView",
            "box_style": "",
            "children": [
              "IPY_MODEL_acaad47e5f6540c1adf2ed88ea7f72fd",
              "IPY_MODEL_3d76a03f0e394e9b8b466f1c3f958cf1",
              "IPY_MODEL_0d2b0ab0c8364f2e81b20ee0521c8a68"
            ],
            "layout": "IPY_MODEL_eec70dad2b18440ca2943faec28ba22a"
          }
        },
        "a2258bbba9814fb0b5dfe885979feb1e": {
          "model_module": "@jupyter-widgets/controls",
          "model_module_version": "1.5.0",
          "model_name": "HBoxModel",
          "state": {
            "_dom_classes": [],
            "_model_module": "@jupyter-widgets/controls",
            "_model_module_version": "1.5.0",
            "_model_name": "HBoxModel",
            "_view_count": null,
            "_view_module": "@jupyter-widgets/controls",
            "_view_module_version": "1.5.0",
            "_view_name": "HBoxView",
            "box_style": "",
            "children": [
              "IPY_MODEL_d36d2d3973bc45d795d91e6e16ebabaa",
              "IPY_MODEL_ed30ae3c94fc4ccfb0d0cdb238b2d72a",
              "IPY_MODEL_bd97dd177b0a4912a72dc52847b534f5"
            ],
            "layout": "IPY_MODEL_af0d82a5d58f4bb1a66f6f0c58614d90"
          }
        },
        "ac5206d2044747d39563aec3fd2b2cf4": {
          "model_module": "@jupyter-widgets/controls",
          "model_module_version": "1.5.0",
          "model_name": "DescriptionStyleModel",
          "state": {
            "_model_module": "@jupyter-widgets/controls",
            "_model_module_version": "1.5.0",
            "_model_name": "DescriptionStyleModel",
            "_view_count": null,
            "_view_module": "@jupyter-widgets/base",
            "_view_module_version": "1.2.0",
            "_view_name": "StyleView",
            "description_width": ""
          }
        },
        "acaad47e5f6540c1adf2ed88ea7f72fd": {
          "model_module": "@jupyter-widgets/controls",
          "model_module_version": "1.5.0",
          "model_name": "HTMLModel",
          "state": {
            "_dom_classes": [],
            "_model_module": "@jupyter-widgets/controls",
            "_model_module_version": "1.5.0",
            "_model_name": "HTMLModel",
            "_view_count": null,
            "_view_module": "@jupyter-widgets/controls",
            "_view_module_version": "1.5.0",
            "_view_name": "HTMLView",
            "description": "",
            "description_tooltip": null,
            "layout": "IPY_MODEL_50307f20c1f749a0b486cfb35b727bec",
            "placeholder": "​",
            "style": "IPY_MODEL_62e2b69f08c144af867b61b785b3e559",
            "value": "preprocessor_config.json: 100%"
          }
        },
        "ae71f0c07f4240d19e83e98433c82e14": {
          "model_module": "@jupyter-widgets/base",
          "model_module_version": "1.2.0",
          "model_name": "LayoutModel",
          "state": {
            "_model_module": "@jupyter-widgets/base",
            "_model_module_version": "1.2.0",
            "_model_name": "LayoutModel",
            "_view_count": null,
            "_view_module": "@jupyter-widgets/base",
            "_view_module_version": "1.2.0",
            "_view_name": "LayoutView",
            "align_content": null,
            "align_items": null,
            "align_self": null,
            "border": null,
            "bottom": null,
            "display": null,
            "flex": null,
            "flex_flow": null,
            "grid_area": null,
            "grid_auto_columns": null,
            "grid_auto_flow": null,
            "grid_auto_rows": null,
            "grid_column": null,
            "grid_gap": null,
            "grid_row": null,
            "grid_template_areas": null,
            "grid_template_columns": null,
            "grid_template_rows": null,
            "height": null,
            "justify_content": null,
            "justify_items": null,
            "left": null,
            "margin": null,
            "max_height": null,
            "max_width": null,
            "min_height": null,
            "min_width": null,
            "object_fit": null,
            "object_position": null,
            "order": null,
            "overflow": null,
            "overflow_x": null,
            "overflow_y": null,
            "padding": null,
            "right": null,
            "top": null,
            "visibility": null,
            "width": null
          }
        },
        "af0d82a5d58f4bb1a66f6f0c58614d90": {
          "model_module": "@jupyter-widgets/base",
          "model_module_version": "1.2.0",
          "model_name": "LayoutModel",
          "state": {
            "_model_module": "@jupyter-widgets/base",
            "_model_module_version": "1.2.0",
            "_model_name": "LayoutModel",
            "_view_count": null,
            "_view_module": "@jupyter-widgets/base",
            "_view_module_version": "1.2.0",
            "_view_name": "LayoutView",
            "align_content": null,
            "align_items": null,
            "align_self": null,
            "border": null,
            "bottom": null,
            "display": null,
            "flex": null,
            "flex_flow": null,
            "grid_area": null,
            "grid_auto_columns": null,
            "grid_auto_flow": null,
            "grid_auto_rows": null,
            "grid_column": null,
            "grid_gap": null,
            "grid_row": null,
            "grid_template_areas": null,
            "grid_template_columns": null,
            "grid_template_rows": null,
            "height": null,
            "justify_content": null,
            "justify_items": null,
            "left": null,
            "margin": null,
            "max_height": null,
            "max_width": null,
            "min_height": null,
            "min_width": null,
            "object_fit": null,
            "object_position": null,
            "order": null,
            "overflow": null,
            "overflow_x": null,
            "overflow_y": null,
            "padding": null,
            "right": null,
            "top": null,
            "visibility": null,
            "width": null
          }
        },
        "b9f1889104674c489b7486ebee0ae268": {
          "model_module": "@jupyter-widgets/controls",
          "model_module_version": "1.5.0",
          "model_name": "HTMLModel",
          "state": {
            "_dom_classes": [],
            "_model_module": "@jupyter-widgets/controls",
            "_model_module_version": "1.5.0",
            "_model_name": "HTMLModel",
            "_view_count": null,
            "_view_module": "@jupyter-widgets/controls",
            "_view_module_version": "1.5.0",
            "_view_name": "HTMLView",
            "description": "",
            "description_tooltip": null,
            "layout": "IPY_MODEL_ae71f0c07f4240d19e83e98433c82e14",
            "placeholder": "​",
            "style": "IPY_MODEL_d856cb1ba98343bc9da5f4515f7f1817",
            "value": " 346M/346M [00:01&lt;00:00, 241MB/s]"
          }
        },
        "bd97dd177b0a4912a72dc52847b534f5": {
          "model_module": "@jupyter-widgets/controls",
          "model_module_version": "1.5.0",
          "model_name": "HTMLModel",
          "state": {
            "_dom_classes": [],
            "_model_module": "@jupyter-widgets/controls",
            "_model_module_version": "1.5.0",
            "_model_name": "HTMLModel",
            "_view_count": null,
            "_view_module": "@jupyter-widgets/controls",
            "_view_module_version": "1.5.0",
            "_view_name": "HTMLView",
            "description": "",
            "description_tooltip": null,
            "layout": "IPY_MODEL_3c0e28ac3a3d4fcfbf62c0b942059293",
            "placeholder": "​",
            "style": "IPY_MODEL_cadad9655fe24e9ca1551e3adfb0a118",
            "value": " 502/502 [00:00&lt;00:00, 59.6kB/s]"
          }
        },
        "c2316453905d498e974bad117e860704": {
          "model_module": "@jupyter-widgets/base",
          "model_module_version": "1.2.0",
          "model_name": "LayoutModel",
          "state": {
            "_model_module": "@jupyter-widgets/base",
            "_model_module_version": "1.2.0",
            "_model_name": "LayoutModel",
            "_view_count": null,
            "_view_module": "@jupyter-widgets/base",
            "_view_module_version": "1.2.0",
            "_view_name": "LayoutView",
            "align_content": null,
            "align_items": null,
            "align_self": null,
            "border": null,
            "bottom": null,
            "display": null,
            "flex": null,
            "flex_flow": null,
            "grid_area": null,
            "grid_auto_columns": null,
            "grid_auto_flow": null,
            "grid_auto_rows": null,
            "grid_column": null,
            "grid_gap": null,
            "grid_row": null,
            "grid_template_areas": null,
            "grid_template_columns": null,
            "grid_template_rows": null,
            "height": null,
            "justify_content": null,
            "justify_items": null,
            "left": null,
            "margin": null,
            "max_height": null,
            "max_width": null,
            "min_height": null,
            "min_width": null,
            "object_fit": null,
            "object_position": null,
            "order": null,
            "overflow": null,
            "overflow_x": null,
            "overflow_y": null,
            "padding": null,
            "right": null,
            "top": null,
            "visibility": null,
            "width": null
          }
        },
        "c83730736fae41eab91ee63f056e445e": {
          "model_module": "@jupyter-widgets/controls",
          "model_module_version": "1.5.0",
          "model_name": "DescriptionStyleModel",
          "state": {
            "_model_module": "@jupyter-widgets/controls",
            "_model_module_version": "1.5.0",
            "_model_name": "DescriptionStyleModel",
            "_view_count": null,
            "_view_module": "@jupyter-widgets/base",
            "_view_module_version": "1.2.0",
            "_view_name": "StyleView",
            "description_width": ""
          }
        },
        "cadad9655fe24e9ca1551e3adfb0a118": {
          "model_module": "@jupyter-widgets/controls",
          "model_module_version": "1.5.0",
          "model_name": "DescriptionStyleModel",
          "state": {
            "_model_module": "@jupyter-widgets/controls",
            "_model_module_version": "1.5.0",
            "_model_name": "DescriptionStyleModel",
            "_view_count": null,
            "_view_module": "@jupyter-widgets/base",
            "_view_module_version": "1.2.0",
            "_view_name": "StyleView",
            "description_width": ""
          }
        },
        "d36d2d3973bc45d795d91e6e16ebabaa": {
          "model_module": "@jupyter-widgets/controls",
          "model_module_version": "1.5.0",
          "model_name": "HTMLModel",
          "state": {
            "_dom_classes": [],
            "_model_module": "@jupyter-widgets/controls",
            "_model_module_version": "1.5.0",
            "_model_name": "HTMLModel",
            "_view_count": null,
            "_view_module": "@jupyter-widgets/controls",
            "_view_module_version": "1.5.0",
            "_view_name": "HTMLView",
            "description": "",
            "description_tooltip": null,
            "layout": "IPY_MODEL_dcb18b45d067431e82dce9bb8f58eaf2",
            "placeholder": "​",
            "style": "IPY_MODEL_0a51672617a2433390d2d05137f120c7",
            "value": "config.json: 100%"
          }
        },
        "d498d5fcad34423eba2d38c889ab55dc": {
          "model_module": "@jupyter-widgets/controls",
          "model_module_version": "1.5.0",
          "model_name": "ProgressStyleModel",
          "state": {
            "_model_module": "@jupyter-widgets/controls",
            "_model_module_version": "1.5.0",
            "_model_name": "ProgressStyleModel",
            "_view_count": null,
            "_view_module": "@jupyter-widgets/base",
            "_view_module_version": "1.2.0",
            "_view_name": "StyleView",
            "bar_color": null,
            "description_width": ""
          }
        },
        "d856cb1ba98343bc9da5f4515f7f1817": {
          "model_module": "@jupyter-widgets/controls",
          "model_module_version": "1.5.0",
          "model_name": "DescriptionStyleModel",
          "state": {
            "_model_module": "@jupyter-widgets/controls",
            "_model_module_version": "1.5.0",
            "_model_name": "DescriptionStyleModel",
            "_view_count": null,
            "_view_module": "@jupyter-widgets/base",
            "_view_module_version": "1.2.0",
            "_view_name": "StyleView",
            "description_width": ""
          }
        },
        "d95f0177fa5144b79d95ef8646e0d054": {
          "model_module": "@jupyter-widgets/controls",
          "model_module_version": "1.5.0",
          "model_name": "ProgressStyleModel",
          "state": {
            "_model_module": "@jupyter-widgets/controls",
            "_model_module_version": "1.5.0",
            "_model_name": "ProgressStyleModel",
            "_view_count": null,
            "_view_module": "@jupyter-widgets/base",
            "_view_module_version": "1.2.0",
            "_view_name": "StyleView",
            "bar_color": null,
            "description_width": ""
          }
        },
        "dcb18b45d067431e82dce9bb8f58eaf2": {
          "model_module": "@jupyter-widgets/base",
          "model_module_version": "1.2.0",
          "model_name": "LayoutModel",
          "state": {
            "_model_module": "@jupyter-widgets/base",
            "_model_module_version": "1.2.0",
            "_model_name": "LayoutModel",
            "_view_count": null,
            "_view_module": "@jupyter-widgets/base",
            "_view_module_version": "1.2.0",
            "_view_name": "LayoutView",
            "align_content": null,
            "align_items": null,
            "align_self": null,
            "border": null,
            "bottom": null,
            "display": null,
            "flex": null,
            "flex_flow": null,
            "grid_area": null,
            "grid_auto_columns": null,
            "grid_auto_flow": null,
            "grid_auto_rows": null,
            "grid_column": null,
            "grid_gap": null,
            "grid_row": null,
            "grid_template_areas": null,
            "grid_template_columns": null,
            "grid_template_rows": null,
            "height": null,
            "justify_content": null,
            "justify_items": null,
            "left": null,
            "margin": null,
            "max_height": null,
            "max_width": null,
            "min_height": null,
            "min_width": null,
            "object_fit": null,
            "object_position": null,
            "order": null,
            "overflow": null,
            "overflow_x": null,
            "overflow_y": null,
            "padding": null,
            "right": null,
            "top": null,
            "visibility": null,
            "width": null
          }
        },
        "e6e618dfd391415dbceff3c6e61b6b8c": {
          "model_module": "@jupyter-widgets/base",
          "model_module_version": "1.2.0",
          "model_name": "LayoutModel",
          "state": {
            "_model_module": "@jupyter-widgets/base",
            "_model_module_version": "1.2.0",
            "_model_name": "LayoutModel",
            "_view_count": null,
            "_view_module": "@jupyter-widgets/base",
            "_view_module_version": "1.2.0",
            "_view_name": "LayoutView",
            "align_content": null,
            "align_items": null,
            "align_self": null,
            "border": null,
            "bottom": null,
            "display": null,
            "flex": null,
            "flex_flow": null,
            "grid_area": null,
            "grid_auto_columns": null,
            "grid_auto_flow": null,
            "grid_auto_rows": null,
            "grid_column": null,
            "grid_gap": null,
            "grid_row": null,
            "grid_template_areas": null,
            "grid_template_columns": null,
            "grid_template_rows": null,
            "height": null,
            "justify_content": null,
            "justify_items": null,
            "left": null,
            "margin": null,
            "max_height": null,
            "max_width": null,
            "min_height": null,
            "min_width": null,
            "object_fit": null,
            "object_position": null,
            "order": null,
            "overflow": null,
            "overflow_x": null,
            "overflow_y": null,
            "padding": null,
            "right": null,
            "top": null,
            "visibility": null,
            "width": null
          }
        },
        "ed30ae3c94fc4ccfb0d0cdb238b2d72a": {
          "model_module": "@jupyter-widgets/controls",
          "model_module_version": "1.5.0",
          "model_name": "FloatProgressModel",
          "state": {
            "_dom_classes": [],
            "_model_module": "@jupyter-widgets/controls",
            "_model_module_version": "1.5.0",
            "_model_name": "FloatProgressModel",
            "_view_count": null,
            "_view_module": "@jupyter-widgets/controls",
            "_view_module_version": "1.5.0",
            "_view_name": "ProgressView",
            "bar_style": "success",
            "description": "",
            "description_tooltip": null,
            "layout": "IPY_MODEL_97d47d0e534343be83fc68c6dc6fd744",
            "max": 502,
            "min": 0,
            "orientation": "horizontal",
            "style": "IPY_MODEL_d95f0177fa5144b79d95ef8646e0d054",
            "value": 502
          }
        },
        "eec70dad2b18440ca2943faec28ba22a": {
          "model_module": "@jupyter-widgets/base",
          "model_module_version": "1.2.0",
          "model_name": "LayoutModel",
          "state": {
            "_model_module": "@jupyter-widgets/base",
            "_model_module_version": "1.2.0",
            "_model_name": "LayoutModel",
            "_view_count": null,
            "_view_module": "@jupyter-widgets/base",
            "_view_module_version": "1.2.0",
            "_view_name": "LayoutView",
            "align_content": null,
            "align_items": null,
            "align_self": null,
            "border": null,
            "bottom": null,
            "display": null,
            "flex": null,
            "flex_flow": null,
            "grid_area": null,
            "grid_auto_columns": null,
            "grid_auto_flow": null,
            "grid_auto_rows": null,
            "grid_column": null,
            "grid_gap": null,
            "grid_row": null,
            "grid_template_areas": null,
            "grid_template_columns": null,
            "grid_template_rows": null,
            "height": null,
            "justify_content": null,
            "justify_items": null,
            "left": null,
            "margin": null,
            "max_height": null,
            "max_width": null,
            "min_height": null,
            "min_width": null,
            "object_fit": null,
            "object_position": null,
            "order": null,
            "overflow": null,
            "overflow_x": null,
            "overflow_y": null,
            "padding": null,
            "right": null,
            "top": null,
            "visibility": null,
            "width": null
          }
        },
        "f3e9bd07128242f08398745799546b13": {
          "model_module": "@jupyter-widgets/controls",
          "model_module_version": "1.5.0",
          "model_name": "ProgressStyleModel",
          "state": {
            "_model_module": "@jupyter-widgets/controls",
            "_model_module_version": "1.5.0",
            "_model_name": "ProgressStyleModel",
            "_view_count": null,
            "_view_module": "@jupyter-widgets/base",
            "_view_module_version": "1.2.0",
            "_view_name": "StyleView",
            "bar_color": null,
            "description_width": ""
          }
        },
        "f81ab9951bea4f4cbf284fe4cc921ae6": {
          "model_module": "@jupyter-widgets/controls",
          "model_module_version": "1.5.0",
          "model_name": "FloatProgressModel",
          "state": {
            "_dom_classes": [],
            "_model_module": "@jupyter-widgets/controls",
            "_model_module_version": "1.5.0",
            "_model_name": "FloatProgressModel",
            "_view_count": null,
            "_view_module": "@jupyter-widgets/controls",
            "_view_module_version": "1.5.0",
            "_view_name": "ProgressView",
            "bar_style": "success",
            "description": "",
            "description_tooltip": null,
            "layout": "IPY_MODEL_c2316453905d498e974bad117e860704",
            "max": 345579424,
            "min": 0,
            "orientation": "horizontal",
            "style": "IPY_MODEL_f3e9bd07128242f08398745799546b13",
            "value": 345579424
          }
        },
        "f9b98115ca994955b95bb06628c2949c": {
          "model_module": "@jupyter-widgets/base",
          "model_module_version": "1.2.0",
          "model_name": "LayoutModel",
          "state": {
            "_model_module": "@jupyter-widgets/base",
            "_model_module_version": "1.2.0",
            "_model_name": "LayoutModel",
            "_view_count": null,
            "_view_module": "@jupyter-widgets/base",
            "_view_module_version": "1.2.0",
            "_view_name": "LayoutView",
            "align_content": null,
            "align_items": null,
            "align_self": null,
            "border": null,
            "bottom": null,
            "display": null,
            "flex": null,
            "flex_flow": null,
            "grid_area": null,
            "grid_auto_columns": null,
            "grid_auto_flow": null,
            "grid_auto_rows": null,
            "grid_column": null,
            "grid_gap": null,
            "grid_row": null,
            "grid_template_areas": null,
            "grid_template_columns": null,
            "grid_template_rows": null,
            "height": null,
            "justify_content": null,
            "justify_items": null,
            "left": null,
            "margin": null,
            "max_height": null,
            "max_width": null,
            "min_height": null,
            "min_width": null,
            "object_fit": null,
            "object_position": null,
            "order": null,
            "overflow": null,
            "overflow_x": null,
            "overflow_y": null,
            "padding": null,
            "right": null,
            "top": null,
            "visibility": null,
            "width": null
          }
        }
      }
    }
  },
  "nbformat": 4,
  "nbformat_minor": 0
}
