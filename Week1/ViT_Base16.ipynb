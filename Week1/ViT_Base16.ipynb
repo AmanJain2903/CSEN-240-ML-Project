{
  "nbformat": 4,
  "nbformat_minor": 0,
  "metadata": {
    "colab": {
      "provenance": [],
      "machine_shape": "hm",
      "gpuType": "A100"
    },
    "kernelspec": {
      "name": "python3",
      "display_name": "Python 3"
    },
    "language_info": {
      "name": "python"
    },
    "accelerator": "GPU",
    "widgets": {
      "application/vnd.jupyter.widget-state+json": {
        "54fea96554cd44eda2144e21576d9f71": {
          "model_module": "@jupyter-widgets/controls",
          "model_name": "HBoxModel",
          "model_module_version": "1.5.0",
          "state": {
            "_dom_classes": [],
            "_model_module": "@jupyter-widgets/controls",
            "_model_module_version": "1.5.0",
            "_model_name": "HBoxModel",
            "_view_count": null,
            "_view_module": "@jupyter-widgets/controls",
            "_view_module_version": "1.5.0",
            "_view_name": "HBoxView",
            "box_style": "",
            "children": [
              "IPY_MODEL_b229cb5416664ff286e318f8269f21f4",
              "IPY_MODEL_03b829eaa5a1458790c202c843b22cba",
              "IPY_MODEL_fe6fac4f31e543cb828665d7188e36b7"
            ],
            "layout": "IPY_MODEL_294a6283936b4271958785ecaee7c452"
          }
        },
        "b229cb5416664ff286e318f8269f21f4": {
          "model_module": "@jupyter-widgets/controls",
          "model_name": "HTMLModel",
          "model_module_version": "1.5.0",
          "state": {
            "_dom_classes": [],
            "_model_module": "@jupyter-widgets/controls",
            "_model_module_version": "1.5.0",
            "_model_name": "HTMLModel",
            "_view_count": null,
            "_view_module": "@jupyter-widgets/controls",
            "_view_module_version": "1.5.0",
            "_view_name": "HTMLView",
            "description": "",
            "description_tooltip": null,
            "layout": "IPY_MODEL_99d40828f528489381bc2d54fb29f28f",
            "placeholder": "​",
            "style": "IPY_MODEL_73e9c8071f4146168945ea39c7f292db",
            "value": "config.json: 100%"
          }
        },
        "03b829eaa5a1458790c202c843b22cba": {
          "model_module": "@jupyter-widgets/controls",
          "model_name": "FloatProgressModel",
          "model_module_version": "1.5.0",
          "state": {
            "_dom_classes": [],
            "_model_module": "@jupyter-widgets/controls",
            "_model_module_version": "1.5.0",
            "_model_name": "FloatProgressModel",
            "_view_count": null,
            "_view_module": "@jupyter-widgets/controls",
            "_view_module_version": "1.5.0",
            "_view_name": "ProgressView",
            "bar_style": "success",
            "description": "",
            "description_tooltip": null,
            "layout": "IPY_MODEL_1c94c1685b9649b9818e20796d844f11",
            "max": 69665,
            "min": 0,
            "orientation": "horizontal",
            "style": "IPY_MODEL_2c2bec1827bd41b98e220cb48911de8a",
            "value": 69665
          }
        },
        "fe6fac4f31e543cb828665d7188e36b7": {
          "model_module": "@jupyter-widgets/controls",
          "model_name": "HTMLModel",
          "model_module_version": "1.5.0",
          "state": {
            "_dom_classes": [],
            "_model_module": "@jupyter-widgets/controls",
            "_model_module_version": "1.5.0",
            "_model_name": "HTMLModel",
            "_view_count": null,
            "_view_module": "@jupyter-widgets/controls",
            "_view_module_version": "1.5.0",
            "_view_name": "HTMLView",
            "description": "",
            "description_tooltip": null,
            "layout": "IPY_MODEL_849698e043b3478a9b9962fce41781b6",
            "placeholder": "​",
            "style": "IPY_MODEL_88715ce311be4b8a8296218a88d7cb2b",
            "value": " 69.7k/69.7k [00:00&lt;00:00, 7.08MB/s]"
          }
        },
        "294a6283936b4271958785ecaee7c452": {
          "model_module": "@jupyter-widgets/base",
          "model_name": "LayoutModel",
          "model_module_version": "1.2.0",
          "state": {
            "_model_module": "@jupyter-widgets/base",
            "_model_module_version": "1.2.0",
            "_model_name": "LayoutModel",
            "_view_count": null,
            "_view_module": "@jupyter-widgets/base",
            "_view_module_version": "1.2.0",
            "_view_name": "LayoutView",
            "align_content": null,
            "align_items": null,
            "align_self": null,
            "border": null,
            "bottom": null,
            "display": null,
            "flex": null,
            "flex_flow": null,
            "grid_area": null,
            "grid_auto_columns": null,
            "grid_auto_flow": null,
            "grid_auto_rows": null,
            "grid_column": null,
            "grid_gap": null,
            "grid_row": null,
            "grid_template_areas": null,
            "grid_template_columns": null,
            "grid_template_rows": null,
            "height": null,
            "justify_content": null,
            "justify_items": null,
            "left": null,
            "margin": null,
            "max_height": null,
            "max_width": null,
            "min_height": null,
            "min_width": null,
            "object_fit": null,
            "object_position": null,
            "order": null,
            "overflow": null,
            "overflow_x": null,
            "overflow_y": null,
            "padding": null,
            "right": null,
            "top": null,
            "visibility": null,
            "width": null
          }
        },
        "99d40828f528489381bc2d54fb29f28f": {
          "model_module": "@jupyter-widgets/base",
          "model_name": "LayoutModel",
          "model_module_version": "1.2.0",
          "state": {
            "_model_module": "@jupyter-widgets/base",
            "_model_module_version": "1.2.0",
            "_model_name": "LayoutModel",
            "_view_count": null,
            "_view_module": "@jupyter-widgets/base",
            "_view_module_version": "1.2.0",
            "_view_name": "LayoutView",
            "align_content": null,
            "align_items": null,
            "align_self": null,
            "border": null,
            "bottom": null,
            "display": null,
            "flex": null,
            "flex_flow": null,
            "grid_area": null,
            "grid_auto_columns": null,
            "grid_auto_flow": null,
            "grid_auto_rows": null,
            "grid_column": null,
            "grid_gap": null,
            "grid_row": null,
            "grid_template_areas": null,
            "grid_template_columns": null,
            "grid_template_rows": null,
            "height": null,
            "justify_content": null,
            "justify_items": null,
            "left": null,
            "margin": null,
            "max_height": null,
            "max_width": null,
            "min_height": null,
            "min_width": null,
            "object_fit": null,
            "object_position": null,
            "order": null,
            "overflow": null,
            "overflow_x": null,
            "overflow_y": null,
            "padding": null,
            "right": null,
            "top": null,
            "visibility": null,
            "width": null
          }
        },
        "73e9c8071f4146168945ea39c7f292db": {
          "model_module": "@jupyter-widgets/controls",
          "model_name": "DescriptionStyleModel",
          "model_module_version": "1.5.0",
          "state": {
            "_model_module": "@jupyter-widgets/controls",
            "_model_module_version": "1.5.0",
            "_model_name": "DescriptionStyleModel",
            "_view_count": null,
            "_view_module": "@jupyter-widgets/base",
            "_view_module_version": "1.2.0",
            "_view_name": "StyleView",
            "description_width": ""
          }
        },
        "1c94c1685b9649b9818e20796d844f11": {
          "model_module": "@jupyter-widgets/base",
          "model_name": "LayoutModel",
          "model_module_version": "1.2.0",
          "state": {
            "_model_module": "@jupyter-widgets/base",
            "_model_module_version": "1.2.0",
            "_model_name": "LayoutModel",
            "_view_count": null,
            "_view_module": "@jupyter-widgets/base",
            "_view_module_version": "1.2.0",
            "_view_name": "LayoutView",
            "align_content": null,
            "align_items": null,
            "align_self": null,
            "border": null,
            "bottom": null,
            "display": null,
            "flex": null,
            "flex_flow": null,
            "grid_area": null,
            "grid_auto_columns": null,
            "grid_auto_flow": null,
            "grid_auto_rows": null,
            "grid_column": null,
            "grid_gap": null,
            "grid_row": null,
            "grid_template_areas": null,
            "grid_template_columns": null,
            "grid_template_rows": null,
            "height": null,
            "justify_content": null,
            "justify_items": null,
            "left": null,
            "margin": null,
            "max_height": null,
            "max_width": null,
            "min_height": null,
            "min_width": null,
            "object_fit": null,
            "object_position": null,
            "order": null,
            "overflow": null,
            "overflow_x": null,
            "overflow_y": null,
            "padding": null,
            "right": null,
            "top": null,
            "visibility": null,
            "width": null
          }
        },
        "2c2bec1827bd41b98e220cb48911de8a": {
          "model_module": "@jupyter-widgets/controls",
          "model_name": "ProgressStyleModel",
          "model_module_version": "1.5.0",
          "state": {
            "_model_module": "@jupyter-widgets/controls",
            "_model_module_version": "1.5.0",
            "_model_name": "ProgressStyleModel",
            "_view_count": null,
            "_view_module": "@jupyter-widgets/base",
            "_view_module_version": "1.2.0",
            "_view_name": "StyleView",
            "bar_color": null,
            "description_width": ""
          }
        },
        "849698e043b3478a9b9962fce41781b6": {
          "model_module": "@jupyter-widgets/base",
          "model_name": "LayoutModel",
          "model_module_version": "1.2.0",
          "state": {
            "_model_module": "@jupyter-widgets/base",
            "_model_module_version": "1.2.0",
            "_model_name": "LayoutModel",
            "_view_count": null,
            "_view_module": "@jupyter-widgets/base",
            "_view_module_version": "1.2.0",
            "_view_name": "LayoutView",
            "align_content": null,
            "align_items": null,
            "align_self": null,
            "border": null,
            "bottom": null,
            "display": null,
            "flex": null,
            "flex_flow": null,
            "grid_area": null,
            "grid_auto_columns": null,
            "grid_auto_flow": null,
            "grid_auto_rows": null,
            "grid_column": null,
            "grid_gap": null,
            "grid_row": null,
            "grid_template_areas": null,
            "grid_template_columns": null,
            "grid_template_rows": null,
            "height": null,
            "justify_content": null,
            "justify_items": null,
            "left": null,
            "margin": null,
            "max_height": null,
            "max_width": null,
            "min_height": null,
            "min_width": null,
            "object_fit": null,
            "object_position": null,
            "order": null,
            "overflow": null,
            "overflow_x": null,
            "overflow_y": null,
            "padding": null,
            "right": null,
            "top": null,
            "visibility": null,
            "width": null
          }
        },
        "88715ce311be4b8a8296218a88d7cb2b": {
          "model_module": "@jupyter-widgets/controls",
          "model_name": "DescriptionStyleModel",
          "model_module_version": "1.5.0",
          "state": {
            "_model_module": "@jupyter-widgets/controls",
            "_model_module_version": "1.5.0",
            "_model_name": "DescriptionStyleModel",
            "_view_count": null,
            "_view_module": "@jupyter-widgets/base",
            "_view_module_version": "1.2.0",
            "_view_name": "StyleView",
            "description_width": ""
          }
        },
        "64bfee6a74304bea8d395d2dddbcff49": {
          "model_module": "@jupyter-widgets/controls",
          "model_name": "HBoxModel",
          "model_module_version": "1.5.0",
          "state": {
            "_dom_classes": [],
            "_model_module": "@jupyter-widgets/controls",
            "_model_module_version": "1.5.0",
            "_model_name": "HBoxModel",
            "_view_count": null,
            "_view_module": "@jupyter-widgets/controls",
            "_view_module_version": "1.5.0",
            "_view_name": "HBoxView",
            "box_style": "",
            "children": [
              "IPY_MODEL_8fbe6393565b4a719900aeade2449c67",
              "IPY_MODEL_a640fd82ba9649d2ade17d0bc4bdc394",
              "IPY_MODEL_8434e04d9dfb4718b4f3856588105f79"
            ],
            "layout": "IPY_MODEL_ad544d87e2954ad58535aaa256af7095"
          }
        },
        "8fbe6393565b4a719900aeade2449c67": {
          "model_module": "@jupyter-widgets/controls",
          "model_name": "HTMLModel",
          "model_module_version": "1.5.0",
          "state": {
            "_dom_classes": [],
            "_model_module": "@jupyter-widgets/controls",
            "_model_module_version": "1.5.0",
            "_model_name": "HTMLModel",
            "_view_count": null,
            "_view_module": "@jupyter-widgets/controls",
            "_view_module_version": "1.5.0",
            "_view_name": "HTMLView",
            "description": "",
            "description_tooltip": null,
            "layout": "IPY_MODEL_7c2b7dfbadfa46de8ffc09e15ae39dc7",
            "placeholder": "​",
            "style": "IPY_MODEL_1117bdbabe8e4fef967d3e6fd341ba3b",
            "value": "model.safetensors: 100%"
          }
        },
        "a640fd82ba9649d2ade17d0bc4bdc394": {
          "model_module": "@jupyter-widgets/controls",
          "model_name": "FloatProgressModel",
          "model_module_version": "1.5.0",
          "state": {
            "_dom_classes": [],
            "_model_module": "@jupyter-widgets/controls",
            "_model_module_version": "1.5.0",
            "_model_name": "FloatProgressModel",
            "_view_count": null,
            "_view_module": "@jupyter-widgets/controls",
            "_view_module_version": "1.5.0",
            "_view_name": "ProgressView",
            "bar_style": "success",
            "description": "",
            "description_tooltip": null,
            "layout": "IPY_MODEL_2729080d760943c4906f0fd82857b60a",
            "max": 346293852,
            "min": 0,
            "orientation": "horizontal",
            "style": "IPY_MODEL_84a163ef918f4fe8906b74c60e277ec9",
            "value": 346293852
          }
        },
        "8434e04d9dfb4718b4f3856588105f79": {
          "model_module": "@jupyter-widgets/controls",
          "model_name": "HTMLModel",
          "model_module_version": "1.5.0",
          "state": {
            "_dom_classes": [],
            "_model_module": "@jupyter-widgets/controls",
            "_model_module_version": "1.5.0",
            "_model_name": "HTMLModel",
            "_view_count": null,
            "_view_module": "@jupyter-widgets/controls",
            "_view_module_version": "1.5.0",
            "_view_name": "HTMLView",
            "description": "",
            "description_tooltip": null,
            "layout": "IPY_MODEL_1a6cab828f854dce95f00e651f686605",
            "placeholder": "​",
            "style": "IPY_MODEL_c7e522cbafae4679a7c6bccdad9e5f98",
            "value": " 346M/346M [00:00&lt;00:00, 513MB/s]"
          }
        },
        "ad544d87e2954ad58535aaa256af7095": {
          "model_module": "@jupyter-widgets/base",
          "model_name": "LayoutModel",
          "model_module_version": "1.2.0",
          "state": {
            "_model_module": "@jupyter-widgets/base",
            "_model_module_version": "1.2.0",
            "_model_name": "LayoutModel",
            "_view_count": null,
            "_view_module": "@jupyter-widgets/base",
            "_view_module_version": "1.2.0",
            "_view_name": "LayoutView",
            "align_content": null,
            "align_items": null,
            "align_self": null,
            "border": null,
            "bottom": null,
            "display": null,
            "flex": null,
            "flex_flow": null,
            "grid_area": null,
            "grid_auto_columns": null,
            "grid_auto_flow": null,
            "grid_auto_rows": null,
            "grid_column": null,
            "grid_gap": null,
            "grid_row": null,
            "grid_template_areas": null,
            "grid_template_columns": null,
            "grid_template_rows": null,
            "height": null,
            "justify_content": null,
            "justify_items": null,
            "left": null,
            "margin": null,
            "max_height": null,
            "max_width": null,
            "min_height": null,
            "min_width": null,
            "object_fit": null,
            "object_position": null,
            "order": null,
            "overflow": null,
            "overflow_x": null,
            "overflow_y": null,
            "padding": null,
            "right": null,
            "top": null,
            "visibility": null,
            "width": null
          }
        },
        "7c2b7dfbadfa46de8ffc09e15ae39dc7": {
          "model_module": "@jupyter-widgets/base",
          "model_name": "LayoutModel",
          "model_module_version": "1.2.0",
          "state": {
            "_model_module": "@jupyter-widgets/base",
            "_model_module_version": "1.2.0",
            "_model_name": "LayoutModel",
            "_view_count": null,
            "_view_module": "@jupyter-widgets/base",
            "_view_module_version": "1.2.0",
            "_view_name": "LayoutView",
            "align_content": null,
            "align_items": null,
            "align_self": null,
            "border": null,
            "bottom": null,
            "display": null,
            "flex": null,
            "flex_flow": null,
            "grid_area": null,
            "grid_auto_columns": null,
            "grid_auto_flow": null,
            "grid_auto_rows": null,
            "grid_column": null,
            "grid_gap": null,
            "grid_row": null,
            "grid_template_areas": null,
            "grid_template_columns": null,
            "grid_template_rows": null,
            "height": null,
            "justify_content": null,
            "justify_items": null,
            "left": null,
            "margin": null,
            "max_height": null,
            "max_width": null,
            "min_height": null,
            "min_width": null,
            "object_fit": null,
            "object_position": null,
            "order": null,
            "overflow": null,
            "overflow_x": null,
            "overflow_y": null,
            "padding": null,
            "right": null,
            "top": null,
            "visibility": null,
            "width": null
          }
        },
        "1117bdbabe8e4fef967d3e6fd341ba3b": {
          "model_module": "@jupyter-widgets/controls",
          "model_name": "DescriptionStyleModel",
          "model_module_version": "1.5.0",
          "state": {
            "_model_module": "@jupyter-widgets/controls",
            "_model_module_version": "1.5.0",
            "_model_name": "DescriptionStyleModel",
            "_view_count": null,
            "_view_module": "@jupyter-widgets/base",
            "_view_module_version": "1.2.0",
            "_view_name": "StyleView",
            "description_width": ""
          }
        },
        "2729080d760943c4906f0fd82857b60a": {
          "model_module": "@jupyter-widgets/base",
          "model_name": "LayoutModel",
          "model_module_version": "1.2.0",
          "state": {
            "_model_module": "@jupyter-widgets/base",
            "_model_module_version": "1.2.0",
            "_model_name": "LayoutModel",
            "_view_count": null,
            "_view_module": "@jupyter-widgets/base",
            "_view_module_version": "1.2.0",
            "_view_name": "LayoutView",
            "align_content": null,
            "align_items": null,
            "align_self": null,
            "border": null,
            "bottom": null,
            "display": null,
            "flex": null,
            "flex_flow": null,
            "grid_area": null,
            "grid_auto_columns": null,
            "grid_auto_flow": null,
            "grid_auto_rows": null,
            "grid_column": null,
            "grid_gap": null,
            "grid_row": null,
            "grid_template_areas": null,
            "grid_template_columns": null,
            "grid_template_rows": null,
            "height": null,
            "justify_content": null,
            "justify_items": null,
            "left": null,
            "margin": null,
            "max_height": null,
            "max_width": null,
            "min_height": null,
            "min_width": null,
            "object_fit": null,
            "object_position": null,
            "order": null,
            "overflow": null,
            "overflow_x": null,
            "overflow_y": null,
            "padding": null,
            "right": null,
            "top": null,
            "visibility": null,
            "width": null
          }
        },
        "84a163ef918f4fe8906b74c60e277ec9": {
          "model_module": "@jupyter-widgets/controls",
          "model_name": "ProgressStyleModel",
          "model_module_version": "1.5.0",
          "state": {
            "_model_module": "@jupyter-widgets/controls",
            "_model_module_version": "1.5.0",
            "_model_name": "ProgressStyleModel",
            "_view_count": null,
            "_view_module": "@jupyter-widgets/base",
            "_view_module_version": "1.2.0",
            "_view_name": "StyleView",
            "bar_color": null,
            "description_width": ""
          }
        },
        "1a6cab828f854dce95f00e651f686605": {
          "model_module": "@jupyter-widgets/base",
          "model_name": "LayoutModel",
          "model_module_version": "1.2.0",
          "state": {
            "_model_module": "@jupyter-widgets/base",
            "_model_module_version": "1.2.0",
            "_model_name": "LayoutModel",
            "_view_count": null,
            "_view_module": "@jupyter-widgets/base",
            "_view_module_version": "1.2.0",
            "_view_name": "LayoutView",
            "align_content": null,
            "align_items": null,
            "align_self": null,
            "border": null,
            "bottom": null,
            "display": null,
            "flex": null,
            "flex_flow": null,
            "grid_area": null,
            "grid_auto_columns": null,
            "grid_auto_flow": null,
            "grid_auto_rows": null,
            "grid_column": null,
            "grid_gap": null,
            "grid_row": null,
            "grid_template_areas": null,
            "grid_template_columns": null,
            "grid_template_rows": null,
            "height": null,
            "justify_content": null,
            "justify_items": null,
            "left": null,
            "margin": null,
            "max_height": null,
            "max_width": null,
            "min_height": null,
            "min_width": null,
            "object_fit": null,
            "object_position": null,
            "order": null,
            "overflow": null,
            "overflow_x": null,
            "overflow_y": null,
            "padding": null,
            "right": null,
            "top": null,
            "visibility": null,
            "width": null
          }
        },
        "c7e522cbafae4679a7c6bccdad9e5f98": {
          "model_module": "@jupyter-widgets/controls",
          "model_name": "DescriptionStyleModel",
          "model_module_version": "1.5.0",
          "state": {
            "_model_module": "@jupyter-widgets/controls",
            "_model_module_version": "1.5.0",
            "_model_name": "DescriptionStyleModel",
            "_view_count": null,
            "_view_module": "@jupyter-widgets/base",
            "_view_module_version": "1.2.0",
            "_view_name": "StyleView",
            "description_width": ""
          }
        }
      }
    }
  },
  "cells": [
    {
      "cell_type": "markdown",
      "source": [
        "# IMPORTS"
      ],
      "metadata": {
        "id": "8uWHy3u6JMRa"
      }
    },
    {
      "cell_type": "code",
      "execution_count": 1,
      "metadata": {
        "id": "AsvjvusqIe23"
      },
      "outputs": [],
      "source": [
        "import tensorflow_datasets as tfds\n",
        "import torch\n",
        "from torch.utils.data import DataLoader, Dataset\n",
        "import torchvision.transforms as transforms\n",
        "from PIL import Image\n",
        "from google.colab import drive\n",
        "import tensorflow as tf\n",
        "from google.colab import runtime\n",
        "from transformers import ViTForImageClassification\n",
        "import torch.optim as optim\n",
        "import torch.nn as nn\n",
        "from torch.optim.lr_scheduler import ReduceLROnPlateau\n",
        "from sklearn.metrics import classification_report, precision_recall_curve\n",
        "import numpy as np\n",
        "import matplotlib.pyplot as plt"
      ]
    },
    {
      "cell_type": "code",
      "source": [
        "from google.colab import drive\n",
        "drive.mount('/content/drive')"
      ],
      "metadata": {
        "colab": {
          "base_uri": "https://localhost:8080/"
        },
        "id": "3Tuti35KJZfE",
        "outputId": "d72dae26-5be2-4419-a8a7-b051b426a8c6"
      },
      "execution_count": 2,
      "outputs": [
        {
          "output_type": "stream",
          "name": "stdout",
          "text": [
            "Mounted at /content/drive\n"
          ]
        }
      ]
    },
    {
      "cell_type": "markdown",
      "source": [
        "# LOADING DATA"
      ],
      "metadata": {
        "id": "4m-jmKv5JX9j"
      }
    },
    {
      "cell_type": "code",
      "source": [
        "batch_size = 32\n",
        "img_size = (224, 224)\n",
        "channels = 3\n",
        "img_shape = (img_size[0], img_size[1], channels)\n",
        "categories = [\"Normal\",\"Osteopenia\", \"Osteoporosis\"]"
      ],
      "metadata": {
        "id": "V5fa17YZIquA"
      },
      "execution_count": 3,
      "outputs": []
    },
    {
      "cell_type": "code",
      "source": [
        "TfDatasetsPath = '/content/drive/MyDrive/CSEN-240-Project/TfDatasets'\n",
        "# TfDatasetsPath = 'TfDatasets'"
      ],
      "metadata": {
        "id": "QGPIBT-yIrOl"
      },
      "execution_count": 4,
      "outputs": []
    },
    {
      "cell_type": "code",
      "source": [
        "trainDataset = tf.data.Dataset.load(TfDatasetsPath + \"/trainDataset\")\n",
        "validDataset = tf.data.Dataset.load(TfDatasetsPath + \"/validDataset\")\n",
        "testDataset = tf.data.Dataset.load(TfDatasetsPath + \"/testDataset\")"
      ],
      "metadata": {
        "id": "od5PjJE7ItG1"
      },
      "execution_count": 5,
      "outputs": []
    },
    {
      "cell_type": "code",
      "source": [
        "def augment(image, label):\n",
        "    image = tf.image.random_brightness(image, max_delta=0.1)\n",
        "    image = tf.image.random_contrast(image, lower=0.8, upper=1.2)\n",
        "    image = tf.image.random_saturation(image, lower=0.8, upper=1.2)\n",
        "    image = tf.image.random_hue(image, max_delta=0.1)\n",
        "    image = tf.image.random_flip_up_down(image)\n",
        "    image - tf.image.rot90(image, k=tf.random.uniform(shape=[], minval=0, maxval=4, dtype=tf.int32))\n",
        "    return image, label"
      ],
      "metadata": {
        "id": "h9Mihu3rIuuu"
      },
      "execution_count": 6,
      "outputs": []
    },
    {
      "cell_type": "code",
      "source": [
        "augmentedDataset = trainDataset.map(augment, num_parallel_calls=tf.data.AUTOTUNE)\n",
        "trainDataset = trainDataset.concatenate(augmentedDataset)\n",
        "\n",
        "augmentedDataset = trainDataset.map(augment, num_parallel_calls=tf.data.AUTOTUNE)\n",
        "trainDataset = trainDataset.concatenate(augmentedDataset)"
      ],
      "metadata": {
        "id": "4rCLgoPxIyts"
      },
      "execution_count": 7,
      "outputs": []
    },
    {
      "cell_type": "code",
      "source": [
        "\n",
        "class TFDSDataset(Dataset):\n",
        "    def __init__(self, tf_dataset, transform=None):\n",
        "        self.tf_dataset = list(tf_dataset)  # Convert TF dataset to a list\n",
        "        self.transform = transform\n",
        "\n",
        "    def __len__(self):\n",
        "        return len(self.tf_dataset)\n",
        "\n",
        "    def __getitem__(self, idx):\n",
        "        image, label = self.tf_dataset[idx]\n",
        "\n",
        "        # Convert TensorFlow tensor to NumPy array and ensure it's in the correct format for PIL\n",
        "        image = image.numpy()\n",
        "\n",
        "        # Ensure image is in HWC (Height, Width, Channels) format\n",
        "        if image.ndim == 3 and image.shape[0] == 1:  # If the image is in (1, H, W, C) or similar\n",
        "            image = np.squeeze(image, axis=0)  # Remove the first singleton dimension\n",
        "\n",
        "        # Convert float images to uint8\n",
        "        if image.dtype == np.float32:\n",
        "            image = np.clip(image * 255, 0, 255).astype(np.uint8)  # Scale float32 to uint8\n",
        "\n",
        "        # Convert numpy array to PIL image\n",
        "        image = Image.fromarray(image)\n",
        "\n",
        "        # Apply transformations if provided\n",
        "        if self.transform:\n",
        "            image = self.transform(image)\n",
        "\n",
        "        return image, label.numpy()"
      ],
      "metadata": {
        "id": "B7ylhYV-Ik8r"
      },
      "execution_count": 8,
      "outputs": []
    },
    {
      "cell_type": "code",
      "source": [
        "transform = transforms.Compose([\n",
        "    transforms.Resize((224, 224)),\n",
        "    transforms.ToTensor(),\n",
        "    transforms.Normalize([0.5], [0.5])  # Normalize to range (-1, 1) as ViT expects\n",
        "])"
      ],
      "metadata": {
        "id": "ggnE1V_VIopn"
      },
      "execution_count": 9,
      "outputs": []
    },
    {
      "cell_type": "code",
      "source": [
        "trainDataset = TFDSDataset(trainDataset, transform=transform)\n",
        "validDataset = TFDSDataset(validDataset, transform=transform)\n",
        "testDataset = TFDSDataset(testDataset, transform=transform)"
      ],
      "metadata": {
        "id": "znFQe2ksJBhU"
      },
      "execution_count": 10,
      "outputs": []
    },
    {
      "cell_type": "code",
      "source": [
        "trainLoader = DataLoader(trainDataset, batch_size=batch_size, shuffle=True)\n",
        "validLoader = DataLoader(validDataset, batch_size=batch_size, shuffle=False)\n",
        "testLoader = DataLoader(testDataset, batch_size=batch_size, shuffle=False)"
      ],
      "metadata": {
        "id": "JHXMPocZJE8a"
      },
      "execution_count": 11,
      "outputs": []
    },
    {
      "cell_type": "markdown",
      "source": [
        "# ViT-Base16 Model"
      ],
      "metadata": {
        "id": "R8TZ2Q7sJaqT"
      }
    },
    {
      "cell_type": "code",
      "source": [
        "model = ViTForImageClassification.from_pretrained(\"google/vit-base-patch16-224\", num_labels=3, ignore_mismatched_sizes=True)\n",
        "\n",
        "device = torch.device(\"cuda\" if torch.cuda.is_available() else \"cpu\")\n",
        "model.to(device)"
      ],
      "metadata": {
        "colab": {
          "base_uri": "https://localhost:8080/",
          "height": 949,
          "referenced_widgets": [
            "54fea96554cd44eda2144e21576d9f71",
            "b229cb5416664ff286e318f8269f21f4",
            "03b829eaa5a1458790c202c843b22cba",
            "fe6fac4f31e543cb828665d7188e36b7",
            "294a6283936b4271958785ecaee7c452",
            "99d40828f528489381bc2d54fb29f28f",
            "73e9c8071f4146168945ea39c7f292db",
            "1c94c1685b9649b9818e20796d844f11",
            "2c2bec1827bd41b98e220cb48911de8a",
            "849698e043b3478a9b9962fce41781b6",
            "88715ce311be4b8a8296218a88d7cb2b",
            "64bfee6a74304bea8d395d2dddbcff49",
            "8fbe6393565b4a719900aeade2449c67",
            "a640fd82ba9649d2ade17d0bc4bdc394",
            "8434e04d9dfb4718b4f3856588105f79",
            "ad544d87e2954ad58535aaa256af7095",
            "7c2b7dfbadfa46de8ffc09e15ae39dc7",
            "1117bdbabe8e4fef967d3e6fd341ba3b",
            "2729080d760943c4906f0fd82857b60a",
            "84a163ef918f4fe8906b74c60e277ec9",
            "1a6cab828f854dce95f00e651f686605",
            "c7e522cbafae4679a7c6bccdad9e5f98"
          ]
        },
        "id": "qS2-VP4zJJJU",
        "outputId": "e434e743-daf1-4ea5-c12d-db2b11555e72"
      },
      "execution_count": 12,
      "outputs": [
        {
          "output_type": "stream",
          "name": "stderr",
          "text": [
            "/usr/local/lib/python3.11/dist-packages/huggingface_hub/utils/_auth.py:94: UserWarning: \n",
            "The secret `HF_TOKEN` does not exist in your Colab secrets.\n",
            "To authenticate with the Hugging Face Hub, create a token in your settings tab (https://huggingface.co/settings/tokens), set it as secret in your Google Colab and restart your session.\n",
            "You will be able to reuse this secret in all of your notebooks.\n",
            "Please note that authentication is recommended but still optional to access public models or datasets.\n",
            "  warnings.warn(\n"
          ]
        },
        {
          "output_type": "display_data",
          "data": {
            "text/plain": [
              "config.json:   0%|          | 0.00/69.7k [00:00<?, ?B/s]"
            ],
            "application/vnd.jupyter.widget-view+json": {
              "version_major": 2,
              "version_minor": 0,
              "model_id": "54fea96554cd44eda2144e21576d9f71"
            }
          },
          "metadata": {}
        },
        {
          "output_type": "display_data",
          "data": {
            "text/plain": [
              "model.safetensors:   0%|          | 0.00/346M [00:00<?, ?B/s]"
            ],
            "application/vnd.jupyter.widget-view+json": {
              "version_major": 2,
              "version_minor": 0,
              "model_id": "64bfee6a74304bea8d395d2dddbcff49"
            }
          },
          "metadata": {}
        },
        {
          "output_type": "stream",
          "name": "stderr",
          "text": [
            "Some weights of ViTForImageClassification were not initialized from the model checkpoint at google/vit-base-patch16-224 and are newly initialized because the shapes did not match:\n",
            "- classifier.bias: found shape torch.Size([1000]) in the checkpoint and torch.Size([3]) in the model instantiated\n",
            "- classifier.weight: found shape torch.Size([1000, 768]) in the checkpoint and torch.Size([3, 768]) in the model instantiated\n",
            "You should probably TRAIN this model on a down-stream task to be able to use it for predictions and inference.\n"
          ]
        },
        {
          "output_type": "execute_result",
          "data": {
            "text/plain": [
              "ViTForImageClassification(\n",
              "  (vit): ViTModel(\n",
              "    (embeddings): ViTEmbeddings(\n",
              "      (patch_embeddings): ViTPatchEmbeddings(\n",
              "        (projection): Conv2d(3, 768, kernel_size=(16, 16), stride=(16, 16))\n",
              "      )\n",
              "      (dropout): Dropout(p=0.0, inplace=False)\n",
              "    )\n",
              "    (encoder): ViTEncoder(\n",
              "      (layer): ModuleList(\n",
              "        (0-11): 12 x ViTLayer(\n",
              "          (attention): ViTSdpaAttention(\n",
              "            (attention): ViTSdpaSelfAttention(\n",
              "              (query): Linear(in_features=768, out_features=768, bias=True)\n",
              "              (key): Linear(in_features=768, out_features=768, bias=True)\n",
              "              (value): Linear(in_features=768, out_features=768, bias=True)\n",
              "              (dropout): Dropout(p=0.0, inplace=False)\n",
              "            )\n",
              "            (output): ViTSelfOutput(\n",
              "              (dense): Linear(in_features=768, out_features=768, bias=True)\n",
              "              (dropout): Dropout(p=0.0, inplace=False)\n",
              "            )\n",
              "          )\n",
              "          (intermediate): ViTIntermediate(\n",
              "            (dense): Linear(in_features=768, out_features=3072, bias=True)\n",
              "            (intermediate_act_fn): GELUActivation()\n",
              "          )\n",
              "          (output): ViTOutput(\n",
              "            (dense): Linear(in_features=3072, out_features=768, bias=True)\n",
              "            (dropout): Dropout(p=0.0, inplace=False)\n",
              "          )\n",
              "          (layernorm_before): LayerNorm((768,), eps=1e-12, elementwise_affine=True)\n",
              "          (layernorm_after): LayerNorm((768,), eps=1e-12, elementwise_affine=True)\n",
              "        )\n",
              "      )\n",
              "    )\n",
              "    (layernorm): LayerNorm((768,), eps=1e-12, elementwise_affine=True)\n",
              "  )\n",
              "  (classifier): Linear(in_features=768, out_features=3, bias=True)\n",
              ")"
            ]
          },
          "metadata": {},
          "execution_count": 12
        }
      ]
    },
    {
      "cell_type": "markdown",
      "source": [
        "# TRAINING"
      ],
      "metadata": {
        "id": "pvmrfefQJyB5"
      }
    },
    {
      "cell_type": "code",
      "source": [
        "def train_model(model, train_loader, val_loader, criterion, optimizer, scheduler, num_epochs=250, early_stopping_patience=5):\n",
        "    device = torch.device(\"cuda\" if torch.cuda.is_available() else \"cpu\")\n",
        "    model.to(device)\n",
        "\n",
        "    best_val_loss = float('inf')\n",
        "    epochs_no_improve = 0\n",
        "\n",
        "    # Lists to store training history\n",
        "    train_losses, val_losses = [], []\n",
        "    train_accuracies, val_accuracies = [], []\n",
        "\n",
        "    for epoch in range(num_epochs):\n",
        "        model.train()\n",
        "        train_loss, correct_train, total_train = 0.0, 0, 0\n",
        "\n",
        "        for images, labels in train_loader:\n",
        "            images, labels = images.to(device), labels.to(device)\n",
        "\n",
        "            optimizer.zero_grad()\n",
        "            outputs = model(images)  # outputs is an ImageClassifierOutput object\n",
        "            logits = outputs.logits  # Access the logits from the output object\n",
        "\n",
        "            # Ensure labels are in the correct format (not one-hot encoded)\n",
        "            if len(labels.shape) > 1:  # If labels are one-hot encoded\n",
        "                labels = labels.argmax(dim=1)\n",
        "\n",
        "            loss = criterion(logits, labels)  # Use logits for loss calculation\n",
        "            loss.backward()\n",
        "            optimizer.step()\n",
        "\n",
        "            train_loss += loss.item()\n",
        "            _, predicted = logits.max(1)  # Get predicted class indices\n",
        "            correct_train += (predicted == labels).sum().item()\n",
        "            total_train += labels.size(0)\n",
        "\n",
        "        # Validation Loop\n",
        "        model.eval()\n",
        "        val_loss, correct_val, total_val = 0.0, 0, 0\n",
        "\n",
        "        with torch.no_grad():\n",
        "            for images, labels in val_loader:\n",
        "                images, labels = images.to(device), labels.to(device)\n",
        "                outputs = model(images)\n",
        "                logits = outputs.logits  # Extract logits\n",
        "\n",
        "                # Ensure labels are in the correct format (not one-hot encoded)\n",
        "                if len(labels.shape) > 1:  # If labels are one-hot encoded\n",
        "                    labels = labels.argmax(dim=1)\n",
        "\n",
        "                loss = criterion(logits, labels)\n",
        "                val_loss += loss.item()\n",
        "\n",
        "                _, predicted = logits.max(1)  # Get predicted class indices\n",
        "                correct_val += (predicted == labels).sum().item()\n",
        "                total_val += labels.size(0)\n",
        "\n",
        "        # Compute epoch-wise losses and accuracies\n",
        "        avg_train_loss = train_loss / len(train_loader)\n",
        "        avg_val_loss = val_loss / len(val_loader)\n",
        "        train_acc = correct_train / total_train\n",
        "        val_acc = correct_val / total_val\n",
        "\n",
        "        train_losses.append(avg_train_loss)\n",
        "        val_losses.append(avg_val_loss)\n",
        "        train_accuracies.append(train_acc)\n",
        "        val_accuracies.append(val_acc)\n",
        "\n",
        "        print(f\"Epoch [{epoch+1}/{num_epochs}] - Train Loss: {avg_train_loss:.4f}, Train Acc: {train_acc:.4f} - Val Loss: {avg_val_loss:.4f}, Val Acc: {val_acc:.4f}\")\n",
        "\n",
        "        # Update LR Scheduler\n",
        "        scheduler.step(avg_val_loss)\n",
        "\n",
        "        for param_group in optimizer.param_groups:\n",
        "            print(f\"Epoch [{epoch+1}/{num_epochs}] - LR: {param_group['lr']:.6f}\")\n",
        "\n",
        "        # Early Stopping Check\n",
        "        if avg_val_loss < best_val_loss:\n",
        "            best_val_loss = avg_val_loss\n",
        "            epochs_no_improve = 0\n",
        "            torch.save(model.state_dict(), \"best_vit_model.pth\")  # Save best model\n",
        "        else:\n",
        "            epochs_no_improve += 1\n",
        "\n",
        "        if epochs_no_improve >= early_stopping_patience:\n",
        "            print(\"Early stopping triggered. Training stopped.\")\n",
        "            break\n",
        "\n",
        "    # Return Training History\n",
        "    return train_losses, val_losses, train_accuracies, val_accuracies"
      ],
      "metadata": {
        "id": "TMLLAF5FJksg"
      },
      "execution_count": 13,
      "outputs": []
    },
    {
      "cell_type": "code",
      "source": [
        "for param in model.vit.parameters():\n",
        "    param.requires_grad = False\n",
        "\n",
        "criterion = nn.CrossEntropyLoss()\n",
        "optimizer = optim.AdamW(model.parameters(), lr=5e-4, weight_decay=1e-4)\n",
        "scheduler = ReduceLROnPlateau(optimizer, mode='min', factor=0.5, patience=3, verbose=True)\n",
        "\n",
        "train_losses, val_losses, train_accuracies, val_accuracies = train_model(model, trainLoader, validLoader, criterion, optimizer, scheduler, num_epochs=250, early_stopping_patience=8)"
      ],
      "metadata": {
        "colab": {
          "base_uri": "https://localhost:8080/"
        },
        "id": "UiCeC6XhJ1Kg",
        "outputId": "80ba7f12-f072-4173-989f-a652bda21678"
      },
      "execution_count": 14,
      "outputs": [
        {
          "output_type": "stream",
          "name": "stdout",
          "text": [
            "Epoch [1/250] - Train Loss: 0.8559, Train Acc: 0.6090 - Val Loss: 0.7854, Val Acc: 0.6534\n",
            "Epoch [2/250] - Train Loss: 0.7511, Train Acc: 0.6648 - Val Loss: 0.7650, Val Acc: 0.6481\n",
            "Epoch [3/250] - Train Loss: 0.7193, Train Acc: 0.6801 - Val Loss: 0.7580, Val Acc: 0.6455\n",
            "Epoch [4/250] - Train Loss: 0.7009, Train Acc: 0.6901 - Val Loss: 0.7396, Val Acc: 0.6376\n",
            "Epoch [5/250] - Train Loss: 0.6864, Train Acc: 0.6921 - Val Loss: 0.7227, Val Acc: 0.6614\n",
            "Epoch [6/250] - Train Loss: 0.6737, Train Acc: 0.7023 - Val Loss: 0.7241, Val Acc: 0.6799\n",
            "Epoch [7/250] - Train Loss: 0.6649, Train Acc: 0.7067 - Val Loss: 0.7128, Val Acc: 0.6587\n",
            "Epoch [8/250] - Train Loss: 0.6555, Train Acc: 0.7081 - Val Loss: 0.7080, Val Acc: 0.6534\n",
            "Epoch [9/250] - Train Loss: 0.6507, Train Acc: 0.7144 - Val Loss: 0.7228, Val Acc: 0.6667\n",
            "Epoch [10/250] - Train Loss: 0.6401, Train Acc: 0.7184 - Val Loss: 0.7069, Val Acc: 0.6905\n",
            "Epoch [11/250] - Train Loss: 0.6357, Train Acc: 0.7226 - Val Loss: 0.7297, Val Acc: 0.6772\n",
            "Epoch [12/250] - Train Loss: 0.6315, Train Acc: 0.7250 - Val Loss: 0.7052, Val Acc: 0.6667\n",
            "Epoch [13/250] - Train Loss: 0.6269, Train Acc: 0.7229 - Val Loss: 0.7004, Val Acc: 0.6693\n",
            "Epoch [14/250] - Train Loss: 0.6204, Train Acc: 0.7278 - Val Loss: 0.7111, Val Acc: 0.6561\n",
            "Epoch [15/250] - Train Loss: 0.6169, Train Acc: 0.7269 - Val Loss: 0.7266, Val Acc: 0.6693\n",
            "Epoch [16/250] - Train Loss: 0.6095, Train Acc: 0.7319 - Val Loss: 0.6915, Val Acc: 0.6878\n",
            "Epoch [17/250] - Train Loss: 0.6051, Train Acc: 0.7354 - Val Loss: 0.6874, Val Acc: 0.6852\n",
            "Epoch [18/250] - Train Loss: 0.6030, Train Acc: 0.7357 - Val Loss: 0.6857, Val Acc: 0.6693\n",
            "Epoch [19/250] - Train Loss: 0.6008, Train Acc: 0.7366 - Val Loss: 0.6806, Val Acc: 0.6825\n",
            "Epoch [20/250] - Train Loss: 0.5976, Train Acc: 0.7411 - Val Loss: 0.7022, Val Acc: 0.6772\n",
            "Epoch [21/250] - Train Loss: 0.5940, Train Acc: 0.7388 - Val Loss: 0.6886, Val Acc: 0.6931\n",
            "Epoch [22/250] - Train Loss: 0.5940, Train Acc: 0.7424 - Val Loss: 0.6835, Val Acc: 0.6799\n",
            "Epoch [23/250] - Train Loss: 0.5871, Train Acc: 0.7435 - Val Loss: 0.6891, Val Acc: 0.6825\n",
            "Epoch [24/250] - Train Loss: 0.5801, Train Acc: 0.7459 - Val Loss: 0.6863, Val Acc: 0.6799\n",
            "Early stopping triggered. Training stopped.\n"
          ]
        }
      ]
    },
    {
      "cell_type": "markdown",
      "source": [
        "# FINE-TUNING"
      ],
      "metadata": {
        "id": "j6qVloptKHLc"
      }
    },
    {
      "cell_type": "code",
      "source": [
        "for param in model.vit.parameters():\n",
        "    param.requires_grad = True\n",
        "\n",
        "optimizer = optim.AdamW(model.parameters(), lr=1e-5, weight_decay=1e-4)\n",
        "train_losses_finetune, val_losses_finetune, train_accuracies_finetune, val_accuracies_finetune = train_model(\n",
        "    model, trainLoader, validLoader, criterion, optimizer, scheduler, num_epochs=250, early_stopping_patience=8\n",
        ")"
      ],
      "metadata": {
        "colab": {
          "base_uri": "https://localhost:8080/"
        },
        "id": "8G3BR1lbJ4vB",
        "outputId": "bf39d543-21eb-4834-c668-08819efe9aa1"
      },
      "execution_count": 33,
      "outputs": [
        {
          "output_type": "stream",
          "name": "stdout",
          "text": [
            "Epoch [1/250] - Train Loss: 0.0616, Train Acc: 0.9750 - Val Loss: 0.9294, Val Acc: 0.7910\n",
            "Epoch [2/250] - Train Loss: 0.0553, Train Acc: 0.9762 - Val Loss: 0.9837, Val Acc: 0.7672\n",
            "Epoch [3/250] - Train Loss: 0.0539, Train Acc: 0.9759 - Val Loss: 0.9031, Val Acc: 0.7566\n",
            "Epoch [4/250] - Train Loss: 0.0439, Train Acc: 0.9802 - Val Loss: 1.0720, Val Acc: 0.7751\n",
            "Epoch [5/250] - Train Loss: 0.0435, Train Acc: 0.9798 - Val Loss: 1.0146, Val Acc: 0.7857\n",
            "Epoch [6/250] - Train Loss: 0.0431, Train Acc: 0.9783 - Val Loss: 1.0914, Val Acc: 0.7989\n",
            "Epoch [7/250] - Train Loss: 0.0418, Train Acc: 0.9799 - Val Loss: 1.1349, Val Acc: 0.7857\n",
            "Epoch [8/250] - Train Loss: 0.0554, Train Acc: 0.9746 - Val Loss: 0.9762, Val Acc: 0.7487\n",
            "Epoch [9/250] - Train Loss: 0.0362, Train Acc: 0.9817 - Val Loss: 0.9937, Val Acc: 0.7778\n",
            "Epoch [10/250] - Train Loss: 0.0352, Train Acc: 0.9828 - Val Loss: 1.0787, Val Acc: 0.7857\n",
            "Epoch [11/250] - Train Loss: 0.0340, Train Acc: 0.9830 - Val Loss: 1.0481, Val Acc: 0.7751\n",
            "Early stopping triggered. Training stopped.\n"
          ]
        }
      ]
    },
    {
      "cell_type": "markdown",
      "source": [
        "# PLOTS"
      ],
      "metadata": {
        "id": "pEWO7cD2LugQ"
      }
    },
    {
      "cell_type": "code",
      "source": [
        "def plot_metrics(train_losses, val_losses, train_accuracies, val_accuracies):\n",
        "    epochs = range(1, len(train_losses) + 1)\n",
        "\n",
        "    plt.figure(figsize=(12, 5))\n",
        "\n",
        "    # Loss Plot\n",
        "    plt.subplot(1, 2, 1)\n",
        "    plt.plot(epochs, train_losses, label='Train Loss', marker='o')\n",
        "    plt.plot(epochs, val_losses, label='Val Loss', marker='o')\n",
        "    plt.xlabel('Epochs')\n",
        "    plt.ylabel('Loss')\n",
        "    plt.title('Loss Curve')\n",
        "    plt.legend()\n",
        "\n",
        "    # Accuracy Plot\n",
        "    plt.subplot(1, 2, 2)\n",
        "    plt.plot(epochs, train_accuracies, label='Train Accuracy', marker='o')\n",
        "    plt.plot(epochs, val_accuracies, label='Val Accuracy', marker='o')\n",
        "    plt.xlabel('Epochs')\n",
        "    plt.ylabel('Accuracy')\n",
        "    plt.title('Accuracy Curve')\n",
        "    plt.legend()\n",
        "\n",
        "    plt.show()"
      ],
      "metadata": {
        "id": "GCfnnuufLvjP"
      },
      "execution_count": 16,
      "outputs": []
    },
    {
      "cell_type": "markdown",
      "source": [
        "## Pre-Trained"
      ],
      "metadata": {
        "id": "ALMG6PP7L133"
      }
    },
    {
      "cell_type": "code",
      "source": [
        "plot_metrics(train_losses, val_losses, train_accuracies, val_accuracies)"
      ],
      "metadata": {
        "colab": {
          "base_uri": "https://localhost:8080/",
          "height": 487
        },
        "id": "-dFSWMpqLypz",
        "outputId": "555e18d8-eaa5-43cf-9f2d-b8b898919424"
      },
      "execution_count": 17,
      "outputs": [
        {
          "output_type": "display_data",
          "data": {
            "text/plain": [
              "<Figure size 1200x500 with 2 Axes>"
            ],
            "image/png": "[encoded data removed]"
          },
          "metadata": {}
        }
      ]
    },
    {
      "cell_type": "markdown",
      "source": [
        "## Fine-Tuned"
      ],
      "metadata": {
        "id": "Qz6RoLyIL5Mr"
      }
    },
    {
      "cell_type": "code",
      "source": [
        "plot_metrics(train_losses_finetune, val_losses_finetune, train_accuracies_finetune, val_accuracies_finetune)"
      ],
      "metadata": {
        "colab": {
          "base_uri": "https://localhost:8080/",
          "height": 487
        },
        "id": "5sKOgMAtL0WZ",
        "outputId": "9f854dbc-4110-4715-d80d-ad53da0012ed"
      },
      "execution_count": 18,
      "outputs": [
        {
          "output_type": "display_data",
          "data": {
            "text/plain": [
              "<Figure size 1200x500 with 2 Axes>"
            ],
            "image/png": "[encoded data removed]"
          },
          "metadata": {}
        }
      ]
    },
    {
      "cell_type": "markdown",
      "source": [
        "# TESTING"
      ],
      "metadata": {
        "id": "2d3d5keRMGWz"
      }
    },
    {
      "cell_type": "code",
      "source": [
        "def evaluate_model(model, test_loader, categories):\n",
        "    device = torch.device(\"cuda\" if torch.cuda.is_available() else \"cpu\")\n",
        "    model.to(device)\n",
        "    model.eval()\n",
        "\n",
        "    all_preds = []\n",
        "    all_labels = []\n",
        "\n",
        "    with torch.no_grad():\n",
        "        for images, labels in test_loader:\n",
        "            images, labels = images.to(device), labels.to(device)\n",
        "\n",
        "            outputs = model(images).logits\n",
        "            _, predicted = outputs.max(1)  # Get the predicted class indices\n",
        "\n",
        "            # If labels are one-hot encoded, convert them to class indices\n",
        "            if len(labels.shape) > 1:\n",
        "                labels = labels.argmax(dim=1)\n",
        "\n",
        "            all_preds.extend(predicted.cpu().numpy())\n",
        "            all_labels.extend(labels.cpu().numpy())\n",
        "\n",
        "    # Print Classification Report\n",
        "    print(\"Classification Report:\\n\", classification_report(all_labels, all_preds, target_names=categories))"
      ],
      "metadata": {
        "id": "S1FP1zyTMHKc"
      },
      "execution_count": 21,
      "outputs": []
    },
    {
      "cell_type": "code",
      "source": [
        "evaluate_model(model, testLoader, categories)"
      ],
      "metadata": {
        "colab": {
          "base_uri": "https://localhost:8080/"
        },
        "id": "nI3HY56zMKf5",
        "outputId": "2d4df25a-6d7f-4b93-8d87-49f04ccf2964"
      },
      "execution_count": 23,
      "outputs": [
        {
          "output_type": "stream",
          "name": "stdout",
          "text": [
            "Classification Report:\n",
            "               precision    recall  f1-score   support\n",
            "\n",
            "      Normal       0.82      0.86      0.84       126\n",
            "  Osteopenia       0.77      0.81      0.79       126\n",
            "Osteoporosis       0.83      0.75      0.79       126\n",
            "\n",
            "    accuracy                           0.81       378\n",
            "   macro avg       0.81      0.81      0.81       378\n",
            "weighted avg       0.81      0.81      0.81       378\n",
            "\n"
          ]
        }
      ]
    },
    {
      "cell_type": "markdown",
      "source": [
        "# PR CURVE"
      ],
      "metadata": {
        "id": "5FI3hYsPMaQe"
      }
    },
    {
      "cell_type": "code",
      "source": [
        "def find_best_thresholds(model, test_loader):\n",
        "    device = torch.device(\"cuda\" if torch.cuda.is_available() else \"cpu\")\n",
        "    model.to(device)\n",
        "    model.eval()\n",
        "\n",
        "    all_probs = []\n",
        "    all_labels = []\n",
        "\n",
        "    with torch.no_grad():\n",
        "        for images, labels in test_loader:\n",
        "            images = images.to(device)\n",
        "            labels = labels.cpu().numpy()  # Keep labels on CPU for ease of use\n",
        "\n",
        "            # Get the model's raw output logits\n",
        "            outputs = model(images).logits\n",
        "\n",
        "            # Apply sigmoid to convert logits to probabilities (for multi-label classification)\n",
        "            probs = torch.sigmoid(outputs).cpu().numpy()  # Shape: (batch_size, num_classes)\n",
        "\n",
        "            all_probs.append(probs)\n",
        "            all_labels.append(labels)\n",
        "\n",
        "    all_probs = np.vstack(all_probs)  # Stack all the probabilities together (shape: [n_samples, n_classes])\n",
        "    all_labels = np.concatenate(all_labels)  # Concatenate all the labels together (shape: [n_samples, n_classes])\n",
        "\n",
        "    num_classes = all_probs.shape[1]  # Number of classes\n",
        "    best_thresholds = []\n",
        "\n",
        "    # Iterate over each class to compute thresholds\n",
        "    for class_idx in range(num_classes):\n",
        "        # Get binary labels for the current class (0 or 1 for each sample)\n",
        "        binary_labels = all_labels[:, class_idx]  # Directly use the labels for multi-label\n",
        "\n",
        "        # Compute precision-recall curve\n",
        "        precision, recall, thresholds = precision_recall_curve(binary_labels, all_probs[:, class_idx])\n",
        "\n",
        "        # Calculate F1 score for each threshold\n",
        "        f1_scores = (2 * precision * recall) / (precision + recall + 1e-6)  # Avoid division by zero\n",
        "\n",
        "        # Find the threshold with the maximum F1 score\n",
        "        best_threshold = thresholds[np.argmax(f1_scores)]\n",
        "        best_thresholds.append(best_threshold)\n",
        "\n",
        "        print(f\"Best threshold for class {class_idx}: {best_threshold:.4f}\")\n",
        "\n",
        "    return best_thresholds\n",
        "\n",
        "\n",
        "best_thresholds = find_best_thresholds(model, testLoader)\n",
        "best_thresholds"
      ],
      "metadata": {
        "colab": {
          "base_uri": "https://localhost:8080/"
        },
        "id": "2vHpbsOrMY7y",
        "outputId": "7921f985-bd17-4375-cc01-683496a6cb7d"
      },
      "execution_count": 34,
      "outputs": [
        {
          "output_type": "stream",
          "name": "stdout",
          "text": [
            "Best threshold for class 0: 0.8653\n",
            "Best threshold for class 1: 0.8958\n",
            "Best threshold for class 2: 0.7240\n"
          ]
        },
        {
          "output_type": "execute_result",
          "data": {
            "text/plain": [
              "[0.86532235, 0.89583576, 0.72401744]"
            ]
          },
          "metadata": {},
          "execution_count": 34
        }
      ]
    },
    {
      "cell_type": "code",
      "source": [
        "def evaluate_with_best_thresholds(model, test_loader, best_thresholds):\n",
        "    device = torch.device(\"cuda\" if torch.cuda.is_available() else \"cpu\")\n",
        "    model.to(device)\n",
        "    model.eval()\n",
        "\n",
        "    all_preds = []\n",
        "    all_labels = []\n",
        "\n",
        "    with torch.no_grad():\n",
        "        for images, labels in test_loader:\n",
        "            images, labels = images.to(device), labels.cpu().numpy()\n",
        "\n",
        "            outputs = model(images).logits\n",
        "\n",
        "            # Apply sigmoid to get probabilities for each class\n",
        "            probs = torch.sigmoid(outputs).cpu().numpy()\n",
        "\n",
        "            # Apply best thresholds for each class to get multi-label predictions\n",
        "            preds = np.zeros_like(probs)\n",
        "            for class_idx in range(len(best_thresholds)):\n",
        "                preds[:, class_idx] = probs[:, class_idx] > best_thresholds[class_idx]\n",
        "\n",
        "            all_preds.extend(preds)\n",
        "            all_labels.extend(labels)\n",
        "\n",
        "    # Convert lists of predictions and labels into numpy arrays\n",
        "    all_preds = np.array(all_preds)\n",
        "    all_labels = np.array(all_labels)\n",
        "\n",
        "    # Print Classification Report\n",
        "    print(\"Classification Report with Optimized Thresholds:\\n\", classification_report(all_labels, all_preds, target_names=[\"Class 0\", \"Class 1\", \"Class 2\"]))\n"
      ],
      "metadata": {
        "id": "skH22TkMMsQd"
      },
      "execution_count": 35,
      "outputs": []
    },
    {
      "cell_type": "code",
      "source": [
        "# Evaluate with best thresholds\n",
        "evaluate_with_best_thresholds(model, testLoader, best_thresholds)"
      ],
      "metadata": {
        "colab": {
          "base_uri": "https://localhost:8080/"
        },
        "id": "PEvsI_bRMwNv",
        "outputId": "8eddc1cf-2548-421b-9bd8-381df9cff287"
      },
      "execution_count": 36,
      "outputs": [
        {
          "output_type": "stream",
          "name": "stdout",
          "text": [
            "Classification Report with Optimized Thresholds:\n",
            "               precision    recall  f1-score   support\n",
            "\n",
            "     Class 0       0.82      0.85      0.83       126\n",
            "     Class 1       0.80      0.78      0.79       126\n",
            "     Class 2       0.72      0.89      0.80       126\n",
            "\n",
            "   micro avg       0.78      0.84      0.81       378\n",
            "   macro avg       0.78      0.84      0.81       378\n",
            "weighted avg       0.78      0.84      0.81       378\n",
            " samples avg       0.77      0.84      0.79       378\n",
            "\n"
          ]
        },
        {
          "output_type": "stream",
          "name": "stderr",
          "text": [
            "/usr/local/lib/python3.11/dist-packages/sklearn/metrics/_classification.py:1565: UndefinedMetricWarning: Precision is ill-defined and being set to 0.0 in samples with no predicted labels. Use `zero_division` parameter to control this behavior.\n",
            "  _warn_prf(average, modifier, f\"{metric.capitalize()} is\", len(result))\n"
          ]
        }
      ]
    },
    {
      "cell_type": "code",
      "source": [
        "runtime.unassign()"
      ],
      "metadata": {
        "id": "4pvg2hnWO6m4"
      },
      "execution_count": 37,
      "outputs": []
    }
  ]
}