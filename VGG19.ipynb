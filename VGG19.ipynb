{
  "cells": [
    {
      "cell_type": "markdown",
      "metadata": {
        "id": "5ZMJ4USomZwY"
      },
      "source": [
        "# IMPORT DEPENDENCIES"
      ]
    },
    {
      "cell_type": "code",
      "execution_count": 1,
      "metadata": {
        "id": "ysCN0rNHmZwZ"
      },
      "outputs": [],
      "source": [
        "import numpy as np\n",
        "import pandas as pd\n",
        "import os\n",
        "import matplotlib.pyplot as plt\n",
        "import seaborn as sns\n",
        "import cv2\n",
        "from sklearn.preprocessing import LabelEncoder\n",
        "import time\n",
        "import shutil\n",
        "import pathlib\n",
        "import itertools\n",
        "from PIL import Image\n",
        "from sklearn.model_selection import train_test_split\n",
        "from sklearn.metrics import confusion_matrix, classification_report\n",
        "import tensorflow as tf\n",
        "import warnings\n",
        "warnings.filterwarnings(\"ignore\")\n",
        "from tensorflow.keras.metrics import Precision, Recall, AUC\n",
        "from google.colab import runtime"
      ]
    },
    {
      "cell_type": "code",
      "execution_count": 2,
      "metadata": {
        "colab": {
          "base_uri": "https://localhost:8080/"
        },
        "id": "dCORefptnoy6",
        "outputId": "5832833f-a1c5-4378-da90-51bccd62faa3"
      },
      "outputs": [
        {
          "output_type": "stream",
          "name": "stdout",
          "text": [
            "Mounted at /content/drive\n"
          ]
        }
      ],
      "source": [
        "from google.colab import drive\n",
        "drive.mount('/content/drive')"
      ]
    },
    {
      "cell_type": "markdown",
      "metadata": {
        "id": "KsIIFxcamZwc"
      },
      "source": [
        "# LOADING DATA"
      ]
    },
    {
      "cell_type": "code",
      "execution_count": 3,
      "metadata": {
        "id": "-mSqAn5tJkHm"
      },
      "outputs": [],
      "source": [
        "batch_size = 32\n",
        "img_size = (224, 224)\n",
        "channels = 3\n",
        "img_shape = (img_size[0], img_size[1], channels)\n",
        "categories = [\"Normal\",\"Osteopenia\", \"Osteoporosis\"]"
      ]
    },
    {
      "cell_type": "code",
      "execution_count": 4,
      "metadata": {
        "id": "gol1eum_nusO"
      },
      "outputs": [],
      "source": [
        "TfDatasetsPath = '/content/drive/MyDrive/CSEN-240-Project/TfDatasets'\n",
        "# TfDatasetsPath = 'TfDatasets'"
      ]
    },
    {
      "cell_type": "code",
      "execution_count": 5,
      "metadata": {
        "id": "-VELt7J3mZwc"
      },
      "outputs": [],
      "source": [
        "trainDataset = tf.data.Dataset.load(TfDatasetsPath + \"/trainDataset\")\n",
        "validDataset = tf.data.Dataset.load(TfDatasetsPath + \"/validDataset\")\n",
        "testDataset = tf.data.Dataset.load(TfDatasetsPath + \"/testDataset\")"
      ]
    },
    {
      "cell_type": "code",
      "execution_count": 6,
      "metadata": {
        "id": "dyBeQledmZwc"
      },
      "outputs": [],
      "source": [
        "def augment(image, label):\n",
        "    image = tf.image.random_brightness(image, max_delta=0.1)\n",
        "    image = tf.image.random_contrast(image, lower=0.8, upper=1.2)\n",
        "    image = tf.image.random_saturation(image, lower=0.8, upper=1.2)\n",
        "    image = tf.image.random_hue(image, max_delta=0.1)\n",
        "    image = tf.image.random_flip_up_down(image)\n",
        "    image - tf.image.rot90(image, k=tf.random.uniform(shape=[], minval=0, maxval=4, dtype=tf.int32))\n",
        "    return image, label"
      ]
    },
    {
      "cell_type": "code",
      "execution_count": 7,
      "metadata": {
        "id": "ChA9fT1dmZwc"
      },
      "outputs": [],
      "source": [
        "augmentedDataset = trainDataset.map(augment, num_parallel_calls=tf.data.AUTOTUNE)\n",
        "trainDataset = trainDataset.concatenate(augmentedDataset)"
      ]
    },
    {
      "cell_type": "code",
      "execution_count": 8,
      "metadata": {
        "colab": {
          "base_uri": "https://localhost:8080/"
        },
        "id": "Hy9OC1WumZwc",
        "outputId": "75ae64ad-ef8d-4cd4-c92d-74c9299dfa0d"
      },
      "outputs": [
        {
          "output_type": "execute_result",
          "data": {
            "text/plain": [
              "(6048, 378, 378)"
            ]
          },
          "metadata": {},
          "execution_count": 8
        }
      ],
      "source": [
        "len(trainDataset), len(validDataset), len(testDataset)"
      ]
    },
    {
      "cell_type": "code",
      "execution_count": 9,
      "metadata": {
        "id": "V_jexJYYmZwc"
      },
      "outputs": [],
      "source": [
        "trainDataset = trainDataset.shuffle(buffer_size=1000).batch(batch_size).prefetch(buffer_size=tf.data.AUTOTUNE)\n",
        "validDataset = validDataset.batch(batch_size).prefetch(buffer_size=tf.data.AUTOTUNE)\n",
        "testDataset = testDataset.batch(batch_size).prefetch(buffer_size=tf.data.AUTOTUNE)"
      ]
    },
    {
      "cell_type": "code",
      "execution_count": 10,
      "metadata": {
        "colab": {
          "base_uri": "https://localhost:8080/"
        },
        "id": "H59uXyU2oEPV",
        "outputId": "c5b22ad0-b824-4cf3-c933-a08d3d2d4987"
      },
      "outputs": [
        {
          "output_type": "execute_result",
          "data": {
            "text/plain": [
              "<_PrefetchDataset element_spec=(TensorSpec(shape=(None, 224, 224, 3), dtype=tf.float32, name=None), TensorSpec(shape=(None, 3), dtype=tf.float32, name=None))>"
            ]
          },
          "metadata": {},
          "execution_count": 10
        }
      ],
      "source": [
        "trainDataset"
      ]
    },
    {
      "cell_type": "code",
      "execution_count": 11,
      "metadata": {
        "id": "f5XsAoWDmZwc"
      },
      "outputs": [],
      "source": [
        "metrics = [Precision(), Recall(), AUC(), 'accuracy']"
      ]
    },
    {
      "cell_type": "markdown",
      "metadata": {
        "id": "Zw4ZAB81mZwc"
      },
      "source": [
        "# VGG19 Model"
      ]
    },
    {
      "cell_type": "code",
      "execution_count": 12,
      "metadata": {
        "id": "eIEINvuWmZwc"
      },
      "outputs": [],
      "source": [
        "def createModel(input_shape, num_classes=3, learning_rate=1e-4):\n",
        "    inputs = tf.keras.layers.Input(shape=input_shape, name=\"Input_Layer\")\n",
        "    base_model = tf.keras.applications.VGG19(weights=\"imagenet\", input_tensor=inputs, include_top=False)\n",
        "    base_model.trainable = False\n",
        "    x = base_model.output\n",
        "    x = tf.keras.layers.GlobalAveragePooling2D(name=\"Global_Average_Pooling\")(x)\n",
        "    x = tf.keras.layers.Dense(512, activation=\"relu\", name=\"FC_512\")(x)\n",
        "    x = tf.keras.layers.BatchNormalization(name=\"Batch_Normalization2\")(x)\n",
        "    x = tf.keras.layers.Dropout(0.25, name=\"Dropout1\")(x)\n",
        "    x = tf.keras.layers.Dense(256, activation=\"relu\", name=\"FC_256\")(x)\n",
        "    x = tf.keras.layers.BatchNormalization(name=\"Batch_Normalization3\")(x)\n",
        "    x = tf.keras.layers.Dropout(0.25, name=\"Dropout2\")(x)\n",
        "    outputs = tf.keras.layers.Dense(num_classes, activation=\"softmax\",name=\"Output_Layer\")(x)\n",
        "    model = tf.keras.models.Model(inputs=inputs, outputs=outputs)\n",
        "    model.compile(\n",
        "    optimizer=tf.keras.optimizers.Adam(learning_rate=learning_rate), loss=\"categorical_crossentropy\", metrics=metrics)\n",
        "    return model"
      ]
    },
    {
      "cell_type": "markdown",
      "metadata": {
        "id": "uP9e2SalmZwc"
      },
      "source": [
        "# TRAINING"
      ]
    },
    {
      "cell_type": "code",
      "execution_count": 13,
      "metadata": {
        "id": "L7ReTapKmZwd",
        "colab": {
          "base_uri": "https://localhost:8080/"
        },
        "outputId": "b3cff067-bfc7-4344-b0c4-ab624bad5a0d"
      },
      "outputs": [
        {
          "output_type": "stream",
          "name": "stdout",
          "text": [
            "Downloading data from https://storage.googleapis.com/tensorflow/keras-applications/vgg19/vgg19_weights_tf_dim_ordering_tf_kernels_notop.h5\n",
            "\u001b[1m80134624/80134624\u001b[0m \u001b[32m━━━━━━━━━━━━━━━━━━━━\u001b[0m\u001b[37m\u001b[0m \u001b[1m4s\u001b[0m 0us/step\n"
          ]
        }
      ],
      "source": [
        "input_shape = (224, 224, 3)\n",
        "model = createModel(input_shape, num_classes=3, learning_rate=1e-4)"
      ]
    },
    {
      "cell_type": "code",
      "execution_count": 14,
      "metadata": {
        "colab": {
          "base_uri": "https://localhost:8080/",
          "height": 1000
        },
        "id": "9_Z3AWkymZwd",
        "outputId": "5e37d6b7-720c-443a-88cc-096c337fe444"
      },
      "outputs": [
        {
          "output_type": "display_data",
          "data": {
            "text/plain": [
              "\u001b[1mModel: \"functional\"\u001b[0m\n"
            ],
            "text/html": [
              "<pre style=\"white-space:pre;overflow-x:auto;line-height:normal;font-family:Menlo,'DejaVu Sans Mono',consolas,'Courier New',monospace\"><span style=\"font-weight: bold\">Model: \"functional\"</span>\n",
              "</pre>\n"
            ]
          },
          "metadata": {}
        },
        {
          "output_type": "display_data",
          "data": {
            "text/plain": [
              "┏━━━━━━━━━━━━━━━━━━━━━━━━━━━━━━━━━━━━━━┳━━━━━━━━━━━━━━━━━━━━━━━━━━━━━┳━━━━━━━━━━━━━━━━━┓\n",
              "┃\u001b[1m \u001b[0m\u001b[1mLayer (type)                        \u001b[0m\u001b[1m \u001b[0m┃\u001b[1m \u001b[0m\u001b[1mOutput Shape               \u001b[0m\u001b[1m \u001b[0m┃\u001b[1m \u001b[0m\u001b[1m        Param #\u001b[0m\u001b[1m \u001b[0m┃\n",
              "┡━━━━━━━━━━━━━━━━━━━━━━━━━━━━━━━━━━━━━━╇━━━━━━━━━━━━━━━━━━━━━━━━━━━━━╇━━━━━━━━━━━━━━━━━┩\n",
              "│ Input_Layer (\u001b[38;5;33mInputLayer\u001b[0m)             │ (\u001b[38;5;45mNone\u001b[0m, \u001b[38;5;34m224\u001b[0m, \u001b[38;5;34m224\u001b[0m, \u001b[38;5;34m3\u001b[0m)         │               \u001b[38;5;34m0\u001b[0m │\n",
              "├──────────────────────────────────────┼─────────────────────────────┼─────────────────┤\n",
              "│ block1_conv1 (\u001b[38;5;33mConv2D\u001b[0m)                │ (\u001b[38;5;45mNone\u001b[0m, \u001b[38;5;34m224\u001b[0m, \u001b[38;5;34m224\u001b[0m, \u001b[38;5;34m64\u001b[0m)        │           \u001b[38;5;34m1,792\u001b[0m │\n",
              "├──────────────────────────────────────┼─────────────────────────────┼─────────────────┤\n",
              "│ block1_conv2 (\u001b[38;5;33mConv2D\u001b[0m)                │ (\u001b[38;5;45mNone\u001b[0m, \u001b[38;5;34m224\u001b[0m, \u001b[38;5;34m224\u001b[0m, \u001b[38;5;34m64\u001b[0m)        │          \u001b[38;5;34m36,928\u001b[0m │\n",
              "├──────────────────────────────────────┼─────────────────────────────┼─────────────────┤\n",
              "│ block1_pool (\u001b[38;5;33mMaxPooling2D\u001b[0m)           │ (\u001b[38;5;45mNone\u001b[0m, \u001b[38;5;34m112\u001b[0m, \u001b[38;5;34m112\u001b[0m, \u001b[38;5;34m64\u001b[0m)        │               \u001b[38;5;34m0\u001b[0m │\n",
              "├──────────────────────────────────────┼─────────────────────────────┼─────────────────┤\n",
              "│ block2_conv1 (\u001b[38;5;33mConv2D\u001b[0m)                │ (\u001b[38;5;45mNone\u001b[0m, \u001b[38;5;34m112\u001b[0m, \u001b[38;5;34m112\u001b[0m, \u001b[38;5;34m128\u001b[0m)       │          \u001b[38;5;34m73,856\u001b[0m │\n",
              "├──────────────────────────────────────┼─────────────────────────────┼─────────────────┤\n",
              "│ block2_conv2 (\u001b[38;5;33mConv2D\u001b[0m)                │ (\u001b[38;5;45mNone\u001b[0m, \u001b[38;5;34m112\u001b[0m, \u001b[38;5;34m112\u001b[0m, \u001b[38;5;34m128\u001b[0m)       │         \u001b[38;5;34m147,584\u001b[0m │\n",
              "├──────────────────────────────────────┼─────────────────────────────┼─────────────────┤\n",
              "│ block2_pool (\u001b[38;5;33mMaxPooling2D\u001b[0m)           │ (\u001b[38;5;45mNone\u001b[0m, \u001b[38;5;34m56\u001b[0m, \u001b[38;5;34m56\u001b[0m, \u001b[38;5;34m128\u001b[0m)         │               \u001b[38;5;34m0\u001b[0m │\n",
              "├──────────────────────────────────────┼─────────────────────────────┼─────────────────┤\n",
              "│ block3_conv1 (\u001b[38;5;33mConv2D\u001b[0m)                │ (\u001b[38;5;45mNone\u001b[0m, \u001b[38;5;34m56\u001b[0m, \u001b[38;5;34m56\u001b[0m, \u001b[38;5;34m256\u001b[0m)         │         \u001b[38;5;34m295,168\u001b[0m │\n",
              "├──────────────────────────────────────┼─────────────────────────────┼─────────────────┤\n",
              "│ block3_conv2 (\u001b[38;5;33mConv2D\u001b[0m)                │ (\u001b[38;5;45mNone\u001b[0m, \u001b[38;5;34m56\u001b[0m, \u001b[38;5;34m56\u001b[0m, \u001b[38;5;34m256\u001b[0m)         │         \u001b[38;5;34m590,080\u001b[0m │\n",
              "├──────────────────────────────────────┼─────────────────────────────┼─────────────────┤\n",
              "│ block3_conv3 (\u001b[38;5;33mConv2D\u001b[0m)                │ (\u001b[38;5;45mNone\u001b[0m, \u001b[38;5;34m56\u001b[0m, \u001b[38;5;34m56\u001b[0m, \u001b[38;5;34m256\u001b[0m)         │         \u001b[38;5;34m590,080\u001b[0m │\n",
              "├──────────────────────────────────────┼─────────────────────────────┼─────────────────┤\n",
              "│ block3_conv4 (\u001b[38;5;33mConv2D\u001b[0m)                │ (\u001b[38;5;45mNone\u001b[0m, \u001b[38;5;34m56\u001b[0m, \u001b[38;5;34m56\u001b[0m, \u001b[38;5;34m256\u001b[0m)         │         \u001b[38;5;34m590,080\u001b[0m │\n",
              "├──────────────────────────────────────┼─────────────────────────────┼─────────────────┤\n",
              "│ block3_pool (\u001b[38;5;33mMaxPooling2D\u001b[0m)           │ (\u001b[38;5;45mNone\u001b[0m, \u001b[38;5;34m28\u001b[0m, \u001b[38;5;34m28\u001b[0m, \u001b[38;5;34m256\u001b[0m)         │               \u001b[38;5;34m0\u001b[0m │\n",
              "├──────────────────────────────────────┼─────────────────────────────┼─────────────────┤\n",
              "│ block4_conv1 (\u001b[38;5;33mConv2D\u001b[0m)                │ (\u001b[38;5;45mNone\u001b[0m, \u001b[38;5;34m28\u001b[0m, \u001b[38;5;34m28\u001b[0m, \u001b[38;5;34m512\u001b[0m)         │       \u001b[38;5;34m1,180,160\u001b[0m │\n",
              "├──────────────────────────────────────┼─────────────────────────────┼─────────────────┤\n",
              "│ block4_conv2 (\u001b[38;5;33mConv2D\u001b[0m)                │ (\u001b[38;5;45mNone\u001b[0m, \u001b[38;5;34m28\u001b[0m, \u001b[38;5;34m28\u001b[0m, \u001b[38;5;34m512\u001b[0m)         │       \u001b[38;5;34m2,359,808\u001b[0m │\n",
              "├──────────────────────────────────────┼─────────────────────────────┼─────────────────┤\n",
              "│ block4_conv3 (\u001b[38;5;33mConv2D\u001b[0m)                │ (\u001b[38;5;45mNone\u001b[0m, \u001b[38;5;34m28\u001b[0m, \u001b[38;5;34m28\u001b[0m, \u001b[38;5;34m512\u001b[0m)         │       \u001b[38;5;34m2,359,808\u001b[0m │\n",
              "├──────────────────────────────────────┼─────────────────────────────┼─────────────────┤\n",
              "│ block4_conv4 (\u001b[38;5;33mConv2D\u001b[0m)                │ (\u001b[38;5;45mNone\u001b[0m, \u001b[38;5;34m28\u001b[0m, \u001b[38;5;34m28\u001b[0m, \u001b[38;5;34m512\u001b[0m)         │       \u001b[38;5;34m2,359,808\u001b[0m │\n",
              "├──────────────────────────────────────┼─────────────────────────────┼─────────────────┤\n",
              "│ block4_pool (\u001b[38;5;33mMaxPooling2D\u001b[0m)           │ (\u001b[38;5;45mNone\u001b[0m, \u001b[38;5;34m14\u001b[0m, \u001b[38;5;34m14\u001b[0m, \u001b[38;5;34m512\u001b[0m)         │               \u001b[38;5;34m0\u001b[0m │\n",
              "├──────────────────────────────────────┼─────────────────────────────┼─────────────────┤\n",
              "│ block5_conv1 (\u001b[38;5;33mConv2D\u001b[0m)                │ (\u001b[38;5;45mNone\u001b[0m, \u001b[38;5;34m14\u001b[0m, \u001b[38;5;34m14\u001b[0m, \u001b[38;5;34m512\u001b[0m)         │       \u001b[38;5;34m2,359,808\u001b[0m │\n",
              "├──────────────────────────────────────┼─────────────────────────────┼─────────────────┤\n",
              "│ block5_conv2 (\u001b[38;5;33mConv2D\u001b[0m)                │ (\u001b[38;5;45mNone\u001b[0m, \u001b[38;5;34m14\u001b[0m, \u001b[38;5;34m14\u001b[0m, \u001b[38;5;34m512\u001b[0m)         │       \u001b[38;5;34m2,359,808\u001b[0m │\n",
              "├──────────────────────────────────────┼─────────────────────────────┼─────────────────┤\n",
              "│ block5_conv3 (\u001b[38;5;33mConv2D\u001b[0m)                │ (\u001b[38;5;45mNone\u001b[0m, \u001b[38;5;34m14\u001b[0m, \u001b[38;5;34m14\u001b[0m, \u001b[38;5;34m512\u001b[0m)         │       \u001b[38;5;34m2,359,808\u001b[0m │\n",
              "├──────────────────────────────────────┼─────────────────────────────┼─────────────────┤\n",
              "│ block5_conv4 (\u001b[38;5;33mConv2D\u001b[0m)                │ (\u001b[38;5;45mNone\u001b[0m, \u001b[38;5;34m14\u001b[0m, \u001b[38;5;34m14\u001b[0m, \u001b[38;5;34m512\u001b[0m)         │       \u001b[38;5;34m2,359,808\u001b[0m │\n",
              "├──────────────────────────────────────┼─────────────────────────────┼─────────────────┤\n",
              "│ block5_pool (\u001b[38;5;33mMaxPooling2D\u001b[0m)           │ (\u001b[38;5;45mNone\u001b[0m, \u001b[38;5;34m7\u001b[0m, \u001b[38;5;34m7\u001b[0m, \u001b[38;5;34m512\u001b[0m)           │               \u001b[38;5;34m0\u001b[0m │\n",
              "├──────────────────────────────────────┼─────────────────────────────┼─────────────────┤\n",
              "│ Global_Average_Pooling               │ (\u001b[38;5;45mNone\u001b[0m, \u001b[38;5;34m512\u001b[0m)                 │               \u001b[38;5;34m0\u001b[0m │\n",
              "│ (\u001b[38;5;33mGlobalAveragePooling2D\u001b[0m)             │                             │                 │\n",
              "├──────────────────────────────────────┼─────────────────────────────┼─────────────────┤\n",
              "│ FC_512 (\u001b[38;5;33mDense\u001b[0m)                       │ (\u001b[38;5;45mNone\u001b[0m, \u001b[38;5;34m512\u001b[0m)                 │         \u001b[38;5;34m262,656\u001b[0m │\n",
              "├──────────────────────────────────────┼─────────────────────────────┼─────────────────┤\n",
              "│ Batch_Normalization2                 │ (\u001b[38;5;45mNone\u001b[0m, \u001b[38;5;34m512\u001b[0m)                 │           \u001b[38;5;34m2,048\u001b[0m │\n",
              "│ (\u001b[38;5;33mBatchNormalization\u001b[0m)                 │                             │                 │\n",
              "├──────────────────────────────────────┼─────────────────────────────┼─────────────────┤\n",
              "│ Dropout1 (\u001b[38;5;33mDropout\u001b[0m)                   │ (\u001b[38;5;45mNone\u001b[0m, \u001b[38;5;34m512\u001b[0m)                 │               \u001b[38;5;34m0\u001b[0m │\n",
              "├──────────────────────────────────────┼─────────────────────────────┼─────────────────┤\n",
              "│ FC_256 (\u001b[38;5;33mDense\u001b[0m)                       │ (\u001b[38;5;45mNone\u001b[0m, \u001b[38;5;34m256\u001b[0m)                 │         \u001b[38;5;34m131,328\u001b[0m │\n",
              "├──────────────────────────────────────┼─────────────────────────────┼─────────────────┤\n",
              "│ Batch_Normalization3                 │ (\u001b[38;5;45mNone\u001b[0m, \u001b[38;5;34m256\u001b[0m)                 │           \u001b[38;5;34m1,024\u001b[0m │\n",
              "│ (\u001b[38;5;33mBatchNormalization\u001b[0m)                 │                             │                 │\n",
              "├──────────────────────────────────────┼─────────────────────────────┼─────────────────┤\n",
              "│ Dropout2 (\u001b[38;5;33mDropout\u001b[0m)                   │ (\u001b[38;5;45mNone\u001b[0m, \u001b[38;5;34m256\u001b[0m)                 │               \u001b[38;5;34m0\u001b[0m │\n",
              "├──────────────────────────────────────┼─────────────────────────────┼─────────────────┤\n",
              "│ Output_Layer (\u001b[38;5;33mDense\u001b[0m)                 │ (\u001b[38;5;45mNone\u001b[0m, \u001b[38;5;34m3\u001b[0m)                   │             \u001b[38;5;34m771\u001b[0m │\n",
              "└──────────────────────────────────────┴─────────────────────────────┴─────────────────┘\n"
            ],
            "text/html": [
              "<pre style=\"white-space:pre;overflow-x:auto;line-height:normal;font-family:Menlo,'DejaVu Sans Mono',consolas,'Courier New',monospace\">┏━━━━━━━━━━━━━━━━━━━━━━━━━━━━━━━━━━━━━━┳━━━━━━━━━━━━━━━━━━━━━━━━━━━━━┳━━━━━━━━━━━━━━━━━┓\n",
              "┃<span style=\"font-weight: bold\"> Layer (type)                         </span>┃<span style=\"font-weight: bold\"> Output Shape                </span>┃<span style=\"font-weight: bold\">         Param # </span>┃\n",
              "┡━━━━━━━━━━━━━━━━━━━━━━━━━━━━━━━━━━━━━━╇━━━━━━━━━━━━━━━━━━━━━━━━━━━━━╇━━━━━━━━━━━━━━━━━┩\n",
              "│ Input_Layer (<span style=\"color: #0087ff; text-decoration-color: #0087ff\">InputLayer</span>)             │ (<span style=\"color: #00d7ff; text-decoration-color: #00d7ff\">None</span>, <span style=\"color: #00af00; text-decoration-color: #00af00\">224</span>, <span style=\"color: #00af00; text-decoration-color: #00af00\">224</span>, <span style=\"color: #00af00; text-decoration-color: #00af00\">3</span>)         │               <span style=\"color: #00af00; text-decoration-color: #00af00\">0</span> │\n",
              "├──────────────────────────────────────┼─────────────────────────────┼─────────────────┤\n",
              "│ block1_conv1 (<span style=\"color: #0087ff; text-decoration-color: #0087ff\">Conv2D</span>)                │ (<span style=\"color: #00d7ff; text-decoration-color: #00d7ff\">None</span>, <span style=\"color: #00af00; text-decoration-color: #00af00\">224</span>, <span style=\"color: #00af00; text-decoration-color: #00af00\">224</span>, <span style=\"color: #00af00; text-decoration-color: #00af00\">64</span>)        │           <span style=\"color: #00af00; text-decoration-color: #00af00\">1,792</span> │\n",
              "├──────────────────────────────────────┼─────────────────────────────┼─────────────────┤\n",
              "│ block1_conv2 (<span style=\"color: #0087ff; text-decoration-color: #0087ff\">Conv2D</span>)                │ (<span style=\"color: #00d7ff; text-decoration-color: #00d7ff\">None</span>, <span style=\"color: #00af00; text-decoration-color: #00af00\">224</span>, <span style=\"color: #00af00; text-decoration-color: #00af00\">224</span>, <span style=\"color: #00af00; text-decoration-color: #00af00\">64</span>)        │          <span style=\"color: #00af00; text-decoration-color: #00af00\">36,928</span> │\n",
              "├──────────────────────────────────────┼─────────────────────────────┼─────────────────┤\n",
              "│ block1_pool (<span style=\"color: #0087ff; text-decoration-color: #0087ff\">MaxPooling2D</span>)           │ (<span style=\"color: #00d7ff; text-decoration-color: #00d7ff\">None</span>, <span style=\"color: #00af00; text-decoration-color: #00af00\">112</span>, <span style=\"color: #00af00; text-decoration-color: #00af00\">112</span>, <span style=\"color: #00af00; text-decoration-color: #00af00\">64</span>)        │               <span style=\"color: #00af00; text-decoration-color: #00af00\">0</span> │\n",
              "├──────────────────────────────────────┼─────────────────────────────┼─────────────────┤\n",
              "│ block2_conv1 (<span style=\"color: #0087ff; text-decoration-color: #0087ff\">Conv2D</span>)                │ (<span style=\"color: #00d7ff; text-decoration-color: #00d7ff\">None</span>, <span style=\"color: #00af00; text-decoration-color: #00af00\">112</span>, <span style=\"color: #00af00; text-decoration-color: #00af00\">112</span>, <span style=\"color: #00af00; text-decoration-color: #00af00\">128</span>)       │          <span style=\"color: #00af00; text-decoration-color: #00af00\">73,856</span> │\n",
              "├──────────────────────────────────────┼─────────────────────────────┼─────────────────┤\n",
              "│ block2_conv2 (<span style=\"color: #0087ff; text-decoration-color: #0087ff\">Conv2D</span>)                │ (<span style=\"color: #00d7ff; text-decoration-color: #00d7ff\">None</span>, <span style=\"color: #00af00; text-decoration-color: #00af00\">112</span>, <span style=\"color: #00af00; text-decoration-color: #00af00\">112</span>, <span style=\"color: #00af00; text-decoration-color: #00af00\">128</span>)       │         <span style=\"color: #00af00; text-decoration-color: #00af00\">147,584</span> │\n",
              "├──────────────────────────────────────┼─────────────────────────────┼─────────────────┤\n",
              "│ block2_pool (<span style=\"color: #0087ff; text-decoration-color: #0087ff\">MaxPooling2D</span>)           │ (<span style=\"color: #00d7ff; text-decoration-color: #00d7ff\">None</span>, <span style=\"color: #00af00; text-decoration-color: #00af00\">56</span>, <span style=\"color: #00af00; text-decoration-color: #00af00\">56</span>, <span style=\"color: #00af00; text-decoration-color: #00af00\">128</span>)         │               <span style=\"color: #00af00; text-decoration-color: #00af00\">0</span> │\n",
              "├──────────────────────────────────────┼─────────────────────────────┼─────────────────┤\n",
              "│ block3_conv1 (<span style=\"color: #0087ff; text-decoration-color: #0087ff\">Conv2D</span>)                │ (<span style=\"color: #00d7ff; text-decoration-color: #00d7ff\">None</span>, <span style=\"color: #00af00; text-decoration-color: #00af00\">56</span>, <span style=\"color: #00af00; text-decoration-color: #00af00\">56</span>, <span style=\"color: #00af00; text-decoration-color: #00af00\">256</span>)         │         <span style=\"color: #00af00; text-decoration-color: #00af00\">295,168</span> │\n",
              "├──────────────────────────────────────┼─────────────────────────────┼─────────────────┤\n",
              "│ block3_conv2 (<span style=\"color: #0087ff; text-decoration-color: #0087ff\">Conv2D</span>)                │ (<span style=\"color: #00d7ff; text-decoration-color: #00d7ff\">None</span>, <span style=\"color: #00af00; text-decoration-color: #00af00\">56</span>, <span style=\"color: #00af00; text-decoration-color: #00af00\">56</span>, <span style=\"color: #00af00; text-decoration-color: #00af00\">256</span>)         │         <span style=\"color: #00af00; text-decoration-color: #00af00\">590,080</span> │\n",
              "├──────────────────────────────────────┼─────────────────────────────┼─────────────────┤\n",
              "│ block3_conv3 (<span style=\"color: #0087ff; text-decoration-color: #0087ff\">Conv2D</span>)                │ (<span style=\"color: #00d7ff; text-decoration-color: #00d7ff\">None</span>, <span style=\"color: #00af00; text-decoration-color: #00af00\">56</span>, <span style=\"color: #00af00; text-decoration-color: #00af00\">56</span>, <span style=\"color: #00af00; text-decoration-color: #00af00\">256</span>)         │         <span style=\"color: #00af00; text-decoration-color: #00af00\">590,080</span> │\n",
              "├──────────────────────────────────────┼─────────────────────────────┼─────────────────┤\n",
              "│ block3_conv4 (<span style=\"color: #0087ff; text-decoration-color: #0087ff\">Conv2D</span>)                │ (<span style=\"color: #00d7ff; text-decoration-color: #00d7ff\">None</span>, <span style=\"color: #00af00; text-decoration-color: #00af00\">56</span>, <span style=\"color: #00af00; text-decoration-color: #00af00\">56</span>, <span style=\"color: #00af00; text-decoration-color: #00af00\">256</span>)         │         <span style=\"color: #00af00; text-decoration-color: #00af00\">590,080</span> │\n",
              "├──────────────────────────────────────┼─────────────────────────────┼─────────────────┤\n",
              "│ block3_pool (<span style=\"color: #0087ff; text-decoration-color: #0087ff\">MaxPooling2D</span>)           │ (<span style=\"color: #00d7ff; text-decoration-color: #00d7ff\">None</span>, <span style=\"color: #00af00; text-decoration-color: #00af00\">28</span>, <span style=\"color: #00af00; text-decoration-color: #00af00\">28</span>, <span style=\"color: #00af00; text-decoration-color: #00af00\">256</span>)         │               <span style=\"color: #00af00; text-decoration-color: #00af00\">0</span> │\n",
              "├──────────────────────────────────────┼─────────────────────────────┼─────────────────┤\n",
              "│ block4_conv1 (<span style=\"color: #0087ff; text-decoration-color: #0087ff\">Conv2D</span>)                │ (<span style=\"color: #00d7ff; text-decoration-color: #00d7ff\">None</span>, <span style=\"color: #00af00; text-decoration-color: #00af00\">28</span>, <span style=\"color: #00af00; text-decoration-color: #00af00\">28</span>, <span style=\"color: #00af00; text-decoration-color: #00af00\">512</span>)         │       <span style=\"color: #00af00; text-decoration-color: #00af00\">1,180,160</span> │\n",
              "├──────────────────────────────────────┼─────────────────────────────┼─────────────────┤\n",
              "│ block4_conv2 (<span style=\"color: #0087ff; text-decoration-color: #0087ff\">Conv2D</span>)                │ (<span style=\"color: #00d7ff; text-decoration-color: #00d7ff\">None</span>, <span style=\"color: #00af00; text-decoration-color: #00af00\">28</span>, <span style=\"color: #00af00; text-decoration-color: #00af00\">28</span>, <span style=\"color: #00af00; text-decoration-color: #00af00\">512</span>)         │       <span style=\"color: #00af00; text-decoration-color: #00af00\">2,359,808</span> │\n",
              "├──────────────────────────────────────┼─────────────────────────────┼─────────────────┤\n",
              "│ block4_conv3 (<span style=\"color: #0087ff; text-decoration-color: #0087ff\">Conv2D</span>)                │ (<span style=\"color: #00d7ff; text-decoration-color: #00d7ff\">None</span>, <span style=\"color: #00af00; text-decoration-color: #00af00\">28</span>, <span style=\"color: #00af00; text-decoration-color: #00af00\">28</span>, <span style=\"color: #00af00; text-decoration-color: #00af00\">512</span>)         │       <span style=\"color: #00af00; text-decoration-color: #00af00\">2,359,808</span> │\n",
              "├──────────────────────────────────────┼─────────────────────────────┼─────────────────┤\n",
              "│ block4_conv4 (<span style=\"color: #0087ff; text-decoration-color: #0087ff\">Conv2D</span>)                │ (<span style=\"color: #00d7ff; text-decoration-color: #00d7ff\">None</span>, <span style=\"color: #00af00; text-decoration-color: #00af00\">28</span>, <span style=\"color: #00af00; text-decoration-color: #00af00\">28</span>, <span style=\"color: #00af00; text-decoration-color: #00af00\">512</span>)         │       <span style=\"color: #00af00; text-decoration-color: #00af00\">2,359,808</span> │\n",
              "├──────────────────────────────────────┼─────────────────────────────┼─────────────────┤\n",
              "│ block4_pool (<span style=\"color: #0087ff; text-decoration-color: #0087ff\">MaxPooling2D</span>)           │ (<span style=\"color: #00d7ff; text-decoration-color: #00d7ff\">None</span>, <span style=\"color: #00af00; text-decoration-color: #00af00\">14</span>, <span style=\"color: #00af00; text-decoration-color: #00af00\">14</span>, <span style=\"color: #00af00; text-decoration-color: #00af00\">512</span>)         │               <span style=\"color: #00af00; text-decoration-color: #00af00\">0</span> │\n",
              "├──────────────────────────────────────┼─────────────────────────────┼─────────────────┤\n",
              "│ block5_conv1 (<span style=\"color: #0087ff; text-decoration-color: #0087ff\">Conv2D</span>)                │ (<span style=\"color: #00d7ff; text-decoration-color: #00d7ff\">None</span>, <span style=\"color: #00af00; text-decoration-color: #00af00\">14</span>, <span style=\"color: #00af00; text-decoration-color: #00af00\">14</span>, <span style=\"color: #00af00; text-decoration-color: #00af00\">512</span>)         │       <span style=\"color: #00af00; text-decoration-color: #00af00\">2,359,808</span> │\n",
              "├──────────────────────────────────────┼─────────────────────────────┼─────────────────┤\n",
              "│ block5_conv2 (<span style=\"color: #0087ff; text-decoration-color: #0087ff\">Conv2D</span>)                │ (<span style=\"color: #00d7ff; text-decoration-color: #00d7ff\">None</span>, <span style=\"color: #00af00; text-decoration-color: #00af00\">14</span>, <span style=\"color: #00af00; text-decoration-color: #00af00\">14</span>, <span style=\"color: #00af00; text-decoration-color: #00af00\">512</span>)         │       <span style=\"color: #00af00; text-decoration-color: #00af00\">2,359,808</span> │\n",
              "├──────────────────────────────────────┼─────────────────────────────┼─────────────────┤\n",
              "│ block5_conv3 (<span style=\"color: #0087ff; text-decoration-color: #0087ff\">Conv2D</span>)                │ (<span style=\"color: #00d7ff; text-decoration-color: #00d7ff\">None</span>, <span style=\"color: #00af00; text-decoration-color: #00af00\">14</span>, <span style=\"color: #00af00; text-decoration-color: #00af00\">14</span>, <span style=\"color: #00af00; text-decoration-color: #00af00\">512</span>)         │       <span style=\"color: #00af00; text-decoration-color: #00af00\">2,359,808</span> │\n",
              "├──────────────────────────────────────┼─────────────────────────────┼─────────────────┤\n",
              "│ block5_conv4 (<span style=\"color: #0087ff; text-decoration-color: #0087ff\">Conv2D</span>)                │ (<span style=\"color: #00d7ff; text-decoration-color: #00d7ff\">None</span>, <span style=\"color: #00af00; text-decoration-color: #00af00\">14</span>, <span style=\"color: #00af00; text-decoration-color: #00af00\">14</span>, <span style=\"color: #00af00; text-decoration-color: #00af00\">512</span>)         │       <span style=\"color: #00af00; text-decoration-color: #00af00\">2,359,808</span> │\n",
              "├──────────────────────────────────────┼─────────────────────────────┼─────────────────┤\n",
              "│ block5_pool (<span style=\"color: #0087ff; text-decoration-color: #0087ff\">MaxPooling2D</span>)           │ (<span style=\"color: #00d7ff; text-decoration-color: #00d7ff\">None</span>, <span style=\"color: #00af00; text-decoration-color: #00af00\">7</span>, <span style=\"color: #00af00; text-decoration-color: #00af00\">7</span>, <span style=\"color: #00af00; text-decoration-color: #00af00\">512</span>)           │               <span style=\"color: #00af00; text-decoration-color: #00af00\">0</span> │\n",
              "├──────────────────────────────────────┼─────────────────────────────┼─────────────────┤\n",
              "│ Global_Average_Pooling               │ (<span style=\"color: #00d7ff; text-decoration-color: #00d7ff\">None</span>, <span style=\"color: #00af00; text-decoration-color: #00af00\">512</span>)                 │               <span style=\"color: #00af00; text-decoration-color: #00af00\">0</span> │\n",
              "│ (<span style=\"color: #0087ff; text-decoration-color: #0087ff\">GlobalAveragePooling2D</span>)             │                             │                 │\n",
              "├──────────────────────────────────────┼─────────────────────────────┼─────────────────┤\n",
              "│ FC_512 (<span style=\"color: #0087ff; text-decoration-color: #0087ff\">Dense</span>)                       │ (<span style=\"color: #00d7ff; text-decoration-color: #00d7ff\">None</span>, <span style=\"color: #00af00; text-decoration-color: #00af00\">512</span>)                 │         <span style=\"color: #00af00; text-decoration-color: #00af00\">262,656</span> │\n",
              "├──────────────────────────────────────┼─────────────────────────────┼─────────────────┤\n",
              "│ Batch_Normalization2                 │ (<span style=\"color: #00d7ff; text-decoration-color: #00d7ff\">None</span>, <span style=\"color: #00af00; text-decoration-color: #00af00\">512</span>)                 │           <span style=\"color: #00af00; text-decoration-color: #00af00\">2,048</span> │\n",
              "│ (<span style=\"color: #0087ff; text-decoration-color: #0087ff\">BatchNormalization</span>)                 │                             │                 │\n",
              "├──────────────────────────────────────┼─────────────────────────────┼─────────────────┤\n",
              "│ Dropout1 (<span style=\"color: #0087ff; text-decoration-color: #0087ff\">Dropout</span>)                   │ (<span style=\"color: #00d7ff; text-decoration-color: #00d7ff\">None</span>, <span style=\"color: #00af00; text-decoration-color: #00af00\">512</span>)                 │               <span style=\"color: #00af00; text-decoration-color: #00af00\">0</span> │\n",
              "├──────────────────────────────────────┼─────────────────────────────┼─────────────────┤\n",
              "│ FC_256 (<span style=\"color: #0087ff; text-decoration-color: #0087ff\">Dense</span>)                       │ (<span style=\"color: #00d7ff; text-decoration-color: #00d7ff\">None</span>, <span style=\"color: #00af00; text-decoration-color: #00af00\">256</span>)                 │         <span style=\"color: #00af00; text-decoration-color: #00af00\">131,328</span> │\n",
              "├──────────────────────────────────────┼─────────────────────────────┼─────────────────┤\n",
              "│ Batch_Normalization3                 │ (<span style=\"color: #00d7ff; text-decoration-color: #00d7ff\">None</span>, <span style=\"color: #00af00; text-decoration-color: #00af00\">256</span>)                 │           <span style=\"color: #00af00; text-decoration-color: #00af00\">1,024</span> │\n",
              "│ (<span style=\"color: #0087ff; text-decoration-color: #0087ff\">BatchNormalization</span>)                 │                             │                 │\n",
              "├──────────────────────────────────────┼─────────────────────────────┼─────────────────┤\n",
              "│ Dropout2 (<span style=\"color: #0087ff; text-decoration-color: #0087ff\">Dropout</span>)                   │ (<span style=\"color: #00d7ff; text-decoration-color: #00d7ff\">None</span>, <span style=\"color: #00af00; text-decoration-color: #00af00\">256</span>)                 │               <span style=\"color: #00af00; text-decoration-color: #00af00\">0</span> │\n",
              "├──────────────────────────────────────┼─────────────────────────────┼─────────────────┤\n",
              "│ Output_Layer (<span style=\"color: #0087ff; text-decoration-color: #0087ff\">Dense</span>)                 │ (<span style=\"color: #00d7ff; text-decoration-color: #00d7ff\">None</span>, <span style=\"color: #00af00; text-decoration-color: #00af00\">3</span>)                   │             <span style=\"color: #00af00; text-decoration-color: #00af00\">771</span> │\n",
              "└──────────────────────────────────────┴─────────────────────────────┴─────────────────┘\n",
              "</pre>\n"
            ]
          },
          "metadata": {}
        },
        {
          "output_type": "display_data",
          "data": {
            "text/plain": [
              "\u001b[1m Total params: \u001b[0m\u001b[38;5;34m20,422,211\u001b[0m (77.90 MB)\n"
            ],
            "text/html": [
              "<pre style=\"white-space:pre;overflow-x:auto;line-height:normal;font-family:Menlo,'DejaVu Sans Mono',consolas,'Courier New',monospace\"><span style=\"font-weight: bold\"> Total params: </span><span style=\"color: #00af00; text-decoration-color: #00af00\">20,422,211</span> (77.90 MB)\n",
              "</pre>\n"
            ]
          },
          "metadata": {}
        },
        {
          "output_type": "display_data",
          "data": {
            "text/plain": [
              "\u001b[1m Trainable params: \u001b[0m\u001b[38;5;34m396,291\u001b[0m (1.51 MB)\n"
            ],
            "text/html": [
              "<pre style=\"white-space:pre;overflow-x:auto;line-height:normal;font-family:Menlo,'DejaVu Sans Mono',consolas,'Courier New',monospace\"><span style=\"font-weight: bold\"> Trainable params: </span><span style=\"color: #00af00; text-decoration-color: #00af00\">396,291</span> (1.51 MB)\n",
              "</pre>\n"
            ]
          },
          "metadata": {}
        },
        {
          "output_type": "display_data",
          "data": {
            "text/plain": [
              "\u001b[1m Non-trainable params: \u001b[0m\u001b[38;5;34m20,025,920\u001b[0m (76.39 MB)\n"
            ],
            "text/html": [
              "<pre style=\"white-space:pre;overflow-x:auto;line-height:normal;font-family:Menlo,'DejaVu Sans Mono',consolas,'Courier New',monospace\"><span style=\"font-weight: bold\"> Non-trainable params: </span><span style=\"color: #00af00; text-decoration-color: #00af00\">20,025,920</span> (76.39 MB)\n",
              "</pre>\n"
            ]
          },
          "metadata": {}
        }
      ],
      "source": [
        "model.summary()"
      ]
    },
    {
      "cell_type": "code",
      "execution_count": 15,
      "metadata": {
        "id": "7-vjIahbmZwd"
      },
      "outputs": [],
      "source": [
        "early_stopping = tf.keras.callbacks.EarlyStopping(monitor='val_auc', mode='max', patience=8, restore_best_weights=True)"
      ]
    },
    {
      "cell_type": "code",
      "execution_count": 16,
      "metadata": {
        "id": "v8MuDFbAFcE_"
      },
      "outputs": [],
      "source": [
        "# Defining The ReduceLRonPlateau Callback\n",
        "reduceLRCallback = tf.keras.callbacks.ReduceLROnPlateau(\n",
        "    monitor='val_auc',\n",
        "    factor=0.8, # How much to improve the learning rate -> LR = LR*factor\n",
        "    patience=3,\n",
        "    verbose=1,\n",
        "    mode='max',\n",
        "    min_delta=0.0001, # Change in metric below this delta is considered as no change\n",
        "    cooldown=0, # Number of epochs to wait before resuming normal operation after lr has been improved\n",
        "    min_lr=0 # Learning Rate won't go below this\n",
        ")"
      ]
    },
    {
      "cell_type": "code",
      "execution_count": 17,
      "metadata": {
        "colab": {
          "base_uri": "https://localhost:8080/"
        },
        "id": "iJ4WpUAxmZwd",
        "outputId": "7facc8f2-a83e-4f3c-d46e-5dfc66ab1ae5"
      },
      "outputs": [
        {
          "output_type": "stream",
          "name": "stdout",
          "text": [
            "Epoch 1/250\n",
            "\u001b[1m189/189\u001b[0m \u001b[32m━━━━━━━━━━━━━━━━━━━━\u001b[0m\u001b[37m\u001b[0m \u001b[1m38s\u001b[0m 114ms/step - accuracy: 0.4621 - auc: 0.6388 - loss: 1.3286 - precision: 0.4768 - recall: 0.4077 - val_accuracy: 0.4048 - val_auc: 0.6069 - val_loss: 1.1574 - val_precision: 0.4728 - val_recall: 0.2989 - learning_rate: 1.0000e-04\n",
            "Epoch 2/250\n",
            "\u001b[1m189/189\u001b[0m \u001b[32m━━━━━━━━━━━━━━━━━━━━\u001b[0m\u001b[37m\u001b[0m \u001b[1m7s\u001b[0m 32ms/step - accuracy: 0.6066 - auc: 0.7846 - loss: 0.9537 - precision: 0.6292 - recall: 0.5564 - val_accuracy: 0.5079 - val_auc: 0.7285 - val_loss: 0.9398 - val_precision: 0.5766 - val_recall: 0.4180 - learning_rate: 1.0000e-04\n",
            "Epoch 3/250\n",
            "\u001b[1m189/189\u001b[0m \u001b[32m━━━━━━━━━━━━━━━━━━━━\u001b[0m\u001b[37m\u001b[0m \u001b[1m7s\u001b[0m 31ms/step - accuracy: 0.6206 - auc: 0.8054 - loss: 0.8912 - precision: 0.6437 - recall: 0.5786 - val_accuracy: 0.6058 - val_auc: 0.8152 - val_loss: 0.8149 - val_precision: 0.6538 - val_recall: 0.5397 - learning_rate: 1.0000e-04\n",
            "Epoch 4/250\n",
            "\u001b[1m189/189\u001b[0m \u001b[32m━━━━━━━━━━━━━━━━━━━━\u001b[0m\u001b[37m\u001b[0m \u001b[1m7s\u001b[0m 32ms/step - accuracy: 0.6541 - auc: 0.8324 - loss: 0.8136 - precision: 0.6775 - recall: 0.6112 - val_accuracy: 0.6217 - val_auc: 0.8280 - val_loss: 0.7901 - val_precision: 0.6771 - val_recall: 0.5714 - learning_rate: 1.0000e-04\n",
            "Epoch 5/250\n",
            "\u001b[1m189/189\u001b[0m \u001b[32m━━━━━━━━━━━━━━━━━━━━\u001b[0m\u001b[37m\u001b[0m \u001b[1m7s\u001b[0m 31ms/step - accuracy: 0.6799 - auc: 0.8502 - loss: 0.7568 - precision: 0.7060 - recall: 0.6360 - val_accuracy: 0.6058 - val_auc: 0.7992 - val_loss: 0.8832 - val_precision: 0.6216 - val_recall: 0.5476 - learning_rate: 1.0000e-04\n",
            "Epoch 6/250\n",
            "\u001b[1m189/189\u001b[0m \u001b[32m━━━━━━━━━━━━━━━━━━━━\u001b[0m\u001b[37m\u001b[0m \u001b[1m7s\u001b[0m 32ms/step - accuracy: 0.6753 - auc: 0.8517 - loss: 0.7579 - precision: 0.7009 - recall: 0.6400 - val_accuracy: 0.6587 - val_auc: 0.8493 - val_loss: 0.7447 - val_precision: 0.6839 - val_recall: 0.5952 - learning_rate: 1.0000e-04\n",
            "Epoch 7/250\n",
            "\u001b[1m189/189\u001b[0m \u001b[32m━━━━━━━━━━━━━━━━━━━━\u001b[0m\u001b[37m\u001b[0m \u001b[1m7s\u001b[0m 31ms/step - accuracy: 0.6792 - auc: 0.8587 - loss: 0.7347 - precision: 0.7065 - recall: 0.6398 - val_accuracy: 0.6667 - val_auc: 0.8541 - val_loss: 0.7321 - val_precision: 0.6932 - val_recall: 0.6217 - learning_rate: 1.0000e-04\n",
            "Epoch 8/250\n",
            "\u001b[1m189/189\u001b[0m \u001b[32m━━━━━━━━━━━━━━━━━━━━\u001b[0m\u001b[37m\u001b[0m \u001b[1m7s\u001b[0m 31ms/step - accuracy: 0.6923 - auc: 0.8627 - loss: 0.7228 - precision: 0.7186 - recall: 0.6493 - val_accuracy: 0.6772 - val_auc: 0.8632 - val_loss: 0.7122 - val_precision: 0.7237 - val_recall: 0.6376 - learning_rate: 1.0000e-04\n",
            "Epoch 9/250\n",
            "\u001b[1m189/189\u001b[0m \u001b[32m━━━━━━━━━━━━━━━━━━━━\u001b[0m\u001b[37m\u001b[0m \u001b[1m7s\u001b[0m 32ms/step - accuracy: 0.7015 - auc: 0.8704 - loss: 0.6953 - precision: 0.7249 - recall: 0.6619 - val_accuracy: 0.6931 - val_auc: 0.8659 - val_loss: 0.7086 - val_precision: 0.7211 - val_recall: 0.6429 - learning_rate: 1.0000e-04\n",
            "Epoch 10/250\n",
            "\u001b[1m189/189\u001b[0m \u001b[32m━━━━━━━━━━━━━━━━━━━━\u001b[0m\u001b[37m\u001b[0m \u001b[1m10s\u001b[0m 31ms/step - accuracy: 0.7069 - auc: 0.8757 - loss: 0.6792 - precision: 0.7330 - recall: 0.6640 - val_accuracy: 0.6772 - val_auc: 0.8571 - val_loss: 0.7286 - val_precision: 0.7036 - val_recall: 0.6217 - learning_rate: 1.0000e-04\n",
            "Epoch 11/250\n",
            "\u001b[1m189/189\u001b[0m \u001b[32m━━━━━━━━━━━━━━━━━━━━\u001b[0m\u001b[37m\u001b[0m \u001b[1m7s\u001b[0m 31ms/step - accuracy: 0.7176 - auc: 0.8827 - loss: 0.6592 - precision: 0.7428 - recall: 0.6773 - val_accuracy: 0.6984 - val_auc: 0.8730 - val_loss: 0.6888 - val_precision: 0.7155 - val_recall: 0.6587 - learning_rate: 1.0000e-04\n",
            "Epoch 12/250\n",
            "\u001b[1m189/189\u001b[0m \u001b[32m━━━━━━━━━━━━━━━━━━━━\u001b[0m\u001b[37m\u001b[0m \u001b[1m7s\u001b[0m 31ms/step - accuracy: 0.7183 - auc: 0.8836 - loss: 0.6561 - precision: 0.7460 - recall: 0.6788 - val_accuracy: 0.7090 - val_auc: 0.8677 - val_loss: 0.7061 - val_precision: 0.7477 - val_recall: 0.6508 - learning_rate: 1.0000e-04\n",
            "Epoch 13/250\n",
            "\u001b[1m189/189\u001b[0m \u001b[32m━━━━━━━━━━━━━━━━━━━━\u001b[0m\u001b[37m\u001b[0m \u001b[1m7s\u001b[0m 31ms/step - accuracy: 0.7137 - auc: 0.8852 - loss: 0.6526 - precision: 0.7421 - recall: 0.6799 - val_accuracy: 0.6746 - val_auc: 0.8641 - val_loss: 0.7089 - val_precision: 0.7045 - val_recall: 0.6243 - learning_rate: 1.0000e-04\n",
            "Epoch 14/250\n",
            "\u001b[1m188/189\u001b[0m \u001b[32m━━━━━━━━━━━━━━━━━━━\u001b[0m\u001b[37m━\u001b[0m \u001b[1m0s\u001b[0m 29ms/step - accuracy: 0.7305 - auc: 0.8948 - loss: 0.6210 - precision: 0.7571 - recall: 0.6999\n",
            "Epoch 14: ReduceLROnPlateau reducing learning rate to 7.999999797903001e-05.\n",
            "\u001b[1m189/189\u001b[0m \u001b[32m━━━━━━━━━━━━━━━━━━━━\u001b[0m\u001b[37m\u001b[0m \u001b[1m7s\u001b[0m 31ms/step - accuracy: 0.7304 - auc: 0.8947 - loss: 0.6213 - precision: 0.7570 - recall: 0.6998 - val_accuracy: 0.6720 - val_auc: 0.8573 - val_loss: 0.7303 - val_precision: 0.7033 - val_recall: 0.6270 - learning_rate: 1.0000e-04\n",
            "Epoch 15/250\n",
            "\u001b[1m189/189\u001b[0m \u001b[32m━━━━━━━━━━━━━━━━━━━━\u001b[0m\u001b[37m\u001b[0m \u001b[1m7s\u001b[0m 31ms/step - accuracy: 0.7373 - auc: 0.8956 - loss: 0.6185 - precision: 0.7653 - recall: 0.7039 - val_accuracy: 0.7196 - val_auc: 0.8785 - val_loss: 0.6801 - val_precision: 0.7543 - val_recall: 0.6905 - learning_rate: 8.0000e-05\n",
            "Epoch 16/250\n",
            "\u001b[1m189/189\u001b[0m \u001b[32m━━━━━━━━━━━━━━━━━━━━\u001b[0m\u001b[37m\u001b[0m \u001b[1m7s\u001b[0m 32ms/step - accuracy: 0.7547 - auc: 0.9026 - loss: 0.5968 - precision: 0.7759 - recall: 0.7186 - val_accuracy: 0.7249 - val_auc: 0.8842 - val_loss: 0.6574 - val_precision: 0.7559 - val_recall: 0.6799 - learning_rate: 8.0000e-05\n",
            "Epoch 17/250\n",
            "\u001b[1m189/189\u001b[0m \u001b[32m━━━━━━━━━━━━━━━━━━━━\u001b[0m\u001b[37m\u001b[0m \u001b[1m7s\u001b[0m 31ms/step - accuracy: 0.7479 - auc: 0.9033 - loss: 0.5943 - precision: 0.7690 - recall: 0.7088 - val_accuracy: 0.6984 - val_auc: 0.8766 - val_loss: 0.6912 - val_precision: 0.7126 - val_recall: 0.6561 - learning_rate: 8.0000e-05\n",
            "Epoch 18/250\n",
            "\u001b[1m189/189\u001b[0m \u001b[32m━━━━━━━━━━━━━━━━━━━━\u001b[0m\u001b[37m\u001b[0m \u001b[1m7s\u001b[0m 31ms/step - accuracy: 0.7483 - auc: 0.9035 - loss: 0.5940 - precision: 0.7704 - recall: 0.7051 - val_accuracy: 0.7222 - val_auc: 0.8770 - val_loss: 0.6760 - val_precision: 0.7536 - val_recall: 0.6878 - learning_rate: 8.0000e-05\n",
            "Epoch 19/250\n",
            "\u001b[1m188/189\u001b[0m \u001b[32m━━━━━━━━━━━━━━━━━━━\u001b[0m\u001b[37m━\u001b[0m \u001b[1m0s\u001b[0m 29ms/step - accuracy: 0.7569 - auc: 0.9064 - loss: 0.5845 - precision: 0.7825 - recall: 0.7209\n",
            "Epoch 19: ReduceLROnPlateau reducing learning rate to 6.399999838322402e-05.\n",
            "\u001b[1m189/189\u001b[0m \u001b[32m━━━━━━━━━━━━━━━━━━━━\u001b[0m\u001b[37m\u001b[0m \u001b[1m7s\u001b[0m 31ms/step - accuracy: 0.7568 - auc: 0.9063 - loss: 0.5849 - precision: 0.7823 - recall: 0.7207 - val_accuracy: 0.7090 - val_auc: 0.8756 - val_loss: 0.6867 - val_precision: 0.7449 - val_recall: 0.6720 - learning_rate: 8.0000e-05\n",
            "Epoch 20/250\n",
            "\u001b[1m189/189\u001b[0m \u001b[32m━━━━━━━━━━━━━━━━━━━━\u001b[0m\u001b[37m\u001b[0m \u001b[1m7s\u001b[0m 31ms/step - accuracy: 0.7605 - auc: 0.9130 - loss: 0.5635 - precision: 0.7832 - recall: 0.7262 - val_accuracy: 0.7143 - val_auc: 0.8819 - val_loss: 0.6650 - val_precision: 0.7399 - val_recall: 0.6772 - learning_rate: 6.4000e-05\n",
            "Epoch 21/250\n",
            "\u001b[1m189/189\u001b[0m \u001b[32m━━━━━━━━━━━━━━━━━━━━\u001b[0m\u001b[37m\u001b[0m \u001b[1m7s\u001b[0m 31ms/step - accuracy: 0.7627 - auc: 0.9161 - loss: 0.5515 - precision: 0.7844 - recall: 0.7303 - val_accuracy: 0.7275 - val_auc: 0.8817 - val_loss: 0.6730 - val_precision: 0.7543 - val_recall: 0.6905 - learning_rate: 6.4000e-05\n",
            "Epoch 22/250\n",
            "\u001b[1m189/189\u001b[0m \u001b[32m━━━━━━━━━━━━━━━━━━━━\u001b[0m\u001b[37m\u001b[0m \u001b[1m7s\u001b[0m 31ms/step - accuracy: 0.7650 - auc: 0.9152 - loss: 0.5555 - precision: 0.7899 - recall: 0.7313 - val_accuracy: 0.7381 - val_auc: 0.8886 - val_loss: 0.6482 - val_precision: 0.7637 - val_recall: 0.7011 - learning_rate: 6.4000e-05\n",
            "Epoch 23/250\n",
            "\u001b[1m189/189\u001b[0m \u001b[32m━━━━━━━━━━━━━━━━━━━━\u001b[0m\u001b[37m\u001b[0m \u001b[1m7s\u001b[0m 31ms/step - accuracy: 0.7741 - auc: 0.9230 - loss: 0.5299 - precision: 0.7997 - recall: 0.7375 - val_accuracy: 0.7222 - val_auc: 0.8854 - val_loss: 0.6659 - val_precision: 0.7493 - val_recall: 0.7037 - learning_rate: 6.4000e-05\n",
            "Epoch 24/250\n",
            "\u001b[1m189/189\u001b[0m \u001b[32m━━━━━━━━━━━━━━━━━━━━\u001b[0m\u001b[37m\u001b[0m \u001b[1m7s\u001b[0m 31ms/step - accuracy: 0.7675 - auc: 0.9165 - loss: 0.5507 - precision: 0.7890 - recall: 0.7289 - val_accuracy: 0.7381 - val_auc: 0.8857 - val_loss: 0.6638 - val_precision: 0.7550 - val_recall: 0.6931 - learning_rate: 6.4000e-05\n",
            "Epoch 25/250\n",
            "\u001b[1m189/189\u001b[0m \u001b[32m━━━━━━━━━━━━━━━━━━━━\u001b[0m\u001b[37m\u001b[0m \u001b[1m7s\u001b[0m 32ms/step - accuracy: 0.7731 - auc: 0.9199 - loss: 0.5375 - precision: 0.7951 - recall: 0.7374 - val_accuracy: 0.7249 - val_auc: 0.8897 - val_loss: 0.6471 - val_precision: 0.7543 - val_recall: 0.6905 - learning_rate: 6.4000e-05\n",
            "Epoch 26/250\n",
            "\u001b[1m189/189\u001b[0m \u001b[32m━━━━━━━━━━━━━━━━━━━━\u001b[0m\u001b[37m\u001b[0m \u001b[1m7s\u001b[0m 31ms/step - accuracy: 0.7757 - auc: 0.9226 - loss: 0.5310 - precision: 0.8004 - recall: 0.7409 - val_accuracy: 0.7434 - val_auc: 0.8870 - val_loss: 0.6604 - val_precision: 0.7627 - val_recall: 0.7143 - learning_rate: 6.4000e-05\n",
            "Epoch 27/250\n",
            "\u001b[1m189/189\u001b[0m \u001b[32m━━━━━━━━━━━━━━━━━━━━\u001b[0m\u001b[37m\u001b[0m \u001b[1m7s\u001b[0m 32ms/step - accuracy: 0.7790 - auc: 0.9262 - loss: 0.5180 - precision: 0.8027 - recall: 0.7509 - val_accuracy: 0.7222 - val_auc: 0.8874 - val_loss: 0.6556 - val_precision: 0.7479 - val_recall: 0.6984 - learning_rate: 6.4000e-05\n",
            "Epoch 28/250\n",
            "\u001b[1m189/189\u001b[0m \u001b[32m━━━━━━━━━━━━━━━━━━━━\u001b[0m\u001b[37m\u001b[0m \u001b[1m7s\u001b[0m 32ms/step - accuracy: 0.7833 - auc: 0.9245 - loss: 0.5261 - precision: 0.8082 - recall: 0.7472 - val_accuracy: 0.7540 - val_auc: 0.8947 - val_loss: 0.6303 - val_precision: 0.7727 - val_recall: 0.7196 - learning_rate: 6.4000e-05\n",
            "Epoch 29/250\n",
            "\u001b[1m189/189\u001b[0m \u001b[32m━━━━━━━━━━━━━━━━━━━━\u001b[0m\u001b[37m\u001b[0m \u001b[1m7s\u001b[0m 31ms/step - accuracy: 0.7805 - auc: 0.9277 - loss: 0.5152 - precision: 0.8068 - recall: 0.7501 - val_accuracy: 0.7302 - val_auc: 0.8953 - val_loss: 0.6314 - val_precision: 0.7708 - val_recall: 0.7116 - learning_rate: 6.4000e-05\n",
            "Epoch 30/250\n",
            "\u001b[1m189/189\u001b[0m \u001b[32m━━━━━━━━━━━━━━━━━━━━\u001b[0m\u001b[37m\u001b[0m \u001b[1m7s\u001b[0m 31ms/step - accuracy: 0.7803 - auc: 0.9257 - loss: 0.5172 - precision: 0.8075 - recall: 0.7516 - val_accuracy: 0.7540 - val_auc: 0.8957 - val_loss: 0.6331 - val_precision: 0.7806 - val_recall: 0.7249 - learning_rate: 6.4000e-05\n",
            "Epoch 31/250\n",
            "\u001b[1m189/189\u001b[0m \u001b[32m━━━━━━━━━━━━━━━━━━━━\u001b[0m\u001b[37m\u001b[0m \u001b[1m7s\u001b[0m 31ms/step - accuracy: 0.7862 - auc: 0.9287 - loss: 0.5094 - precision: 0.8144 - recall: 0.7534 - val_accuracy: 0.7328 - val_auc: 0.8921 - val_loss: 0.6483 - val_precision: 0.7493 - val_recall: 0.7037 - learning_rate: 6.4000e-05\n",
            "Epoch 32/250\n",
            "\u001b[1m189/189\u001b[0m \u001b[32m━━━━━━━━━━━━━━━━━━━━\u001b[0m\u001b[37m\u001b[0m \u001b[1m7s\u001b[0m 32ms/step - accuracy: 0.7823 - auc: 0.9292 - loss: 0.5076 - precision: 0.8053 - recall: 0.7533 - val_accuracy: 0.7460 - val_auc: 0.8961 - val_loss: 0.6324 - val_precision: 0.7756 - val_recall: 0.7222 - learning_rate: 6.4000e-05\n",
            "Epoch 33/250\n",
            "\u001b[1m189/189\u001b[0m \u001b[32m━━━━━━━━━━━━━━━━━━━━\u001b[0m\u001b[37m\u001b[0m \u001b[1m7s\u001b[0m 31ms/step - accuracy: 0.7954 - auc: 0.9388 - loss: 0.4724 - precision: 0.8179 - recall: 0.7651 - val_accuracy: 0.7381 - val_auc: 0.8897 - val_loss: 0.6510 - val_precision: 0.7695 - val_recall: 0.7063 - learning_rate: 6.4000e-05\n",
            "Epoch 34/250\n",
            "\u001b[1m189/189\u001b[0m \u001b[32m━━━━━━━━━━━━━━━━━━━━\u001b[0m\u001b[37m\u001b[0m \u001b[1m7s\u001b[0m 31ms/step - accuracy: 0.7951 - auc: 0.9336 - loss: 0.4923 - precision: 0.8138 - recall: 0.7673 - val_accuracy: 0.7222 - val_auc: 0.8828 - val_loss: 0.6639 - val_precision: 0.7486 - val_recall: 0.6852 - learning_rate: 6.4000e-05\n",
            "Epoch 35/250\n",
            "\u001b[1m189/189\u001b[0m \u001b[32m━━━━━━━━━━━━━━━━━━━━\u001b[0m\u001b[37m\u001b[0m \u001b[1m7s\u001b[0m 31ms/step - accuracy: 0.8011 - auc: 0.9375 - loss: 0.4782 - precision: 0.8235 - recall: 0.7715 - val_accuracy: 0.7487 - val_auc: 0.8997 - val_loss: 0.6217 - val_precision: 0.7582 - val_recall: 0.7302 - learning_rate: 6.4000e-05\n",
            "Epoch 36/250\n",
            "\u001b[1m189/189\u001b[0m \u001b[32m━━━━━━━━━━━━━━━━━━━━\u001b[0m\u001b[37m\u001b[0m \u001b[1m7s\u001b[0m 31ms/step - accuracy: 0.7966 - auc: 0.9348 - loss: 0.4857 - precision: 0.8180 - recall: 0.7696 - val_accuracy: 0.7566 - val_auc: 0.8969 - val_loss: 0.6280 - val_precision: 0.7784 - val_recall: 0.7249 - learning_rate: 6.4000e-05\n",
            "Epoch 37/250\n",
            "\u001b[1m189/189\u001b[0m \u001b[32m━━━━━━━━━━━━━━━━━━━━\u001b[0m\u001b[37m\u001b[0m \u001b[1m7s\u001b[0m 31ms/step - accuracy: 0.8018 - auc: 0.9383 - loss: 0.4735 - precision: 0.8256 - recall: 0.7735 - val_accuracy: 0.7487 - val_auc: 0.8968 - val_loss: 0.6406 - val_precision: 0.7604 - val_recall: 0.7222 - learning_rate: 6.4000e-05\n",
            "Epoch 38/250\n",
            "\u001b[1m188/189\u001b[0m \u001b[32m━━━━━━━━━━━━━━━━━━━\u001b[0m\u001b[37m━\u001b[0m \u001b[1m0s\u001b[0m 29ms/step - accuracy: 0.8068 - auc: 0.9404 - loss: 0.4664 - precision: 0.8301 - recall: 0.7789\n",
            "Epoch 38: ReduceLROnPlateau reducing learning rate to 5.119999987073243e-05.\n",
            "\u001b[1m189/189\u001b[0m \u001b[32m━━━━━━━━━━━━━━━━━━━━\u001b[0m\u001b[37m\u001b[0m \u001b[1m7s\u001b[0m 31ms/step - accuracy: 0.8067 - auc: 0.9404 - loss: 0.4666 - precision: 0.8300 - recall: 0.7788 - val_accuracy: 0.7275 - val_auc: 0.8963 - val_loss: 0.6356 - val_precision: 0.7415 - val_recall: 0.6905 - learning_rate: 6.4000e-05\n",
            "Epoch 39/250\n",
            "\u001b[1m189/189\u001b[0m \u001b[32m━━━━━━━━━━━━━━━━━━━━\u001b[0m\u001b[37m\u001b[0m \u001b[1m7s\u001b[0m 32ms/step - accuracy: 0.8021 - auc: 0.9380 - loss: 0.4746 - precision: 0.8251 - recall: 0.7797 - val_accuracy: 0.7487 - val_auc: 0.9013 - val_loss: 0.6212 - val_precision: 0.7619 - val_recall: 0.7196 - learning_rate: 5.1200e-05\n",
            "Epoch 40/250\n",
            "\u001b[1m189/189\u001b[0m \u001b[32m━━━━━━━━━━━━━━━━━━━━\u001b[0m\u001b[37m\u001b[0m \u001b[1m7s\u001b[0m 31ms/step - accuracy: 0.8129 - auc: 0.9435 - loss: 0.4535 - precision: 0.8383 - recall: 0.7869 - val_accuracy: 0.7434 - val_auc: 0.8956 - val_loss: 0.6381 - val_precision: 0.7634 - val_recall: 0.7169 - learning_rate: 5.1200e-05\n",
            "Epoch 41/250\n",
            "\u001b[1m189/189\u001b[0m \u001b[32m━━━━━━━━━━━━━━━━━━━━\u001b[0m\u001b[37m\u001b[0m \u001b[1m7s\u001b[0m 31ms/step - accuracy: 0.8067 - auc: 0.9445 - loss: 0.4472 - precision: 0.8275 - recall: 0.7839 - val_accuracy: 0.7513 - val_auc: 0.8979 - val_loss: 0.6337 - val_precision: 0.7712 - val_recall: 0.7222 - learning_rate: 5.1200e-05\n",
            "Epoch 42/250\n",
            "\u001b[1m188/189\u001b[0m \u001b[32m━━━━━━━━━━━━━━━━━━━\u001b[0m\u001b[37m━\u001b[0m \u001b[1m0s\u001b[0m 29ms/step - accuracy: 0.8154 - auc: 0.9463 - loss: 0.4440 - precision: 0.8388 - recall: 0.7897\n",
            "Epoch 42: ReduceLROnPlateau reducing learning rate to 4.0960000478662555e-05.\n",
            "\u001b[1m189/189\u001b[0m \u001b[32m━━━━━━━━━━━━━━━━━━━━\u001b[0m\u001b[37m\u001b[0m \u001b[1m7s\u001b[0m 31ms/step - accuracy: 0.8153 - auc: 0.9463 - loss: 0.4442 - precision: 0.8387 - recall: 0.7896 - val_accuracy: 0.7593 - val_auc: 0.8990 - val_loss: 0.6261 - val_precision: 0.7827 - val_recall: 0.7434 - learning_rate: 5.1200e-05\n",
            "Epoch 43/250\n",
            "\u001b[1m189/189\u001b[0m \u001b[32m━━━━━━━━━━━━━━━━━━━━\u001b[0m\u001b[37m\u001b[0m \u001b[1m7s\u001b[0m 32ms/step - accuracy: 0.8276 - auc: 0.9490 - loss: 0.4323 - precision: 0.8492 - recall: 0.7944 - val_accuracy: 0.7540 - val_auc: 0.9030 - val_loss: 0.6186 - val_precision: 0.7790 - val_recall: 0.7460 - learning_rate: 4.0960e-05\n",
            "Epoch 44/250\n",
            "\u001b[1m189/189\u001b[0m \u001b[32m━━━━━━━━━━━━━━━━━━━━\u001b[0m\u001b[37m\u001b[0m \u001b[1m7s\u001b[0m 31ms/step - accuracy: 0.8193 - auc: 0.9461 - loss: 0.4433 - precision: 0.8386 - recall: 0.7927 - val_accuracy: 0.7725 - val_auc: 0.9028 - val_loss: 0.6160 - val_precision: 0.7978 - val_recall: 0.7513 - learning_rate: 4.0960e-05\n",
            "Epoch 45/250\n",
            "\u001b[1m189/189\u001b[0m \u001b[32m━━━━━━━━━━━━━━━━━━━━\u001b[0m\u001b[37m\u001b[0m \u001b[1m7s\u001b[0m 31ms/step - accuracy: 0.8197 - auc: 0.9487 - loss: 0.4333 - precision: 0.8388 - recall: 0.7962 - val_accuracy: 0.7540 - val_auc: 0.9043 - val_loss: 0.6113 - val_precision: 0.7722 - val_recall: 0.7354 - learning_rate: 4.0960e-05\n",
            "Epoch 46/250\n",
            "\u001b[1m189/189\u001b[0m \u001b[32m━━━━━━━━━━━━━━━━━━━━\u001b[0m\u001b[37m\u001b[0m \u001b[1m7s\u001b[0m 32ms/step - accuracy: 0.8224 - auc: 0.9485 - loss: 0.4352 - precision: 0.8420 - recall: 0.7936 - val_accuracy: 0.7593 - val_auc: 0.9046 - val_loss: 0.6137 - val_precision: 0.7703 - val_recall: 0.7275 - learning_rate: 4.0960e-05\n",
            "Epoch 47/250\n",
            "\u001b[1m189/189\u001b[0m \u001b[32m━━━━━━━━━━━━━━━━━━━━\u001b[0m\u001b[37m\u001b[0m \u001b[1m7s\u001b[0m 31ms/step - accuracy: 0.8308 - auc: 0.9508 - loss: 0.4250 - precision: 0.8457 - recall: 0.8040 - val_accuracy: 0.7434 - val_auc: 0.8992 - val_loss: 0.6325 - val_precision: 0.7577 - val_recall: 0.7196 - learning_rate: 4.0960e-05\n",
            "Epoch 48/250\n",
            "\u001b[1m189/189\u001b[0m \u001b[32m━━━━━━━━━━━━━━━━━━━━\u001b[0m\u001b[37m\u001b[0m \u001b[1m7s\u001b[0m 32ms/step - accuracy: 0.8231 - auc: 0.9493 - loss: 0.4308 - precision: 0.8411 - recall: 0.8012 - val_accuracy: 0.7566 - val_auc: 0.9080 - val_loss: 0.5963 - val_precision: 0.7699 - val_recall: 0.7434 - learning_rate: 4.0960e-05\n",
            "Epoch 49/250\n",
            "\u001b[1m189/189\u001b[0m \u001b[32m━━━━━━━━━━━━━━━━━━━━\u001b[0m\u001b[37m\u001b[0m \u001b[1m7s\u001b[0m 31ms/step - accuracy: 0.8230 - auc: 0.9476 - loss: 0.4380 - precision: 0.8417 - recall: 0.7989 - val_accuracy: 0.7698 - val_auc: 0.9057 - val_loss: 0.6112 - val_precision: 0.7859 - val_recall: 0.7672 - learning_rate: 4.0960e-05\n",
            "Epoch 50/250\n",
            "\u001b[1m189/189\u001b[0m \u001b[32m━━━━━━━━━━━━━━━━━━━━\u001b[0m\u001b[37m\u001b[0m \u001b[1m7s\u001b[0m 32ms/step - accuracy: 0.8307 - auc: 0.9507 - loss: 0.4246 - precision: 0.8492 - recall: 0.8053 - val_accuracy: 0.7698 - val_auc: 0.9075 - val_loss: 0.5990 - val_precision: 0.7887 - val_recall: 0.7407 - learning_rate: 4.0960e-05\n",
            "Epoch 51/250\n",
            "\u001b[1m188/189\u001b[0m \u001b[32m━━━━━━━━━━━━━━━━━━━\u001b[0m\u001b[37m━\u001b[0m \u001b[1m0s\u001b[0m 29ms/step - accuracy: 0.8235 - auc: 0.9516 - loss: 0.4188 - precision: 0.8447 - recall: 0.7993\n",
            "Epoch 51: ReduceLROnPlateau reducing learning rate to 3.2767999800853435e-05.\n",
            "\u001b[1m189/189\u001b[0m \u001b[32m━━━━━━━━━━━━━━━━━━━━\u001b[0m\u001b[37m\u001b[0m \u001b[1m7s\u001b[0m 31ms/step - accuracy: 0.8235 - auc: 0.9516 - loss: 0.4192 - precision: 0.8446 - recall: 0.7992 - val_accuracy: 0.7725 - val_auc: 0.9047 - val_loss: 0.6137 - val_precision: 0.7939 - val_recall: 0.7540 - learning_rate: 4.0960e-05\n",
            "Epoch 52/250\n",
            "\u001b[1m189/189\u001b[0m \u001b[32m━━━━━━━━━━━━━━━━━━━━\u001b[0m\u001b[37m\u001b[0m \u001b[1m7s\u001b[0m 31ms/step - accuracy: 0.8375 - auc: 0.9574 - loss: 0.3983 - precision: 0.8558 - recall: 0.8139 - val_accuracy: 0.7698 - val_auc: 0.9081 - val_loss: 0.6000 - val_precision: 0.7883 - val_recall: 0.7487 - learning_rate: 3.2768e-05\n",
            "Epoch 53/250\n",
            "\u001b[1m189/189\u001b[0m \u001b[32m━━━━━━━━━━━━━━━━━━━━\u001b[0m\u001b[37m\u001b[0m \u001b[1m7s\u001b[0m 31ms/step - accuracy: 0.8339 - auc: 0.9552 - loss: 0.4052 - precision: 0.8535 - recall: 0.8093 - val_accuracy: 0.7619 - val_auc: 0.9072 - val_loss: 0.6046 - val_precision: 0.7688 - val_recall: 0.7302 - learning_rate: 3.2768e-05\n",
            "Epoch 54/250\n",
            "\u001b[1m189/189\u001b[0m \u001b[32m━━━━━━━━━━━━━━━━━━━━\u001b[0m\u001b[37m\u001b[0m \u001b[1m7s\u001b[0m 32ms/step - accuracy: 0.8343 - auc: 0.9552 - loss: 0.4066 - precision: 0.8530 - recall: 0.8084 - val_accuracy: 0.7619 - val_auc: 0.9084 - val_loss: 0.5994 - val_precision: 0.7849 - val_recall: 0.7434 - learning_rate: 3.2768e-05\n",
            "Epoch 55/250\n",
            "\u001b[1m189/189\u001b[0m \u001b[32m━━━━━━━━━━━━━━━━━━━━\u001b[0m\u001b[37m\u001b[0m \u001b[1m7s\u001b[0m 32ms/step - accuracy: 0.8359 - auc: 0.9540 - loss: 0.4116 - precision: 0.8552 - recall: 0.8099 - val_accuracy: 0.7751 - val_auc: 0.9032 - val_loss: 0.6282 - val_precision: 0.7875 - val_recall: 0.7646 - learning_rate: 3.2768e-05\n",
            "Epoch 56/250\n",
            "\u001b[1m189/189\u001b[0m \u001b[32m━━━━━━━━━━━━━━━━━━━━\u001b[0m\u001b[37m\u001b[0m \u001b[1m7s\u001b[0m 31ms/step - accuracy: 0.8347 - auc: 0.9569 - loss: 0.3992 - precision: 0.8534 - recall: 0.8106 - val_accuracy: 0.7672 - val_auc: 0.9096 - val_loss: 0.5965 - val_precision: 0.7921 - val_recall: 0.7460 - learning_rate: 3.2768e-05\n",
            "Epoch 57/250\n",
            "\u001b[1m189/189\u001b[0m \u001b[32m━━━━━━━━━━━━━━━━━━━━\u001b[0m\u001b[37m\u001b[0m \u001b[1m7s\u001b[0m 32ms/step - accuracy: 0.8351 - auc: 0.9584 - loss: 0.3907 - precision: 0.8540 - recall: 0.8160 - val_accuracy: 0.7513 - val_auc: 0.9062 - val_loss: 0.6080 - val_precision: 0.7753 - val_recall: 0.7302 - learning_rate: 3.2768e-05\n",
            "Epoch 58/250\n",
            "\u001b[1m189/189\u001b[0m \u001b[32m━━━━━━━━━━━━━━━━━━━━\u001b[0m\u001b[37m\u001b[0m \u001b[1m7s\u001b[0m 31ms/step - accuracy: 0.8322 - auc: 0.9559 - loss: 0.4018 - precision: 0.8514 - recall: 0.8119 - val_accuracy: 0.7646 - val_auc: 0.9107 - val_loss: 0.5936 - val_precision: 0.7824 - val_recall: 0.7513 - learning_rate: 3.2768e-05\n",
            "Epoch 59/250\n",
            "\u001b[1m189/189\u001b[0m \u001b[32m━━━━━━━━━━━━━━━━━━━━\u001b[0m\u001b[37m\u001b[0m \u001b[1m7s\u001b[0m 31ms/step - accuracy: 0.8314 - auc: 0.9572 - loss: 0.3967 - precision: 0.8480 - recall: 0.8071 - val_accuracy: 0.7831 - val_auc: 0.9107 - val_loss: 0.5982 - val_precision: 0.8095 - val_recall: 0.7646 - learning_rate: 3.2768e-05\n",
            "Epoch 60/250\n",
            "\u001b[1m189/189\u001b[0m \u001b[32m━━━━━━━━━━━━━━━━━━━━\u001b[0m\u001b[37m\u001b[0m \u001b[1m7s\u001b[0m 31ms/step - accuracy: 0.8351 - auc: 0.9554 - loss: 0.4056 - precision: 0.8586 - recall: 0.8142 - val_accuracy: 0.7778 - val_auc: 0.9116 - val_loss: 0.5947 - val_precision: 0.7901 - val_recall: 0.7566 - learning_rate: 3.2768e-05\n",
            "Epoch 61/250\n",
            "\u001b[1m189/189\u001b[0m \u001b[32m━━━━━━━━━━━━━━━━━━━━\u001b[0m\u001b[37m\u001b[0m \u001b[1m7s\u001b[0m 31ms/step - accuracy: 0.8437 - auc: 0.9568 - loss: 0.3971 - precision: 0.8611 - recall: 0.8198 - val_accuracy: 0.7698 - val_auc: 0.9134 - val_loss: 0.5829 - val_precision: 0.7933 - val_recall: 0.7513 - learning_rate: 3.2768e-05\n",
            "Epoch 62/250\n",
            "\u001b[1m189/189\u001b[0m \u001b[32m━━━━━━━━━━━━━━━━━━━━\u001b[0m\u001b[37m\u001b[0m \u001b[1m7s\u001b[0m 32ms/step - accuracy: 0.8432 - auc: 0.9580 - loss: 0.3928 - precision: 0.8566 - recall: 0.8182 - val_accuracy: 0.7513 - val_auc: 0.9100 - val_loss: 0.5948 - val_precision: 0.7843 - val_recall: 0.7407 - learning_rate: 3.2768e-05\n",
            "Epoch 63/250\n",
            "\u001b[1m189/189\u001b[0m \u001b[32m━━━━━━━━━━━━━━━━━━━━\u001b[0m\u001b[37m\u001b[0m \u001b[1m7s\u001b[0m 32ms/step - accuracy: 0.8393 - auc: 0.9572 - loss: 0.3963 - precision: 0.8547 - recall: 0.8113 - val_accuracy: 0.7513 - val_auc: 0.9135 - val_loss: 0.5811 - val_precision: 0.7713 - val_recall: 0.7407 - learning_rate: 3.2768e-05\n",
            "Epoch 64/250\n",
            "\u001b[1m188/189\u001b[0m \u001b[32m━━━━━━━━━━━━━━━━━━━\u001b[0m\u001b[37m━\u001b[0m \u001b[1m0s\u001b[0m 29ms/step - accuracy: 0.8325 - auc: 0.9550 - loss: 0.4061 - precision: 0.8482 - recall: 0.8102\n",
            "Epoch 64: ReduceLROnPlateau reducing learning rate to 2.6214399258606137e-05.\n",
            "\u001b[1m189/189\u001b[0m \u001b[32m━━━━━━━━━━━━━━━━━━━━\u001b[0m\u001b[37m\u001b[0m \u001b[1m7s\u001b[0m 32ms/step - accuracy: 0.8324 - auc: 0.9549 - loss: 0.4063 - precision: 0.8481 - recall: 0.8101 - val_accuracy: 0.7698 - val_auc: 0.9113 - val_loss: 0.5952 - val_precision: 0.7793 - val_recall: 0.7566 - learning_rate: 3.2768e-05\n",
            "Epoch 65/250\n",
            "\u001b[1m189/189\u001b[0m \u001b[32m━━━━━━━━━━━━━━━━━━━━\u001b[0m\u001b[37m\u001b[0m \u001b[1m7s\u001b[0m 31ms/step - accuracy: 0.8393 - auc: 0.9600 - loss: 0.3864 - precision: 0.8582 - recall: 0.8168 - val_accuracy: 0.7698 - val_auc: 0.9095 - val_loss: 0.6067 - val_precision: 0.7781 - val_recall: 0.7513 - learning_rate: 2.6214e-05\n",
            "Epoch 66/250\n",
            "\u001b[1m189/189\u001b[0m \u001b[32m━━━━━━━━━━━━━━━━━━━━\u001b[0m\u001b[37m\u001b[0m \u001b[1m7s\u001b[0m 32ms/step - accuracy: 0.8426 - auc: 0.9593 - loss: 0.3861 - precision: 0.8599 - recall: 0.8246 - val_accuracy: 0.7646 - val_auc: 0.9112 - val_loss: 0.5975 - val_precision: 0.7711 - val_recall: 0.7487 - learning_rate: 2.6214e-05\n",
            "Epoch 67/250\n",
            "\u001b[1m188/189\u001b[0m \u001b[32m━━━━━━━━━━━━━━━━━━━\u001b[0m\u001b[37m━\u001b[0m \u001b[1m0s\u001b[0m 29ms/step - accuracy: 0.8440 - auc: 0.9596 - loss: 0.3846 - precision: 0.8595 - recall: 0.8232\n",
            "Epoch 67: ReduceLROnPlateau reducing learning rate to 2.09715188248083e-05.\n",
            "\u001b[1m189/189\u001b[0m \u001b[32m━━━━━━━━━━━━━━━━━━━━\u001b[0m\u001b[37m\u001b[0m \u001b[1m7s\u001b[0m 31ms/step - accuracy: 0.8439 - auc: 0.9595 - loss: 0.3848 - precision: 0.8594 - recall: 0.8231 - val_accuracy: 0.7804 - val_auc: 0.9124 - val_loss: 0.5926 - val_precision: 0.7944 - val_recall: 0.7460 - learning_rate: 2.6214e-05\n",
            "Epoch 68/250\n",
            "\u001b[1m189/189\u001b[0m \u001b[32m━━━━━━━━━━━━━━━━━━━━\u001b[0m\u001b[37m\u001b[0m \u001b[1m7s\u001b[0m 31ms/step - accuracy: 0.8540 - auc: 0.9645 - loss: 0.3642 - precision: 0.8698 - recall: 0.8335 - val_accuracy: 0.7698 - val_auc: 0.9126 - val_loss: 0.5921 - val_precision: 0.7879 - val_recall: 0.7566 - learning_rate: 2.0972e-05\n",
            "Epoch 69/250\n",
            "\u001b[1m189/189\u001b[0m \u001b[32m━━━━━━━━━━━━━━━━━━━━\u001b[0m\u001b[37m\u001b[0m \u001b[1m7s\u001b[0m 32ms/step - accuracy: 0.8487 - auc: 0.9614 - loss: 0.3777 - precision: 0.8699 - recall: 0.8283 - val_accuracy: 0.7804 - val_auc: 0.9152 - val_loss: 0.5778 - val_precision: 0.7842 - val_recall: 0.7593 - learning_rate: 2.0972e-05\n",
            "Epoch 70/250\n",
            "\u001b[1m189/189\u001b[0m \u001b[32m━━━━━━━━━━━━━━━━━━━━\u001b[0m\u001b[37m\u001b[0m \u001b[1m7s\u001b[0m 31ms/step - accuracy: 0.8569 - auc: 0.9654 - loss: 0.3578 - precision: 0.8703 - recall: 0.8398 - val_accuracy: 0.7698 - val_auc: 0.9123 - val_loss: 0.5940 - val_precision: 0.7895 - val_recall: 0.7540 - learning_rate: 2.0972e-05\n",
            "Epoch 71/250\n",
            "\u001b[1m189/189\u001b[0m \u001b[32m━━━━━━━━━━━━━━━━━━━━\u001b[0m\u001b[37m\u001b[0m \u001b[1m7s\u001b[0m 32ms/step - accuracy: 0.8446 - auc: 0.9615 - loss: 0.3758 - precision: 0.8668 - recall: 0.8253 - val_accuracy: 0.7725 - val_auc: 0.9125 - val_loss: 0.5949 - val_precision: 0.7873 - val_recall: 0.7540 - learning_rate: 2.0972e-05\n",
            "Epoch 72/250\n",
            "\u001b[1m188/189\u001b[0m \u001b[32m━━━━━━━━━━━━━━━━━━━\u001b[0m\u001b[37m━\u001b[0m \u001b[1m0s\u001b[0m 30ms/step - accuracy: 0.8525 - auc: 0.9635 - loss: 0.3689 - precision: 0.8720 - recall: 0.8302\n",
            "Epoch 72: ReduceLROnPlateau reducing learning rate to 1.6777214477770033e-05.\n",
            "\u001b[1m189/189\u001b[0m \u001b[32m━━━━━━━━━━━━━━━━━━━━\u001b[0m\u001b[37m\u001b[0m \u001b[1m7s\u001b[0m 32ms/step - accuracy: 0.8523 - auc: 0.9634 - loss: 0.3693 - precision: 0.8718 - recall: 0.8300 - val_accuracy: 0.7778 - val_auc: 0.9103 - val_loss: 0.6001 - val_precision: 0.7836 - val_recall: 0.7566 - learning_rate: 2.0972e-05\n",
            "Epoch 73/250\n",
            "\u001b[1m189/189\u001b[0m \u001b[32m━━━━━━━━━━━━━━━━━━━━\u001b[0m\u001b[37m\u001b[0m \u001b[1m7s\u001b[0m 32ms/step - accuracy: 0.8487 - auc: 0.9624 - loss: 0.3726 - precision: 0.8672 - recall: 0.8261 - val_accuracy: 0.7698 - val_auc: 0.9126 - val_loss: 0.5903 - val_precision: 0.7855 - val_recall: 0.7460 - learning_rate: 1.6777e-05\n",
            "Epoch 74/250\n",
            "\u001b[1m189/189\u001b[0m \u001b[32m━━━━━━━━━━━━━━━━━━━━\u001b[0m\u001b[37m\u001b[0m \u001b[1m7s\u001b[0m 31ms/step - accuracy: 0.8536 - auc: 0.9628 - loss: 0.3674 - precision: 0.8722 - recall: 0.8368 - val_accuracy: 0.7751 - val_auc: 0.9130 - val_loss: 0.5871 - val_precision: 0.7983 - val_recall: 0.7540 - learning_rate: 1.6777e-05\n",
            "Epoch 75/250\n",
            "\u001b[1m188/189\u001b[0m \u001b[32m━━━━━━━━━━━━━━━━━━━\u001b[0m\u001b[37m━\u001b[0m \u001b[1m0s\u001b[0m 29ms/step - accuracy: 0.8610 - auc: 0.9653 - loss: 0.3592 - precision: 0.8757 - recall: 0.8413\n",
            "Epoch 75: ReduceLROnPlateau reducing learning rate to 1.3421771291177721e-05.\n",
            "\u001b[1m189/189\u001b[0m \u001b[32m━━━━━━━━━━━━━━━━━━━━\u001b[0m\u001b[37m\u001b[0m \u001b[1m7s\u001b[0m 31ms/step - accuracy: 0.8608 - auc: 0.9652 - loss: 0.3595 - precision: 0.8755 - recall: 0.8411 - val_accuracy: 0.7646 - val_auc: 0.9124 - val_loss: 0.5930 - val_precision: 0.7849 - val_recall: 0.7434 - learning_rate: 1.6777e-05\n",
            "Epoch 76/250\n",
            "\u001b[1m189/189\u001b[0m \u001b[32m━━━━━━━━━━━━━━━━━━━━\u001b[0m\u001b[37m\u001b[0m \u001b[1m7s\u001b[0m 31ms/step - accuracy: 0.8470 - auc: 0.9641 - loss: 0.3654 - precision: 0.8655 - recall: 0.8260 - val_accuracy: 0.7751 - val_auc: 0.9134 - val_loss: 0.5857 - val_precision: 0.7889 - val_recall: 0.7513 - learning_rate: 1.3422e-05\n",
            "Epoch 77/250\n",
            "\u001b[1m189/189\u001b[0m \u001b[32m━━━━━━━━━━━━━━━━━━━━\u001b[0m\u001b[37m\u001b[0m \u001b[1m7s\u001b[0m 31ms/step - accuracy: 0.8568 - auc: 0.9675 - loss: 0.3460 - precision: 0.8727 - recall: 0.8405 - val_accuracy: 0.7804 - val_auc: 0.9142 - val_loss: 0.5894 - val_precision: 0.7859 - val_recall: 0.7672 - learning_rate: 1.3422e-05\n"
          ]
        }
      ],
      "source": [
        "history = model.fit(trainDataset,\n",
        "                        validation_data=validDataset,\n",
        "                        epochs=250,\n",
        "                        callbacks=[early_stopping, reduceLRCallback],\n",
        "                        verbose=1)"
      ]
    },
    {
      "cell_type": "markdown",
      "metadata": {
        "id": "w38JJAEZmZwd"
      },
      "source": [
        "# FINE-TUNING"
      ]
    },
    {
      "cell_type": "code",
      "execution_count": 18,
      "metadata": {
        "id": "01akVD_GmZwd"
      },
      "outputs": [],
      "source": [
        "for layer in model.layers[1:-8]:\n",
        "    layer.trainable = True"
      ]
    },
    {
      "cell_type": "code",
      "execution_count": 19,
      "metadata": {
        "id": "c9P4mBy1mZwd"
      },
      "outputs": [],
      "source": [
        "model.compile(optimizer=tf.keras.optimizers.Adam(learning_rate=2e-6), loss=\"categorical_crossentropy\", metrics=metrics)"
      ]
    },
    {
      "cell_type": "code",
      "execution_count": 20,
      "metadata": {
        "id": "8MpUqpqGmZwd",
        "colab": {
          "base_uri": "https://localhost:8080/",
          "height": 1000
        },
        "outputId": "02d86573-e8f2-4fde-ff7c-c83e85325a2c"
      },
      "outputs": [
        {
          "output_type": "display_data",
          "data": {
            "text/plain": [
              "\u001b[1mModel: \"functional\"\u001b[0m\n"
            ],
            "text/html": [
              "<pre style=\"white-space:pre;overflow-x:auto;line-height:normal;font-family:Menlo,'DejaVu Sans Mono',consolas,'Courier New',monospace\"><span style=\"font-weight: bold\">Model: \"functional\"</span>\n",
              "</pre>\n"
            ]
          },
          "metadata": {}
        },
        {
          "output_type": "display_data",
          "data": {
            "text/plain": [
              "┏━━━━━━━━━━━━━━━━━━━━━━━━━━━━━━━━━━━━━━┳━━━━━━━━━━━━━━━━━━━━━━━━━━━━━┳━━━━━━━━━━━━━━━━━┓\n",
              "┃\u001b[1m \u001b[0m\u001b[1mLayer (type)                        \u001b[0m\u001b[1m \u001b[0m┃\u001b[1m \u001b[0m\u001b[1mOutput Shape               \u001b[0m\u001b[1m \u001b[0m┃\u001b[1m \u001b[0m\u001b[1m        Param #\u001b[0m\u001b[1m \u001b[0m┃\n",
              "┡━━━━━━━━━━━━━━━━━━━━━━━━━━━━━━━━━━━━━━╇━━━━━━━━━━━━━━━━━━━━━━━━━━━━━╇━━━━━━━━━━━━━━━━━┩\n",
              "│ Input_Layer (\u001b[38;5;33mInputLayer\u001b[0m)             │ (\u001b[38;5;45mNone\u001b[0m, \u001b[38;5;34m224\u001b[0m, \u001b[38;5;34m224\u001b[0m, \u001b[38;5;34m3\u001b[0m)         │               \u001b[38;5;34m0\u001b[0m │\n",
              "├──────────────────────────────────────┼─────────────────────────────┼─────────────────┤\n",
              "│ block1_conv1 (\u001b[38;5;33mConv2D\u001b[0m)                │ (\u001b[38;5;45mNone\u001b[0m, \u001b[38;5;34m224\u001b[0m, \u001b[38;5;34m224\u001b[0m, \u001b[38;5;34m64\u001b[0m)        │           \u001b[38;5;34m1,792\u001b[0m │\n",
              "├──────────────────────────────────────┼─────────────────────────────┼─────────────────┤\n",
              "│ block1_conv2 (\u001b[38;5;33mConv2D\u001b[0m)                │ (\u001b[38;5;45mNone\u001b[0m, \u001b[38;5;34m224\u001b[0m, \u001b[38;5;34m224\u001b[0m, \u001b[38;5;34m64\u001b[0m)        │          \u001b[38;5;34m36,928\u001b[0m │\n",
              "├──────────────────────────────────────┼─────────────────────────────┼─────────────────┤\n",
              "│ block1_pool (\u001b[38;5;33mMaxPooling2D\u001b[0m)           │ (\u001b[38;5;45mNone\u001b[0m, \u001b[38;5;34m112\u001b[0m, \u001b[38;5;34m112\u001b[0m, \u001b[38;5;34m64\u001b[0m)        │               \u001b[38;5;34m0\u001b[0m │\n",
              "├──────────────────────────────────────┼─────────────────────────────┼─────────────────┤\n",
              "│ block2_conv1 (\u001b[38;5;33mConv2D\u001b[0m)                │ (\u001b[38;5;45mNone\u001b[0m, \u001b[38;5;34m112\u001b[0m, \u001b[38;5;34m112\u001b[0m, \u001b[38;5;34m128\u001b[0m)       │          \u001b[38;5;34m73,856\u001b[0m │\n",
              "├──────────────────────────────────────┼─────────────────────────────┼─────────────────┤\n",
              "│ block2_conv2 (\u001b[38;5;33mConv2D\u001b[0m)                │ (\u001b[38;5;45mNone\u001b[0m, \u001b[38;5;34m112\u001b[0m, \u001b[38;5;34m112\u001b[0m, \u001b[38;5;34m128\u001b[0m)       │         \u001b[38;5;34m147,584\u001b[0m │\n",
              "├──────────────────────────────────────┼─────────────────────────────┼─────────────────┤\n",
              "│ block2_pool (\u001b[38;5;33mMaxPooling2D\u001b[0m)           │ (\u001b[38;5;45mNone\u001b[0m, \u001b[38;5;34m56\u001b[0m, \u001b[38;5;34m56\u001b[0m, \u001b[38;5;34m128\u001b[0m)         │               \u001b[38;5;34m0\u001b[0m │\n",
              "├──────────────────────────────────────┼─────────────────────────────┼─────────────────┤\n",
              "│ block3_conv1 (\u001b[38;5;33mConv2D\u001b[0m)                │ (\u001b[38;5;45mNone\u001b[0m, \u001b[38;5;34m56\u001b[0m, \u001b[38;5;34m56\u001b[0m, \u001b[38;5;34m256\u001b[0m)         │         \u001b[38;5;34m295,168\u001b[0m │\n",
              "├──────────────────────────────────────┼─────────────────────────────┼─────────────────┤\n",
              "│ block3_conv2 (\u001b[38;5;33mConv2D\u001b[0m)                │ (\u001b[38;5;45mNone\u001b[0m, \u001b[38;5;34m56\u001b[0m, \u001b[38;5;34m56\u001b[0m, \u001b[38;5;34m256\u001b[0m)         │         \u001b[38;5;34m590,080\u001b[0m │\n",
              "├──────────────────────────────────────┼─────────────────────────────┼─────────────────┤\n",
              "│ block3_conv3 (\u001b[38;5;33mConv2D\u001b[0m)                │ (\u001b[38;5;45mNone\u001b[0m, \u001b[38;5;34m56\u001b[0m, \u001b[38;5;34m56\u001b[0m, \u001b[38;5;34m256\u001b[0m)         │         \u001b[38;5;34m590,080\u001b[0m │\n",
              "├──────────────────────────────────────┼─────────────────────────────┼─────────────────┤\n",
              "│ block3_conv4 (\u001b[38;5;33mConv2D\u001b[0m)                │ (\u001b[38;5;45mNone\u001b[0m, \u001b[38;5;34m56\u001b[0m, \u001b[38;5;34m56\u001b[0m, \u001b[38;5;34m256\u001b[0m)         │         \u001b[38;5;34m590,080\u001b[0m │\n",
              "├──────────────────────────────────────┼─────────────────────────────┼─────────────────┤\n",
              "│ block3_pool (\u001b[38;5;33mMaxPooling2D\u001b[0m)           │ (\u001b[38;5;45mNone\u001b[0m, \u001b[38;5;34m28\u001b[0m, \u001b[38;5;34m28\u001b[0m, \u001b[38;5;34m256\u001b[0m)         │               \u001b[38;5;34m0\u001b[0m │\n",
              "├──────────────────────────────────────┼─────────────────────────────┼─────────────────┤\n",
              "│ block4_conv1 (\u001b[38;5;33mConv2D\u001b[0m)                │ (\u001b[38;5;45mNone\u001b[0m, \u001b[38;5;34m28\u001b[0m, \u001b[38;5;34m28\u001b[0m, \u001b[38;5;34m512\u001b[0m)         │       \u001b[38;5;34m1,180,160\u001b[0m │\n",
              "├──────────────────────────────────────┼─────────────────────────────┼─────────────────┤\n",
              "│ block4_conv2 (\u001b[38;5;33mConv2D\u001b[0m)                │ (\u001b[38;5;45mNone\u001b[0m, \u001b[38;5;34m28\u001b[0m, \u001b[38;5;34m28\u001b[0m, \u001b[38;5;34m512\u001b[0m)         │       \u001b[38;5;34m2,359,808\u001b[0m │\n",
              "├──────────────────────────────────────┼─────────────────────────────┼─────────────────┤\n",
              "│ block4_conv3 (\u001b[38;5;33mConv2D\u001b[0m)                │ (\u001b[38;5;45mNone\u001b[0m, \u001b[38;5;34m28\u001b[0m, \u001b[38;5;34m28\u001b[0m, \u001b[38;5;34m512\u001b[0m)         │       \u001b[38;5;34m2,359,808\u001b[0m │\n",
              "├──────────────────────────────────────┼─────────────────────────────┼─────────────────┤\n",
              "│ block4_conv4 (\u001b[38;5;33mConv2D\u001b[0m)                │ (\u001b[38;5;45mNone\u001b[0m, \u001b[38;5;34m28\u001b[0m, \u001b[38;5;34m28\u001b[0m, \u001b[38;5;34m512\u001b[0m)         │       \u001b[38;5;34m2,359,808\u001b[0m │\n",
              "├──────────────────────────────────────┼─────────────────────────────┼─────────────────┤\n",
              "│ block4_pool (\u001b[38;5;33mMaxPooling2D\u001b[0m)           │ (\u001b[38;5;45mNone\u001b[0m, \u001b[38;5;34m14\u001b[0m, \u001b[38;5;34m14\u001b[0m, \u001b[38;5;34m512\u001b[0m)         │               \u001b[38;5;34m0\u001b[0m │\n",
              "├──────────────────────────────────────┼─────────────────────────────┼─────────────────┤\n",
              "│ block5_conv1 (\u001b[38;5;33mConv2D\u001b[0m)                │ (\u001b[38;5;45mNone\u001b[0m, \u001b[38;5;34m14\u001b[0m, \u001b[38;5;34m14\u001b[0m, \u001b[38;5;34m512\u001b[0m)         │       \u001b[38;5;34m2,359,808\u001b[0m │\n",
              "├──────────────────────────────────────┼─────────────────────────────┼─────────────────┤\n",
              "│ block5_conv2 (\u001b[38;5;33mConv2D\u001b[0m)                │ (\u001b[38;5;45mNone\u001b[0m, \u001b[38;5;34m14\u001b[0m, \u001b[38;5;34m14\u001b[0m, \u001b[38;5;34m512\u001b[0m)         │       \u001b[38;5;34m2,359,808\u001b[0m │\n",
              "├──────────────────────────────────────┼─────────────────────────────┼─────────────────┤\n",
              "│ block5_conv3 (\u001b[38;5;33mConv2D\u001b[0m)                │ (\u001b[38;5;45mNone\u001b[0m, \u001b[38;5;34m14\u001b[0m, \u001b[38;5;34m14\u001b[0m, \u001b[38;5;34m512\u001b[0m)         │       \u001b[38;5;34m2,359,808\u001b[0m │\n",
              "├──────────────────────────────────────┼─────────────────────────────┼─────────────────┤\n",
              "│ block5_conv4 (\u001b[38;5;33mConv2D\u001b[0m)                │ (\u001b[38;5;45mNone\u001b[0m, \u001b[38;5;34m14\u001b[0m, \u001b[38;5;34m14\u001b[0m, \u001b[38;5;34m512\u001b[0m)         │       \u001b[38;5;34m2,359,808\u001b[0m │\n",
              "├──────────────────────────────────────┼─────────────────────────────┼─────────────────┤\n",
              "│ block5_pool (\u001b[38;5;33mMaxPooling2D\u001b[0m)           │ (\u001b[38;5;45mNone\u001b[0m, \u001b[38;5;34m7\u001b[0m, \u001b[38;5;34m7\u001b[0m, \u001b[38;5;34m512\u001b[0m)           │               \u001b[38;5;34m0\u001b[0m │\n",
              "├──────────────────────────────────────┼─────────────────────────────┼─────────────────┤\n",
              "│ Global_Average_Pooling               │ (\u001b[38;5;45mNone\u001b[0m, \u001b[38;5;34m512\u001b[0m)                 │               \u001b[38;5;34m0\u001b[0m │\n",
              "│ (\u001b[38;5;33mGlobalAveragePooling2D\u001b[0m)             │                             │                 │\n",
              "├──────────────────────────────────────┼─────────────────────────────┼─────────────────┤\n",
              "│ FC_512 (\u001b[38;5;33mDense\u001b[0m)                       │ (\u001b[38;5;45mNone\u001b[0m, \u001b[38;5;34m512\u001b[0m)                 │         \u001b[38;5;34m262,656\u001b[0m │\n",
              "├──────────────────────────────────────┼─────────────────────────────┼─────────────────┤\n",
              "│ Batch_Normalization2                 │ (\u001b[38;5;45mNone\u001b[0m, \u001b[38;5;34m512\u001b[0m)                 │           \u001b[38;5;34m2,048\u001b[0m │\n",
              "│ (\u001b[38;5;33mBatchNormalization\u001b[0m)                 │                             │                 │\n",
              "├──────────────────────────────────────┼─────────────────────────────┼─────────────────┤\n",
              "│ Dropout1 (\u001b[38;5;33mDropout\u001b[0m)                   │ (\u001b[38;5;45mNone\u001b[0m, \u001b[38;5;34m512\u001b[0m)                 │               \u001b[38;5;34m0\u001b[0m │\n",
              "├──────────────────────────────────────┼─────────────────────────────┼─────────────────┤\n",
              "│ FC_256 (\u001b[38;5;33mDense\u001b[0m)                       │ (\u001b[38;5;45mNone\u001b[0m, \u001b[38;5;34m256\u001b[0m)                 │         \u001b[38;5;34m131,328\u001b[0m │\n",
              "├──────────────────────────────────────┼─────────────────────────────┼─────────────────┤\n",
              "│ Batch_Normalization3                 │ (\u001b[38;5;45mNone\u001b[0m, \u001b[38;5;34m256\u001b[0m)                 │           \u001b[38;5;34m1,024\u001b[0m │\n",
              "│ (\u001b[38;5;33mBatchNormalization\u001b[0m)                 │                             │                 │\n",
              "├──────────────────────────────────────┼─────────────────────────────┼─────────────────┤\n",
              "│ Dropout2 (\u001b[38;5;33mDropout\u001b[0m)                   │ (\u001b[38;5;45mNone\u001b[0m, \u001b[38;5;34m256\u001b[0m)                 │               \u001b[38;5;34m0\u001b[0m │\n",
              "├──────────────────────────────────────┼─────────────────────────────┼─────────────────┤\n",
              "│ Output_Layer (\u001b[38;5;33mDense\u001b[0m)                 │ (\u001b[38;5;45mNone\u001b[0m, \u001b[38;5;34m3\u001b[0m)                   │             \u001b[38;5;34m771\u001b[0m │\n",
              "└──────────────────────────────────────┴─────────────────────────────┴─────────────────┘\n"
            ],
            "text/html": [
              "<pre style=\"white-space:pre;overflow-x:auto;line-height:normal;font-family:Menlo,'DejaVu Sans Mono',consolas,'Courier New',monospace\">┏━━━━━━━━━━━━━━━━━━━━━━━━━━━━━━━━━━━━━━┳━━━━━━━━━━━━━━━━━━━━━━━━━━━━━┳━━━━━━━━━━━━━━━━━┓\n",
              "┃<span style=\"font-weight: bold\"> Layer (type)                         </span>┃<span style=\"font-weight: bold\"> Output Shape                </span>┃<span style=\"font-weight: bold\">         Param # </span>┃\n",
              "┡━━━━━━━━━━━━━━━━━━━━━━━━━━━━━━━━━━━━━━╇━━━━━━━━━━━━━━━━━━━━━━━━━━━━━╇━━━━━━━━━━━━━━━━━┩\n",
              "│ Input_Layer (<span style=\"color: #0087ff; text-decoration-color: #0087ff\">InputLayer</span>)             │ (<span style=\"color: #00d7ff; text-decoration-color: #00d7ff\">None</span>, <span style=\"color: #00af00; text-decoration-color: #00af00\">224</span>, <span style=\"color: #00af00; text-decoration-color: #00af00\">224</span>, <span style=\"color: #00af00; text-decoration-color: #00af00\">3</span>)         │               <span style=\"color: #00af00; text-decoration-color: #00af00\">0</span> │\n",
              "├──────────────────────────────────────┼─────────────────────────────┼─────────────────┤\n",
              "│ block1_conv1 (<span style=\"color: #0087ff; text-decoration-color: #0087ff\">Conv2D</span>)                │ (<span style=\"color: #00d7ff; text-decoration-color: #00d7ff\">None</span>, <span style=\"color: #00af00; text-decoration-color: #00af00\">224</span>, <span style=\"color: #00af00; text-decoration-color: #00af00\">224</span>, <span style=\"color: #00af00; text-decoration-color: #00af00\">64</span>)        │           <span style=\"color: #00af00; text-decoration-color: #00af00\">1,792</span> │\n",
              "├──────────────────────────────────────┼─────────────────────────────┼─────────────────┤\n",
              "│ block1_conv2 (<span style=\"color: #0087ff; text-decoration-color: #0087ff\">Conv2D</span>)                │ (<span style=\"color: #00d7ff; text-decoration-color: #00d7ff\">None</span>, <span style=\"color: #00af00; text-decoration-color: #00af00\">224</span>, <span style=\"color: #00af00; text-decoration-color: #00af00\">224</span>, <span style=\"color: #00af00; text-decoration-color: #00af00\">64</span>)        │          <span style=\"color: #00af00; text-decoration-color: #00af00\">36,928</span> │\n",
              "├──────────────────────────────────────┼─────────────────────────────┼─────────────────┤\n",
              "│ block1_pool (<span style=\"color: #0087ff; text-decoration-color: #0087ff\">MaxPooling2D</span>)           │ (<span style=\"color: #00d7ff; text-decoration-color: #00d7ff\">None</span>, <span style=\"color: #00af00; text-decoration-color: #00af00\">112</span>, <span style=\"color: #00af00; text-decoration-color: #00af00\">112</span>, <span style=\"color: #00af00; text-decoration-color: #00af00\">64</span>)        │               <span style=\"color: #00af00; text-decoration-color: #00af00\">0</span> │\n",
              "├──────────────────────────────────────┼─────────────────────────────┼─────────────────┤\n",
              "│ block2_conv1 (<span style=\"color: #0087ff; text-decoration-color: #0087ff\">Conv2D</span>)                │ (<span style=\"color: #00d7ff; text-decoration-color: #00d7ff\">None</span>, <span style=\"color: #00af00; text-decoration-color: #00af00\">112</span>, <span style=\"color: #00af00; text-decoration-color: #00af00\">112</span>, <span style=\"color: #00af00; text-decoration-color: #00af00\">128</span>)       │          <span style=\"color: #00af00; text-decoration-color: #00af00\">73,856</span> │\n",
              "├──────────────────────────────────────┼─────────────────────────────┼─────────────────┤\n",
              "│ block2_conv2 (<span style=\"color: #0087ff; text-decoration-color: #0087ff\">Conv2D</span>)                │ (<span style=\"color: #00d7ff; text-decoration-color: #00d7ff\">None</span>, <span style=\"color: #00af00; text-decoration-color: #00af00\">112</span>, <span style=\"color: #00af00; text-decoration-color: #00af00\">112</span>, <span style=\"color: #00af00; text-decoration-color: #00af00\">128</span>)       │         <span style=\"color: #00af00; text-decoration-color: #00af00\">147,584</span> │\n",
              "├──────────────────────────────────────┼─────────────────────────────┼─────────────────┤\n",
              "│ block2_pool (<span style=\"color: #0087ff; text-decoration-color: #0087ff\">MaxPooling2D</span>)           │ (<span style=\"color: #00d7ff; text-decoration-color: #00d7ff\">None</span>, <span style=\"color: #00af00; text-decoration-color: #00af00\">56</span>, <span style=\"color: #00af00; text-decoration-color: #00af00\">56</span>, <span style=\"color: #00af00; text-decoration-color: #00af00\">128</span>)         │               <span style=\"color: #00af00; text-decoration-color: #00af00\">0</span> │\n",
              "├──────────────────────────────────────┼─────────────────────────────┼─────────────────┤\n",
              "│ block3_conv1 (<span style=\"color: #0087ff; text-decoration-color: #0087ff\">Conv2D</span>)                │ (<span style=\"color: #00d7ff; text-decoration-color: #00d7ff\">None</span>, <span style=\"color: #00af00; text-decoration-color: #00af00\">56</span>, <span style=\"color: #00af00; text-decoration-color: #00af00\">56</span>, <span style=\"color: #00af00; text-decoration-color: #00af00\">256</span>)         │         <span style=\"color: #00af00; text-decoration-color: #00af00\">295,168</span> │\n",
              "├──────────────────────────────────────┼─────────────────────────────┼─────────────────┤\n",
              "│ block3_conv2 (<span style=\"color: #0087ff; text-decoration-color: #0087ff\">Conv2D</span>)                │ (<span style=\"color: #00d7ff; text-decoration-color: #00d7ff\">None</span>, <span style=\"color: #00af00; text-decoration-color: #00af00\">56</span>, <span style=\"color: #00af00; text-decoration-color: #00af00\">56</span>, <span style=\"color: #00af00; text-decoration-color: #00af00\">256</span>)         │         <span style=\"color: #00af00; text-decoration-color: #00af00\">590,080</span> │\n",
              "├──────────────────────────────────────┼─────────────────────────────┼─────────────────┤\n",
              "│ block3_conv3 (<span style=\"color: #0087ff; text-decoration-color: #0087ff\">Conv2D</span>)                │ (<span style=\"color: #00d7ff; text-decoration-color: #00d7ff\">None</span>, <span style=\"color: #00af00; text-decoration-color: #00af00\">56</span>, <span style=\"color: #00af00; text-decoration-color: #00af00\">56</span>, <span style=\"color: #00af00; text-decoration-color: #00af00\">256</span>)         │         <span style=\"color: #00af00; text-decoration-color: #00af00\">590,080</span> │\n",
              "├──────────────────────────────────────┼─────────────────────────────┼─────────────────┤\n",
              "│ block3_conv4 (<span style=\"color: #0087ff; text-decoration-color: #0087ff\">Conv2D</span>)                │ (<span style=\"color: #00d7ff; text-decoration-color: #00d7ff\">None</span>, <span style=\"color: #00af00; text-decoration-color: #00af00\">56</span>, <span style=\"color: #00af00; text-decoration-color: #00af00\">56</span>, <span style=\"color: #00af00; text-decoration-color: #00af00\">256</span>)         │         <span style=\"color: #00af00; text-decoration-color: #00af00\">590,080</span> │\n",
              "├──────────────────────────────────────┼─────────────────────────────┼─────────────────┤\n",
              "│ block3_pool (<span style=\"color: #0087ff; text-decoration-color: #0087ff\">MaxPooling2D</span>)           │ (<span style=\"color: #00d7ff; text-decoration-color: #00d7ff\">None</span>, <span style=\"color: #00af00; text-decoration-color: #00af00\">28</span>, <span style=\"color: #00af00; text-decoration-color: #00af00\">28</span>, <span style=\"color: #00af00; text-decoration-color: #00af00\">256</span>)         │               <span style=\"color: #00af00; text-decoration-color: #00af00\">0</span> │\n",
              "├──────────────────────────────────────┼─────────────────────────────┼─────────────────┤\n",
              "│ block4_conv1 (<span style=\"color: #0087ff; text-decoration-color: #0087ff\">Conv2D</span>)                │ (<span style=\"color: #00d7ff; text-decoration-color: #00d7ff\">None</span>, <span style=\"color: #00af00; text-decoration-color: #00af00\">28</span>, <span style=\"color: #00af00; text-decoration-color: #00af00\">28</span>, <span style=\"color: #00af00; text-decoration-color: #00af00\">512</span>)         │       <span style=\"color: #00af00; text-decoration-color: #00af00\">1,180,160</span> │\n",
              "├──────────────────────────────────────┼─────────────────────────────┼─────────────────┤\n",
              "│ block4_conv2 (<span style=\"color: #0087ff; text-decoration-color: #0087ff\">Conv2D</span>)                │ (<span style=\"color: #00d7ff; text-decoration-color: #00d7ff\">None</span>, <span style=\"color: #00af00; text-decoration-color: #00af00\">28</span>, <span style=\"color: #00af00; text-decoration-color: #00af00\">28</span>, <span style=\"color: #00af00; text-decoration-color: #00af00\">512</span>)         │       <span style=\"color: #00af00; text-decoration-color: #00af00\">2,359,808</span> │\n",
              "├──────────────────────────────────────┼─────────────────────────────┼─────────────────┤\n",
              "│ block4_conv3 (<span style=\"color: #0087ff; text-decoration-color: #0087ff\">Conv2D</span>)                │ (<span style=\"color: #00d7ff; text-decoration-color: #00d7ff\">None</span>, <span style=\"color: #00af00; text-decoration-color: #00af00\">28</span>, <span style=\"color: #00af00; text-decoration-color: #00af00\">28</span>, <span style=\"color: #00af00; text-decoration-color: #00af00\">512</span>)         │       <span style=\"color: #00af00; text-decoration-color: #00af00\">2,359,808</span> │\n",
              "├──────────────────────────────────────┼─────────────────────────────┼─────────────────┤\n",
              "│ block4_conv4 (<span style=\"color: #0087ff; text-decoration-color: #0087ff\">Conv2D</span>)                │ (<span style=\"color: #00d7ff; text-decoration-color: #00d7ff\">None</span>, <span style=\"color: #00af00; text-decoration-color: #00af00\">28</span>, <span style=\"color: #00af00; text-decoration-color: #00af00\">28</span>, <span style=\"color: #00af00; text-decoration-color: #00af00\">512</span>)         │       <span style=\"color: #00af00; text-decoration-color: #00af00\">2,359,808</span> │\n",
              "├──────────────────────────────────────┼─────────────────────────────┼─────────────────┤\n",
              "│ block4_pool (<span style=\"color: #0087ff; text-decoration-color: #0087ff\">MaxPooling2D</span>)           │ (<span style=\"color: #00d7ff; text-decoration-color: #00d7ff\">None</span>, <span style=\"color: #00af00; text-decoration-color: #00af00\">14</span>, <span style=\"color: #00af00; text-decoration-color: #00af00\">14</span>, <span style=\"color: #00af00; text-decoration-color: #00af00\">512</span>)         │               <span style=\"color: #00af00; text-decoration-color: #00af00\">0</span> │\n",
              "├──────────────────────────────────────┼─────────────────────────────┼─────────────────┤\n",
              "│ block5_conv1 (<span style=\"color: #0087ff; text-decoration-color: #0087ff\">Conv2D</span>)                │ (<span style=\"color: #00d7ff; text-decoration-color: #00d7ff\">None</span>, <span style=\"color: #00af00; text-decoration-color: #00af00\">14</span>, <span style=\"color: #00af00; text-decoration-color: #00af00\">14</span>, <span style=\"color: #00af00; text-decoration-color: #00af00\">512</span>)         │       <span style=\"color: #00af00; text-decoration-color: #00af00\">2,359,808</span> │\n",
              "├──────────────────────────────────────┼─────────────────────────────┼─────────────────┤\n",
              "│ block5_conv2 (<span style=\"color: #0087ff; text-decoration-color: #0087ff\">Conv2D</span>)                │ (<span style=\"color: #00d7ff; text-decoration-color: #00d7ff\">None</span>, <span style=\"color: #00af00; text-decoration-color: #00af00\">14</span>, <span style=\"color: #00af00; text-decoration-color: #00af00\">14</span>, <span style=\"color: #00af00; text-decoration-color: #00af00\">512</span>)         │       <span style=\"color: #00af00; text-decoration-color: #00af00\">2,359,808</span> │\n",
              "├──────────────────────────────────────┼─────────────────────────────┼─────────────────┤\n",
              "│ block5_conv3 (<span style=\"color: #0087ff; text-decoration-color: #0087ff\">Conv2D</span>)                │ (<span style=\"color: #00d7ff; text-decoration-color: #00d7ff\">None</span>, <span style=\"color: #00af00; text-decoration-color: #00af00\">14</span>, <span style=\"color: #00af00; text-decoration-color: #00af00\">14</span>, <span style=\"color: #00af00; text-decoration-color: #00af00\">512</span>)         │       <span style=\"color: #00af00; text-decoration-color: #00af00\">2,359,808</span> │\n",
              "├──────────────────────────────────────┼─────────────────────────────┼─────────────────┤\n",
              "│ block5_conv4 (<span style=\"color: #0087ff; text-decoration-color: #0087ff\">Conv2D</span>)                │ (<span style=\"color: #00d7ff; text-decoration-color: #00d7ff\">None</span>, <span style=\"color: #00af00; text-decoration-color: #00af00\">14</span>, <span style=\"color: #00af00; text-decoration-color: #00af00\">14</span>, <span style=\"color: #00af00; text-decoration-color: #00af00\">512</span>)         │       <span style=\"color: #00af00; text-decoration-color: #00af00\">2,359,808</span> │\n",
              "├──────────────────────────────────────┼─────────────────────────────┼─────────────────┤\n",
              "│ block5_pool (<span style=\"color: #0087ff; text-decoration-color: #0087ff\">MaxPooling2D</span>)           │ (<span style=\"color: #00d7ff; text-decoration-color: #00d7ff\">None</span>, <span style=\"color: #00af00; text-decoration-color: #00af00\">7</span>, <span style=\"color: #00af00; text-decoration-color: #00af00\">7</span>, <span style=\"color: #00af00; text-decoration-color: #00af00\">512</span>)           │               <span style=\"color: #00af00; text-decoration-color: #00af00\">0</span> │\n",
              "├──────────────────────────────────────┼─────────────────────────────┼─────────────────┤\n",
              "│ Global_Average_Pooling               │ (<span style=\"color: #00d7ff; text-decoration-color: #00d7ff\">None</span>, <span style=\"color: #00af00; text-decoration-color: #00af00\">512</span>)                 │               <span style=\"color: #00af00; text-decoration-color: #00af00\">0</span> │\n",
              "│ (<span style=\"color: #0087ff; text-decoration-color: #0087ff\">GlobalAveragePooling2D</span>)             │                             │                 │\n",
              "├──────────────────────────────────────┼─────────────────────────────┼─────────────────┤\n",
              "│ FC_512 (<span style=\"color: #0087ff; text-decoration-color: #0087ff\">Dense</span>)                       │ (<span style=\"color: #00d7ff; text-decoration-color: #00d7ff\">None</span>, <span style=\"color: #00af00; text-decoration-color: #00af00\">512</span>)                 │         <span style=\"color: #00af00; text-decoration-color: #00af00\">262,656</span> │\n",
              "├──────────────────────────────────────┼─────────────────────────────┼─────────────────┤\n",
              "│ Batch_Normalization2                 │ (<span style=\"color: #00d7ff; text-decoration-color: #00d7ff\">None</span>, <span style=\"color: #00af00; text-decoration-color: #00af00\">512</span>)                 │           <span style=\"color: #00af00; text-decoration-color: #00af00\">2,048</span> │\n",
              "│ (<span style=\"color: #0087ff; text-decoration-color: #0087ff\">BatchNormalization</span>)                 │                             │                 │\n",
              "├──────────────────────────────────────┼─────────────────────────────┼─────────────────┤\n",
              "│ Dropout1 (<span style=\"color: #0087ff; text-decoration-color: #0087ff\">Dropout</span>)                   │ (<span style=\"color: #00d7ff; text-decoration-color: #00d7ff\">None</span>, <span style=\"color: #00af00; text-decoration-color: #00af00\">512</span>)                 │               <span style=\"color: #00af00; text-decoration-color: #00af00\">0</span> │\n",
              "├──────────────────────────────────────┼─────────────────────────────┼─────────────────┤\n",
              "│ FC_256 (<span style=\"color: #0087ff; text-decoration-color: #0087ff\">Dense</span>)                       │ (<span style=\"color: #00d7ff; text-decoration-color: #00d7ff\">None</span>, <span style=\"color: #00af00; text-decoration-color: #00af00\">256</span>)                 │         <span style=\"color: #00af00; text-decoration-color: #00af00\">131,328</span> │\n",
              "├──────────────────────────────────────┼─────────────────────────────┼─────────────────┤\n",
              "│ Batch_Normalization3                 │ (<span style=\"color: #00d7ff; text-decoration-color: #00d7ff\">None</span>, <span style=\"color: #00af00; text-decoration-color: #00af00\">256</span>)                 │           <span style=\"color: #00af00; text-decoration-color: #00af00\">1,024</span> │\n",
              "│ (<span style=\"color: #0087ff; text-decoration-color: #0087ff\">BatchNormalization</span>)                 │                             │                 │\n",
              "├──────────────────────────────────────┼─────────────────────────────┼─────────────────┤\n",
              "│ Dropout2 (<span style=\"color: #0087ff; text-decoration-color: #0087ff\">Dropout</span>)                   │ (<span style=\"color: #00d7ff; text-decoration-color: #00d7ff\">None</span>, <span style=\"color: #00af00; text-decoration-color: #00af00\">256</span>)                 │               <span style=\"color: #00af00; text-decoration-color: #00af00\">0</span> │\n",
              "├──────────────────────────────────────┼─────────────────────────────┼─────────────────┤\n",
              "│ Output_Layer (<span style=\"color: #0087ff; text-decoration-color: #0087ff\">Dense</span>)                 │ (<span style=\"color: #00d7ff; text-decoration-color: #00d7ff\">None</span>, <span style=\"color: #00af00; text-decoration-color: #00af00\">3</span>)                   │             <span style=\"color: #00af00; text-decoration-color: #00af00\">771</span> │\n",
              "└──────────────────────────────────────┴─────────────────────────────┴─────────────────┘\n",
              "</pre>\n"
            ]
          },
          "metadata": {}
        },
        {
          "output_type": "display_data",
          "data": {
            "text/plain": [
              "\u001b[1m Total params: \u001b[0m\u001b[38;5;34m20,422,211\u001b[0m (77.90 MB)\n"
            ],
            "text/html": [
              "<pre style=\"white-space:pre;overflow-x:auto;line-height:normal;font-family:Menlo,'DejaVu Sans Mono',consolas,'Courier New',monospace\"><span style=\"font-weight: bold\"> Total params: </span><span style=\"color: #00af00; text-decoration-color: #00af00\">20,422,211</span> (77.90 MB)\n",
              "</pre>\n"
            ]
          },
          "metadata": {}
        },
        {
          "output_type": "display_data",
          "data": {
            "text/plain": [
              "\u001b[1m Trainable params: \u001b[0m\u001b[38;5;34m20,420,675\u001b[0m (77.90 MB)\n"
            ],
            "text/html": [
              "<pre style=\"white-space:pre;overflow-x:auto;line-height:normal;font-family:Menlo,'DejaVu Sans Mono',consolas,'Courier New',monospace\"><span style=\"font-weight: bold\"> Trainable params: </span><span style=\"color: #00af00; text-decoration-color: #00af00\">20,420,675</span> (77.90 MB)\n",
              "</pre>\n"
            ]
          },
          "metadata": {}
        },
        {
          "output_type": "display_data",
          "data": {
            "text/plain": [
              "\u001b[1m Non-trainable params: \u001b[0m\u001b[38;5;34m1,536\u001b[0m (6.00 KB)\n"
            ],
            "text/html": [
              "<pre style=\"white-space:pre;overflow-x:auto;line-height:normal;font-family:Menlo,'DejaVu Sans Mono',consolas,'Courier New',monospace\"><span style=\"font-weight: bold\"> Non-trainable params: </span><span style=\"color: #00af00; text-decoration-color: #00af00\">1,536</span> (6.00 KB)\n",
              "</pre>\n"
            ]
          },
          "metadata": {}
        }
      ],
      "source": [
        "model.summary()"
      ]
    },
    {
      "cell_type": "code",
      "execution_count": 21,
      "metadata": {
        "id": "tMD9VpgxmZwd",
        "colab": {
          "base_uri": "https://localhost:8080/"
        },
        "outputId": "7d3b24fc-fa36-4522-c1ec-954780a65602"
      },
      "outputs": [
        {
          "output_type": "stream",
          "name": "stdout",
          "text": [
            "Epoch 1/250\n",
            "\u001b[1m189/189\u001b[0m \u001b[32m━━━━━━━━━━━━━━━━━━━━\u001b[0m\u001b[37m\u001b[0m \u001b[1m39s\u001b[0m 89ms/step - accuracy: 0.8344 - auc: 0.9473 - loss: 0.4047 - precision: 0.8403 - recall: 0.8051 - val_accuracy: 0.7646 - val_auc: 0.9025 - val_loss: 0.6456 - val_precision: 0.7837 - val_recall: 0.7381 - learning_rate: 2.0000e-06\n",
            "Epoch 2/250\n",
            "\u001b[1m189/189\u001b[0m \u001b[32m━━━━━━━━━━━━━━━━━━━━\u001b[0m\u001b[37m\u001b[0m \u001b[1m15s\u001b[0m 73ms/step - accuracy: 0.8547 - auc: 0.9628 - loss: 0.3712 - precision: 0.8719 - recall: 0.8314 - val_accuracy: 0.7725 - val_auc: 0.9170 - val_loss: 0.5767 - val_precision: 0.7955 - val_recall: 0.7513 - learning_rate: 2.0000e-06\n",
            "Epoch 3/250\n",
            "\u001b[1m189/189\u001b[0m \u001b[32m━━━━━━━━━━━━━━━━━━━━\u001b[0m\u001b[37m\u001b[0m \u001b[1m15s\u001b[0m 73ms/step - accuracy: 0.8732 - auc: 0.9697 - loss: 0.3353 - precision: 0.8873 - recall: 0.8524 - val_accuracy: 0.7831 - val_auc: 0.9167 - val_loss: 0.5824 - val_precision: 0.7995 - val_recall: 0.7698 - learning_rate: 2.0000e-06\n",
            "Epoch 4/250\n",
            "\u001b[1m189/189\u001b[0m \u001b[32m━━━━━━━━━━━━━━━━━━━━\u001b[0m\u001b[37m\u001b[0m \u001b[1m15s\u001b[0m 73ms/step - accuracy: 0.8713 - auc: 0.9691 - loss: 0.3374 - precision: 0.8832 - recall: 0.8536 - val_accuracy: 0.7672 - val_auc: 0.9154 - val_loss: 0.5884 - val_precision: 0.7873 - val_recall: 0.7540 - learning_rate: 2.0000e-06\n",
            "Epoch 5/250\n",
            "\u001b[1m189/189\u001b[0m \u001b[32m━━━━━━━━━━━━━━━━━━━━\u001b[0m\u001b[37m\u001b[0m \u001b[1m15s\u001b[0m 73ms/step - accuracy: 0.8765 - auc: 0.9729 - loss: 0.3179 - precision: 0.8906 - recall: 0.8607 - val_accuracy: 0.7593 - val_auc: 0.9171 - val_loss: 0.5989 - val_precision: 0.7775 - val_recall: 0.7487 - learning_rate: 2.0000e-06\n",
            "Epoch 6/250\n",
            "\u001b[1m189/189\u001b[0m \u001b[32m━━━━━━━━━━━━━━━━━━━━\u001b[0m\u001b[37m\u001b[0m \u001b[1m15s\u001b[0m 73ms/step - accuracy: 0.8907 - auc: 0.9779 - loss: 0.2903 - precision: 0.9045 - recall: 0.8736 - val_accuracy: 0.7566 - val_auc: 0.9136 - val_loss: 0.5984 - val_precision: 0.7744 - val_recall: 0.7354 - learning_rate: 2.0000e-06\n",
            "Epoch 7/250\n",
            "\u001b[1m189/189\u001b[0m \u001b[32m━━━━━━━━━━━━━━━━━━━━\u001b[0m\u001b[37m\u001b[0m \u001b[1m15s\u001b[0m 73ms/step - accuracy: 0.8876 - auc: 0.9768 - loss: 0.2966 - precision: 0.9017 - recall: 0.8744 - val_accuracy: 0.7857 - val_auc: 0.9245 - val_loss: 0.5588 - val_precision: 0.7951 - val_recall: 0.7698 - learning_rate: 2.0000e-06\n",
            "Epoch 8/250\n",
            "\u001b[1m189/189\u001b[0m \u001b[32m━━━━━━━━━━━━━━━━━━━━\u001b[0m\u001b[37m\u001b[0m \u001b[1m15s\u001b[0m 72ms/step - accuracy: 0.8989 - auc: 0.9810 - loss: 0.2693 - precision: 0.9100 - recall: 0.8884 - val_accuracy: 0.7804 - val_auc: 0.9150 - val_loss: 0.6154 - val_precision: 0.7828 - val_recall: 0.7725 - learning_rate: 2.0000e-06\n",
            "Epoch 9/250\n",
            "\u001b[1m189/189\u001b[0m \u001b[32m━━━━━━━━━━━━━━━━━━━━\u001b[0m\u001b[37m\u001b[0m \u001b[1m15s\u001b[0m 73ms/step - accuracy: 0.9010 - auc: 0.9803 - loss: 0.2712 - precision: 0.9104 - recall: 0.8900 - val_accuracy: 0.7672 - val_auc: 0.9236 - val_loss: 0.5697 - val_precision: 0.7793 - val_recall: 0.7566 - learning_rate: 2.0000e-06\n",
            "Epoch 10/250\n",
            "\u001b[1m189/189\u001b[0m \u001b[32m━━━━━━━━━━━━━━━━━━━━\u001b[0m\u001b[37m\u001b[0m \u001b[1m15s\u001b[0m 73ms/step - accuracy: 0.9021 - auc: 0.9822 - loss: 0.2595 - precision: 0.9132 - recall: 0.8927 - val_accuracy: 0.7937 - val_auc: 0.9260 - val_loss: 0.5533 - val_precision: 0.7989 - val_recall: 0.7778 - learning_rate: 2.0000e-06\n",
            "Epoch 11/250\n",
            "\u001b[1m189/189\u001b[0m \u001b[32m━━━━━━━━━━━━━━━━━━━━\u001b[0m\u001b[37m\u001b[0m \u001b[1m15s\u001b[0m 73ms/step - accuracy: 0.9110 - auc: 0.9854 - loss: 0.2391 - precision: 0.9184 - recall: 0.9012 - val_accuracy: 0.8042 - val_auc: 0.9292 - val_loss: 0.5411 - val_precision: 0.8104 - val_recall: 0.7804 - learning_rate: 2.0000e-06\n",
            "Epoch 12/250\n",
            "\u001b[1m189/189\u001b[0m \u001b[32m━━━━━━━━━━━━━━━━━━━━\u001b[0m\u001b[37m\u001b[0m \u001b[1m15s\u001b[0m 72ms/step - accuracy: 0.9156 - auc: 0.9862 - loss: 0.2330 - precision: 0.9250 - recall: 0.9062 - val_accuracy: 0.7778 - val_auc: 0.9214 - val_loss: 0.5709 - val_precision: 0.7944 - val_recall: 0.7566 - learning_rate: 2.0000e-06\n",
            "Epoch 13/250\n",
            "\u001b[1m189/189\u001b[0m \u001b[32m━━━━━━━━━━━━━━━━━━━━\u001b[0m\u001b[37m\u001b[0m \u001b[1m15s\u001b[0m 73ms/step - accuracy: 0.9145 - auc: 0.9856 - loss: 0.2358 - precision: 0.9230 - recall: 0.9063 - val_accuracy: 0.7884 - val_auc: 0.9258 - val_loss: 0.5634 - val_precision: 0.8022 - val_recall: 0.7831 - learning_rate: 2.0000e-06\n",
            "Epoch 14/250\n",
            "\u001b[1m189/189\u001b[0m \u001b[32m━━━━━━━━━━━━━━━━━━━━\u001b[0m\u001b[37m\u001b[0m \u001b[1m0s\u001b[0m 70ms/step - accuracy: 0.9235 - auc: 0.9890 - loss: 0.2094 - precision: 0.9310 - recall: 0.9152\n",
            "Epoch 14: ReduceLROnPlateau reducing learning rate to 1.5999999959603884e-06.\n",
            "\u001b[1m189/189\u001b[0m \u001b[32m━━━━━━━━━━━━━━━━━━━━\u001b[0m\u001b[37m\u001b[0m \u001b[1m15s\u001b[0m 73ms/step - accuracy: 0.9235 - auc: 0.9890 - loss: 0.2096 - precision: 0.9309 - recall: 0.9151 - val_accuracy: 0.7804 - val_auc: 0.9245 - val_loss: 0.5703 - val_precision: 0.8027 - val_recall: 0.7751 - learning_rate: 2.0000e-06\n",
            "Epoch 15/250\n",
            "\u001b[1m189/189\u001b[0m \u001b[32m━━━━━━━━━━━━━━━━━━━━\u001b[0m\u001b[37m\u001b[0m \u001b[1m15s\u001b[0m 72ms/step - accuracy: 0.9227 - auc: 0.9874 - loss: 0.2177 - precision: 0.9301 - recall: 0.9134 - val_accuracy: 0.7725 - val_auc: 0.9275 - val_loss: 0.5527 - val_precision: 0.7836 - val_recall: 0.7566 - learning_rate: 1.6000e-06\n",
            "Epoch 16/250\n",
            "\u001b[1m189/189\u001b[0m \u001b[32m━━━━━━━━━━━━━━━━━━━━\u001b[0m\u001b[37m\u001b[0m \u001b[1m15s\u001b[0m 73ms/step - accuracy: 0.9225 - auc: 0.9895 - loss: 0.2073 - precision: 0.9312 - recall: 0.9136 - val_accuracy: 0.7698 - val_auc: 0.9245 - val_loss: 0.5715 - val_precision: 0.7820 - val_recall: 0.7593 - learning_rate: 1.6000e-06\n",
            "Epoch 17/250\n",
            "\u001b[1m189/189\u001b[0m \u001b[32m━━━━━━━━━━━━━━━━━━━━\u001b[0m\u001b[37m\u001b[0m \u001b[1m0s\u001b[0m 70ms/step - accuracy: 0.9237 - auc: 0.9887 - loss: 0.2097 - precision: 0.9292 - recall: 0.9154\n",
            "Epoch 17: ReduceLROnPlateau reducing learning rate to 1.2800000149582048e-06.\n",
            "\u001b[1m189/189\u001b[0m \u001b[32m━━━━━━━━━━━━━━━━━━━━\u001b[0m\u001b[37m\u001b[0m \u001b[1m15s\u001b[0m 73ms/step - accuracy: 0.9236 - auc: 0.9887 - loss: 0.2098 - precision: 0.9292 - recall: 0.9153 - val_accuracy: 0.7831 - val_auc: 0.9218 - val_loss: 0.5973 - val_precision: 0.7859 - val_recall: 0.7672 - learning_rate: 1.6000e-06\n",
            "Epoch 18/250\n",
            "\u001b[1m189/189\u001b[0m \u001b[32m━━━━━━━━━━━━━━━━━━━━\u001b[0m\u001b[37m\u001b[0m \u001b[1m15s\u001b[0m 73ms/step - accuracy: 0.9356 - auc: 0.9909 - loss: 0.1919 - precision: 0.9412 - recall: 0.9282 - val_accuracy: 0.8042 - val_auc: 0.9307 - val_loss: 0.5516 - val_precision: 0.8232 - val_recall: 0.7884 - learning_rate: 1.2800e-06\n",
            "Epoch 19/250\n",
            "\u001b[1m189/189\u001b[0m \u001b[32m━━━━━━━━━━━━━━━━━━━━\u001b[0m\u001b[37m\u001b[0m \u001b[1m15s\u001b[0m 73ms/step - accuracy: 0.9415 - auc: 0.9924 - loss: 0.1760 - precision: 0.9460 - recall: 0.9330 - val_accuracy: 0.7937 - val_auc: 0.9278 - val_loss: 0.5765 - val_precision: 0.8115 - val_recall: 0.7857 - learning_rate: 1.2800e-06\n",
            "Epoch 20/250\n",
            "\u001b[1m189/189\u001b[0m \u001b[32m━━━━━━━━━━━━━━━━━━━━\u001b[0m\u001b[37m\u001b[0m \u001b[1m15s\u001b[0m 73ms/step - accuracy: 0.9367 - auc: 0.9921 - loss: 0.1792 - precision: 0.9415 - recall: 0.9273 - val_accuracy: 0.7857 - val_auc: 0.9317 - val_loss: 0.5379 - val_precision: 0.7995 - val_recall: 0.7804 - learning_rate: 1.2800e-06\n",
            "Epoch 21/250\n",
            "\u001b[1m189/189\u001b[0m \u001b[32m━━━━━━━━━━━━━━━━━━━━\u001b[0m\u001b[37m\u001b[0m \u001b[1m15s\u001b[0m 73ms/step - accuracy: 0.9383 - auc: 0.9919 - loss: 0.1807 - precision: 0.9446 - recall: 0.9313 - val_accuracy: 0.8016 - val_auc: 0.9316 - val_loss: 0.5511 - val_precision: 0.8098 - val_recall: 0.7884 - learning_rate: 1.2800e-06\n",
            "Epoch 22/250\n",
            "\u001b[1m189/189\u001b[0m \u001b[32m━━━━━━━━━━━━━━━━━━━━\u001b[0m\u001b[37m\u001b[0m \u001b[1m15s\u001b[0m 73ms/step - accuracy: 0.9367 - auc: 0.9924 - loss: 0.1761 - precision: 0.9429 - recall: 0.9304 - val_accuracy: 0.7937 - val_auc: 0.9280 - val_loss: 0.5675 - val_precision: 0.8110 - val_recall: 0.7831 - learning_rate: 1.2800e-06\n",
            "Epoch 23/250\n",
            "\u001b[1m189/189\u001b[0m \u001b[32m━━━━━━━━━━━━━━━━━━━━\u001b[0m\u001b[37m\u001b[0m \u001b[1m0s\u001b[0m 70ms/step - accuracy: 0.9427 - auc: 0.9933 - loss: 0.1672 - precision: 0.9482 - recall: 0.9352\n",
            "Epoch 23: ReduceLROnPlateau reducing learning rate to 1.0239999937766699e-06.\n",
            "\u001b[1m189/189\u001b[0m \u001b[32m━━━━━━━━━━━━━━━━━━━━\u001b[0m\u001b[37m\u001b[0m \u001b[1m15s\u001b[0m 73ms/step - accuracy: 0.9426 - auc: 0.9933 - loss: 0.1673 - precision: 0.9481 - recall: 0.9351 - val_accuracy: 0.8016 - val_auc: 0.9288 - val_loss: 0.5773 - val_precision: 0.8065 - val_recall: 0.7937 - learning_rate: 1.2800e-06\n",
            "Epoch 24/250\n",
            "\u001b[1m189/189\u001b[0m \u001b[32m━━━━━━━━━━━━━━━━━━━━\u001b[0m\u001b[37m\u001b[0m \u001b[1m15s\u001b[0m 73ms/step - accuracy: 0.9442 - auc: 0.9931 - loss: 0.1650 - precision: 0.9490 - recall: 0.9396 - val_accuracy: 0.7910 - val_auc: 0.9289 - val_loss: 0.5804 - val_precision: 0.8043 - val_recall: 0.7831 - learning_rate: 1.0240e-06\n",
            "Epoch 25/250\n",
            "\u001b[1m189/189\u001b[0m \u001b[32m━━━━━━━━━━━━━━━━━━━━\u001b[0m\u001b[37m\u001b[0m \u001b[1m15s\u001b[0m 72ms/step - accuracy: 0.9513 - auc: 0.9951 - loss: 0.1499 - precision: 0.9539 - recall: 0.9441 - val_accuracy: 0.7963 - val_auc: 0.9300 - val_loss: 0.5644 - val_precision: 0.8038 - val_recall: 0.7910 - learning_rate: 1.0240e-06\n",
            "Epoch 26/250\n",
            "\u001b[1m189/189\u001b[0m \u001b[32m━━━━━━━━━━━━━━━━━━━━\u001b[0m\u001b[37m\u001b[0m \u001b[1m0s\u001b[0m 70ms/step - accuracy: 0.9446 - auc: 0.9940 - loss: 0.1562 - precision: 0.9501 - recall: 0.9395\n",
            "Epoch 26: ReduceLROnPlateau reducing learning rate to 8.191999768314418e-07.\n",
            "\u001b[1m189/189\u001b[0m \u001b[32m━━━━━━━━━━━━━━━━━━━━\u001b[0m\u001b[37m\u001b[0m \u001b[1m15s\u001b[0m 73ms/step - accuracy: 0.9445 - auc: 0.9940 - loss: 0.1563 - precision: 0.9500 - recall: 0.9394 - val_accuracy: 0.7910 - val_auc: 0.9274 - val_loss: 0.5726 - val_precision: 0.7946 - val_recall: 0.7778 - learning_rate: 1.0240e-06\n",
            "Epoch 27/250\n",
            "\u001b[1m189/189\u001b[0m \u001b[32m━━━━━━━━━━━━━━━━━━━━\u001b[0m\u001b[37m\u001b[0m \u001b[1m15s\u001b[0m 73ms/step - accuracy: 0.9438 - auc: 0.9941 - loss: 0.1556 - precision: 0.9504 - recall: 0.9407 - val_accuracy: 0.7831 - val_auc: 0.9321 - val_loss: 0.5695 - val_precision: 0.7882 - val_recall: 0.7778 - learning_rate: 8.1920e-07\n",
            "Epoch 28/250\n",
            "\u001b[1m189/189\u001b[0m \u001b[32m━━━━━━━━━━━━━━━━━━━━\u001b[0m\u001b[37m\u001b[0m \u001b[1m15s\u001b[0m 73ms/step - accuracy: 0.9489 - auc: 0.9953 - loss: 0.1437 - precision: 0.9546 - recall: 0.9439 - val_accuracy: 0.8122 - val_auc: 0.9323 - val_loss: 0.5565 - val_precision: 0.8192 - val_recall: 0.7910 - learning_rate: 8.1920e-07\n",
            "Epoch 29/250\n",
            "\u001b[1m189/189\u001b[0m \u001b[32m━━━━━━━━━━━━━━━━━━━━\u001b[0m\u001b[37m\u001b[0m \u001b[1m15s\u001b[0m 72ms/step - accuracy: 0.9535 - auc: 0.9950 - loss: 0.1462 - precision: 0.9569 - recall: 0.9489 - val_accuracy: 0.7989 - val_auc: 0.9286 - val_loss: 0.5798 - val_precision: 0.8174 - val_recall: 0.7937 - learning_rate: 8.1920e-07\n",
            "Epoch 30/250\n",
            "\u001b[1m189/189\u001b[0m \u001b[32m━━━━━━━━━━━━━━━━━━━━\u001b[0m\u001b[37m\u001b[0m \u001b[1m15s\u001b[0m 73ms/step - accuracy: 0.9523 - auc: 0.9955 - loss: 0.1435 - precision: 0.9576 - recall: 0.9456 - val_accuracy: 0.7831 - val_auc: 0.9289 - val_loss: 0.5931 - val_precision: 0.7902 - val_recall: 0.7672 - learning_rate: 8.1920e-07\n",
            "Epoch 31/250\n",
            "\u001b[1m189/189\u001b[0m \u001b[32m━━━━━━━━━━━━━━━━━━━━\u001b[0m\u001b[37m\u001b[0m \u001b[1m15s\u001b[0m 73ms/step - accuracy: 0.9486 - auc: 0.9946 - loss: 0.1478 - precision: 0.9521 - recall: 0.9442 - val_accuracy: 0.8016 - val_auc: 0.9326 - val_loss: 0.5511 - val_precision: 0.8082 - val_recall: 0.7804 - learning_rate: 8.1920e-07\n",
            "Epoch 32/250\n",
            "\u001b[1m189/189\u001b[0m \u001b[32m━━━━━━━━━━━━━━━━━━━━\u001b[0m\u001b[37m\u001b[0m \u001b[1m15s\u001b[0m 73ms/step - accuracy: 0.9527 - auc: 0.9953 - loss: 0.1453 - precision: 0.9561 - recall: 0.9465 - val_accuracy: 0.7910 - val_auc: 0.9324 - val_loss: 0.5540 - val_precision: 0.8093 - val_recall: 0.7857 - learning_rate: 8.1920e-07\n",
            "Epoch 33/250\n",
            "\u001b[1m189/189\u001b[0m \u001b[32m━━━━━━━━━━━━━━━━━━━━\u001b[0m\u001b[37m\u001b[0m \u001b[1m15s\u001b[0m 73ms/step - accuracy: 0.9578 - auc: 0.9957 - loss: 0.1371 - precision: 0.9619 - recall: 0.9541 - val_accuracy: 0.7963 - val_auc: 0.9334 - val_loss: 0.5579 - val_precision: 0.8104 - val_recall: 0.7804 - learning_rate: 8.1920e-07\n",
            "Epoch 34/250\n",
            "\u001b[1m189/189\u001b[0m \u001b[32m━━━━━━━━━━━━━━━━━━━━\u001b[0m\u001b[37m\u001b[0m \u001b[1m15s\u001b[0m 73ms/step - accuracy: 0.9519 - auc: 0.9952 - loss: 0.1406 - precision: 0.9547 - recall: 0.9473 - val_accuracy: 0.7910 - val_auc: 0.9307 - val_loss: 0.5808 - val_precision: 0.7946 - val_recall: 0.7778 - learning_rate: 8.1920e-07\n",
            "Epoch 35/250\n",
            "\u001b[1m189/189\u001b[0m \u001b[32m━━━━━━━━━━━━━━━━━━━━\u001b[0m\u001b[37m\u001b[0m \u001b[1m15s\u001b[0m 72ms/step - accuracy: 0.9515 - auc: 0.9953 - loss: 0.1399 - precision: 0.9547 - recall: 0.9474 - val_accuracy: 0.7989 - val_auc: 0.9262 - val_loss: 0.5955 - val_precision: 0.8093 - val_recall: 0.7857 - learning_rate: 8.1920e-07\n",
            "Epoch 36/250\n",
            "\u001b[1m189/189\u001b[0m \u001b[32m━━━━━━━━━━━━━━━━━━━━\u001b[0m\u001b[37m\u001b[0m \u001b[1m0s\u001b[0m 70ms/step - accuracy: 0.9550 - auc: 0.9955 - loss: 0.1370 - precision: 0.9588 - recall: 0.9521\n",
            "Epoch 36: ReduceLROnPlateau reducing learning rate to 6.553599632752594e-07.\n",
            "\u001b[1m189/189\u001b[0m \u001b[32m━━━━━━━━━━━━━━━━━━━━\u001b[0m\u001b[37m\u001b[0m \u001b[1m15s\u001b[0m 73ms/step - accuracy: 0.9549 - auc: 0.9954 - loss: 0.1371 - precision: 0.9588 - recall: 0.9520 - val_accuracy: 0.7910 - val_auc: 0.9298 - val_loss: 0.5782 - val_precision: 0.8087 - val_recall: 0.7831 - learning_rate: 8.1920e-07\n",
            "Epoch 37/250\n",
            "\u001b[1m189/189\u001b[0m \u001b[32m━━━━━━━━━━━━━━━━━━━━\u001b[0m\u001b[37m\u001b[0m \u001b[1m15s\u001b[0m 73ms/step - accuracy: 0.9550 - auc: 0.9956 - loss: 0.1348 - precision: 0.9575 - recall: 0.9481 - val_accuracy: 0.7804 - val_auc: 0.9313 - val_loss: 0.5761 - val_precision: 0.7973 - val_recall: 0.7698 - learning_rate: 6.5536e-07\n",
            "Epoch 38/250\n",
            "\u001b[1m189/189\u001b[0m \u001b[32m━━━━━━━━━━━━━━━━━━━━\u001b[0m\u001b[37m\u001b[0m \u001b[1m15s\u001b[0m 73ms/step - accuracy: 0.9559 - auc: 0.9962 - loss: 0.1306 - precision: 0.9599 - recall: 0.9523 - val_accuracy: 0.7857 - val_auc: 0.9305 - val_loss: 0.5775 - val_precision: 0.8017 - val_recall: 0.7698 - learning_rate: 6.5536e-07\n",
            "Epoch 39/250\n",
            "\u001b[1m189/189\u001b[0m \u001b[32m━━━━━━━━━━━━━━━━━━━━\u001b[0m\u001b[37m\u001b[0m \u001b[1m0s\u001b[0m 70ms/step - accuracy: 0.9507 - auc: 0.9950 - loss: 0.1407 - precision: 0.9539 - recall: 0.9466\n",
            "Epoch 39: ReduceLROnPlateau reducing learning rate to 5.242879524303135e-07.\n",
            "\u001b[1m189/189\u001b[0m \u001b[32m━━━━━━━━━━━━━━━━━━━━\u001b[0m\u001b[37m\u001b[0m \u001b[1m15s\u001b[0m 73ms/step - accuracy: 0.9507 - auc: 0.9950 - loss: 0.1407 - precision: 0.9538 - recall: 0.9466 - val_accuracy: 0.7937 - val_auc: 0.9282 - val_loss: 0.5964 - val_precision: 0.8016 - val_recall: 0.7804 - learning_rate: 6.5536e-07\n",
            "Epoch 40/250\n",
            "\u001b[1m189/189\u001b[0m \u001b[32m━━━━━━━━━━━━━━━━━━━━\u001b[0m\u001b[37m\u001b[0m \u001b[1m15s\u001b[0m 72ms/step - accuracy: 0.9520 - auc: 0.9953 - loss: 0.1375 - precision: 0.9570 - recall: 0.9460 - val_accuracy: 0.7884 - val_auc: 0.9311 - val_loss: 0.5762 - val_precision: 0.8043 - val_recall: 0.7831 - learning_rate: 5.2429e-07\n",
            "Epoch 41/250\n",
            "\u001b[1m189/189\u001b[0m \u001b[32m━━━━━━━━━━━━━━━━━━━━\u001b[0m\u001b[37m\u001b[0m \u001b[1m15s\u001b[0m 73ms/step - accuracy: 0.9635 - auc: 0.9966 - loss: 0.1206 - precision: 0.9668 - recall: 0.9599 - val_accuracy: 0.7831 - val_auc: 0.9314 - val_loss: 0.5756 - val_precision: 0.8077 - val_recall: 0.7778 - learning_rate: 5.2429e-07\n"
          ]
        }
      ],
      "source": [
        "history = model.fit( trainDataset,\n",
        "                         validation_data=validDataset,\n",
        "                         epochs=250,\n",
        "                         callbacks=[early_stopping, reduceLRCallback],\n",
        "                         verbose=1)"
      ]
    },
    {
      "cell_type": "markdown",
      "metadata": {
        "id": "o3xyBAeoFcE_"
      },
      "source": [
        "# PLOTS"
      ]
    },
    {
      "cell_type": "code",
      "execution_count": 22,
      "metadata": {
        "id": "fVLQQAHNmZwd",
        "colab": {
          "base_uri": "https://localhost:8080/",
          "height": 489
        },
        "outputId": "5a29c8d1-54f6-4baa-ae34-8b6ad818bddf"
      },
      "outputs": [
        {
          "output_type": "execute_result",
          "data": {
            "text/plain": [
              "<matplotlib.legend.Legend at 0x786a2e9effd0>"
            ]
          },
          "metadata": {},
          "execution_count": 22
        },
        {
          "output_type": "display_data",
          "data": {
            "text/plain": [
              "<Figure size 640x480 with 1 Axes>"
            ],
            "image/png": "[encoded data removed]"
          },
          "metadata": {}
        }
      ],
      "source": [
        "plt.plot(history.history['accuracy'])\n",
        "plt.plot(history.history['val_accuracy'])\n",
        "plt.title('Model accuracy')\n",
        "plt.ylabel('Accuracy')\n",
        "plt.xlabel('Epoch')\n",
        "plt.legend(['Train', 'Validation'], loc='upper left')"
      ]
    },
    {
      "cell_type": "code",
      "execution_count": 23,
      "metadata": {
        "id": "Ovp8RVdfmZwe",
        "colab": {
          "base_uri": "https://localhost:8080/",
          "height": 489
        },
        "outputId": "280612b4-30a6-4616-8980-2bac7800a3f0"
      },
      "outputs": [
        {
          "output_type": "execute_result",
          "data": {
            "text/plain": [
              "<matplotlib.legend.Legend at 0x786988667ad0>"
            ]
          },
          "metadata": {},
          "execution_count": 23
        },
        {
          "output_type": "display_data",
          "data": {
            "text/plain": [
              "<Figure size 640x480 with 1 Axes>"
            ],
            "image/png": "[encoded data removed]"
          },
          "metadata": {}
        }
      ],
      "source": [
        "plt.plot(history.history['loss'])\n",
        "plt.plot(history.history['val_loss'])\n",
        "plt.title('Model loss')\n",
        "plt.ylabel('Loss')\n",
        "plt.xlabel('Epoch')\n",
        "plt.legend(['Train', 'Validation'], loc='upper left')"
      ]
    },
    {
      "cell_type": "code",
      "execution_count": 24,
      "metadata": {
        "id": "QtbSnDTQmZwe",
        "colab": {
          "base_uri": "https://localhost:8080/"
        },
        "outputId": "96491eb9-5b99-49e4-b328-1b868db41f0b"
      },
      "outputs": [
        {
          "output_type": "stream",
          "name": "stdout",
          "text": [
            "\u001b[1m12/12\u001b[0m \u001b[32m━━━━━━━━━━━━━━━━━━━━\u001b[0m\u001b[37m\u001b[0m \u001b[1m2s\u001b[0m 114ms/step\n"
          ]
        }
      ],
      "source": [
        "valid_labels = []\n",
        "for xBatch, yBatch in validDataset:\n",
        "    valid_labels.extend(np.argmax(yBatch, axis=1))\n",
        "predictions = model.predict(validDataset)\n",
        "predicted_classes = np.argmax(predictions, axis=1)"
      ]
    },
    {
      "cell_type": "code",
      "execution_count": 25,
      "metadata": {
        "id": "lI_Sjw3vmZwe"
      },
      "outputs": [],
      "source": [
        "def ppo_loss(y_true, y_pred):\n",
        "    epsilon = 0.2\n",
        "    y_true_one_hot = tf.one_hot(tf.cast(y_true, tf.int32), depth=tf.shape(y_pred)[-1])\n",
        "    selected_probs = tf.reduce_sum(y_pred * y_true_one_hot, axis=-1)\n",
        "    old_selected_probs = tf.reduce_sum(tf.stop_gradient(y_pred) * y_true_one_hot, axis=-1)\n",
        "    ratio = selected_probs / (old_selected_probs + 1e-10)\n",
        "    clipped_ratio = tf.clip_by_value(ratio, 1 - epsilon, 1 + epsilon)\n",
        "    loss = -tf.reduce_mean(tf.minimum(ratio, clipped_ratio))\n",
        "    return loss"
      ]
    },
    {
      "cell_type": "code",
      "execution_count": 26,
      "metadata": {
        "id": "fc3cQQoomZwe",
        "colab": {
          "base_uri": "https://localhost:8080/"
        },
        "outputId": "adb7994c-037c-4d4f-83b5-983c05efd63c"
      },
      "outputs": [
        {
          "output_type": "stream",
          "name": "stdout",
          "text": [
            "\n",
            "PPO Loss on Validation Data: -1.0\n"
          ]
        }
      ],
      "source": [
        "ppo_loss_value = ppo_loss(valid_labels, predictions)\n",
        "print(\"\\nPPO Loss on Validation Data:\", ppo_loss_value.numpy())"
      ]
    },
    {
      "cell_type": "markdown",
      "metadata": {
        "id": "hmcig2gSmZwe"
      },
      "source": [
        "# TESTING"
      ]
    },
    {
      "cell_type": "code",
      "execution_count": 27,
      "metadata": {
        "id": "oZdA6Vf_mZwe",
        "colab": {
          "base_uri": "https://localhost:8080/"
        },
        "outputId": "bc4199e4-addb-472a-b058-337335d72b86"
      },
      "outputs": [
        {
          "output_type": "stream",
          "name": "stdout",
          "text": [
            "\u001b[1m12/12\u001b[0m \u001b[32m━━━━━━━━━━━━━━━━━━━━\u001b[0m\u001b[37m\u001b[0m \u001b[1m0s\u001b[0m 28ms/step\n"
          ]
        }
      ],
      "source": [
        "test_labels = []\n",
        "for xBatch, yBatch in testDataset:\n",
        "    test_labels.extend(np.argmax(yBatch, axis=1))\n",
        "predictions = model.predict(testDataset)\n",
        "predicted_classes = np.argmax(predictions, axis=1)"
      ]
    },
    {
      "cell_type": "code",
      "execution_count": 28,
      "metadata": {
        "id": "H-UPIashmZwe",
        "colab": {
          "base_uri": "https://localhost:8080/"
        },
        "outputId": "aae3e176-aada-4b9c-ac18-7809e99a6b35"
      },
      "outputs": [
        {
          "output_type": "stream",
          "name": "stdout",
          "text": [
            "              precision    recall  f1-score   support\n",
            "\n",
            "      Normal       0.82      0.82      0.82       126\n",
            "  Osteopenia       0.79      0.79      0.79       126\n",
            "Osteoporosis       0.80      0.82      0.81       126\n",
            "\n",
            "    accuracy                           0.81       378\n",
            "   macro avg       0.81      0.81      0.81       378\n",
            "weighted avg       0.81      0.81      0.81       378\n",
            "\n"
          ]
        }
      ],
      "source": [
        "report = classification_report(test_labels, predicted_classes, target_names=categories)\n",
        "print(report)"
      ]
    },
    {
      "cell_type": "code",
      "execution_count": 29,
      "metadata": {
        "id": "ldR37d9hmZwe",
        "colab": {
          "base_uri": "https://localhost:8080/",
          "height": 735
        },
        "outputId": "5b022673-4fb6-48af-8084-464ec4c51a88"
      },
      "outputs": [
        {
          "output_type": "execute_result",
          "data": {
            "text/plain": [
              "Text(95.72222222222221, 0.5, 'True Label')"
            ]
          },
          "metadata": {},
          "execution_count": 29
        },
        {
          "output_type": "display_data",
          "data": {
            "text/plain": [
              "<Figure size 1000x800 with 2 Axes>"
            ],
            "image/png": "[encoded data removed]"
          },
          "metadata": {}
        }
      ],
      "source": [
        "conf_matrix = confusion_matrix(test_labels, predicted_classes)\n",
        "plt.figure(figsize=(10, 8))\n",
        "sns.heatmap(conf_matrix, annot=True, fmt='d', cmap='Blues',\n",
        "            xticklabels=categories,\n",
        "            yticklabels=categories)\n",
        "plt.title('Confusion Matrix')\n",
        "plt.xlabel('Predicted Label')\n",
        "plt.ylabel('True Label')"
      ]
    },
    {
      "cell_type": "code",
      "source": [
        "runtime.unassign()"
      ],
      "metadata": {
        "id": "VNdHNv_0LmzQ"
      },
      "execution_count": 30,
      "outputs": []
    }
  ],
  "metadata": {
    "accelerator": "GPU",
    "colab": {
      "gpuType": "A100",
      "machine_shape": "hm",
      "provenance": []
    },
    "kernelspec": {
      "display_name": "Python 3",
      "name": "python3"
    },
    "language_info": {
      "codemirror_mode": {
        "name": "ipython",
        "version": 3
      },
      "file_extension": ".py",
      "mimetype": "text/x-python",
      "name": "python",
      "nbconvert_exporter": "python",
      "pygments_lexer": "ipython3",
      "version": "3.11.11"
    }
  },
  "nbformat": 4,
  "nbformat_minor": 0
}