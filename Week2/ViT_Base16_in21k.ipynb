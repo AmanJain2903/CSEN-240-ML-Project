{
  "cells": [
    {
      "cell_type": "markdown",
      "metadata": {
        "id": "8uWHy3u6JMRa"
      },
      "source": [
        "# IMPORTS"
      ]
    },
    {
      "cell_type": "code",
      "execution_count": null,
      "metadata": {
        "id": "AsvjvusqIe23"
      },
      "outputs": [],
      "source": [
        "import torch\n",
        "from torch.utils.data import DataLoader, Dataset, random_split\n",
        "import torchvision.transforms as transforms\n",
        "import torchvision.datasets as datasets\n",
        "from PIL import Image\n",
        "import tensorflow as tf\n",
        "from transformers import ViTImageProcessor, ViTModel, ViTForImageClassification\n",
        "from sklearn.model_selection import train_test_split\n",
        "import torch.optim as optim\n",
        "import torch.nn as nn\n",
        "from torch.optim.lr_scheduler import ReduceLROnPlateau\n",
        "from sklearn.metrics import classification_report, precision_recall_curve, confusion_matrix\n",
        "import numpy as np\n",
        "import matplotlib.pyplot as plt\n",
        "import os\n",
        "from sklearn.preprocessing import label_binarize\n",
        "import seaborn as sns"
      ]
    },
    {
      "cell_type": "code",
      "execution_count": null,
      "metadata": {},
      "outputs": [],
      "source": [
        "os.makedirs('Models/ViT/Not-Finetuned', exist_ok=True)\n",
        "os.makedirs('Models/ViT/Finetuned', exist_ok=True)"
      ]
    },
    {
      "cell_type": "code",
      "execution_count": null,
      "metadata": {
        "colab": {
          "base_uri": "https://localhost:8080/",
          "height": 240,
          "referenced_widgets": [
            "9d3fdfefa3794d21ad4166e6404e652d",
            "acaad47e5f6540c1adf2ed88ea7f72fd",
            "3d76a03f0e394e9b8b466f1c3f958cf1",
            "0d2b0ab0c8364f2e81b20ee0521c8a68",
            "eec70dad2b18440ca2943faec28ba22a",
            "50307f20c1f749a0b486cfb35b727bec",
            "62e2b69f08c144af867b61b785b3e559",
            "e6e618dfd391415dbceff3c6e61b6b8c",
            "d498d5fcad34423eba2d38c889ab55dc",
            "f9b98115ca994955b95bb06628c2949c",
            "c83730736fae41eab91ee63f056e445e",
            "a2258bbba9814fb0b5dfe885979feb1e",
            "d36d2d3973bc45d795d91e6e16ebabaa",
            "ed30ae3c94fc4ccfb0d0cdb238b2d72a",
            "bd97dd177b0a4912a72dc52847b534f5",
            "af0d82a5d58f4bb1a66f6f0c58614d90",
            "dcb18b45d067431e82dce9bb8f58eaf2",
            "0a51672617a2433390d2d05137f120c7",
            "97d47d0e534343be83fc68c6dc6fd744",
            "d95f0177fa5144b79d95ef8646e0d054",
            "3c0e28ac3a3d4fcfbf62c0b942059293",
            "cadad9655fe24e9ca1551e3adfb0a118",
            "1a650391fa684ab78bceed22d6f5c576",
            "334e316399764188a76dc71dfc2862a2",
            "f81ab9951bea4f4cbf284fe4cc921ae6",
            "b9f1889104674c489b7486ebee0ae268",
            "059d5b0f2bda4319a8bae9dcdf6a6869",
            "8bc63d99a50d41d58ececbd27a77fd2b",
            "ac5206d2044747d39563aec3fd2b2cf4",
            "c2316453905d498e974bad117e860704",
            "f3e9bd07128242f08398745799546b13",
            "ae71f0c07f4240d19e83e98433c82e14",
            "d856cb1ba98343bc9da5f4515f7f1817"
          ]
        },
        "id": "JABCLdhi33Pp",
        "outputId": "8bd31043-e190-40d3-e2e1-42511f84be68"
      },
      "outputs": [],
      "source": [
        "processor = ViTImageProcessor.from_pretrained('google/vit-base-patch16-224-in21k')\n",
        "vit_model = ViTModel.from_pretrained('google/vit-base-patch16-224-in21k')"
      ]
    },
    {
      "cell_type": "code",
      "execution_count": null,
      "metadata": {
        "id": "1xANozcAC2kH"
      },
      "outputs": [],
      "source": [
        "class ViTWithHead(nn.Module):\n",
        "    def __init__(self, pretrained_model, num_classes, dropout_rate=0.4):\n",
        "        super(ViTWithHead, self).__init__()\n",
        "        self.vit = pretrained_model  # Base ViT model\n",
        "        self.classifier = nn.Sequential(\n",
        "            nn.BatchNorm1d(self.vit.config.hidden_size),\n",
        "            nn.Dropout(dropout_rate), \n",
        "            nn.Linear(self.vit.config.hidden_size, 256), \n",
        "            nn.ReLU(), \n",
        "            nn.Dropout(0.3), \n",
        "            nn.Linear(256, num_classes)  \n",
        "        )\n",
        "\n",
        "    def forward(self, x):\n",
        "        outputs = self.vit(x) \n",
        "        cls_token = outputs.last_hidden_state[:, 0]  # CLS token (first token)\n",
        "        logits = self.classifier(cls_token) \n",
        "        return logits"
      ]
    },
    {
      "cell_type": "code",
      "execution_count": null,
      "metadata": {
        "colab": {
          "base_uri": "https://localhost:8080/"
        },
        "id": "fe3W94iKCv0Y",
        "outputId": "aa026781-eead-4490-cdef-378a4c2ca8f9"
      },
      "outputs": [],
      "source": [
        "device = torch.device(\"mps\" if torch.mps.is_available() else \"cuda\" if torch.cuda.is_available() else \"cpu\")\n",
        "model = ViTWithHead(vit_model, num_classes=3)\n",
        "model.to(device)"
      ]
    },
    {
      "cell_type": "code",
      "execution_count": null,
      "metadata": {
        "colab": {
          "base_uri": "https://localhost:8080/"
        },
        "id": "gTKg1uqM4wED",
        "outputId": "64a2ec59-937a-4de7-8c34-affd43a62b76"
      },
      "outputs": [],
      "source": [
        "if next(model.parameters()).is_mps:\n",
        "    print(\"Model is running on MPS (GPU).\")\n",
        "elif next(model.parameters()).is_cuda:\n",
        "    print(\"Model is running on CUDA (GPU).\")\n",
        "else:\n",
        "    print(\"Model is running on CPU.\")"
      ]
    },
    {
      "cell_type": "markdown",
      "metadata": {
        "id": "4m-jmKv5JX9j"
      },
      "source": [
        "# LOADING DATA"
      ]
    },
    {
      "cell_type": "code",
      "execution_count": null,
      "metadata": {
        "id": "V5fa17YZIquA"
      },
      "outputs": [],
      "source": [
        "batch_size = 32\n",
        "img_size = (224, 224)\n",
        "channels = 3\n",
        "img_shape = (img_size[0], img_size[1], channels)\n",
        "categories = [\"Normal\",\"Osteopenia\", \"Osteoporosis\"]"
      ]
    },
    {
      "cell_type": "code",
      "execution_count": null,
      "metadata": {
        "id": "QGPIBT-yIrOl"
      },
      "outputs": [],
      "source": [
        "root_dir = 'Dataset'\n",
        "train_dir = os.path.join(root_dir, 'train')\n",
        "val_dir = os.path.join(root_dir, 'val')\n",
        "test_dir = os.path.join(root_dir, 'test')"
      ]
    },
    {
      "cell_type": "code",
      "execution_count": null,
      "metadata": {
        "id": "h9Mihu3rIuuu"
      },
      "outputs": [],
      "source": [
        "class CustomDataset(torch.utils.data.Dataset):\n",
        "    def __init__(self, image_paths, labels, processor, model, device):\n",
        "        self.image_paths = image_paths\n",
        "        self.labels = labels\n",
        "        self.processor = processor\n",
        "        self.model = model\n",
        "        self.device = device \n",
        "\n",
        "    def __len__(self):\n",
        "        return len(self.image_paths)\n",
        "\n",
        "    def __getitem__(self, idx):\n",
        "        image = Image.open(self.image_paths[idx]).convert(\"RGB\")\n",
        "        label = self.labels[idx]\n",
        "\n",
        "        inputs = self.processor(images=image, return_tensors=\"np\").to(self.device)  # Move inputs to device\n",
        "        inputs = inputs.pixel_values \n",
        "\n",
        "        return inputs, label"
      ]
    },
    {
      "cell_type": "code",
      "execution_count": null,
      "metadata": {
        "id": "4rCLgoPxIyts"
      },
      "outputs": [],
      "source": [
        "train_paths = []\n",
        "train_labels = []\n",
        "class_to_idx = {class_name: idx for idx, class_name in enumerate(os.listdir(train_dir))}\n",
        "for class_name in os.listdir(train_dir):\n",
        "    class_folder = os.path.join(train_dir, class_name)\n",
        "    if os.path.isdir(class_folder):\n",
        "        for img_name in os.listdir(class_folder):\n",
        "            if img_name.endswith(('.jpg', '.jpeg', '.png')):\n",
        "                train_paths.append(os.path.join(class_folder, img_name))\n",
        "                train_labels.append(class_to_idx[class_name])\n",
        "print(f\"Training images: {len(train_paths)}\")"
      ]
    },
    {
      "cell_type": "code",
      "execution_count": null,
      "metadata": {
        "id": "B7ylhYV-Ik8r"
      },
      "outputs": [],
      "source": [
        "val_paths = []\n",
        "val_labels = []\n",
        "class_to_idx = {class_name: idx for idx, class_name in enumerate(os.listdir(val_dir))}\n",
        "for class_name in os.listdir(val_dir):\n",
        "    class_folder = os.path.join(val_dir, class_name)\n",
        "    if os.path.isdir(class_folder):\n",
        "        for img_name in os.listdir(class_folder):\n",
        "            if img_name.endswith(('.jpg', '.jpeg', '.png')):\n",
        "                val_paths.append(os.path.join(class_folder, img_name))\n",
        "                val_labels.append(class_to_idx[class_name])\n",
        "print(f\"Validation images: {len(val_paths)}\")"
      ]
    },
    {
      "cell_type": "code",
      "execution_count": null,
      "metadata": {},
      "outputs": [],
      "source": [
        "test_paths = []\n",
        "test_labels = []\n",
        "class_to_idx = {class_name: idx for idx, class_name in enumerate(os.listdir(test_dir))}\n",
        "for class_name in os.listdir(test_dir):\n",
        "    class_folder = os.path.join(test_dir, class_name)\n",
        "    if os.path.isdir(class_folder):\n",
        "        for img_name in os.listdir(class_folder):\n",
        "            if img_name.endswith(('.jpg', '.jpeg', '.png')):\n",
        "                test_paths.append(os.path.join(class_folder, img_name))\n",
        "                test_labels.append(class_to_idx[class_name])\n",
        "print(f\"Test images: {len(test_paths)}\")"
      ]
    },
    {
      "cell_type": "code",
      "execution_count": null,
      "metadata": {
        "id": "znFQe2ksJBhU"
      },
      "outputs": [],
      "source": [
        "train_dataset = CustomDataset(train_paths, train_labels, processor, model, device)\n",
        "val_dataset = CustomDataset(val_paths, val_labels, processor, model, device)\n",
        "test_dataset = CustomDataset(test_paths, test_labels, processor, model, device)"
      ]
    },
    {
      "cell_type": "code",
      "execution_count": null,
      "metadata": {
        "id": "JHXMPocZJE8a"
      },
      "outputs": [],
      "source": [
        "trainLoader = DataLoader(train_dataset, batch_size=batch_size, shuffle=True)\n",
        "validLoader = DataLoader(val_dataset, batch_size=batch_size, shuffle=False)\n",
        "testLoader = DataLoader(test_dataset, batch_size=batch_size, shuffle=False)\n"
      ]
    },
    {
      "cell_type": "code",
      "execution_count": null,
      "metadata": {
        "colab": {
          "base_uri": "https://localhost:8080/"
        },
        "id": "OYaNkiav4gGo",
        "outputId": "a756e68d-74a1-45e7-dccd-03fc3b4b2b76"
      },
      "outputs": [],
      "source": [
        "for features, labels in trainLoader:\n",
        "    features, labels = features.to(device), labels.to(device)\n",
        "    print(features.shape)\n",
        "    print(labels.shape)\n",
        "    break"
      ]
    },
    {
      "cell_type": "markdown",
      "metadata": {
        "id": "pvmrfefQJyB5"
      },
      "source": [
        "# TRAINING"
      ]
    },
    {
      "cell_type": "code",
      "execution_count": null,
      "metadata": {
        "id": "TMLLAF5FJksg"
      },
      "outputs": [],
      "source": [
        "def train_model(model, train_loader, val_loader, criterion, optimizer, scheduler, num_epochs=250, early_stopping_patience=5):\n",
        "\n",
        "    best_val_loss = float('inf')\n",
        "    epochs_no_improve = 0\n",
        "\n",
        "    train_losses, val_losses = [], []\n",
        "    train_accuracies, val_accuracies = [], []\n",
        "\n",
        "    for epoch in range(num_epochs):\n",
        "        model.train()\n",
        "        train_loss, correct_train, total_train = 0.0, 0, 0\n",
        "\n",
        "        for features, labels in train_loader:  \n",
        "            features, labels = features.to(device), labels.to(device)  \n",
        "            optimizer.zero_grad()\n",
        "\n",
        "            # Reshape from [batch_size, 1, 3, 224, 224] to [batch_size, 3, 224, 224]\n",
        "            features = features.squeeze(1)\n",
        "\n",
        "            # Forward pass (directly pass the features into the classifier)\n",
        "            outputs = model(features)\n",
        "            logits = outputs \n",
        "\n",
        "            if len(labels.shape) > 1:  # If labels are one-hot encoded\n",
        "                labels = labels.argmax(dim=1)  # Convert to class indices\n",
        "\n",
        "            # Compute the loss\n",
        "            loss = criterion(logits, labels)\n",
        "            loss.backward()\n",
        "            optimizer.step()\n",
        "\n",
        "            train_loss += loss.item()\n",
        "            _, predicted = logits.max(1)  # Get predicted class indices\n",
        "            correct_train += (predicted == labels).sum().item()\n",
        "            total_train += labels.size(0)\n",
        "\n",
        "        # Validation Loop\n",
        "        model.eval()\n",
        "        val_loss, correct_val, total_val = 0.0, 0, 0\n",
        "\n",
        "        with torch.no_grad():\n",
        "            for features, labels in val_loader: \n",
        "                features, labels = features.to(device), labels.to(device)\n",
        "\n",
        "                # Reshape features from [batch_size, 1, 3, 224, 224] to [batch_size, 3, 224, 224]\n",
        "                features = features.squeeze(1)\n",
        "\n",
        "                outputs = model(features)  # Pass features to the model\n",
        "                logits = outputs  \n",
        "                \n",
        "                if len(labels.shape) > 1:\n",
        "                    labels = labels.argmax(dim=1)\n",
        "\n",
        "                # Compute the validation loss\n",
        "                loss = criterion(logits, labels)\n",
        "                val_loss += loss.item()\n",
        "\n",
        "                _, predicted = logits.max(1)  # Get predicted class indices\n",
        "                correct_val += (predicted == labels).sum().item()\n",
        "                total_val += labels.size(0)\n",
        "\n",
        "        # Compute epoch-wise losses and accuracies\n",
        "        avg_train_loss = train_loss / len(train_loader)\n",
        "        avg_val_loss = val_loss / len(val_loader)\n",
        "        train_acc = correct_train / total_train\n",
        "        val_acc = correct_val / total_val\n",
        "\n",
        "        train_losses.append(avg_train_loss)\n",
        "        val_losses.append(avg_val_loss)\n",
        "        train_accuracies.append(train_acc)\n",
        "        val_accuracies.append(val_acc)\n",
        "\n",
        "        print(f\"Epoch [{epoch+1}/{num_epochs}] - Train Loss: {avg_train_loss:.4f}, Train Acc: {train_acc:.4f} - Val Loss: {avg_val_loss:.4f}, Val Acc: {val_acc:.4f}\")\n",
        "\n",
        "        # Update LR Scheduler\n",
        "        scheduler.step(avg_val_loss)\n",
        "\n",
        "        for param_group in optimizer.param_groups:\n",
        "            print(f\"Epoch [{epoch+1}/{num_epochs}] - LR: {param_group['lr']:.6f}\")\n",
        "\n",
        "        # Early Stopping Check\n",
        "        if avg_val_loss < best_val_loss:\n",
        "            best_val_loss = avg_val_loss\n",
        "            epochs_no_improve = 0\n",
        "            torch.save(model.state_dict(), \"Models/ViT/best_vit_model.pth\")  # Save best model\n",
        "        else:\n",
        "            epochs_no_improve += 1\n",
        "\n",
        "        if epochs_no_improve >= early_stopping_patience:\n",
        "            print(\"Early stopping triggered. Training stopped.\")\n",
        "            break\n",
        "\n",
        "    return train_losses, val_losses, train_accuracies, val_accuracies"
      ]
    },
    {
      "cell_type": "code",
      "execution_count": null,
      "metadata": {
        "id": "UiCeC6XhJ1Kg"
      },
      "outputs": [],
      "source": [
        "for param in model.vit.parameters():\n",
        "    param.requires_grad = False\n",
        "\n",
        "criterion = nn.CrossEntropyLoss()\n",
        "optimizer = optim.AdamW(model.parameters(), lr=1e-4, weight_decay=1e-5)\n",
        "scheduler = ReduceLROnPlateau(optimizer, mode='min', factor=0.5, patience=3, verbose=True)\n",
        "\n",
        "train_losses, val_losses, train_accuracies, val_accuracies = train_model(model, trainLoader, validLoader, criterion, optimizer, scheduler, num_epochs=250, early_stopping_patience=8)"
      ]
    },
    {
      "cell_type": "code",
      "execution_count": null,
      "metadata": {},
      "outputs": [],
      "source": [
        "# torch.save(model, \"Models/ViT/Not-Finetuned/ViT-Base16-in21k.pth\")\n",
        "# torch.save(model.state_dict(), \"Models/ViT/Not-Finetuned/ViT-Base16-in21k_weights.pth\")"
      ]
    },
    {
      "cell_type": "markdown",
      "metadata": {
        "id": "j6qVloptKHLc"
      },
      "source": [
        "# FINE-TUNING"
      ]
    },
    {
      "cell_type": "code",
      "execution_count": null,
      "metadata": {
        "id": "8G3BR1lbJ4vB"
      },
      "outputs": [],
      "source": [
        "model.load_state_dict(torch.load(\"Models/ViT/best_vit_model.pth\", map_location=device))\n",
        "\n",
        "for param in model.vit.parameters():\n",
        "    param.requires_grad = True\n",
        "\n",
        "criterion = nn.CrossEntropyLoss()\n",
        "scheduler = ReduceLROnPlateau(optimizer, mode='min', factor=0.5, patience=3, verbose=True)\n",
        "\n",
        "optimizer = optim.AdamW(model.parameters(), lr=1e-6, weight_decay=1e-7)\n",
        "train_losses_finetune, val_losses_finetune, train_accuracies_finetune, val_accuracies_finetune = train_model(\n",
        "    model, trainLoader, validLoader, criterion, optimizer, scheduler, num_epochs=250, early_stopping_patience=8\n",
        ")"
      ]
    },
    {
      "cell_type": "code",
      "execution_count": null,
      "metadata": {},
      "outputs": [],
      "source": [
        "model.load_state_dict(torch.load(\"Models/ViT/best_vit_model.pth\", map_location=device))\n",
        "# torch.save(model, \"Models/ViT/Finetuned/ViT-Base16-in21k.pth\")\n",
        "# torch.save(model.state_dict(), \"Models/ViT/Finetuned/ViT-Base16-in21k_weights.pth\")"
      ]
    },
    {
      "cell_type": "markdown",
      "metadata": {
        "id": "pEWO7cD2LugQ"
      },
      "source": [
        "# PLOTS"
      ]
    },
    {
      "cell_type": "code",
      "execution_count": null,
      "metadata": {
        "id": "GCfnnuufLvjP"
      },
      "outputs": [],
      "source": [
        "def plot_metrics(train_losses, val_losses, train_accuracies, val_accuracies):\n",
        "    epochs = range(1, len(train_losses) + 1)\n",
        "\n",
        "    plt.figure(figsize=(12, 5))\n",
        "\n",
        "    # Loss Plot\n",
        "    plt.subplot(1, 2, 1)\n",
        "    plt.plot(epochs, train_losses, label='Train Loss', marker='o')\n",
        "    plt.plot(epochs, val_losses, label='Val Loss', marker='o')\n",
        "    plt.xlabel('Epochs')\n",
        "    plt.ylabel('Loss')\n",
        "    plt.title('Loss Curve')\n",
        "    plt.legend()\n",
        "\n",
        "    # Accuracy Plot\n",
        "    plt.subplot(1, 2, 2)\n",
        "    plt.plot(epochs, train_accuracies, label='Train Accuracy', marker='o')\n",
        "    plt.plot(epochs, val_accuracies, label='Val Accuracy', marker='o')\n",
        "    plt.xlabel('Epochs')\n",
        "    plt.ylabel('Accuracy')\n",
        "    plt.title('Accuracy Curve')\n",
        "    plt.legend()\n",
        "\n",
        "    plt.show()"
      ]
    },
    {
      "cell_type": "markdown",
      "metadata": {
        "id": "ALMG6PP7L133"
      },
      "source": [
        "## Pre-Trained"
      ]
    },
    {
      "cell_type": "code",
      "execution_count": null,
      "metadata": {
        "id": "-dFSWMpqLypz"
      },
      "outputs": [],
      "source": [
        "plot_metrics(train_losses, val_losses, train_accuracies, val_accuracies)"
      ]
    },
    {
      "cell_type": "markdown",
      "metadata": {
        "id": "Qz6RoLyIL5Mr"
      },
      "source": [
        "## Fine-Tuned"
      ]
    },
    {
      "cell_type": "code",
      "execution_count": null,
      "metadata": {
        "id": "5sKOgMAtL0WZ"
      },
      "outputs": [],
      "source": [
        "plot_metrics(train_losses_finetune, val_losses_finetune, train_accuracies_finetune, val_accuracies_finetune)"
      ]
    },
    {
      "cell_type": "markdown",
      "metadata": {
        "id": "2d3d5keRMGWz"
      },
      "source": [
        "# TESTING"
      ]
    },
    {
      "cell_type": "code",
      "execution_count": null,
      "metadata": {
        "id": "QT_-lWHE5Wuc"
      },
      "outputs": [],
      "source": [
        "model.load_state_dict(torch.load(\"Models/ViT/Finetuned/ViT-Base16-in21k_weights.pth\", map_location=device))"
      ]
    },
    {
      "cell_type": "code",
      "execution_count": null,
      "metadata": {
        "id": "S1FP1zyTMHKc"
      },
      "outputs": [],
      "source": [
        "def evaluate_model(model, test_loader, categories):\n",
        "    device = torch.device(\"mps\" if torch.mps.is_available() else \"cpu\")\n",
        "    model.to(device)\n",
        "    model.eval()\n",
        "\n",
        "    all_preds = []\n",
        "    all_labels = []\n",
        "\n",
        "    with torch.no_grad():\n",
        "        for images, labels in test_loader:\n",
        "            images, labels = images.to(device), labels.to(device)\n",
        "\n",
        "            images = images.squeeze(1)  # Shape becomes [32, 3, 224, 224]\n",
        "\n",
        "            outputs = model(images) \n",
        "            _, predicted = outputs.max(1)\n",
        "\n",
        "            # If labels are one-hot encoded, convert them to class indices\n",
        "            if len(labels.shape) > 1:\n",
        "                labels = labels.argmax(dim=1)\n",
        "\n",
        "            all_preds.extend(predicted.cpu().numpy())\n",
        "            all_labels.extend(labels.cpu().numpy())\n",
        "\n",
        "    # Print Classification Report\n",
        "    print(\"Classification Report:\\n\", classification_report(all_labels, all_preds, target_names=categories))\n",
        "    return all_labels, all_preds"
      ]
    },
    {
      "cell_type": "code",
      "execution_count": null,
      "metadata": {
        "id": "nI3HY56zMKf5"
      },
      "outputs": [],
      "source": [
        "labels, preds = evaluate_model(model, testLoader, categories)"
      ]
    },
    {
      "cell_type": "markdown",
      "metadata": {
        "id": "5FI3hYsPMaQe"
      },
      "source": [
        "# PR CURVE"
      ]
    },
    {
      "cell_type": "code",
      "execution_count": null,
      "metadata": {
        "id": "2vHpbsOrMY7y"
      },
      "outputs": [],
      "source": [
        "def find_best_thresholds(model, test_loader, num_classes):\n",
        "    model.eval()\n",
        "\n",
        "    all_probs = []\n",
        "    all_labels = []\n",
        "\n",
        "    with torch.no_grad():\n",
        "        for images, labels in test_loader:\n",
        "            images = images.to(device)\n",
        "\n",
        "            labels = labels.cpu().numpy()\n",
        "            if labels.ndim == 1:\n",
        "                labels = labels.reshape(-1, 1)  # Shape [batch_size, 1]\n",
        "\n",
        "            images = images.squeeze(1)  # Shape becomes [batch, 3, 224, 224]\n",
        "\n",
        "            # Get model output logits\n",
        "            outputs = model(images) \n",
        "\n",
        "            # Convert logits to probabilities\n",
        "            probs = torch.softmax(outputs, dim=1).cpu().numpy()  # Softmax for multi-class classification\n",
        "\n",
        "            all_probs.append(probs)\n",
        "            all_labels.append(labels)\n",
        "\n",
        "    all_probs = np.concatenate(all_probs, axis=0)  # Shape: [n_samples, n_classes]\n",
        "    all_labels = np.concatenate(all_labels, axis=0)  # Shape: [n_samples, 1] \n",
        "\n",
        "    # One-hot encode labels (needed for multi-class precision-recall curve)\n",
        "    all_labels = label_binarize(all_labels, classes=np.arange(num_classes))  # Shape: [n_samples, n_classes]\n",
        "\n",
        "    best_thresholds = []\n",
        "\n",
        "    for class_idx in range(num_classes):\n",
        "        binary_labels = all_labels[:, class_idx]  # Get class labels (binary format)\n",
        "\n",
        "        # Compute precision-recall curve\n",
        "        precision, recall, thresholds = precision_recall_curve(binary_labels, all_probs[:, class_idx])\n",
        "\n",
        "        # Compute F1 scores for each threshold\n",
        "        f1_scores = (2 * precision * recall) / (precision + recall + np.finfo(float).eps)  # Avoid division by zero\n",
        "\n",
        "        # Get threshold with max F1 score\n",
        "        best_threshold = thresholds[np.argmax(f1_scores)] if thresholds.size > 0 else 0.5\n",
        "        best_thresholds.append(best_threshold)\n",
        "\n",
        "        print(f\"Best threshold for class {class_idx}: {best_threshold:.4f}\")\n",
        "\n",
        "    return best_thresholds\n",
        "\n",
        "\n",
        "best_thresholds = find_best_thresholds(model, testLoader, 3)\n",
        "best_thresholds"
      ]
    },
    {
      "cell_type": "code",
      "execution_count": null,
      "metadata": {
        "id": "skH22TkMMsQd"
      },
      "outputs": [],
      "source": [
        "def evaluate_with_best_thresholds(model, test_loader, best_thresholds, categories):\n",
        "    model.eval()\n",
        "\n",
        "    all_preds = []\n",
        "    all_labels = []\n",
        "\n",
        "    with torch.no_grad():\n",
        "        for images, labels in test_loader:\n",
        "            images = images.to(device)\n",
        "            labels = labels.cpu().numpy()\n",
        "\n",
        "            if len(images.shape) == 5:\n",
        "                images = images.squeeze(1)  # Remove the extra dimension, if necessary\n",
        "\n",
        "            # Ensure labels are in a multi-label format (one-hot encoded)\n",
        "            if labels.ndim == 1: \n",
        "                labels = np.eye(len(categories))[labels]\n",
        "\n",
        "            outputs = model(images)\n",
        "            if isinstance(outputs, tuple):  \n",
        "                outputs = outputs[0]\n",
        "\n",
        "            # Apply sigmoid activation\n",
        "            probs = torch.sigmoid(outputs).cpu().numpy()\n",
        "\n",
        "            # Apply best thresholds for each class\n",
        "            preds = (probs > np.array(best_thresholds)).astype(int)\n",
        "            preds = np.argmax(preds*probs, axis=1)\n",
        "            preds = label_binarize(preds, classes=np.arange(len(categories)))\n",
        "\n",
        "            all_preds.extend(preds)\n",
        "            all_labels.extend(labels)\n",
        "\n",
        "    all_preds = np.array(all_preds)\n",
        "    all_labels = np.array(all_labels)\n",
        "\n",
        "    # Ensure both are in the same shape and format\n",
        "    if all_labels.shape != all_preds.shape:\n",
        "        raise ValueError(f\"Shape mismatch: labels {all_labels.shape}, preds {all_preds.shape}\")\n",
        "\n",
        "    # Print Classification Report\n",
        "    print(\"Classification Report with Optimized Thresholds:\\n\",\n",
        "          classification_report(all_labels, all_preds, target_names=categories))\n",
        "    \n",
        "    return all_labels, all_preds"
      ]
    },
    {
      "cell_type": "code",
      "execution_count": null,
      "metadata": {
        "id": "PEvsI_bRMwNv"
      },
      "outputs": [],
      "source": [
        "labels, preds = evaluate_with_best_thresholds(model, testLoader, best_thresholds, categories)"
      ]
    },
    {
      "cell_type": "code",
      "execution_count": null,
      "metadata": {},
      "outputs": [],
      "source": [
        "conf_matrix = confusion_matrix(np.argmax(labels, axis=1), np.argmax(preds, axis=1))\n",
        "plt.figure(figsize=(10, 8))\n",
        "sns.heatmap(conf_matrix, annot=True, fmt='d', cmap='Blues',\n",
        "            xticklabels=categories,\n",
        "            yticklabels=categories)\n",
        "plt.title('Confusion Matrix')\n",
        "plt.xlabel('Predicted Label')\n",
        "plt.ylabel('True Label')"
      ]
    }
  ],
  "metadata": {
    "accelerator": "GPU",
    "colab": {
      "gpuType": "A100",
      "machine_shape": "hm",
      "provenance": []
    },
    "kernelspec": {
      "display_name": "ComputerVision",
      "language": "python",
      "name": "python3"
    },
    "language_info": {
      "codemirror_mode": {
        "name": "ipython",
        "version": 3
      },
      "file_extension": ".py",
      "mimetype": "text/x-python",
      "name": "python",
      "nbconvert_exporter": "python",
      "pygments_lexer": "ipython3",
      "version": "3.11.11"
    },
    "widgets": {
      "application/vnd.jupyter.widget-state+json": {
        "059d5b0f2bda4319a8bae9dcdf6a6869": {
          "model_module": "@jupyter-widgets/base",
          "model_module_version": "1.2.0",
          "model_name": "LayoutModel",
          "state": {
            "_model_module": "@jupyter-widgets/base",
            "_model_module_version": "1.2.0",
            "_model_name": "LayoutModel",
            "_view_count": null,
            "_view_module": "@jupyter-widgets/base",
            "_view_module_version": "1.2.0",
            "_view_name": "LayoutView",
            "align_content": null,
            "align_items": null,
            "align_self": null,
            "border": null,
            "bottom": null,
            "display": null,
            "flex": null,
            "flex_flow": null,
            "grid_area": null,
            "grid_auto_columns": null,
            "grid_auto_flow": null,
            "grid_auto_rows": null,
            "grid_column": null,
            "grid_gap": null,
            "grid_row": null,
            "grid_template_areas": null,
            "grid_template_columns": null,
            "grid_template_rows": null,
            "height": null,
            "justify_content": null,
            "justify_items": null,
            "left": null,
            "margin": null,
            "max_height": null,
            "max_width": null,
            "min_height": null,
            "min_width": null,
            "object_fit": null,
            "object_position": null,
            "order": null,
            "overflow": null,
            "overflow_x": null,
            "overflow_y": null,
            "padding": null,
            "right": null,
            "top": null,
            "visibility": null,
            "width": null
          }
        },
        "0a51672617a2433390d2d05137f120c7": {
          "model_module": "@jupyter-widgets/controls",
          "model_module_version": "1.5.0",
          "model_name": "DescriptionStyleModel",
          "state": {
            "_model_module": "@jupyter-widgets/controls",
            "_model_module_version": "1.5.0",
            "_model_name": "DescriptionStyleModel",
            "_view_count": null,
            "_view_module": "@jupyter-widgets/base",
            "_view_module_version": "1.2.0",
            "_view_name": "StyleView",
            "description_width": ""
          }
        },
        "0d2b0ab0c8364f2e81b20ee0521c8a68": {
          "model_module": "@jupyter-widgets/controls",
          "model_module_version": "1.5.0",
          "model_name": "HTMLModel",
          "state": {
            "_dom_classes": [],
            "_model_module": "@jupyter-widgets/controls",
            "_model_module_version": "1.5.0",
            "_model_name": "HTMLModel",
            "_view_count": null,
            "_view_module": "@jupyter-widgets/controls",
            "_view_module_version": "1.5.0",
            "_view_name": "HTMLView",
            "description": "",
            "description_tooltip": null,
            "layout": "IPY_MODEL_f9b98115ca994955b95bb06628c2949c",
            "placeholder": "​",
            "style": "IPY_MODEL_c83730736fae41eab91ee63f056e445e",
            "value": " 160/160 [00:00&lt;00:00, 16.7kB/s]"
          }
        },
        "1a650391fa684ab78bceed22d6f5c576": {
          "model_module": "@jupyter-widgets/controls",
          "model_module_version": "1.5.0",
          "model_name": "HBoxModel",
          "state": {
            "_dom_classes": [],
            "_model_module": "@jupyter-widgets/controls",
            "_model_module_version": "1.5.0",
            "_model_name": "HBoxModel",
            "_view_count": null,
            "_view_module": "@jupyter-widgets/controls",
            "_view_module_version": "1.5.0",
            "_view_name": "HBoxView",
            "box_style": "",
            "children": [
              "IPY_MODEL_334e316399764188a76dc71dfc2862a2",
              "IPY_MODEL_f81ab9951bea4f4cbf284fe4cc921ae6",
              "IPY_MODEL_b9f1889104674c489b7486ebee0ae268"
            ],
            "layout": "IPY_MODEL_059d5b0f2bda4319a8bae9dcdf6a6869"
          }
        },
        "334e316399764188a76dc71dfc2862a2": {
          "model_module": "@jupyter-widgets/controls",
          "model_module_version": "1.5.0",
          "model_name": "HTMLModel",
          "state": {
            "_dom_classes": [],
            "_model_module": "@jupyter-widgets/controls",
            "_model_module_version": "1.5.0",
            "_model_name": "HTMLModel",
            "_view_count": null,
            "_view_module": "@jupyter-widgets/controls",
            "_view_module_version": "1.5.0",
            "_view_name": "HTMLView",
            "description": "",
            "description_tooltip": null,
            "layout": "IPY_MODEL_8bc63d99a50d41d58ececbd27a77fd2b",
            "placeholder": "​",
            "style": "IPY_MODEL_ac5206d2044747d39563aec3fd2b2cf4",
            "value": "model.safetensors: 100%"
          }
        },
        "3c0e28ac3a3d4fcfbf62c0b942059293": {
          "model_module": "@jupyter-widgets/base",
          "model_module_version": "1.2.0",
          "model_name": "LayoutModel",
          "state": {
            "_model_module": "@jupyter-widgets/base",
            "_model_module_version": "1.2.0",
            "_model_name": "LayoutModel",
            "_view_count": null,
            "_view_module": "@jupyter-widgets/base",
            "_view_module_version": "1.2.0",
            "_view_name": "LayoutView",
            "align_content": null,
            "align_items": null,
            "align_self": null,
            "border": null,
            "bottom": null,
            "display": null,
            "flex": null,
            "flex_flow": null,
            "grid_area": null,
            "grid_auto_columns": null,
            "grid_auto_flow": null,
            "grid_auto_rows": null,
            "grid_column": null,
            "grid_gap": null,
            "grid_row": null,
            "grid_template_areas": null,
            "grid_template_columns": null,
            "grid_template_rows": null,
            "height": null,
            "justify_content": null,
            "justify_items": null,
            "left": null,
            "margin": null,
            "max_height": null,
            "max_width": null,
            "min_height": null,
            "min_width": null,
            "object_fit": null,
            "object_position": null,
            "order": null,
            "overflow": null,
            "overflow_x": null,
            "overflow_y": null,
            "padding": null,
            "right": null,
            "top": null,
            "visibility": null,
            "width": null
          }
        },
        "3d76a03f0e394e9b8b466f1c3f958cf1": {
          "model_module": "@jupyter-widgets/controls",
          "model_module_version": "1.5.0",
          "model_name": "FloatProgressModel",
          "state": {
            "_dom_classes": [],
            "_model_module": "@jupyter-widgets/controls",
            "_model_module_version": "1.5.0",
            "_model_name": "FloatProgressModel",
            "_view_count": null,
            "_view_module": "@jupyter-widgets/controls",
            "_view_module_version": "1.5.0",
            "_view_name": "ProgressView",
            "bar_style": "success",
            "description": "",
            "description_tooltip": null,
            "layout": "IPY_MODEL_e6e618dfd391415dbceff3c6e61b6b8c",
            "max": 160,
            "min": 0,
            "orientation": "horizontal",
            "style": "IPY_MODEL_d498d5fcad34423eba2d38c889ab55dc",
            "value": 160
          }
        },
        "50307f20c1f749a0b486cfb35b727bec": {
          "model_module": "@jupyter-widgets/base",
          "model_module_version": "1.2.0",
          "model_name": "LayoutModel",
          "state": {
            "_model_module": "@jupyter-widgets/base",
            "_model_module_version": "1.2.0",
            "_model_name": "LayoutModel",
            "_view_count": null,
            "_view_module": "@jupyter-widgets/base",
            "_view_module_version": "1.2.0",
            "_view_name": "LayoutView",
            "align_content": null,
            "align_items": null,
            "align_self": null,
            "border": null,
            "bottom": null,
            "display": null,
            "flex": null,
            "flex_flow": null,
            "grid_area": null,
            "grid_auto_columns": null,
            "grid_auto_flow": null,
            "grid_auto_rows": null,
            "grid_column": null,
            "grid_gap": null,
            "grid_row": null,
            "grid_template_areas": null,
            "grid_template_columns": null,
            "grid_template_rows": null,
            "height": null,
            "justify_content": null,
            "justify_items": null,
            "left": null,
            "margin": null,
            "max_height": null,
            "max_width": null,
            "min_height": null,
            "min_width": null,
            "object_fit": null,
            "object_position": null,
            "order": null,
            "overflow": null,
            "overflow_x": null,
            "overflow_y": null,
            "padding": null,
            "right": null,
            "top": null,
            "visibility": null,
            "width": null
          }
        },
        "62e2b69f08c144af867b61b785b3e559": {
          "model_module": "@jupyter-widgets/controls",
          "model_module_version": "1.5.0",
          "model_name": "DescriptionStyleModel",
          "state": {
            "_model_module": "@jupyter-widgets/controls",
            "_model_module_version": "1.5.0",
            "_model_name": "DescriptionStyleModel",
            "_view_count": null,
            "_view_module": "@jupyter-widgets/base",
            "_view_module_version": "1.2.0",
            "_view_name": "StyleView",
            "description_width": ""
          }
        },
        "8bc63d99a50d41d58ececbd27a77fd2b": {
          "model_module": "@jupyter-widgets/base",
          "model_module_version": "1.2.0",
          "model_name": "LayoutModel",
          "state": {
            "_model_module": "@jupyter-widgets/base",
            "_model_module_version": "1.2.0",
            "_model_name": "LayoutModel",
            "_view_count": null,
            "_view_module": "@jupyter-widgets/base",
            "_view_module_version": "1.2.0",
            "_view_name": "LayoutView",
            "align_content": null,
            "align_items": null,
            "align_self": null,
            "border": null,
            "bottom": null,
            "display": null,
            "flex": null,
            "flex_flow": null,
            "grid_area": null,
            "grid_auto_columns": null,
            "grid_auto_flow": null,
            "grid_auto_rows": null,
            "grid_column": null,
            "grid_gap": null,
            "grid_row": null,
            "grid_template_areas": null,
            "grid_template_columns": null,
            "grid_template_rows": null,
            "height": null,
            "justify_content": null,
            "justify_items": null,
            "left": null,
            "margin": null,
            "max_height": null,
            "max_width": null,
            "min_height": null,
            "min_width": null,
            "object_fit": null,
            "object_position": null,
            "order": null,
            "overflow": null,
            "overflow_x": null,
            "overflow_y": null,
            "padding": null,
            "right": null,
            "top": null,
            "visibility": null,
            "width": null
          }
        },
        "97d47d0e534343be83fc68c6dc6fd744": {
          "model_module": "@jupyter-widgets/base",
          "model_module_version": "1.2.0",
          "model_name": "LayoutModel",
          "state": {
            "_model_module": "@jupyter-widgets/base",
            "_model_module_version": "1.2.0",
            "_model_name": "LayoutModel",
            "_view_count": null,
            "_view_module": "@jupyter-widgets/base",
            "_view_module_version": "1.2.0",
            "_view_name": "LayoutView",
            "align_content": null,
            "align_items": null,
            "align_self": null,
            "border": null,
            "bottom": null,
            "display": null,
            "flex": null,
            "flex_flow": null,
            "grid_area": null,
            "grid_auto_columns": null,
            "grid_auto_flow": null,
            "grid_auto_rows": null,
            "grid_column": null,
            "grid_gap": null,
            "grid_row": null,
            "grid_template_areas": null,
            "grid_template_columns": null,
            "grid_template_rows": null,
            "height": null,
            "justify_content": null,
            "justify_items": null,
            "left": null,
            "margin": null,
            "max_height": null,
            "max_width": null,
            "min_height": null,
            "min_width": null,
            "object_fit": null,
            "object_position": null,
            "order": null,
            "overflow": null,
            "overflow_x": null,
            "overflow_y": null,
            "padding": null,
            "right": null,
            "top": null,
            "visibility": null,
            "width": null
          }
        },
        "9d3fdfefa3794d21ad4166e6404e652d": {
          "model_module": "@jupyter-widgets/controls",
          "model_module_version": "1.5.0",
          "model_name": "HBoxModel",
          "state": {
            "_dom_classes": [],
            "_model_module": "@jupyter-widgets/controls",
            "_model_module_version": "1.5.0",
            "_model_name": "HBoxModel",
            "_view_count": null,
            "_view_module": "@jupyter-widgets/controls",
            "_view_module_version": "1.5.0",
            "_view_name": "HBoxView",
            "box_style": "",
            "children": [
              "IPY_MODEL_acaad47e5f6540c1adf2ed88ea7f72fd",
              "IPY_MODEL_3d76a03f0e394e9b8b466f1c3f958cf1",
              "IPY_MODEL_0d2b0ab0c8364f2e81b20ee0521c8a68"
            ],
            "layout": "IPY_MODEL_eec70dad2b18440ca2943faec28ba22a"
          }
        },
        "a2258bbba9814fb0b5dfe885979feb1e": {
          "model_module": "@jupyter-widgets/controls",
          "model_module_version": "1.5.0",
          "model_name": "HBoxModel",
          "state": {
            "_dom_classes": [],
            "_model_module": "@jupyter-widgets/controls",
            "_model_module_version": "1.5.0",
            "_model_name": "HBoxModel",
            "_view_count": null,
            "_view_module": "@jupyter-widgets/controls",
            "_view_module_version": "1.5.0",
            "_view_name": "HBoxView",
            "box_style": "",
            "children": [
              "IPY_MODEL_d36d2d3973bc45d795d91e6e16ebabaa",
              "IPY_MODEL_ed30ae3c94fc4ccfb0d0cdb238b2d72a",
              "IPY_MODEL_bd97dd177b0a4912a72dc52847b534f5"
            ],
            "layout": "IPY_MODEL_af0d82a5d58f4bb1a66f6f0c58614d90"
          }
        },
        "ac5206d2044747d39563aec3fd2b2cf4": {
          "model_module": "@jupyter-widgets/controls",
          "model_module_version": "1.5.0",
          "model_name": "DescriptionStyleModel",
          "state": {
            "_model_module": "@jupyter-widgets/controls",
            "_model_module_version": "1.5.0",
            "_model_name": "DescriptionStyleModel",
            "_view_count": null,
            "_view_module": "@jupyter-widgets/base",
            "_view_module_version": "1.2.0",
            "_view_name": "StyleView",
            "description_width": ""
          }
        },
        "acaad47e5f6540c1adf2ed88ea7f72fd": {
          "model_module": "@jupyter-widgets/controls",
          "model_module_version": "1.5.0",
          "model_name": "HTMLModel",
          "state": {
            "_dom_classes": [],
            "_model_module": "@jupyter-widgets/controls",
            "_model_module_version": "1.5.0",
            "_model_name": "HTMLModel",
            "_view_count": null,
            "_view_module": "@jupyter-widgets/controls",
            "_view_module_version": "1.5.0",
            "_view_name": "HTMLView",
            "description": "",
            "description_tooltip": null,
            "layout": "IPY_MODEL_50307f20c1f749a0b486cfb35b727bec",
            "placeholder": "​",
            "style": "IPY_MODEL_62e2b69f08c144af867b61b785b3e559",
            "value": "preprocessor_config.json: 100%"
          }
        },
        "ae71f0c07f4240d19e83e98433c82e14": {
          "model_module": "@jupyter-widgets/base",
          "model_module_version": "1.2.0",
          "model_name": "LayoutModel",
          "state": {
            "_model_module": "@jupyter-widgets/base",
            "_model_module_version": "1.2.0",
            "_model_name": "LayoutModel",
            "_view_count": null,
            "_view_module": "@jupyter-widgets/base",
            "_view_module_version": "1.2.0",
            "_view_name": "LayoutView",
            "align_content": null,
            "align_items": null,
            "align_self": null,
            "border": null,
            "bottom": null,
            "display": null,
            "flex": null,
            "flex_flow": null,
            "grid_area": null,
            "grid_auto_columns": null,
            "grid_auto_flow": null,
            "grid_auto_rows": null,
            "grid_column": null,
            "grid_gap": null,
            "grid_row": null,
            "grid_template_areas": null,
            "grid_template_columns": null,
            "grid_template_rows": null,
            "height": null,
            "justify_content": null,
            "justify_items": null,
            "left": null,
            "margin": null,
            "max_height": null,
            "max_width": null,
            "min_height": null,
            "min_width": null,
            "object_fit": null,
            "object_position": null,
            "order": null,
            "overflow": null,
            "overflow_x": null,
            "overflow_y": null,
            "padding": null,
            "right": null,
            "top": null,
            "visibility": null,
            "width": null
          }
        },
        "af0d82a5d58f4bb1a66f6f0c58614d90": {
          "model_module": "@jupyter-widgets/base",
          "model_module_version": "1.2.0",
          "model_name": "LayoutModel",
          "state": {
            "_model_module": "@jupyter-widgets/base",
            "_model_module_version": "1.2.0",
            "_model_name": "LayoutModel",
            "_view_count": null,
            "_view_module": "@jupyter-widgets/base",
            "_view_module_version": "1.2.0",
            "_view_name": "LayoutView",
            "align_content": null,
            "align_items": null,
            "align_self": null,
            "border": null,
            "bottom": null,
            "display": null,
            "flex": null,
            "flex_flow": null,
            "grid_area": null,
            "grid_auto_columns": null,
            "grid_auto_flow": null,
            "grid_auto_rows": null,
            "grid_column": null,
            "grid_gap": null,
            "grid_row": null,
            "grid_template_areas": null,
            "grid_template_columns": null,
            "grid_template_rows": null,
            "height": null,
            "justify_content": null,
            "justify_items": null,
            "left": null,
            "margin": null,
            "max_height": null,
            "max_width": null,
            "min_height": null,
            "min_width": null,
            "object_fit": null,
            "object_position": null,
            "order": null,
            "overflow": null,
            "overflow_x": null,
            "overflow_y": null,
            "padding": null,
            "right": null,
            "top": null,
            "visibility": null,
            "width": null
          }
        },
        "b9f1889104674c489b7486ebee0ae268": {
          "model_module": "@jupyter-widgets/controls",
          "model_module_version": "1.5.0",
          "model_name": "HTMLModel",
          "state": {
            "_dom_classes": [],
            "_model_module": "@jupyter-widgets/controls",
            "_model_module_version": "1.5.0",
            "_model_name": "HTMLModel",
            "_view_count": null,
            "_view_module": "@jupyter-widgets/controls",
            "_view_module_version": "1.5.0",
            "_view_name": "HTMLView",
            "description": "",
            "description_tooltip": null,
            "layout": "IPY_MODEL_ae71f0c07f4240d19e83e98433c82e14",
            "placeholder": "​",
            "style": "IPY_MODEL_d856cb1ba98343bc9da5f4515f7f1817",
            "value": " 346M/346M [00:01&lt;00:00, 241MB/s]"
          }
        },
        "bd97dd177b0a4912a72dc52847b534f5": {
          "model_module": "@jupyter-widgets/controls",
          "model_module_version": "1.5.0",
          "model_name": "HTMLModel",
          "state": {
            "_dom_classes": [],
            "_model_module": "@jupyter-widgets/controls",
            "_model_module_version": "1.5.0",
            "_model_name": "HTMLModel",
            "_view_count": null,
            "_view_module": "@jupyter-widgets/controls",
            "_view_module_version": "1.5.0",
            "_view_name": "HTMLView",
            "description": "",
            "description_tooltip": null,
            "layout": "IPY_MODEL_3c0e28ac3a3d4fcfbf62c0b942059293",
            "placeholder": "​",
            "style": "IPY_MODEL_cadad9655fe24e9ca1551e3adfb0a118",
            "value": " 502/502 [00:00&lt;00:00, 59.6kB/s]"
          }
        },
        "c2316453905d498e974bad117e860704": {
          "model_module": "@jupyter-widgets/base",
          "model_module_version": "1.2.0",
          "model_name": "LayoutModel",
          "state": {
            "_model_module": "@jupyter-widgets/base",
            "_model_module_version": "1.2.0",
            "_model_name": "LayoutModel",
            "_view_count": null,
            "_view_module": "@jupyter-widgets/base",
            "_view_module_version": "1.2.0",
            "_view_name": "LayoutView",
            "align_content": null,
            "align_items": null,
            "align_self": null,
            "border": null,
            "bottom": null,
            "display": null,
            "flex": null,
            "flex_flow": null,
            "grid_area": null,
            "grid_auto_columns": null,
            "grid_auto_flow": null,
            "grid_auto_rows": null,
            "grid_column": null,
            "grid_gap": null,
            "grid_row": null,
            "grid_template_areas": null,
            "grid_template_columns": null,
            "grid_template_rows": null,
            "height": null,
            "justify_content": null,
            "justify_items": null,
            "left": null,
            "margin": null,
            "max_height": null,
            "max_width": null,
            "min_height": null,
            "min_width": null,
            "object_fit": null,
            "object_position": null,
            "order": null,
            "overflow": null,
            "overflow_x": null,
            "overflow_y": null,
            "padding": null,
            "right": null,
            "top": null,
            "visibility": null,
            "width": null
          }
        },
        "c83730736fae41eab91ee63f056e445e": {
          "model_module": "@jupyter-widgets/controls",
          "model_module_version": "1.5.0",
          "model_name": "DescriptionStyleModel",
          "state": {
            "_model_module": "@jupyter-widgets/controls",
            "_model_module_version": "1.5.0",
            "_model_name": "DescriptionStyleModel",
            "_view_count": null,
            "_view_module": "@jupyter-widgets/base",
            "_view_module_version": "1.2.0",
            "_view_name": "StyleView",
            "description_width": ""
          }
        },
        "cadad9655fe24e9ca1551e3adfb0a118": {
          "model_module": "@jupyter-widgets/controls",
          "model_module_version": "1.5.0",
          "model_name": "DescriptionStyleModel",
          "state": {
            "_model_module": "@jupyter-widgets/controls",
            "_model_module_version": "1.5.0",
            "_model_name": "DescriptionStyleModel",
            "_view_count": null,
            "_view_module": "@jupyter-widgets/base",
            "_view_module_version": "1.2.0",
            "_view_name": "StyleView",
            "description_width": ""
          }
        },
        "d36d2d3973bc45d795d91e6e16ebabaa": {
          "model_module": "@jupyter-widgets/controls",
          "model_module_version": "1.5.0",
          "model_name": "HTMLModel",
          "state": {
            "_dom_classes": [],
            "_model_module": "@jupyter-widgets/controls",
            "_model_module_version": "1.5.0",
            "_model_name": "HTMLModel",
            "_view_count": null,
            "_view_module": "@jupyter-widgets/controls",
            "_view_module_version": "1.5.0",
            "_view_name": "HTMLView",
            "description": "",
            "description_tooltip": null,
            "layout": "IPY_MODEL_dcb18b45d067431e82dce9bb8f58eaf2",
            "placeholder": "​",
            "style": "IPY_MODEL_0a51672617a2433390d2d05137f120c7",
            "value": "config.json: 100%"
          }
        },
        "d498d5fcad34423eba2d38c889ab55dc": {
          "model_module": "@jupyter-widgets/controls",
          "model_module_version": "1.5.0",
          "model_name": "ProgressStyleModel",
          "state": {
            "_model_module": "@jupyter-widgets/controls",
            "_model_module_version": "1.5.0",
            "_model_name": "ProgressStyleModel",
            "_view_count": null,
            "_view_module": "@jupyter-widgets/base",
            "_view_module_version": "1.2.0",
            "_view_name": "StyleView",
            "bar_color": null,
            "description_width": ""
          }
        },
        "d856cb1ba98343bc9da5f4515f7f1817": {
          "model_module": "@jupyter-widgets/controls",
          "model_module_version": "1.5.0",
          "model_name": "DescriptionStyleModel",
          "state": {
            "_model_module": "@jupyter-widgets/controls",
            "_model_module_version": "1.5.0",
            "_model_name": "DescriptionStyleModel",
            "_view_count": null,
            "_view_module": "@jupyter-widgets/base",
            "_view_module_version": "1.2.0",
            "_view_name": "StyleView",
            "description_width": ""
          }
        },
        "d95f0177fa5144b79d95ef8646e0d054": {
          "model_module": "@jupyter-widgets/controls",
          "model_module_version": "1.5.0",
          "model_name": "ProgressStyleModel",
          "state": {
            "_model_module": "@jupyter-widgets/controls",
            "_model_module_version": "1.5.0",
            "_model_name": "ProgressStyleModel",
            "_view_count": null,
            "_view_module": "@jupyter-widgets/base",
            "_view_module_version": "1.2.0",
            "_view_name": "StyleView",
            "bar_color": null,
            "description_width": ""
          }
        },
        "dcb18b45d067431e82dce9bb8f58eaf2": {
          "model_module": "@jupyter-widgets/base",
          "model_module_version": "1.2.0",
          "model_name": "LayoutModel",
          "state": {
            "_model_module": "@jupyter-widgets/base",
            "_model_module_version": "1.2.0",
            "_model_name": "LayoutModel",
            "_view_count": null,
            "_view_module": "@jupyter-widgets/base",
            "_view_module_version": "1.2.0",
            "_view_name": "LayoutView",
            "align_content": null,
            "align_items": null,
            "align_self": null,
            "border": null,
            "bottom": null,
            "display": null,
            "flex": null,
            "flex_flow": null,
            "grid_area": null,
            "grid_auto_columns": null,
            "grid_auto_flow": null,
            "grid_auto_rows": null,
            "grid_column": null,
            "grid_gap": null,
            "grid_row": null,
            "grid_template_areas": null,
            "grid_template_columns": null,
            "grid_template_rows": null,
            "height": null,
            "justify_content": null,
            "justify_items": null,
            "left": null,
            "margin": null,
            "max_height": null,
            "max_width": null,
            "min_height": null,
            "min_width": null,
            "object_fit": null,
            "object_position": null,
            "order": null,
            "overflow": null,
            "overflow_x": null,
            "overflow_y": null,
            "padding": null,
            "right": null,
            "top": null,
            "visibility": null,
            "width": null
          }
        },
        "e6e618dfd391415dbceff3c6e61b6b8c": {
          "model_module": "@jupyter-widgets/base",
          "model_module_version": "1.2.0",
          "model_name": "LayoutModel",
          "state": {
            "_model_module": "@jupyter-widgets/base",
            "_model_module_version": "1.2.0",
            "_model_name": "LayoutModel",
            "_view_count": null,
            "_view_module": "@jupyter-widgets/base",
            "_view_module_version": "1.2.0",
            "_view_name": "LayoutView",
            "align_content": null,
            "align_items": null,
            "align_self": null,
            "border": null,
            "bottom": null,
            "display": null,
            "flex": null,
            "flex_flow": null,
            "grid_area": null,
            "grid_auto_columns": null,
            "grid_auto_flow": null,
            "grid_auto_rows": null,
            "grid_column": null,
            "grid_gap": null,
            "grid_row": null,
            "grid_template_areas": null,
            "grid_template_columns": null,
            "grid_template_rows": null,
            "height": null,
            "justify_content": null,
            "justify_items": null,
            "left": null,
            "margin": null,
            "max_height": null,
            "max_width": null,
            "min_height": null,
            "min_width": null,
            "object_fit": null,
            "object_position": null,
            "order": null,
            "overflow": null,
            "overflow_x": null,
            "overflow_y": null,
            "padding": null,
            "right": null,
            "top": null,
            "visibility": null,
            "width": null
          }
        },
        "ed30ae3c94fc4ccfb0d0cdb238b2d72a": {
          "model_module": "@jupyter-widgets/controls",
          "model_module_version": "1.5.0",
          "model_name": "FloatProgressModel",
          "state": {
            "_dom_classes": [],
            "_model_module": "@jupyter-widgets/controls",
            "_model_module_version": "1.5.0",
            "_model_name": "FloatProgressModel",
            "_view_count": null,
            "_view_module": "@jupyter-widgets/controls",
            "_view_module_version": "1.5.0",
            "_view_name": "ProgressView",
            "bar_style": "success",
            "description": "",
            "description_tooltip": null,
            "layout": "IPY_MODEL_97d47d0e534343be83fc68c6dc6fd744",
            "max": 502,
            "min": 0,
            "orientation": "horizontal",
            "style": "IPY_MODEL_d95f0177fa5144b79d95ef8646e0d054",
            "value": 502
          }
        },
        "eec70dad2b18440ca2943faec28ba22a": {
          "model_module": "@jupyter-widgets/base",
          "model_module_version": "1.2.0",
          "model_name": "LayoutModel",
          "state": {
            "_model_module": "@jupyter-widgets/base",
            "_model_module_version": "1.2.0",
            "_model_name": "LayoutModel",
            "_view_count": null,
            "_view_module": "@jupyter-widgets/base",
            "_view_module_version": "1.2.0",
            "_view_name": "LayoutView",
            "align_content": null,
            "align_items": null,
            "align_self": null,
            "border": null,
            "bottom": null,
            "display": null,
            "flex": null,
            "flex_flow": null,
            "grid_area": null,
            "grid_auto_columns": null,
            "grid_auto_flow": null,
            "grid_auto_rows": null,
            "grid_column": null,
            "grid_gap": null,
            "grid_row": null,
            "grid_template_areas": null,
            "grid_template_columns": null,
            "grid_template_rows": null,
            "height": null,
            "justify_content": null,
            "justify_items": null,
            "left": null,
            "margin": null,
            "max_height": null,
            "max_width": null,
            "min_height": null,
            "min_width": null,
            "object_fit": null,
            "object_position": null,
            "order": null,
            "overflow": null,
            "overflow_x": null,
            "overflow_y": null,
            "padding": null,
            "right": null,
            "top": null,
            "visibility": null,
            "width": null
          }
        },
        "f3e9bd07128242f08398745799546b13": {
          "model_module": "@jupyter-widgets/controls",
          "model_module_version": "1.5.0",
          "model_name": "ProgressStyleModel",
          "state": {
            "_model_module": "@jupyter-widgets/controls",
            "_model_module_version": "1.5.0",
            "_model_name": "ProgressStyleModel",
            "_view_count": null,
            "_view_module": "@jupyter-widgets/base",
            "_view_module_version": "1.2.0",
            "_view_name": "StyleView",
            "bar_color": null,
            "description_width": ""
          }
        },
        "f81ab9951bea4f4cbf284fe4cc921ae6": {
          "model_module": "@jupyter-widgets/controls",
          "model_module_version": "1.5.0",
          "model_name": "FloatProgressModel",
          "state": {
            "_dom_classes": [],
            "_model_module": "@jupyter-widgets/controls",
            "_model_module_version": "1.5.0",
            "_model_name": "FloatProgressModel",
            "_view_count": null,
            "_view_module": "@jupyter-widgets/controls",
            "_view_module_version": "1.5.0",
            "_view_name": "ProgressView",
            "bar_style": "success",
            "description": "",
            "description_tooltip": null,
            "layout": "IPY_MODEL_c2316453905d498e974bad117e860704",
            "max": 345579424,
            "min": 0,
            "orientation": "horizontal",
            "style": "IPY_MODEL_f3e9bd07128242f08398745799546b13",
            "value": 345579424
          }
        },
        "f9b98115ca994955b95bb06628c2949c": {
          "model_module": "@jupyter-widgets/base",
          "model_module_version": "1.2.0",
          "model_name": "LayoutModel",
          "state": {
            "_model_module": "@jupyter-widgets/base",
            "_model_module_version": "1.2.0",
            "_model_name": "LayoutModel",
            "_view_count": null,
            "_view_module": "@jupyter-widgets/base",
            "_view_module_version": "1.2.0",
            "_view_name": "LayoutView",
            "align_content": null,
            "align_items": null,
            "align_self": null,
            "border": null,
            "bottom": null,
            "display": null,
            "flex": null,
            "flex_flow": null,
            "grid_area": null,
            "grid_auto_columns": null,
            "grid_auto_flow": null,
            "grid_auto_rows": null,
            "grid_column": null,
            "grid_gap": null,
            "grid_row": null,
            "grid_template_areas": null,
            "grid_template_columns": null,
            "grid_template_rows": null,
            "height": null,
            "justify_content": null,
            "justify_items": null,
            "left": null,
            "margin": null,
            "max_height": null,
            "max_width": null,
            "min_height": null,
            "min_width": null,
            "object_fit": null,
            "object_position": null,
            "order": null,
            "overflow": null,
            "overflow_x": null,
            "overflow_y": null,
            "padding": null,
            "right": null,
            "top": null,
            "visibility": null,
            "width": null
          }
        }
      }
    }
  },
  "nbformat": 4,
  "nbformat_minor": 0
}
