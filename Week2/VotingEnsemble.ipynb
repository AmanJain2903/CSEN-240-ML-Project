{
  "nbformat": 4,
  "nbformat_minor": 0,
  "metadata": {
    "colab": {
      "provenance": [],
      "machine_shape": "hm",
      "gpuType": "L4"
    },
    "kernelspec": {
      "name": "python3",
      "display_name": "Python 3"
    },
    "language_info": {
      "name": "python"
    },
    "accelerator": "GPU"
  },
  "cells": [
    {
      "cell_type": "markdown",
      "source": [
        "# IMPORTS"
      ],
      "metadata": {
        "id": "iCk59I2CbADn"
      }
    },
    {
      "cell_type": "code",
      "source": [
        "import tensorflow as tf\n",
        "from sklearn.metrics import precision_recall_curve\n",
        "import numpy as np\n",
        "import os\n",
        "from tensorflow.keras.metrics import Precision, Recall, AUC\n",
        "from sklearn.metrics import f1_score, classification_report\n",
        "import json\n",
        "from google.colab import runtime\n",
        "from google.colab import drive\n",
        "drive.mount('/content/drive')\n",
        "import gc"
      ],
      "metadata": {
        "colab": {
          "base_uri": "https://localhost:8080/"
        },
        "id": "ufoENhI-bAKr",
        "outputId": "013ffde7-a846-455d-f9d3-068ceda2d959"
      },
      "execution_count": 1,
      "outputs": [
        {
          "output_type": "stream",
          "name": "stdout",
          "text": [
            "Mounted at /content/drive\n"
          ]
        }
      ]
    },
    {
      "cell_type": "markdown",
      "source": [
        "# DATASET"
      ],
      "metadata": {
        "id": "PqijCLj3bCQC"
      }
    },
    {
      "cell_type": "code",
      "source": [
        "batch_size = 1\n",
        "img_size = (224, 224)\n",
        "channels = 3\n",
        "img_shape = (img_size[0], img_size[1], channels)\n",
        "categories = [\"Normal\",\"Osteopenia\", \"Osteoporosis\"]\n",
        "TfDatasetsPath = '/content/drive/MyDrive/CSEN-240-Project/TfDatasetsFull'\n",
        "\n",
        "valDataset = tf.data.Dataset.load(TfDatasetsPath + \"/validDataset\")\n",
        "testDataset = tf.data.Dataset.load(TfDatasetsPath + \"/testDataset\")\n",
        "\n",
        "valDataset = valDataset.batch(batch_size).prefetch(buffer_size=tf.data.AUTOTUNE)\n",
        "testDataset = testDataset.batch(batch_size).prefetch(buffer_size=tf.data.AUTOTUNE)"
      ],
      "metadata": {
        "id": "W48qRgtUbDZC"
      },
      "execution_count": 2,
      "outputs": []
    },
    {
      "cell_type": "markdown",
      "source": [
        "# MODELS"
      ],
      "metadata": {
        "id": "YpXd0SGlbG89"
      }
    },
    {
      "cell_type": "code",
      "source": [
        "thresholdsPath = '/content/drive/MyDrive/CSEN-240-Project/Thresholds/'\n",
        "kerasModelsPath = '/content/drive/MyDrive/CSEN-240-Project/KerasModels/'"
      ],
      "metadata": {
        "id": "Ve7Jp0_rbHgr"
      },
      "execution_count": 3,
      "outputs": []
    },
    {
      "cell_type": "code",
      "source": [
        "modelNames = os.listdir(kerasModelsPath)"
      ],
      "metadata": {
        "id": "r69WlX8nbQES"
      },
      "execution_count": 4,
      "outputs": []
    },
    {
      "cell_type": "code",
      "source": [
        "models = []\n",
        "for modelName in modelNames:\n",
        "    modelPath = kerasModelsPath + modelName\n",
        "    model = tf.keras.models.load_model(modelPath)\n",
        "    results = model.evaluate(valDataset, return_dict=True)\n",
        "    models.append([modelName, results['auc']])\n",
        "models"
      ],
      "metadata": {
        "id": "34-DLtlLbTL6",
        "colab": {
          "base_uri": "https://localhost:8080/"
        },
        "outputId": "61c76c2b-1888-41e4-d6b5-4ce106c5b970"
      },
      "execution_count": 5,
      "outputs": [
        {
          "output_type": "stream",
          "name": "stdout",
          "text": [
            "\u001b[1m1080/1080\u001b[0m \u001b[32m━━━━━━━━━━━━━━━━━━━━\u001b[0m\u001b[37m\u001b[0m \u001b[1m20s\u001b[0m 8ms/step - accuracy: 0.8897 - auc: 0.9595 - loss: 0.4721 - precision: 0.8906 - recall: 0.8885\n",
            "\u001b[1m1080/1080\u001b[0m \u001b[32m━━━━━━━━━━━━━━━━━━━━\u001b[0m\u001b[37m\u001b[0m \u001b[1m13s\u001b[0m 5ms/step - accuracy: 0.8891 - auc: 0.9684 - loss: 0.3453 - precision: 0.8901 - recall: 0.8839\n",
            "\u001b[1m1080/1080\u001b[0m \u001b[32m━━━━━━━━━━━━━━━━━━━━\u001b[0m\u001b[37m\u001b[0m \u001b[1m33s\u001b[0m 16ms/step - accuracy: 0.8429 - auc: 0.9464 - loss: 0.5785 - precision: 0.8424 - recall: 0.8382\n",
            "\u001b[1m1080/1080\u001b[0m \u001b[32m━━━━━━━━━━━━━━━━━━━━\u001b[0m\u001b[37m\u001b[0m \u001b[1m51s\u001b[0m 18ms/step - accuracy: 0.8921 - auc: 0.9644 - loss: 0.4197 - precision: 0.8929 - recall: 0.8909\n",
            "\u001b[1m1080/1080\u001b[0m \u001b[32m━━━━━━━━━━━━━━━━━━━━\u001b[0m\u001b[37m\u001b[0m \u001b[1m38s\u001b[0m 16ms/step - accuracy: 0.8796 - auc: 0.9704 - loss: 0.3602 - precision: 0.8822 - recall: 0.8780\n",
            "\u001b[1m1080/1080\u001b[0m \u001b[32m━━━━━━━━━━━━━━━━━━━━\u001b[0m\u001b[37m\u001b[0m \u001b[1m55s\u001b[0m 23ms/step - accuracy: 0.8667 - auc: 0.9558 - loss: 0.4461 - precision: 0.8707 - recall: 0.8594\n",
            "\u001b[1m1080/1080\u001b[0m \u001b[32m━━━━━━━━━━━━━━━━━━━━\u001b[0m\u001b[37m\u001b[0m \u001b[1m66s\u001b[0m 34ms/step - accuracy: 0.8454 - auc: 0.9465 - loss: 0.5670 - precision: 0.8462 - recall: 0.8430\n",
            "\u001b[1m1080/1080\u001b[0m \u001b[32m━━━━━━━━━━━━━━━━━━━━\u001b[0m\u001b[37m\u001b[0m \u001b[1m12s\u001b[0m 4ms/step - accuracy: 0.8460 - auc: 0.9498 - loss: 0.4936 - precision: 0.8479 - recall: 0.8456\n"
          ]
        },
        {
          "output_type": "execute_result",
          "data": {
            "text/plain": [
              "[['Xception.keras', 0.9669954180717468],\n",
              " ['VGG16.keras', 0.9701579213142395],\n",
              " ['ResNet152V2.keras', 0.9537107348442078],\n",
              " ['DenseNet201.keras', 0.9715808033943176],\n",
              " ['InceptionResNetV2.keras', 0.975060224533081],\n",
              " ['EfficientNetV2L.keras', 0.962633490562439],\n",
              " ['NASNetLarge.keras', 0.9576725363731384],\n",
              " ['MobileNet.keras', 0.9579649567604065]]"
            ]
          },
          "metadata": {},
          "execution_count": 5
        }
      ]
    },
    {
      "cell_type": "code",
      "source": [
        "models.sort(key=lambda x: x[1], reverse=True)\n",
        "modelNames = [model[0] for model in models]\n",
        "modelNames"
      ],
      "metadata": {
        "colab": {
          "base_uri": "https://localhost:8080/"
        },
        "id": "hQ5IDfxne8a6",
        "outputId": "63fd62ba-6ea6-4c95-93e2-167bab186db3"
      },
      "execution_count": 6,
      "outputs": [
        {
          "output_type": "execute_result",
          "data": {
            "text/plain": [
              "['InceptionResNetV2.keras',\n",
              " 'DenseNet201.keras',\n",
              " 'VGG16.keras',\n",
              " 'Xception.keras',\n",
              " 'EfficientNetV2L.keras',\n",
              " 'MobileNet.keras',\n",
              " 'NASNetLarge.keras',\n",
              " 'ResNet152V2.keras']"
            ]
          },
          "metadata": {},
          "execution_count": 6
        }
      ]
    },
    {
      "cell_type": "markdown",
      "source": [
        "# ENSEMBLING FUNCTION"
      ],
      "metadata": {
        "id": "HnPXCn1nbdlB"
      }
    },
    {
      "cell_type": "code",
      "source": [
        "def ensembleModels(predictedClasses):\n",
        "    votedPredictions = []\n",
        "    numModels = len(predictedClasses)\n",
        "    samples = len(predictedClasses[0])\n",
        "    for i in range(samples):\n",
        "        count0, count1, count2 = 0, 0, 0\n",
        "        for j in range(numModels):\n",
        "            if predictedClasses[j][i] == 0:\n",
        "                count0 += 1\n",
        "            elif predictedClasses[j][i] == 1:\n",
        "                count1 += 1\n",
        "            else:\n",
        "                count2 += 1\n",
        "        if count0 > count1 and count0 > count2:\n",
        "            votedPredictions.append(0)\n",
        "        elif count1 > count0 and count1 > count2:\n",
        "            votedPredictions.append(1)\n",
        "        else:\n",
        "            votedPredictions.append(2)\n",
        "    return votedPredictions\n",
        "\n",
        "def customPredict(yPred, thresholds):\n",
        "    predictions = np.zeros_like(yPred)\n",
        "    for i in thresholds.keys():\n",
        "        threshold = thresholds[i]\n",
        "        predictions[:, i] = (yPred[:, i] >= threshold).astype(int)\n",
        "    predictions = np.argmax(predictions * yPred, axis=1)\n",
        "    return predictions\n",
        "\n",
        "def predict(modelNames, testDataset):\n",
        "    predictedClasses = []\n",
        "    for modelName in modelNames:\n",
        "        name = modelName.split('.')[0]\n",
        "        modelPath = kerasModelsPath + modelName\n",
        "        model = tf.keras.models.load_model(modelPath)\n",
        "        predictions = model.predict(testDataset)\n",
        "        thresholdPath = thresholdsPath + name + '.json'\n",
        "        with open(thresholdPath, 'r') as f:\n",
        "            threshold = json.load(f)\n",
        "            threshold = {int(k): v for k, v in threshold.items()}\n",
        "        predicted = customPredict(predictions, threshold)\n",
        "        predictedClasses.append(predicted)\n",
        "        tf.keras.backend.clear_session()\n",
        "        del model\n",
        "        gc.collect()\n",
        "    return ensembleModels(predictedClasses)"
      ],
      "metadata": {
        "id": "-Ukhmx5obcBv"
      },
      "execution_count": 7,
      "outputs": []
    },
    {
      "cell_type": "code",
      "source": [
        "bestAverageF1 = -1\n",
        "topK = -1\n",
        "bestModels = None\n",
        "\n",
        "yTrue = []\n",
        "for xBatch, yBatch in testDataset:\n",
        "    yTrue.extend(np.argmax(yBatch.numpy(), axis=1))\n",
        "\n",
        "for k in range(2, len(modelNames)+1):\n",
        "    print(f\"Top {k} : {modelNames[:k]}\")\n",
        "    yPred = predict(modelNames[:k], testDataset)\n",
        "    f1 = f1_score(yTrue, yPred, average='weighted')\n",
        "    if f1 > bestAverageF1:\n",
        "        bestAverageF1 = f1\n",
        "        topK = k\n",
        "        bestModels = modelNames[:k]\n",
        "    report = classification_report(yTrue, yPred, target_names=categories)\n",
        "    print(\"F1 Score: \", f1)\n",
        "    print(report)\n",
        "bestAverageF1, topK, bestModels"
      ],
      "metadata": {
        "colab": {
          "base_uri": "https://localhost:8080/"
        },
        "id": "C_wH4qfSSnQZ",
        "outputId": "273e4c94-4339-4162-ded5-6b3cdb72778f"
      },
      "execution_count": 8,
      "outputs": [
        {
          "output_type": "stream",
          "name": "stdout",
          "text": [
            "Top 2 : ['InceptionResNetV2.keras', 'DenseNet201.keras']\n",
            "\u001b[1m540/540\u001b[0m \u001b[32m━━━━━━━━━━━━━━━━━━━━\u001b[0m\u001b[37m\u001b[0m \u001b[1m20s\u001b[0m 16ms/step\n",
            "\u001b[1m540/540\u001b[0m \u001b[32m━━━━━━━━━━━━━━━━━━━━\u001b[0m\u001b[37m\u001b[0m \u001b[1m29s\u001b[0m 18ms/step\n",
            "F1 Score:  0.937309102063909\n",
            "              precision    recall  f1-score   support\n",
            "\n",
            "      Normal       0.94      0.94      0.94       180\n",
            "  Osteopenia       0.98      0.94      0.96       180\n",
            "Osteoporosis       0.90      0.93      0.92       180\n",
            "\n",
            "    accuracy                           0.94       540\n",
            "   macro avg       0.94      0.94      0.94       540\n",
            "weighted avg       0.94      0.94      0.94       540\n",
            "\n",
            "Top 3 : ['InceptionResNetV2.keras', 'DenseNet201.keras', 'VGG16.keras']\n",
            "\u001b[1m540/540\u001b[0m \u001b[32m━━━━━━━━━━━━━━━━━━━━\u001b[0m\u001b[37m\u001b[0m \u001b[1m20s\u001b[0m 16ms/step\n",
            "\u001b[1m540/540\u001b[0m \u001b[32m━━━━━━━━━━━━━━━━━━━━\u001b[0m\u001b[37m\u001b[0m \u001b[1m27s\u001b[0m 17ms/step\n",
            "\u001b[1m540/540\u001b[0m \u001b[32m━━━━━━━━━━━━━━━━━━━━\u001b[0m\u001b[37m\u001b[0m \u001b[1m4s\u001b[0m 4ms/step\n",
            "F1 Score:  0.9384353505274602\n",
            "              precision    recall  f1-score   support\n",
            "\n",
            "      Normal       0.91      0.98      0.94       180\n",
            "  Osteopenia       0.95      0.97      0.96       180\n",
            "Osteoporosis       0.96      0.87      0.92       180\n",
            "\n",
            "    accuracy                           0.94       540\n",
            "   macro avg       0.94      0.94      0.94       540\n",
            "weighted avg       0.94      0.94      0.94       540\n",
            "\n",
            "Top 4 : ['InceptionResNetV2.keras', 'DenseNet201.keras', 'VGG16.keras', 'Xception.keras']\n",
            "\u001b[1m540/540\u001b[0m \u001b[32m━━━━━━━━━━━━━━━━━━━━\u001b[0m\u001b[37m\u001b[0m \u001b[1m20s\u001b[0m 16ms/step\n",
            "\u001b[1m540/540\u001b[0m \u001b[32m━━━━━━━━━━━━━━━━━━━━\u001b[0m\u001b[37m\u001b[0m \u001b[1m27s\u001b[0m 18ms/step\n",
            "\u001b[1m540/540\u001b[0m \u001b[32m━━━━━━━━━━━━━━━━━━━━\u001b[0m\u001b[37m\u001b[0m \u001b[1m4s\u001b[0m 4ms/step\n",
            "\u001b[1m540/540\u001b[0m \u001b[32m━━━━━━━━━━━━━━━━━━━━\u001b[0m\u001b[37m\u001b[0m \u001b[1m8s\u001b[0m 7ms/step\n",
            "F1 Score:  0.9499121286101828\n",
            "              precision    recall  f1-score   support\n",
            "\n",
            "      Normal       0.94      0.97      0.95       180\n",
            "  Osteopenia       0.97      0.96      0.97       180\n",
            "Osteoporosis       0.94      0.92      0.93       180\n",
            "\n",
            "    accuracy                           0.95       540\n",
            "   macro avg       0.95      0.95      0.95       540\n",
            "weighted avg       0.95      0.95      0.95       540\n",
            "\n",
            "Top 5 : ['InceptionResNetV2.keras', 'DenseNet201.keras', 'VGG16.keras', 'Xception.keras', 'EfficientNetV2L.keras']\n",
            "\u001b[1m540/540\u001b[0m \u001b[32m━━━━━━━━━━━━━━━━━━━━\u001b[0m\u001b[37m\u001b[0m \u001b[1m20s\u001b[0m 17ms/step\n",
            "\u001b[1m540/540\u001b[0m \u001b[32m━━━━━━━━━━━━━━━━━━━━\u001b[0m\u001b[37m\u001b[0m \u001b[1m26s\u001b[0m 18ms/step\n",
            "\u001b[1m540/540\u001b[0m \u001b[32m━━━━━━━━━━━━━━━━━━━━\u001b[0m\u001b[37m\u001b[0m \u001b[1m4s\u001b[0m 4ms/step\n",
            "\u001b[1m540/540\u001b[0m \u001b[32m━━━━━━━━━━━━━━━━━━━━\u001b[0m\u001b[37m\u001b[0m \u001b[1m8s\u001b[0m 7ms/step\n",
            "\u001b[1m540/540\u001b[0m \u001b[32m━━━━━━━━━━━━━━━━━━━━\u001b[0m\u001b[37m\u001b[0m \u001b[1m30s\u001b[0m 23ms/step\n",
            "F1 Score:  0.9460103818485323\n",
            "              precision    recall  f1-score   support\n",
            "\n",
            "      Normal       0.93      0.98      0.95       180\n",
            "  Osteopenia       0.95      0.97      0.96       180\n",
            "Osteoporosis       0.97      0.89      0.93       180\n",
            "\n",
            "    accuracy                           0.95       540\n",
            "   macro avg       0.95      0.95      0.95       540\n",
            "weighted avg       0.95      0.95      0.95       540\n",
            "\n",
            "Top 6 : ['InceptionResNetV2.keras', 'DenseNet201.keras', 'VGG16.keras', 'Xception.keras', 'EfficientNetV2L.keras', 'MobileNet.keras']\n",
            "\u001b[1m540/540\u001b[0m \u001b[32m━━━━━━━━━━━━━━━━━━━━\u001b[0m\u001b[37m\u001b[0m \u001b[1m20s\u001b[0m 17ms/step\n",
            "\u001b[1m540/540\u001b[0m \u001b[32m━━━━━━━━━━━━━━━━━━━━\u001b[0m\u001b[37m\u001b[0m \u001b[1m27s\u001b[0m 17ms/step\n",
            "\u001b[1m540/540\u001b[0m \u001b[32m━━━━━━━━━━━━━━━━━━━━\u001b[0m\u001b[37m\u001b[0m \u001b[1m4s\u001b[0m 4ms/step\n",
            "\u001b[1m540/540\u001b[0m \u001b[32m━━━━━━━━━━━━━━━━━━━━\u001b[0m\u001b[37m\u001b[0m \u001b[1m7s\u001b[0m 7ms/step\n",
            "\u001b[1m540/540\u001b[0m \u001b[32m━━━━━━━━━━━━━━━━━━━━\u001b[0m\u001b[37m\u001b[0m \u001b[1m30s\u001b[0m 23ms/step\n",
            "\u001b[1m540/540\u001b[0m \u001b[32m━━━━━━━━━━━━━━━━━━━━\u001b[0m\u001b[37m\u001b[0m \u001b[1m5s\u001b[0m 4ms/step\n",
            "F1 Score:  0.9480618125851781\n",
            "              precision    recall  f1-score   support\n",
            "\n",
            "      Normal       0.94      0.97      0.95       180\n",
            "  Osteopenia       0.97      0.96      0.96       180\n",
            "Osteoporosis       0.94      0.92      0.93       180\n",
            "\n",
            "    accuracy                           0.95       540\n",
            "   macro avg       0.95      0.95      0.95       540\n",
            "weighted avg       0.95      0.95      0.95       540\n",
            "\n",
            "Top 7 : ['InceptionResNetV2.keras', 'DenseNet201.keras', 'VGG16.keras', 'Xception.keras', 'EfficientNetV2L.keras', 'MobileNet.keras', 'NASNetLarge.keras']\n",
            "\u001b[1m540/540\u001b[0m \u001b[32m━━━━━━━━━━━━━━━━━━━━\u001b[0m\u001b[37m\u001b[0m \u001b[1m20s\u001b[0m 16ms/step\n",
            "\u001b[1m540/540\u001b[0m \u001b[32m━━━━━━━━━━━━━━━━━━━━\u001b[0m\u001b[37m\u001b[0m \u001b[1m26s\u001b[0m 17ms/step\n",
            "\u001b[1m540/540\u001b[0m \u001b[32m━━━━━━━━━━━━━━━━━━━━\u001b[0m\u001b[37m\u001b[0m \u001b[1m4s\u001b[0m 4ms/step\n",
            "\u001b[1m540/540\u001b[0m \u001b[32m━━━━━━━━━━━━━━━━━━━━\u001b[0m\u001b[37m\u001b[0m \u001b[1m8s\u001b[0m 7ms/step\n",
            "\u001b[1m540/540\u001b[0m \u001b[32m━━━━━━━━━━━━━━━━━━━━\u001b[0m\u001b[37m\u001b[0m \u001b[1m30s\u001b[0m 22ms/step\n",
            "\u001b[1m540/540\u001b[0m \u001b[32m━━━━━━━━━━━━━━━━━━━━\u001b[0m\u001b[37m\u001b[0m \u001b[1m4s\u001b[0m 4ms/step\n",
            "\u001b[1m540/540\u001b[0m \u001b[32m━━━━━━━━━━━━━━━━━━━━\u001b[0m\u001b[37m\u001b[0m \u001b[1m35s\u001b[0m 34ms/step\n",
            "F1 Score:  0.9403016623889753\n",
            "              precision    recall  f1-score   support\n",
            "\n",
            "      Normal       0.92      0.97      0.94       180\n",
            "  Osteopenia       0.95      0.97      0.96       180\n",
            "Osteoporosis       0.96      0.88      0.92       180\n",
            "\n",
            "    accuracy                           0.94       540\n",
            "   macro avg       0.94      0.94      0.94       540\n",
            "weighted avg       0.94      0.94      0.94       540\n",
            "\n",
            "Top 8 : ['InceptionResNetV2.keras', 'DenseNet201.keras', 'VGG16.keras', 'Xception.keras', 'EfficientNetV2L.keras', 'MobileNet.keras', 'NASNetLarge.keras', 'ResNet152V2.keras']\n",
            "\u001b[1m540/540\u001b[0m \u001b[32m━━━━━━━━━━━━━━━━━━━━\u001b[0m\u001b[37m\u001b[0m \u001b[1m20s\u001b[0m 16ms/step\n",
            "\u001b[1m540/540\u001b[0m \u001b[32m━━━━━━━━━━━━━━━━━━━━\u001b[0m\u001b[37m\u001b[0m \u001b[1m27s\u001b[0m 18ms/step\n",
            "\u001b[1m540/540\u001b[0m \u001b[32m━━━━━━━━━━━━━━━━━━━━\u001b[0m\u001b[37m\u001b[0m \u001b[1m4s\u001b[0m 4ms/step\n",
            "\u001b[1m540/540\u001b[0m \u001b[32m━━━━━━━━━━━━━━━━━━━━\u001b[0m\u001b[37m\u001b[0m \u001b[1m8s\u001b[0m 8ms/step\n",
            "\u001b[1m540/540\u001b[0m \u001b[32m━━━━━━━━━━━━━━━━━━━━\u001b[0m\u001b[37m\u001b[0m \u001b[1m30s\u001b[0m 23ms/step\n",
            "\u001b[1m540/540\u001b[0m \u001b[32m━━━━━━━━━━━━━━━━━━━━\u001b[0m\u001b[37m\u001b[0m \u001b[1m4s\u001b[0m 4ms/step\n",
            "\u001b[1m540/540\u001b[0m \u001b[32m━━━━━━━━━━━━━━━━━━━━\u001b[0m\u001b[37m\u001b[0m \u001b[1m35s\u001b[0m 34ms/step\n",
            "\u001b[1m540/540\u001b[0m \u001b[32m━━━━━━━━━━━━━━━━━━━━\u001b[0m\u001b[37m\u001b[0m \u001b[1m19s\u001b[0m 16ms/step\n",
            "F1 Score:  0.9422831050228311\n",
            "              precision    recall  f1-score   support\n",
            "\n",
            "      Normal       0.94      0.96      0.95       180\n",
            "  Osteopenia       0.95      0.97      0.96       180\n",
            "Osteoporosis       0.95      0.89      0.92       180\n",
            "\n",
            "    accuracy                           0.94       540\n",
            "   macro avg       0.94      0.94      0.94       540\n",
            "weighted avg       0.94      0.94      0.94       540\n",
            "\n"
          ]
        },
        {
          "output_type": "execute_result",
          "data": {
            "text/plain": [
              "(0.9499121286101828,\n",
              " 4,\n",
              " ['InceptionResNetV2.keras',\n",
              "  'DenseNet201.keras',\n",
              "  'VGG16.keras',\n",
              "  'Xception.keras'])"
            ]
          },
          "metadata": {},
          "execution_count": 8
        }
      ]
    },
    {
      "cell_type": "markdown",
      "source": [
        "# EVALUATION"
      ],
      "metadata": {
        "id": "1KGbx1UXe94K"
      }
    },
    {
      "cell_type": "code",
      "source": [
        "yTrue = []\n",
        "for xBatch, yBatch in testDataset:\n",
        "    yTrue.extend(np.argmax(yBatch.numpy(), axis=1))\n",
        "\n",
        "yPred = predict(bestModels, testDataset)\n",
        "\n",
        "report = classification_report(yTrue, yPred, target_names=categories)\n",
        "print(report)"
      ],
      "metadata": {
        "colab": {
          "base_uri": "https://localhost:8080/"
        },
        "id": "bG2scCIMTDuy",
        "outputId": "7260b7e9-6a83-44f6-dc37-72d19c8839e0"
      },
      "execution_count": 9,
      "outputs": [
        {
          "output_type": "stream",
          "name": "stdout",
          "text": [
            "\u001b[1m540/540\u001b[0m \u001b[32m━━━━━━━━━━━━━━━━━━━━\u001b[0m\u001b[37m\u001b[0m \u001b[1m20s\u001b[0m 17ms/step\n",
            "\u001b[1m540/540\u001b[0m \u001b[32m━━━━━━━━━━━━━━━━━━━━\u001b[0m\u001b[37m\u001b[0m \u001b[1m26s\u001b[0m 18ms/step\n",
            "\u001b[1m540/540\u001b[0m \u001b[32m━━━━━━━━━━━━━━━━━━━━\u001b[0m\u001b[37m\u001b[0m \u001b[1m4s\u001b[0m 4ms/step\n",
            "\u001b[1m540/540\u001b[0m \u001b[32m━━━━━━━━━━━━━━━━━━━━\u001b[0m\u001b[37m\u001b[0m \u001b[1m8s\u001b[0m 7ms/step\n",
            "              precision    recall  f1-score   support\n",
            "\n",
            "      Normal       0.94      0.97      0.95       180\n",
            "  Osteopenia       0.97      0.96      0.97       180\n",
            "Osteoporosis       0.94      0.92      0.93       180\n",
            "\n",
            "    accuracy                           0.95       540\n",
            "   macro avg       0.95      0.95      0.95       540\n",
            "weighted avg       0.95      0.95      0.95       540\n",
            "\n"
          ]
        }
      ]
    },
    {
      "cell_type": "code",
      "source": [
        "runtime.unassign()"
      ],
      "metadata": {
        "id": "bpkiUs0aGDvQ"
      },
      "execution_count": 10,
      "outputs": []
    }
  ]
}