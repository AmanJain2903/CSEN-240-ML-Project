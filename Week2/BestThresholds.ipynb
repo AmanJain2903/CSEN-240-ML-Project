{
  "cells": [
    {
      "cell_type": "markdown",
      "metadata": {
        "id": "1B5WNdSm1ilI"
      },
      "source": [
        "# IMPORTS"
      ]
    },
    {
      "cell_type": "code",
      "execution_count": 1,
      "metadata": {
        "colab": {
          "base_uri": "https://localhost:8080/"
        },
        "id": "CeuWc64m1ilJ",
        "outputId": "adeda272-e84d-4379-a518-a84747785143"
      },
      "outputs": [
        {
          "output_type": "stream",
          "name": "stdout",
          "text": [
            "Mounted at /content/drive\n"
          ]
        }
      ],
      "source": [
        "import tensorflow as tf\n",
        "import numpy as np\n",
        "import os\n",
        "from tensorflow.keras.metrics import Precision, Recall, AUC\n",
        "from sklearn.metrics import f1_score, precision_recall_curve\n",
        "import json\n",
        "from google.colab import runtime\n",
        "from google.colab import drive\n",
        "drive.mount('/content/drive')"
      ]
    },
    {
      "cell_type": "markdown",
      "metadata": {
        "id": "LpnFVcPn1ilJ"
      },
      "source": [
        "# DATASET"
      ]
    },
    {
      "cell_type": "code",
      "execution_count": 2,
      "metadata": {
        "id": "P_VaSsWr1ilJ"
      },
      "outputs": [],
      "source": [
        "img_size = (224, 224)\n",
        "channels = 3\n",
        "batch_size = 1\n",
        "img_shape = (img_size[0], img_size[1], channels)\n",
        "categories = [\"Normal\",\"Osteopenia\", \"Osteoporosis\"]\n",
        "TfDatasetsPath = '/content/drive/MyDrive/CSEN-240-Project/TfDatasetsFull'\n",
        "\n",
        "valDataset = tf.data.Dataset.load(TfDatasetsPath + \"/validDataset\")\n",
        "testDataset = tf.data.Dataset.load(TfDatasetsPath + \"/testDataset\")\n",
        "\n",
        "valDataset = valDataset.batch(batch_size).prefetch(buffer_size=tf.data.AUTOTUNE)\n",
        "testDataset = testDataset.batch(batch_size).prefetch(buffer_size=tf.data.AUTOTUNE)"
      ]
    },
    {
      "cell_type": "markdown",
      "metadata": {
        "id": "jTXKkKsg1ilJ"
      },
      "source": [
        "# Get Best Thresholds Function"
      ]
    },
    {
      "cell_type": "code",
      "execution_count": 3,
      "metadata": {
        "id": "ZEXzD9So1ilJ"
      },
      "outputs": [],
      "source": [
        "def bestThresholds(model, valDataset):\n",
        "    valid_labels = []\n",
        "    for xBatch, yBatch in valDataset:\n",
        "        valid_labels.extend(np.argmax(yBatch, axis=1))\n",
        "    predictions = model.predict(valDataset)\n",
        "    yTrue = np.eye(3)[valid_labels]\n",
        "    yPred = predictions\n",
        "    thresholds = {}\n",
        "\n",
        "    for class_idx in range(3):\n",
        "        precision, recall, thresholds_pr = precision_recall_curve(yTrue[:, class_idx], yPred[:, class_idx])\n",
        "\n",
        "        f1_scores = 2 * (precision * recall) / (precision + recall)\n",
        "\n",
        "        optimal_threshold_pr = thresholds_pr[np.argmax(f1_scores)]\n",
        "        thresholds[class_idx] = optimal_threshold_pr\n",
        "\n",
        "    return thresholds"
      ]
    },
    {
      "cell_type": "markdown",
      "metadata": {
        "id": "KTd1pi441ilK"
      },
      "source": [
        "# Get Best Thresholds for All Models"
      ]
    },
    {
      "cell_type": "code",
      "execution_count": 4,
      "metadata": {
        "id": "d6dRW2hV1ilK"
      },
      "outputs": [],
      "source": [
        "def convert_float32(obj):\n",
        "    if isinstance(obj, dict):\n",
        "        return {key: convert_float32(value) for key, value in obj.items()}\n",
        "    elif isinstance(obj, list):\n",
        "        return [convert_float32(item) for item in obj]\n",
        "    elif isinstance(obj, np.float32):\n",
        "        return float(obj)  # Convert numpy.float32 to native Python float\n",
        "    else:\n",
        "        return obj"
      ]
    },
    {
      "cell_type": "code",
      "execution_count": 5,
      "metadata": {
        "colab": {
          "base_uri": "https://localhost:8080/"
        },
        "id": "q_hiSRao1ilK",
        "outputId": "66bb96bf-de80-4e86-bc2a-e17907658631"
      },
      "outputs": [
        {
          "output_type": "stream",
          "name": "stdout",
          "text": [
            "Models found:  ['Xception.keras', 'VGG16.keras', 'ResNet152V2.keras', 'DenseNet201.keras', 'InceptionResNetV2.keras', 'EfficientNetV2L.keras', 'NASNetLarge.keras', 'MobileNet.keras']\n"
          ]
        }
      ],
      "source": [
        "kerasModelsPath = '/content/drive/MyDrive/CSEN-240-Project/KerasModels/'\n",
        "modelNames = os.listdir(kerasModelsPath)\n",
        "print(\"Models found: \", modelNames)"
      ]
    },
    {
      "cell_type": "code",
      "execution_count": 7,
      "metadata": {
        "colab": {
          "base_uri": "https://localhost:8080/"
        },
        "id": "ezp8c__f1ilK",
        "outputId": "ed376884-1862-4f44-fc0e-a089e6874d88"
      },
      "outputs": [
        {
          "output_type": "stream",
          "name": "stdout",
          "text": [
            "Processing:  MobileNet\n",
            "\u001b[1m1080/1080\u001b[0m \u001b[32m━━━━━━━━━━━━━━━━━━━━\u001b[0m\u001b[37m\u001b[0m \u001b[1m10s\u001b[0m 3ms/step\n"
          ]
        }
      ],
      "source": [
        "modelNames = ['MobileNet.keras']\n",
        "for modelName in modelNames:\n",
        "    name = modelName.split('.')[0]\n",
        "    print(\"Processing: \", name)\n",
        "    model = tf.keras.models.load_model(kerasModelsPath + modelName)\n",
        "    bestThresholdsDict = bestThresholds(model, valDataset)\n",
        "    bestThresholdsDict = convert_float32(bestThresholdsDict)\n",
        "    with open('/content/drive/MyDrive/CSEN-240-Project/Thresholds/' + name + '.json', 'w') as jsonFile:\n",
        "        json.dump(bestThresholdsDict, jsonFile)"
      ]
    },
    {
      "cell_type": "code",
      "source": [
        "runtime.unassign()"
      ],
      "metadata": {
        "id": "Cbv5k8nWTXzg"
      },
      "execution_count": 8,
      "outputs": []
    }
  ],
  "metadata": {
    "kernelspec": {
      "display_name": "Python 3",
      "name": "python3"
    },
    "language_info": {
      "codemirror_mode": {
        "name": "ipython",
        "version": 3
      },
      "file_extension": ".py",
      "mimetype": "text/x-python",
      "name": "python",
      "nbconvert_exporter": "python",
      "pygments_lexer": "ipython3",
      "version": "3.11.11"
    },
    "colab": {
      "provenance": [],
      "machine_shape": "hm",
      "gpuType": "A100"
    },
    "accelerator": "GPU"
  },
  "nbformat": 4,
  "nbformat_minor": 0
}