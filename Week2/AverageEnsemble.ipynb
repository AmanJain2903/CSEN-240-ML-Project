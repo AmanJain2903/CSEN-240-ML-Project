{
  "cells": [
    {
      "cell_type": "markdown",
      "metadata": {
        "id": "_zw2qUr8OUR4"
      },
      "source": [
        "# IMPORTS"
      ]
    },
    {
      "cell_type": "code",
      "execution_count": 1,
      "metadata": {
        "colab": {
          "base_uri": "https://localhost:8080/"
        },
        "id": "taeZ_ZJrOUeA",
        "outputId": "3b854bfd-2b0e-4317-daf1-85448bac17bd"
      },
      "outputs": [
        {
          "output_type": "stream",
          "name": "stdout",
          "text": [
            "Mounted at /content/drive\n"
          ]
        }
      ],
      "source": [
        "import tensorflow as tf\n",
        "from sklearn.metrics import precision_recall_curve\n",
        "import numpy as np\n",
        "import os\n",
        "from tensorflow.keras.metrics import Precision, Recall, AUC\n",
        "from sklearn.metrics import f1_score, classification_report\n",
        "import json\n",
        "from google.colab import runtime\n",
        "from google.colab import drive\n",
        "drive.mount('/content/drive')\n",
        "import gc"
      ]
    },
    {
      "cell_type": "markdown",
      "metadata": {
        "id": "11PFgi8JOmxO"
      },
      "source": [
        "# DATASET"
      ]
    },
    {
      "cell_type": "code",
      "execution_count": 2,
      "metadata": {
        "id": "NFLhQWItOlh9"
      },
      "outputs": [],
      "source": [
        "batch_size = 1\n",
        "img_size = (224, 224)\n",
        "channels = 3\n",
        "img_shape = (img_size[0], img_size[1], channels)\n",
        "categories = [\"Normal\",\"Osteopenia\", \"Osteoporosis\"]\n",
        "TfDatasetsPath = '/content/drive/MyDrive/CSEN-240-Project/TfDatasetsFull'\n",
        "\n",
        "valDataset = tf.data.Dataset.load(TfDatasetsPath + \"/validDataset\")\n",
        "testDataset = tf.data.Dataset.load(TfDatasetsPath + \"/testDataset\")\n",
        "\n",
        "valDataset = valDataset.batch(batch_size).prefetch(buffer_size=tf.data.AUTOTUNE)\n",
        "testDataset = testDataset.batch(batch_size).prefetch(buffer_size=tf.data.AUTOTUNE)"
      ]
    },
    {
      "cell_type": "markdown",
      "metadata": {
        "id": "gbjjO7CzOu0N"
      },
      "source": [
        "# MODELS"
      ]
    },
    {
      "cell_type": "code",
      "execution_count": 3,
      "metadata": {
        "id": "ZmDay2yOOrsJ"
      },
      "outputs": [],
      "source": [
        "thresholdsPath = '/content/drive/MyDrive/CSEN-240-Project/Thresholds/'\n",
        "kerasModelsPath = '/content/drive/MyDrive/CSEN-240-Project/KerasModels/'"
      ]
    },
    {
      "cell_type": "code",
      "execution_count": 4,
      "metadata": {
        "colab": {
          "base_uri": "https://localhost:8080/"
        },
        "id": "sGiL0mj3TMeg",
        "outputId": "c5c6c2ef-663e-4623-9895-3acbbe5e49bb"
      },
      "outputs": [
        {
          "output_type": "execute_result",
          "data": {
            "text/plain": [
              "['Xception.keras',\n",
              " 'VGG16.keras',\n",
              " 'ResNet152V2.keras',\n",
              " 'DenseNet201.keras',\n",
              " 'InceptionResNetV2.keras',\n",
              " 'EfficientNetV2L.keras',\n",
              " 'NASNetLarge.keras',\n",
              " 'MobileNet.keras']"
            ]
          },
          "metadata": {},
          "execution_count": 4
        }
      ],
      "source": [
        "modelNames = os.listdir(kerasModelsPath)\n",
        "modelNames"
      ]
    },
    {
      "cell_type": "code",
      "execution_count": 5,
      "metadata": {
        "colab": {
          "base_uri": "https://localhost:8080/"
        },
        "id": "nueOZ81DYTup",
        "outputId": "192e0c28-e8e1-4479-cfdf-dfc99388cd1b"
      },
      "outputs": [
        {
          "output_type": "stream",
          "name": "stdout",
          "text": [
            "\u001b[1m1080/1080\u001b[0m \u001b[32m━━━━━━━━━━━━━━━━━━━━\u001b[0m\u001b[37m\u001b[0m \u001b[1m22s\u001b[0m 9ms/step - accuracy: 0.8897 - auc: 0.9595 - loss: 0.4721 - precision: 0.8906 - recall: 0.8885\n",
            "\u001b[1m1080/1080\u001b[0m \u001b[32m━━━━━━━━━━━━━━━━━━━━\u001b[0m\u001b[37m\u001b[0m \u001b[1m13s\u001b[0m 5ms/step - accuracy: 0.8891 - auc: 0.9684 - loss: 0.3453 - precision: 0.8901 - recall: 0.8839\n",
            "\u001b[1m1080/1080\u001b[0m \u001b[32m━━━━━━━━━━━━━━━━━━━━\u001b[0m\u001b[37m\u001b[0m \u001b[1m36s\u001b[0m 18ms/step - accuracy: 0.8429 - auc: 0.9464 - loss: 0.5786 - precision: 0.8424 - recall: 0.8382\n",
            "\u001b[1m1080/1080\u001b[0m \u001b[32m━━━━━━━━━━━━━━━━━━━━\u001b[0m\u001b[37m\u001b[0m \u001b[1m56s\u001b[0m 20ms/step - accuracy: 0.8921 - auc: 0.9644 - loss: 0.4197 - precision: 0.8929 - recall: 0.8909\n",
            "\u001b[1m1080/1080\u001b[0m \u001b[32m━━━━━━━━━━━━━━━━━━━━\u001b[0m\u001b[37m\u001b[0m \u001b[1m42s\u001b[0m 19ms/step - accuracy: 0.8796 - auc: 0.9704 - loss: 0.3603 - precision: 0.8822 - recall: 0.8780\n",
            "\u001b[1m1080/1080\u001b[0m \u001b[32m━━━━━━━━━━━━━━━━━━━━\u001b[0m\u001b[37m\u001b[0m \u001b[1m62s\u001b[0m 28ms/step - accuracy: 0.8667 - auc: 0.9558 - loss: 0.4460 - precision: 0.8707 - recall: 0.8594\n",
            "\u001b[1m1080/1080\u001b[0m \u001b[32m━━━━━━━━━━━━━━━━━━━━\u001b[0m\u001b[37m\u001b[0m \u001b[1m72s\u001b[0m 37ms/step - accuracy: 0.8454 - auc: 0.9465 - loss: 0.5670 - precision: 0.8462 - recall: 0.8430\n",
            "\u001b[1m1080/1080\u001b[0m \u001b[32m━━━━━━━━━━━━━━━━━━━━\u001b[0m\u001b[37m\u001b[0m \u001b[1m14s\u001b[0m 5ms/step - accuracy: 0.8460 - auc: 0.9498 - loss: 0.4936 - precision: 0.8479 - recall: 0.8456\n"
          ]
        },
        {
          "output_type": "execute_result",
          "data": {
            "text/plain": [
              "[['Xception.keras', 0.9669954180717468],\n",
              " ['VGG16.keras', 0.9701573252677917],\n",
              " ['ResNet152V2.keras', 0.9537114500999451],\n",
              " ['DenseNet201.keras', 0.9715805649757385],\n",
              " ['InceptionResNetV2.keras', 0.9750535488128662],\n",
              " ['EfficientNetV2L.keras', 0.9626356959342957],\n",
              " ['NASNetLarge.keras', 0.9577512145042419],\n",
              " ['MobileNet.keras', 0.9579649567604065]]"
            ]
          },
          "metadata": {},
          "execution_count": 5
        }
      ],
      "source": [
        "models = []\n",
        "for modelName in modelNames:\n",
        "    modelPath = kerasModelsPath + modelName\n",
        "    model = tf.keras.models.load_model(modelPath)\n",
        "    results = model.evaluate(valDataset, return_dict=True)\n",
        "    models.append([modelName, results['auc']])\n",
        "models"
      ]
    },
    {
      "cell_type": "code",
      "source": [
        "models.sort(key=lambda x: x[1], reverse=True)\n",
        "modelNames = [model[0] for model in models]\n",
        "modelNames"
      ],
      "metadata": {
        "colab": {
          "base_uri": "https://localhost:8080/"
        },
        "id": "31ROPCiERz3l",
        "outputId": "6b7035ea-1f33-44b5-df5f-59fce94a9e64"
      },
      "execution_count": 6,
      "outputs": [
        {
          "output_type": "execute_result",
          "data": {
            "text/plain": [
              "['InceptionResNetV2.keras',\n",
              " 'DenseNet201.keras',\n",
              " 'VGG16.keras',\n",
              " 'Xception.keras',\n",
              " 'EfficientNetV2L.keras',\n",
              " 'MobileNet.keras',\n",
              " 'NASNetLarge.keras',\n",
              " 'ResNet152V2.keras']"
            ]
          },
          "metadata": {},
          "execution_count": 6
        }
      ]
    },
    {
      "cell_type": "markdown",
      "metadata": {
        "id": "60VymiG_Pg3w"
      },
      "source": [
        "# ENSEMBLING FUNCTION"
      ]
    },
    {
      "cell_type": "code",
      "execution_count": 7,
      "metadata": {
        "id": "9TBExiOPPYcX"
      },
      "outputs": [],
      "source": [
        "def ensembleModels(predictions):\n",
        "    avgPreds = np.mean(predictions, axis=0)\n",
        "    return avgPreds"
      ]
    },
    {
      "cell_type": "code",
      "execution_count": 8,
      "metadata": {
        "id": "Iu7fPQ0PP98Z"
      },
      "outputs": [],
      "source": [
        "def predict(modelNames, testDataset):\n",
        "    predictions = []\n",
        "    for modelName in modelNames:\n",
        "        modelPath = kerasModelsPath + modelName\n",
        "        model = tf.keras.models.load_model(modelPath)\n",
        "        prediction = model.predict(testDataset)\n",
        "        predictions.append(prediction)\n",
        "        tf.keras.backend.clear_session(free_memory=True)\n",
        "        del model\n",
        "        gc.collect()\n",
        "    avgPreds = ensembleModels(predictions)\n",
        "    predictedClasses = np.argmax(avgPreds, axis=1)\n",
        "    return predictedClasses, avgPreds"
      ]
    },
    {
      "cell_type": "code",
      "execution_count": 9,
      "metadata": {
        "colab": {
          "base_uri": "https://localhost:8080/"
        },
        "id": "e4i8Y2DjLSPH",
        "outputId": "ee6cc312-60be-4b09-f95e-530f04857bea"
      },
      "outputs": [
        {
          "output_type": "stream",
          "name": "stdout",
          "text": [
            "Top 2 : ['InceptionResNetV2.keras', 'DenseNet201.keras']\n",
            "\u001b[1m540/540\u001b[0m \u001b[32m━━━━━━━━━━━━━━━━━━━━\u001b[0m\u001b[37m\u001b[0m \u001b[1m22s\u001b[0m 18ms/step\n",
            "\u001b[1m540/540\u001b[0m \u001b[32m━━━━━━━━━━━━━━━━━━━━\u001b[0m\u001b[37m\u001b[0m \u001b[1m31s\u001b[0m 21ms/step\n",
            "F1 Score:  0.9241927641927642\n",
            "              precision    recall  f1-score   support\n",
            "\n",
            "      Normal       0.90      0.95      0.92       180\n",
            "  Osteopenia       0.96      0.91      0.94       180\n",
            "Osteoporosis       0.91      0.91      0.91       180\n",
            "\n",
            "    accuracy                           0.92       540\n",
            "   macro avg       0.93      0.92      0.92       540\n",
            "weighted avg       0.93      0.92      0.92       540\n",
            "\n",
            "Top 3 : ['InceptionResNetV2.keras', 'DenseNet201.keras', 'VGG16.keras']\n",
            "\u001b[1m540/540\u001b[0m \u001b[32m━━━━━━━━━━━━━━━━━━━━\u001b[0m\u001b[37m\u001b[0m \u001b[1m22s\u001b[0m 19ms/step\n",
            "\u001b[1m540/540\u001b[0m \u001b[32m━━━━━━━━━━━━━━━━━━━━\u001b[0m\u001b[37m\u001b[0m \u001b[1m30s\u001b[0m 21ms/step\n",
            "\u001b[1m540/540\u001b[0m \u001b[32m━━━━━━━━━━━━━━━━━━━━\u001b[0m\u001b[37m\u001b[0m \u001b[1m4s\u001b[0m 4ms/step\n",
            "F1 Score:  0.9315203929088783\n",
            "              precision    recall  f1-score   support\n",
            "\n",
            "      Normal       0.92      0.96      0.94       180\n",
            "  Osteopenia       0.97      0.91      0.94       180\n",
            "Osteoporosis       0.91      0.93      0.92       180\n",
            "\n",
            "    accuracy                           0.93       540\n",
            "   macro avg       0.93      0.93      0.93       540\n",
            "weighted avg       0.93      0.93      0.93       540\n",
            "\n",
            "Top 4 : ['InceptionResNetV2.keras', 'DenseNet201.keras', 'VGG16.keras', 'Xception.keras']\n",
            "\u001b[1m540/540\u001b[0m \u001b[32m━━━━━━━━━━━━━━━━━━━━\u001b[0m\u001b[37m\u001b[0m \u001b[1m22s\u001b[0m 20ms/step\n",
            "\u001b[1m540/540\u001b[0m \u001b[32m━━━━━━━━━━━━━━━━━━━━\u001b[0m\u001b[37m\u001b[0m \u001b[1m30s\u001b[0m 21ms/step\n",
            "\u001b[1m540/540\u001b[0m \u001b[32m━━━━━━━━━━━━━━━━━━━━\u001b[0m\u001b[37m\u001b[0m \u001b[1m4s\u001b[0m 4ms/step\n",
            "\u001b[1m540/540\u001b[0m \u001b[32m━━━━━━━━━━━━━━━━━━━━\u001b[0m\u001b[37m\u001b[0m \u001b[1m8s\u001b[0m 8ms/step\n",
            "F1 Score:  0.9352178733478992\n",
            "              precision    recall  f1-score   support\n",
            "\n",
            "      Normal       0.91      0.97      0.94       180\n",
            "  Osteopenia       0.97      0.92      0.94       180\n",
            "Osteoporosis       0.93      0.92      0.92       180\n",
            "\n",
            "    accuracy                           0.94       540\n",
            "   macro avg       0.94      0.94      0.94       540\n",
            "weighted avg       0.94      0.94      0.94       540\n",
            "\n",
            "Top 5 : ['InceptionResNetV2.keras', 'DenseNet201.keras', 'VGG16.keras', 'Xception.keras', 'EfficientNetV2L.keras']\n",
            "\u001b[1m540/540\u001b[0m \u001b[32m━━━━━━━━━━━━━━━━━━━━\u001b[0m\u001b[37m\u001b[0m \u001b[1m22s\u001b[0m 20ms/step\n",
            "\u001b[1m540/540\u001b[0m \u001b[32m━━━━━━━━━━━━━━━━━━━━\u001b[0m\u001b[37m\u001b[0m \u001b[1m30s\u001b[0m 21ms/step\n",
            "\u001b[1m540/540\u001b[0m \u001b[32m━━━━━━━━━━━━━━━━━━━━\u001b[0m\u001b[37m\u001b[0m \u001b[1m4s\u001b[0m 4ms/step\n",
            "\u001b[1m540/540\u001b[0m \u001b[32m━━━━━━━━━━━━━━━━━━━━\u001b[0m\u001b[37m\u001b[0m \u001b[1m8s\u001b[0m 8ms/step\n",
            "\u001b[1m540/540\u001b[0m \u001b[32m━━━━━━━━━━━━━━━━━━━━\u001b[0m\u001b[37m\u001b[0m \u001b[1m35s\u001b[0m 28ms/step\n",
            "F1 Score:  0.9314109439358691\n",
            "              precision    recall  f1-score   support\n",
            "\n",
            "      Normal       0.90      0.97      0.94       180\n",
            "  Osteopenia       0.96      0.92      0.94       180\n",
            "Osteoporosis       0.94      0.91      0.92       180\n",
            "\n",
            "    accuracy                           0.93       540\n",
            "   macro avg       0.93      0.93      0.93       540\n",
            "weighted avg       0.93      0.93      0.93       540\n",
            "\n",
            "Top 6 : ['InceptionResNetV2.keras', 'DenseNet201.keras', 'VGG16.keras', 'Xception.keras', 'EfficientNetV2L.keras', 'MobileNet.keras']\n",
            "\u001b[1m540/540\u001b[0m \u001b[32m━━━━━━━━━━━━━━━━━━━━\u001b[0m\u001b[37m\u001b[0m \u001b[1m22s\u001b[0m 20ms/step\n",
            "\u001b[1m540/540\u001b[0m \u001b[32m━━━━━━━━━━━━━━━━━━━━\u001b[0m\u001b[37m\u001b[0m \u001b[1m29s\u001b[0m 21ms/step\n",
            "\u001b[1m540/540\u001b[0m \u001b[32m━━━━━━━━━━━━━━━━━━━━\u001b[0m\u001b[37m\u001b[0m \u001b[1m4s\u001b[0m 4ms/step\n",
            "\u001b[1m540/540\u001b[0m \u001b[32m━━━━━━━━━━━━━━━━━━━━\u001b[0m\u001b[37m\u001b[0m \u001b[1m8s\u001b[0m 8ms/step\n",
            "\u001b[1m540/540\u001b[0m \u001b[32m━━━━━━━━━━━━━━━━━━━━\u001b[0m\u001b[37m\u001b[0m \u001b[1m33s\u001b[0m 27ms/step\n",
            "\u001b[1m540/540\u001b[0m \u001b[32m━━━━━━━━━━━━━━━━━━━━\u001b[0m\u001b[37m\u001b[0m \u001b[1m5s\u001b[0m 4ms/step\n",
            "F1 Score:  0.9315244016414039\n",
            "              precision    recall  f1-score   support\n",
            "\n",
            "      Normal       0.91      0.96      0.93       180\n",
            "  Osteopenia       0.96      0.92      0.94       180\n",
            "Osteoporosis       0.93      0.92      0.92       180\n",
            "\n",
            "    accuracy                           0.93       540\n",
            "   macro avg       0.93      0.93      0.93       540\n",
            "weighted avg       0.93      0.93      0.93       540\n",
            "\n",
            "Top 7 : ['InceptionResNetV2.keras', 'DenseNet201.keras', 'VGG16.keras', 'Xception.keras', 'EfficientNetV2L.keras', 'MobileNet.keras', 'NASNetLarge.keras']\n",
            "\u001b[1m540/540\u001b[0m \u001b[32m━━━━━━━━━━━━━━━━━━━━\u001b[0m\u001b[37m\u001b[0m \u001b[1m22s\u001b[0m 19ms/step\n",
            "\u001b[1m540/540\u001b[0m \u001b[32m━━━━━━━━━━━━━━━━━━━━\u001b[0m\u001b[37m\u001b[0m \u001b[1m29s\u001b[0m 21ms/step\n",
            "\u001b[1m540/540\u001b[0m \u001b[32m━━━━━━━━━━━━━━━━━━━━\u001b[0m\u001b[37m\u001b[0m \u001b[1m4s\u001b[0m 4ms/step\n",
            "\u001b[1m540/540\u001b[0m \u001b[32m━━━━━━━━━━━━━━━━━━━━\u001b[0m\u001b[37m\u001b[0m \u001b[1m8s\u001b[0m 8ms/step\n",
            "\u001b[1m540/540\u001b[0m \u001b[32m━━━━━━━━━━━━━━━━━━━━\u001b[0m\u001b[37m\u001b[0m \u001b[1m33s\u001b[0m 27ms/step\n",
            "\u001b[1m540/540\u001b[0m \u001b[32m━━━━━━━━━━━━━━━━━━━━\u001b[0m\u001b[37m\u001b[0m \u001b[1m5s\u001b[0m 4ms/step\n",
            "\u001b[1m540/540\u001b[0m \u001b[32m━━━━━━━━━━━━━━━━━━━━\u001b[0m\u001b[37m\u001b[0m \u001b[1m38s\u001b[0m 38ms/step\n",
            "F1 Score:  0.9277743424624068\n",
            "              precision    recall  f1-score   support\n",
            "\n",
            "      Normal       0.90      0.96      0.93       180\n",
            "  Osteopenia       0.95      0.93      0.94       180\n",
            "Osteoporosis       0.93      0.90      0.92       180\n",
            "\n",
            "    accuracy                           0.93       540\n",
            "   macro avg       0.93      0.93      0.93       540\n",
            "weighted avg       0.93      0.93      0.93       540\n",
            "\n",
            "Top 8 : ['InceptionResNetV2.keras', 'DenseNet201.keras', 'VGG16.keras', 'Xception.keras', 'EfficientNetV2L.keras', 'MobileNet.keras', 'NASNetLarge.keras', 'ResNet152V2.keras']\n",
            "\u001b[1m540/540\u001b[0m \u001b[32m━━━━━━━━━━━━━━━━━━━━\u001b[0m\u001b[37m\u001b[0m \u001b[1m23s\u001b[0m 20ms/step\n",
            "\u001b[1m540/540\u001b[0m \u001b[32m━━━━━━━━━━━━━━━━━━━━\u001b[0m\u001b[37m\u001b[0m \u001b[1m29s\u001b[0m 21ms/step\n",
            "\u001b[1m540/540\u001b[0m \u001b[32m━━━━━━━━━━━━━━━━━━━━\u001b[0m\u001b[37m\u001b[0m \u001b[1m4s\u001b[0m 4ms/step\n",
            "\u001b[1m540/540\u001b[0m \u001b[32m━━━━━━━━━━━━━━━━━━━━\u001b[0m\u001b[37m\u001b[0m \u001b[1m8s\u001b[0m 8ms/step\n",
            "\u001b[1m540/540\u001b[0m \u001b[32m━━━━━━━━━━━━━━━━━━━━\u001b[0m\u001b[37m\u001b[0m \u001b[1m33s\u001b[0m 27ms/step\n",
            "\u001b[1m540/540\u001b[0m \u001b[32m━━━━━━━━━━━━━━━━━━━━\u001b[0m\u001b[37m\u001b[0m \u001b[1m5s\u001b[0m 4ms/step\n",
            "\u001b[1m540/540\u001b[0m \u001b[32m━━━━━━━━━━━━━━━━━━━━\u001b[0m\u001b[37m\u001b[0m \u001b[1m38s\u001b[0m 38ms/step\n",
            "\u001b[1m540/540\u001b[0m \u001b[32m━━━━━━━━━━━━━━━━━━━━\u001b[0m\u001b[37m\u001b[0m \u001b[1m21s\u001b[0m 19ms/step\n",
            "F1 Score:  0.9315065514515943\n",
            "              precision    recall  f1-score   support\n",
            "\n",
            "      Normal       0.91      0.96      0.93       180\n",
            "  Osteopenia       0.96      0.93      0.94       180\n",
            "Osteoporosis       0.93      0.91      0.92       180\n",
            "\n",
            "    accuracy                           0.93       540\n",
            "   macro avg       0.93      0.93      0.93       540\n",
            "weighted avg       0.93      0.93      0.93       540\n",
            "\n"
          ]
        },
        {
          "output_type": "execute_result",
          "data": {
            "text/plain": [
              "(0.9352178733478992,\n",
              " 4,\n",
              " ['InceptionResNetV2.keras',\n",
              "  'DenseNet201.keras',\n",
              "  'VGG16.keras',\n",
              "  'Xception.keras'])"
            ]
          },
          "metadata": {},
          "execution_count": 9
        }
      ],
      "source": [
        "bestAverageF1 = -1\n",
        "topK = -1\n",
        "bestModels = None\n",
        "\n",
        "yTrue = []\n",
        "for xBatch, yBatch in testDataset:\n",
        "    yTrue.extend(np.argmax(yBatch.numpy(), axis=1))\n",
        "\n",
        "for k in range(2, len(modelNames)+1):\n",
        "    print(f\"Top {k} : {modelNames[:k]}\")\n",
        "    yPred, predProbs = predict(modelNames[:k], testDataset)\n",
        "    f1 = f1_score(yTrue, yPred, average='weighted')\n",
        "    if f1 > bestAverageF1:\n",
        "        bestAverageF1 = f1\n",
        "        topK = k\n",
        "        bestModels = modelNames[:k]\n",
        "    report = classification_report(yTrue, yPred, target_names=categories)\n",
        "    print(\"F1 Score: \", f1)\n",
        "    print(report)\n",
        "bestAverageF1, topK, bestModels"
      ]
    },
    {
      "cell_type": "markdown",
      "metadata": {
        "id": "xaZ6MNl5oAar"
      },
      "source": [
        "# GETTING BEST THRESHOLDS"
      ]
    },
    {
      "cell_type": "code",
      "source": [
        "predictions = []\n",
        "for modelName in bestModels:\n",
        "    modelPath = kerasModelsPath + modelName\n",
        "    model = tf.keras.models.load_model(modelPath)\n",
        "    prediction = model.predict(valDataset)\n",
        "    predictions.append(prediction)\n",
        "    tf.keras.backend.clear_session(free_memory=True)\n",
        "    del model\n",
        "    gc.collect()\n",
        "ensemblePredictions = ensembleModels(predictions)"
      ],
      "metadata": {
        "colab": {
          "base_uri": "https://localhost:8080/"
        },
        "id": "DoS0s-pldO_M",
        "outputId": "c432bbcc-01d8-42d6-c01d-fecad5d98399"
      },
      "execution_count": 10,
      "outputs": [
        {
          "output_type": "stream",
          "name": "stdout",
          "text": [
            "\u001b[1m1080/1080\u001b[0m \u001b[32m━━━━━━━━━━━━━━━━━━━━\u001b[0m\u001b[37m\u001b[0m \u001b[1m33s\u001b[0m 19ms/step\n",
            "\u001b[1m1080/1080\u001b[0m \u001b[32m━━━━━━━━━━━━━━━━━━━━\u001b[0m\u001b[37m\u001b[0m \u001b[1m41s\u001b[0m 21ms/step\n",
            "\u001b[1m1080/1080\u001b[0m \u001b[32m━━━━━━━━━━━━━━━━━━━━\u001b[0m\u001b[37m\u001b[0m \u001b[1m6s\u001b[0m 4ms/step\n",
            "\u001b[1m1080/1080\u001b[0m \u001b[32m━━━━━━━━━━━━━━━━━━━━\u001b[0m\u001b[37m\u001b[0m \u001b[1m12s\u001b[0m 8ms/step\n"
          ]
        }
      ]
    },
    {
      "cell_type": "code",
      "execution_count": 11,
      "metadata": {
        "id": "DTYBF8Vun4p0"
      },
      "outputs": [],
      "source": [
        "def bestThresholds(predictions, valDataset):\n",
        "    valid_labels = []\n",
        "    for xBatch, yBatch in valDataset:\n",
        "        valid_labels.extend(np.argmax(yBatch, axis=1))\n",
        "    yTrue = np.eye(3)[valid_labels]\n",
        "    yPred = predictions\n",
        "    thresholds = {}\n",
        "\n",
        "    for class_idx in range(3):\n",
        "        precision, recall, thresholds_pr = precision_recall_curve(yTrue[:, class_idx], yPred[:, class_idx])\n",
        "\n",
        "        f1_scores = 2 * (precision * recall) / (precision + recall)\n",
        "\n",
        "        optimal_threshold_pr = thresholds_pr[np.argmax(f1_scores)]\n",
        "        thresholds[class_idx] = optimal_threshold_pr\n",
        "\n",
        "    return thresholds"
      ]
    },
    {
      "cell_type": "code",
      "source": [
        "thresholds = bestThresholds(ensemblePredictions, valDataset)"
      ],
      "metadata": {
        "id": "yvETdNmJTS-3"
      },
      "execution_count": 12,
      "outputs": []
    },
    {
      "cell_type": "code",
      "source": [
        "predictions = []\n",
        "for modelName in bestModels:\n",
        "    modelPath = kerasModelsPath + modelName\n",
        "    model = tf.keras.models.load_model(modelPath)\n",
        "    prediction = model.predict(testDataset)\n",
        "    predictions.append(prediction)\n",
        "    tf.keras.backend.clear_session(free_memory=True)\n",
        "    del model\n",
        "    gc.collect()\n",
        "ensemblePredictions = ensembleModels(predictions)"
      ],
      "metadata": {
        "colab": {
          "base_uri": "https://localhost:8080/"
        },
        "id": "cMrik5sZd4ow",
        "outputId": "c6cab8d7-0f1d-45c1-e197-3d20d86ee29b"
      },
      "execution_count": 13,
      "outputs": [
        {
          "output_type": "stream",
          "name": "stdout",
          "text": [
            "\u001b[1m540/540\u001b[0m \u001b[32m━━━━━━━━━━━━━━━━━━━━\u001b[0m\u001b[37m\u001b[0m \u001b[1m22s\u001b[0m 20ms/step\n",
            "\u001b[1m540/540\u001b[0m \u001b[32m━━━━━━━━━━━━━━━━━━━━\u001b[0m\u001b[37m\u001b[0m \u001b[1m29s\u001b[0m 21ms/step\n",
            "\u001b[1m540/540\u001b[0m \u001b[32m━━━━━━━━━━━━━━━━━━━━\u001b[0m\u001b[37m\u001b[0m \u001b[1m4s\u001b[0m 4ms/step\n",
            "\u001b[1m540/540\u001b[0m \u001b[32m━━━━━━━━━━━━━━━━━━━━\u001b[0m\u001b[37m\u001b[0m \u001b[1m8s\u001b[0m 8ms/step\n"
          ]
        }
      ]
    },
    {
      "cell_type": "code",
      "source": [
        "def customPredict(yPred, thresholds):\n",
        "    predictions = np.zeros_like(yPred)\n",
        "    for i in thresholds.keys():\n",
        "        threshold = thresholds[i]\n",
        "        predictions[:, i] = (yPred[:, i] >= threshold).astype(int)\n",
        "    predictions = np.argmax(predictions * yPred, axis=1)\n",
        "    return predictions"
      ],
      "metadata": {
        "id": "UoHC6V06d3pO"
      },
      "execution_count": 14,
      "outputs": []
    },
    {
      "cell_type": "code",
      "source": [
        "yTrue = []\n",
        "for xBatch, yBatch in testDataset:\n",
        "    yTrue.extend(np.argmax(yBatch.numpy(), axis=1))\n",
        "\n",
        "yPred = customPredict(ensemblePredictions, thresholds)\n",
        "\n",
        "report = classification_report(yTrue, yPred, target_names=categories)\n",
        "print(report)"
      ],
      "metadata": {
        "colab": {
          "base_uri": "https://localhost:8080/"
        },
        "id": "R6LsobJjTYkM",
        "outputId": "bea014df-22e6-409d-98b6-2d5124b4ae67"
      },
      "execution_count": 15,
      "outputs": [
        {
          "output_type": "stream",
          "name": "stdout",
          "text": [
            "              precision    recall  f1-score   support\n",
            "\n",
            "      Normal       0.92      0.97      0.95       180\n",
            "  Osteopenia       0.97      0.94      0.95       180\n",
            "Osteoporosis       0.93      0.91      0.92       180\n",
            "\n",
            "    accuracy                           0.94       540\n",
            "   macro avg       0.94      0.94      0.94       540\n",
            "weighted avg       0.94      0.94      0.94       540\n",
            "\n"
          ]
        }
      ]
    },
    {
      "cell_type": "code",
      "execution_count": 16,
      "metadata": {
        "id": "1ef4flvwBcly"
      },
      "outputs": [],
      "source": [
        "runtime.unassign()"
      ]
    }
  ],
  "metadata": {
    "accelerator": "GPU",
    "colab": {
      "gpuType": "L4",
      "machine_shape": "hm",
      "provenance": []
    },
    "kernelspec": {
      "display_name": "Python 3",
      "name": "python3"
    },
    "language_info": {
      "name": "python"
    }
  },
  "nbformat": 4,
  "nbformat_minor": 0
}